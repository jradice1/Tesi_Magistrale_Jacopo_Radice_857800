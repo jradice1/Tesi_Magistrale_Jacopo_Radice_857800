{
  "nbformat": 4,
  "nbformat_minor": 0,
  "metadata": {
    "colab": {
      "name": "CCOHA - Gensim.ipynb",
      "provenance": [],
      "collapsed_sections": []
    },
    "kernelspec": {
      "display_name": "Python 3",
      "name": "python3"
    },
    "language_info": {
      "name": "python"
    }
  },
  "cells": [
    {
      "cell_type": "code",
      "metadata": {
        "id": "RaLXWc2Bamt1"
      },
      "source": [
        "from google.colab import drive\n",
        "\n",
        "drive.mount('/content/drive')\n",
        "root_dir = \"/content/drive/My Drive/\"\n",
        "base_dir = root_dir + 'Tesi/'"
      ],
      "execution_count": null,
      "outputs": []
    },
    {
      "cell_type": "code",
      "metadata": {
        "id": "gRqFKx7FmZ1w"
      },
      "source": [
        "import pandas as pd"
      ],
      "execution_count": null,
      "outputs": []
    },
    {
      "cell_type": "code",
      "metadata": {
        "id": "XF1yyooSR9cn"
      },
      "source": [
        "from itertools import chain\n",
        "from collections import Counter"
      ],
      "execution_count": null,
      "outputs": []
    },
    {
      "cell_type": "code",
      "metadata": {
        "id": "g5EvTRpQb6dn"
      },
      "source": [
        "df = pd.read_csv(base_dir + 'downstream/ccoha2_preprocessed.csv')\n",
        "df.shape"
      ],
      "execution_count": null,
      "outputs": []
    },
    {
      "cell_type": "markdown",
      "metadata": {
        "id": "Grdu45iGj1Kx"
      },
      "source": [
        "GENSIM PHRASES"
      ]
    },
    {
      "cell_type": "code",
      "metadata": {
        "id": "4Nw98UBD5VqA"
      },
      "source": [
        "import re  # For preprocessing\n",
        "import pandas as pd  # For data handling\n",
        "from collections import defaultdict  # For word frequency\n",
        "\n",
        "import spacy  # For preprocessing"
      ],
      "execution_count": null,
      "outputs": []
    },
    {
      "cell_type": "code",
      "metadata": {
        "id": "Pp2tiIkn5ct9"
      },
      "source": [
        "import nltk\n",
        "nltk.download('stopwords')\n",
        "from nltk.corpus import stopwords\n",
        "\n",
        "stop = stopwords.words('english')"
      ],
      "execution_count": null,
      "outputs": []
    },
    {
      "cell_type": "code",
      "metadata": {
        "id": "mIUNvgot5e3I"
      },
      "source": [
        "df['gensimtext'] = df['text'].apply(lambda x: ' '.join([word for word in x.split() if word not in (stop)]))"
      ],
      "execution_count": null,
      "outputs": []
    },
    {
      "cell_type": "code",
      "metadata": {
        "id": "fOdYrfavrmVm"
      },
      "source": [
        "punct = ''''\"“”’'.,<>!\\()\\\\|[]{}~;:?`+=@#$%^&*'''"
      ],
      "execution_count": null,
      "outputs": []
    },
    {
      "cell_type": "code",
      "metadata": {
        "id": "MVhWo2X2G8CD"
      },
      "source": [
        "def remove_punct(text):\n",
        "    text  = \"\".join([char for char in text if char not in punct])\n",
        "    return text"
      ],
      "execution_count": null,
      "outputs": []
    },
    {
      "cell_type": "code",
      "metadata": {
        "id": "ILHCdO-rDJTs"
      },
      "source": [
        "df['gensimtext'] = df['gensimtext'].apply(lambda x: remove_punct(x)) "
      ],
      "execution_count": null,
      "outputs": []
    },
    {
      "cell_type": "code",
      "metadata": {
        "id": "v5Ceh8rNCdoB"
      },
      "source": [
        "df['gensimtext']"
      ],
      "execution_count": null,
      "outputs": []
    },
    {
      "cell_type": "code",
      "metadata": {
        "id": "y7eqMKJT5uAU"
      },
      "source": [
        "from gensim.models.phrases import Phrases, Phraser"
      ],
      "execution_count": null,
      "outputs": []
    },
    {
      "cell_type": "code",
      "metadata": {
        "id": "hR1EylBP5wJm"
      },
      "source": [
        "sent = [row.split() for row in df['gensimtext']]"
      ],
      "execution_count": null,
      "outputs": []
    },
    {
      "cell_type": "code",
      "metadata": {
        "id": "tLsYA91U3hhz"
      },
      "source": [
        "bigram = Phrases(sent, min_count=5, threshold=100) #3\n",
        "\n",
        "trigram  = Phrases(bigram[sent], min_count=5, threshold=100) #3\n",
        "\n",
        "fourgram  = Phrases(trigram[sent], min_count=5, threshold=100) #5"
      ],
      "execution_count": null,
      "outputs": []
    },
    {
      "cell_type": "code",
      "metadata": {
        "id": "swRb3JKd53e_"
      },
      "source": [
        "bigram_phraser = Phraser(bigram)"
      ],
      "execution_count": null,
      "outputs": []
    },
    {
      "cell_type": "code",
      "metadata": {
        "id": "VadKZJyV6BhI"
      },
      "source": [
        "trigram_phraser = Phraser(trigram)"
      ],
      "execution_count": null,
      "outputs": []
    },
    {
      "cell_type": "code",
      "metadata": {
        "id": "T-O1wQuwBJY5"
      },
      "source": [
        "fourgram_phraser = Phraser(fourgram)"
      ],
      "execution_count": null,
      "outputs": []
    },
    {
      "cell_type": "code",
      "metadata": {
        "id": "c89O2uUj55OU"
      },
      "source": [
        "sentences = bigram_phraser[sent]"
      ],
      "execution_count": null,
      "outputs": []
    },
    {
      "cell_type": "code",
      "metadata": {
        "id": "cKaO8ChF6DFq"
      },
      "source": [
        "sentences = trigram_phraser[sentences]"
      ],
      "execution_count": null,
      "outputs": []
    },
    {
      "cell_type": "code",
      "metadata": {
        "id": "rSodaZ1OBMSr"
      },
      "source": [
        "sentences = fourgram_phraser[sentences]"
      ],
      "execution_count": null,
      "outputs": []
    },
    {
      "cell_type": "code",
      "metadata": {
        "id": "wIy_geqs6mAO"
      },
      "source": [
        "wordphrases = []\n",
        "\n",
        "for w in sentences:\n",
        "  wordphrases.append(w)"
      ],
      "execution_count": null,
      "outputs": []
    },
    {
      "cell_type": "code",
      "metadata": {
        "id": "DvbvqEsg6qDI"
      },
      "source": [
        "for i in range(len(wordphrases)):\n",
        "  wordphrases[i]= ' '.join(wordphrases[i])"
      ],
      "execution_count": null,
      "outputs": []
    },
    {
      "cell_type": "code",
      "metadata": {
        "id": "xLdNL8Xc6som"
      },
      "source": [
        "dfGensim = pd.DataFrame(data=wordphrases, columns=[\"text\"])"
      ],
      "execution_count": null,
      "outputs": []
    },
    {
      "cell_type": "code",
      "metadata": {
        "id": "2UvdZdeR6wcT"
      },
      "source": [
        "for i in range(len(dfGensim)):\n",
        "  dfGensim['text'][i]= dfGensim['text'][i].split()"
      ],
      "execution_count": null,
      "outputs": []
    },
    {
      "cell_type": "code",
      "metadata": {
        "id": "d582E31x7GdS"
      },
      "source": [
        "dfGensim['text']"
      ],
      "execution_count": null,
      "outputs": []
    },
    {
      "cell_type": "code",
      "metadata": {
        "id": "uig7Nj4t6618"
      },
      "source": [
        "gensim_list = []"
      ],
      "execution_count": null,
      "outputs": []
    },
    {
      "cell_type": "code",
      "metadata": {
        "id": "xaHnL04L68E5"
      },
      "source": [
        "df['keywords'] = \"\""
      ],
      "execution_count": null,
      "outputs": []
    },
    {
      "cell_type": "code",
      "metadata": {
        "id": "xdFMI6C36_AL"
      },
      "source": [
        "for i in range(len(dfGensim)):\n",
        "  for el in dfGensim['text'][i]:\n",
        "    if '_' in el:\n",
        "      el = el.replace(\"_\", \" \")\n",
        "      el = el.lower()\n",
        "      gensim_list.append(el)\n",
        "  df['keywords'][i]=gensim_list\n",
        "  gensim_list = []"
      ],
      "execution_count": null,
      "outputs": []
    },
    {
      "cell_type": "code",
      "metadata": {
        "id": "OJ8ieywQIutT"
      },
      "source": [
        "df = df.drop(columns=['gensimtext'])"
      ],
      "execution_count": null,
      "outputs": []
    },
    {
      "cell_type": "markdown",
      "metadata": {
        "id": "w3qNoZpOkAAr"
      },
      "source": [
        "MWE THRESHOLD"
      ]
    },
    {
      "cell_type": "code",
      "metadata": {
        "id": "ioOO5nk0kCOT"
      },
      "source": [
        "mwe_counter = Counter(chain.from_iterable(df['keywords'])) "
      ],
      "execution_count": null,
      "outputs": []
    },
    {
      "cell_type": "code",
      "metadata": {
        "id": "POzDZZIdkLJF"
      },
      "source": [
        "df['keywords'] = [([j for j in i if mwe_counter[j] >= 5]) for i in df['keywords']]"
      ],
      "execution_count": null,
      "outputs": []
    },
    {
      "cell_type": "markdown",
      "metadata": {
        "id": "LhfhgzzENDlL"
      },
      "source": [
        "MWE SUBSTITUTION"
      ]
    },
    {
      "cell_type": "code",
      "metadata": {
        "id": "n7bn8tPpNHfY"
      },
      "source": [
        "for i in range(len(df)):\n",
        "  df['text'][i] = re.sub('('+'|'.join('\\\\b'+re.escape(g)+'\\\\b' for g in df['keywords'][i])+')', lambda m: m.group(0).replace(' ', '_'), df['text'][i], flags=re.I)"
      ],
      "execution_count": null,
      "outputs": []
    },
    {
      "cell_type": "code",
      "metadata": {
        "id": "aa21iVNQPW9M"
      },
      "source": [
        "df"
      ],
      "execution_count": null,
      "outputs": []
    },
    {
      "cell_type": "markdown",
      "metadata": {
        "id": "CZZdkcUjw9PW"
      },
      "source": [
        "SAVE"
      ]
    },
    {
      "cell_type": "code",
      "metadata": {
        "id": "oJ8X_jnPhwHH"
      },
      "source": [
        "compression_opts = dict(method='zip', archive_name='newCCOHA2_Gensim_5-100s.csv')\n",
        "\n",
        "df['text'].to_csv('newCCOHA2_Gensim_5-100s.zip', index=False, compression=compression_opts)"
      ],
      "execution_count": null,
      "outputs": []
    },
    {
      "cell_type": "code",
      "metadata": {
        "id": "e4tDY16jyrhM"
      },
      "source": [
        "compression_opts = dict(method='zip', archive_name='preprocessed_Gensim.csv')\n",
        "\n",
        "df.to_csv('preprocessed_Gensim.zip', index=False, compression=compression_opts)"
      ],
      "execution_count": null,
      "outputs": []
    }
  ]
}