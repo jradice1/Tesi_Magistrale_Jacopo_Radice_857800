{
  "nbformat": 4,
  "nbformat_minor": 0,
  "metadata": {
    "colab": {
      "name": "WikipediaDump - preprocessing.ipynb",
      "provenance": [],
      "collapsed_sections": []
    },
    "kernelspec": {
      "name": "python3",
      "display_name": "Python 3"
    },
    "language_info": {
      "name": "python"
    }
  },
  "cells": [
    {
      "cell_type": "code",
      "metadata": {
        "colab": {
          "base_uri": "https://localhost:8080/"
        },
        "id": "Zcwg0rdf3vIq",
        "outputId": "75386e8d-ae3b-4bf7-eee3-96223e3baf5e"
      },
      "source": [
        "from google.colab import drive\n",
        "\n",
        "drive.mount('/content/drive')\n",
        "root_dir = \"/content/drive/My Drive/\"\n",
        "base_dir = root_dir + 'Tesi/'"
      ],
      "execution_count": null,
      "outputs": [
        {
          "output_type": "stream",
          "name": "stdout",
          "text": [
            "Mounted at /content/drive\n"
          ]
        }
      ]
    },
    {
      "cell_type": "markdown",
      "metadata": {
        "id": "Zk9_LpEQ6QOC"
      },
      "source": [
        "WIKIPEDIA DUMP"
      ]
    },
    {
      "cell_type": "code",
      "metadata": {
        "id": "I-ryApQz5qJt"
      },
      "source": [
        "wiki_dir = root_dir + 'Tesi/Wiki50/Wikipedia/'"
      ],
      "execution_count": null,
      "outputs": []
    },
    {
      "cell_type": "code",
      "metadata": {
        "id": "AaPMTh61G5zJ"
      },
      "source": [
        "wikipedia_list = []"
      ],
      "execution_count": null,
      "outputs": []
    },
    {
      "cell_type": "code",
      "metadata": {
        "id": "4bULHVHs58YY"
      },
      "source": [
        "wikipedia_list = open(wiki_dir + \"enwiki-latest-all-titles-in-ns0\", encoding=\"utf8\").readlines()"
      ],
      "execution_count": null,
      "outputs": []
    },
    {
      "cell_type": "code",
      "metadata": {
        "id": "3OvBqZXM-XiE"
      },
      "source": [
        "wikipedia_list = [element.replace('_',' ') for element in wikipedia_list]"
      ],
      "execution_count": null,
      "outputs": []
    },
    {
      "cell_type": "code",
      "metadata": {
        "id": "T5Lu3mPOHsim"
      },
      "source": [
        "wikipedia_list = [element.replace('\"','') for element in wikipedia_list]"
      ],
      "execution_count": null,
      "outputs": []
    },
    {
      "cell_type": "code",
      "metadata": {
        "id": "j97vbY9vmeni"
      },
      "source": [
        "wikipedia_list = [element.replace('\\n','') for element in wikipedia_list]"
      ],
      "execution_count": null,
      "outputs": []
    },
    {
      "cell_type": "code",
      "metadata": {
        "id": "2AjP9pp5BhLt"
      },
      "source": [
        "wikipedia_list = [element.lower() for element in wikipedia_list]"
      ],
      "execution_count": null,
      "outputs": []
    },
    {
      "cell_type": "code",
      "metadata": {
        "id": "Pg4TyeWHGLMN"
      },
      "source": [
        "punctuations = ''''\"“”’'<>–~'''"
      ],
      "execution_count": null,
      "outputs": []
    },
    {
      "cell_type": "code",
      "metadata": {
        "id": "HNHEtqcQuR6s"
      },
      "source": [
        "wikipedia_list = [''.join(c for c in s if c not in punctuations) for s in wikipedia_list]"
      ],
      "execution_count": null,
      "outputs": []
    },
    {
      "cell_type": "code",
      "metadata": {
        "id": "mal8dE_QuTRz"
      },
      "source": [
        "wikipedia_list = [s for s in wikipedia_list if s]"
      ],
      "execution_count": null,
      "outputs": []
    },
    {
      "cell_type": "code",
      "metadata": {
        "id": "68NXrkOW_0cn"
      },
      "source": [
        "# to remove special characters at the end of the list\n",
        "wikipedia_list = wikipedia_list[:16007571]  "
      ],
      "execution_count": null,
      "outputs": []
    },
    {
      "cell_type": "markdown",
      "metadata": {
        "id": "VRsmtTtUNpJ9"
      },
      "source": [
        "SAVE LIST"
      ]
    },
    {
      "cell_type": "code",
      "metadata": {
        "id": "YMmRhkEXNS7q"
      },
      "source": [
        "with open('wikipedia_list_preprocessed.txt', 'w') as f:\n",
        "    for item in wikipedia_list:\n",
        "        f.write(\"%s\\n\" % item)"
      ],
      "execution_count": null,
      "outputs": []
    }
  ]
}