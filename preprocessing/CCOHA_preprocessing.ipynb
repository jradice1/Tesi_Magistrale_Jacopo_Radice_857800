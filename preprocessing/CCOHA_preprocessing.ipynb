{
  "nbformat": 4,
  "nbformat_minor": 0,
  "metadata": {
    "colab": {
      "name": "CCOHA - Preprocessing.ipynb",
      "provenance": [],
      "collapsed_sections": []
    },
    "kernelspec": {
      "name": "python3",
      "display_name": "Python 3"
    },
    "language_info": {
      "name": "python"
    }
  },
  "cells": [
    {
      "cell_type": "code",
      "metadata": {
        "id": "Zcwg0rdf3vIq"
      },
      "source": [
        "from google.colab import drive\n",
        "\n",
        "drive.mount('/content/drive')\n",
        "root_dir = \"/content/drive/My Drive/\"\n",
        "base_dir = root_dir + 'Tesi/'"
      ],
      "execution_count": null,
      "outputs": []
    },
    {
      "cell_type": "code",
      "metadata": {
        "id": "MnS0GC62Dga7"
      },
      "source": [
        "import pandas as pd \n",
        "\n",
        "df = pd.read_csv(base_dir + 'ccoha2.txt', sep='\\n', header=None,  names=['text'])\n",
        "df.shape"
      ],
      "execution_count": null,
      "outputs": []
    },
    {
      "cell_type": "code",
      "metadata": {
        "id": "S5FD4xMr3Opa"
      },
      "source": [
        "df"
      ],
      "execution_count": null,
      "outputs": []
    },
    {
      "cell_type": "code",
      "metadata": {
        "id": "Co-fTzl79-md"
      },
      "source": [
        "import nltk\n",
        "nltk.download('punkt')"
      ],
      "execution_count": null,
      "outputs": []
    },
    {
      "cell_type": "markdown",
      "metadata": {
        "id": "nKJrhGMM4OQR"
      },
      "source": [
        "PREPROCESSING"
      ]
    },
    {
      "cell_type": "code",
      "metadata": {
        "id": "YMXRJ9P4DpsI"
      },
      "source": [
        "import re\n",
        "\n",
        "def remove_nul(text):\n",
        "  text = re.sub(\"<nul>\", \"\", text)\n",
        "  return text\n",
        "\n",
        "df['text'] = df['text'].apply(lambda x: remove_nul(x))"
      ],
      "execution_count": null,
      "outputs": []
    },
    {
      "cell_type": "code",
      "metadata": {
        "id": "PGnQy0i1DtAl"
      },
      "source": [
        "def remove_url(text):\n",
        "    text = re.sub(\"http\\S+\", \"\", text)\n",
        "    return text\n",
        "\n",
        "df['text'] = df['text'].apply(lambda x: remove_url(x))"
      ],
      "execution_count": null,
      "outputs": []
    },
    {
      "cell_type": "code",
      "metadata": {
        "id": "aTo5LLjZ7W1o"
      },
      "source": [
        "def remove_tag(text):\n",
        "  text = re.sub(\"@\\S+\", \"\", text)\n",
        "  return text\n",
        "\n",
        "df['text'] = df['text'].apply(lambda x: remove_tag(x))"
      ],
      "execution_count": null,
      "outputs": []
    },
    {
      "cell_type": "code",
      "metadata": {
        "id": "Jec2Z15f_t90"
      },
      "source": [
        "def remove_pos(text):\n",
        "  text = re.sub(\"_\\S+\", \"\", text)\n",
        "  return text\n",
        "\n",
        "df['text'] = df['text'].apply(lambda x: remove_pos(x))"
      ],
      "execution_count": null,
      "outputs": []
    },
    {
      "cell_type": "code",
      "metadata": {
        "id": "_syfoZt0uKPA"
      },
      "source": [
        "def remove_possessive(text):\n",
        "  text = re.sub(\"\\S+'\\S+\", \"\", text)\n",
        "  return text\n",
        "\n",
        "df['text'] = df['text'].apply(lambda x: remove_possessive(x))"
      ],
      "execution_count": null,
      "outputs": []
    },
    {
      "cell_type": "code",
      "metadata": {
        "id": "3tiYOAueHZmQ"
      },
      "source": [
        "def remove_possessive2(text):\n",
        "  text = re.sub(\"'\\S+\", \"\", text)\n",
        "  return text\n",
        "\n",
        "df['text'] = df['text'].apply(lambda x: remove_possessive2(x))"
      ],
      "execution_count": null,
      "outputs": []
    },
    {
      "cell_type": "code",
      "metadata": {
        "id": "nQ0z5lwd_Wle"
      },
      "source": [
        "punctuations = '''[]{}()'\"\\<>|/@#$%^&*=_~'''"
      ],
      "execution_count": null,
      "outputs": []
    },
    {
      "cell_type": "code",
      "metadata": {
        "id": "9t1Pu_ci_YwK"
      },
      "source": [
        "def remove_punct(text):\n",
        "    text  = \"\".join([char for char in text if char not in punctuations])\n",
        "    return text\n",
        "\n",
        "df['text'] = df['text'].apply(lambda x: remove_punct(x))"
      ],
      "execution_count": null,
      "outputs": []
    },
    {
      "cell_type": "code",
      "metadata": {
        "id": "-v7S47lCHeHh"
      },
      "source": [
        "def remove_whitespaces(text):\n",
        "    text = re.sub(r'\\s+', ' ', text)  \n",
        "    return text\n",
        "\n",
        "df['text'] = df['text'].apply(lambda x: remove_whitespaces(x))"
      ],
      "execution_count": null,
      "outputs": []
    },
    {
      "cell_type": "code",
      "metadata": {
        "id": "Nli5meEfxDfe"
      },
      "source": [
        "for i in range(len(df)):\n",
        "  if df['text'][i] == \"\":\n",
        "    df = df.drop([i])\n",
        "  elif df['text'][i] == \" \":\n",
        "    df = df.drop([i])"
      ],
      "execution_count": null,
      "outputs": []
    },
    {
      "cell_type": "code",
      "metadata": {
        "id": "gfBvZoglABjb"
      },
      "source": [
        "df = df.reset_index(drop=True)"
      ],
      "execution_count": null,
      "outputs": []
    },
    {
      "cell_type": "code",
      "metadata": {
        "id": "qkcjKfkb4XeX"
      },
      "source": [
        "df"
      ],
      "execution_count": null,
      "outputs": []
    },
    {
      "cell_type": "markdown",
      "metadata": {
        "id": "DoDXJxDZHjPL"
      },
      "source": [
        "SAVE"
      ]
    },
    {
      "cell_type": "code",
      "metadata": {
        "id": "kxu3jWc8Hip4"
      },
      "source": [
        "# if you want to save dataframe\n",
        "\n",
        "compression_opts = dict(method='zip', archive_name='ccoha2_preprocessed.csv')\n",
        "\n",
        "df.to_csv('ccoha2_preprocessed.zip', index=False, compression=compression_opts)"
      ],
      "execution_count": null,
      "outputs": []
    }
  ]
}