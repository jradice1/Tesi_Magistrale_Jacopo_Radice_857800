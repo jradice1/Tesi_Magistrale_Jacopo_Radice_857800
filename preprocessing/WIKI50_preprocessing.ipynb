{
  "nbformat": 4,
  "nbformat_minor": 0,
  "metadata": {
    "colab": {
      "name": "WIKI50 - preprocessing.ipynb",
      "provenance": [],
      "collapsed_sections": []
    },
    "kernelspec": {
      "name": "python3",
      "display_name": "Python 3"
    },
    "language_info": {
      "name": "python"
    }
  },
  "cells": [
    {
      "cell_type": "code",
      "metadata": {
        "id": "I-ryApQz5qJt"
      },
      "source": [
        "from google.colab import drive\n",
        "\n",
        "drive.mount('/content/drive')\n",
        "root_dir = \"/content/drive/My Drive/\"\n",
        "wiki_dir = root_dir + 'Tesi/Wiki50/Wikipedia/'"
      ],
      "execution_count": null,
      "outputs": []
    },
    {
      "cell_type": "code",
      "metadata": {
        "id": "Ei6HZc_Vp-tW"
      },
      "source": [
        "punctuations = ''''\"“”’'<>–~'''"
      ],
      "execution_count": null,
      "outputs": []
    },
    {
      "cell_type": "markdown",
      "metadata": {
        "id": "tPthxFd8F0L0"
      },
      "source": [
        "WIKI50"
      ]
    },
    {
      "cell_type": "code",
      "metadata": {
        "id": "Ga_VGxutF4kL"
      },
      "source": [
        "base_dir = root_dir + 'Tesi/Wiki50/onlytxt/'\n",
        "ann_dir = root_dir + 'Tesi/Wiki50/annotationWV/'"
      ],
      "execution_count": null,
      "outputs": []
    },
    {
      "cell_type": "code",
      "metadata": {
        "id": "_pNtjgJyF6Or"
      },
      "source": [
        "from collections import defaultdict\n",
        "from pathlib import Path\n",
        "import pandas as pd\n",
        "\n",
        "results = defaultdict(list)\n",
        "for file in Path(base_dir).iterdir():\n",
        "    with open(file, \"r\") as file_open:\n",
        "        results[\"file_name\"].append(file.name)\n",
        "        results[\"text\"].append(file_open.read())"
      ],
      "execution_count": null,
      "outputs": []
    },
    {
      "cell_type": "code",
      "metadata": {
        "id": "xqCVX-J6F7wb"
      },
      "source": [
        "df = pd.DataFrame(results)"
      ],
      "execution_count": null,
      "outputs": []
    },
    {
      "cell_type": "code",
      "metadata": {
        "id": "sIwGX133HTmU"
      },
      "source": [
        "import re\n",
        "\n",
        "def remove_header(text):\n",
        "  text = re.sub(\"\\n\", \" \", text)\n",
        "  return text\n",
        "\n",
        "df['text'] = df['text'].apply(lambda x: remove_header(x))"
      ],
      "execution_count": null,
      "outputs": []
    },
    {
      "cell_type": "code",
      "metadata": {
        "id": "ONmtwjPOmbJr"
      },
      "source": [
        "df = df.sort_values('file_name')"
      ],
      "execution_count": null,
      "outputs": []
    },
    {
      "cell_type": "markdown",
      "metadata": {
        "id": "H7kuSZuuNi1f"
      },
      "source": [
        "ANNOTATED TEXT"
      ]
    },
    {
      "cell_type": "code",
      "metadata": {
        "id": "efUDYzjaNlMB"
      },
      "source": [
        "results2 = defaultdict(list)\n",
        "for file in Path(ann_dir).iterdir():\n",
        "    with open(file, \"r\") as file_open:\n",
        "        results2[\"file_name\"].append(file.name)\n",
        "        results2[\"annotation\"].append(file_open.read())"
      ],
      "execution_count": null,
      "outputs": []
    },
    {
      "cell_type": "code",
      "metadata": {
        "id": "cNaj36T3OABJ"
      },
      "source": [
        "df2 = pd.DataFrame(results2)"
      ],
      "execution_count": null,
      "outputs": []
    },
    {
      "cell_type": "code",
      "metadata": {
        "id": "N48UZLYifmyn"
      },
      "source": [
        "df2['annotation'] = df2['annotation'].apply(lambda x: remove_header(x))"
      ],
      "execution_count": null,
      "outputs": []
    },
    {
      "cell_type": "code",
      "metadata": {
        "id": "NlCiW72pgPBP"
      },
      "source": [
        "def remove_tab(text):\n",
        "  text = re.sub(\"\\t\", \" \", text)\n",
        "  return text\n",
        "\n",
        "df2['annotation'] = df2['annotation'].apply(lambda x: remove_tab(x))"
      ],
      "execution_count": null,
      "outputs": []
    },
    {
      "cell_type": "code",
      "metadata": {
        "id": "FpQnOaoymxyu"
      },
      "source": [
        "df2 = df2.sort_values('file_name')"
      ],
      "execution_count": null,
      "outputs": []
    },
    {
      "cell_type": "markdown",
      "metadata": {
        "id": "CUxflcLJu7ti"
      },
      "source": [
        "CONCATENATION"
      ]
    },
    {
      "cell_type": "code",
      "metadata": {
        "id": "5CZvqfIEu9aX"
      },
      "source": [
        "df = df.drop(columns=['file_name'])"
      ],
      "execution_count": null,
      "outputs": []
    },
    {
      "cell_type": "code",
      "metadata": {
        "id": "5r2X8mm5vXZs"
      },
      "source": [
        "df2 = df2.drop(columns=['file_name'])"
      ],
      "execution_count": null,
      "outputs": []
    },
    {
      "cell_type": "code",
      "metadata": {
        "id": "LRDEfO0WInr6"
      },
      "source": [
        "df = df.reset_index()\n",
        "\n",
        "df = df.drop(columns=['index'])"
      ],
      "execution_count": null,
      "outputs": []
    },
    {
      "cell_type": "code",
      "metadata": {
        "id": "t_igKTRFI3ui"
      },
      "source": [
        "df2 = df2.reset_index()\n",
        "\n",
        "df2 = df2.drop(columns=['index'])"
      ],
      "execution_count": null,
      "outputs": []
    },
    {
      "cell_type": "code",
      "metadata": {
        "id": "NvMPiXuzwlzH"
      },
      "source": [
        "wiki_df = df.join(df2.set_index(df.index[-len(df2):]))"
      ],
      "execution_count": null,
      "outputs": []
    },
    {
      "cell_type": "code",
      "metadata": {
        "id": "_fIrt1G7Lh9l"
      },
      "source": [
        "final_list = []\n",
        "\n",
        "for index, row in wiki_df.iterrows():\n",
        "    result = []\n",
        "    index_list = re.findall(r'\\d+ \\d+', row['annotation'])\n",
        "    for indexes in index_list:\n",
        "        start, end = map(int, indexes.split())\n",
        "        result.append(row['text'][start:end])\n",
        "    final_list.append(result)"
      ],
      "execution_count": null,
      "outputs": []
    },
    {
      "cell_type": "code",
      "metadata": {
        "id": "2vIR5PSILnBP"
      },
      "source": [
        "wiki_df['result'] = final_list"
      ],
      "execution_count": null,
      "outputs": []
    },
    {
      "cell_type": "code",
      "metadata": {
        "id": "d_SWdhTXNk2Q"
      },
      "source": [
        "mwe_without_unigrams = []"
      ],
      "execution_count": null,
      "outputs": []
    },
    {
      "cell_type": "code",
      "metadata": {
        "id": "MuMhYYdcNnV_"
      },
      "source": [
        "for i in range(len(wiki_df)):\n",
        "  for kw in wiki_df['result'][i]:\n",
        "    if(' ' in kw):\n",
        "        kw = kw.lower()\n",
        "        mwe_without_unigrams.append(kw)\n",
        "  wiki_df['result'][i]=mwe_without_unigrams\n",
        "  mwe_without_unigrams = []"
      ],
      "execution_count": null,
      "outputs": []
    },
    {
      "cell_type": "code",
      "metadata": {
        "id": "VvuTrHs6_CVJ"
      },
      "source": [
        "wiki_df = wiki_df.drop(columns=['annotation'])"
      ],
      "execution_count": null,
      "outputs": []
    },
    {
      "cell_type": "code",
      "metadata": {
        "id": "sTn1RBdassnV"
      },
      "source": [
        "def remove_punct(text):\n",
        "    text  = \"\".join([char for char in text if char not in punctuations])\n",
        "    return text\n",
        "\n",
        "wiki_df['text'] = wiki_df['text'].apply(lambda x: remove_punct(x))"
      ],
      "execution_count": null,
      "outputs": []
    },
    {
      "cell_type": "code",
      "metadata": {
        "id": "SetYn-IHtY9I"
      },
      "source": [
        "nopunct_list=[]"
      ],
      "execution_count": null,
      "outputs": []
    },
    {
      "cell_type": "code",
      "metadata": {
        "id": "TvLaa1qttgGR"
      },
      "source": [
        "for i in range(len(wiki_df)):\n",
        "  for el in wiki_df['result'][i]:\n",
        "    el = el.translate(str.maketrans('', '', punctuations))\n",
        "    nopunct_list.append(el)\n",
        "  wiki_df[\"result\"][i]=nopunct_list\n",
        "  nopunct_list=[]"
      ],
      "execution_count": null,
      "outputs": []
    },
    {
      "cell_type": "code",
      "metadata": {
        "id": "nrFMtBDopsWZ"
      },
      "source": [
        "wiki_df"
      ],
      "execution_count": null,
      "outputs": []
    },
    {
      "cell_type": "markdown",
      "metadata": {
        "id": "lfUUAB_ZqSF6"
      },
      "source": [
        "SAVE"
      ]
    },
    {
      "cell_type": "code",
      "metadata": {
        "id": "iz3D5OYMqS_M"
      },
      "source": [
        "compression_opts = dict(method='zip', archive_name='wiki50_preprocessed.csv')\n",
        "\n",
        "wiki_df.to_csv('wiki50_preprocessed.zip', index=False, compression=compression_opts)"
      ],
      "execution_count": null,
      "outputs": []
    }
  ]
}