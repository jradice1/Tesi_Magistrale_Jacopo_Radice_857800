{
  "nbformat": 4,
  "nbformat_minor": 0,
  "metadata": {
    "colab": {
      "name": "benchmarks-results.ipynb",
      "provenance": [],
      "collapsed_sections": [
        "9aOEJmEqR7vl",
        "E_KtbK7x0pXD",
        "ayFsW1Qi21EK",
        "arQAmcz2Hhmd",
        "PgeErsW-Q6Mo"
      ]
    },
    "kernelspec": {
      "display_name": "Python 3",
      "name": "python3"
    },
    "language_info": {
      "name": "python"
    }
  },
  "cells": [
    {
      "cell_type": "code",
      "metadata": {
        "id": "re5c7Ox5SfFi"
      },
      "source": [
        "import pandas as pd "
      ],
      "execution_count": null,
      "outputs": []
    },
    {
      "cell_type": "code",
      "metadata": {
        "id": "EXYlwAcHgTeR"
      },
      "source": [
        "from google.colab import drive\n",
        "\n",
        "drive.mount('/content/drive')\n",
        "root_dir = \"/content/drive/My Drive/\"\n",
        "base_dir = root_dir + 'Tesi/downstream/'\n",
        "\n",
        "embeddings_dir = base_dir + \"embeddings/\"\n",
        "results_dir = base_dir + \"results/\""
      ],
      "execution_count": null,
      "outputs": []
    },
    {
      "cell_type": "markdown",
      "metadata": {
        "id": "9aOEJmEqR7vl"
      },
      "source": [
        "## LOAD RESULTS"
      ]
    },
    {
      "cell_type": "code",
      "metadata": {
        "id": "4-iyD3qBTHlw"
      },
      "source": [
        "vanilla_result = pd.read_csv(results_dir + 'vanilla_result.csv', usecols=range(7,17))"
      ],
      "execution_count": null,
      "outputs": []
    },
    {
      "cell_type": "code",
      "metadata": {
        "id": "YhIcnSLyTHlx"
      },
      "source": [
        "topicrank_result = pd.read_csv(results_dir + 'topicrank_result.csv', usecols=range(7,17))"
      ],
      "execution_count": null,
      "outputs": []
    },
    {
      "cell_type": "code",
      "metadata": {
        "id": "a_Fp0nj5THly"
      },
      "source": [
        "rake_result = pd.read_csv(results_dir + 'rake_result.csv', usecols=range(7,17))"
      ],
      "execution_count": null,
      "outputs": []
    },
    {
      "cell_type": "code",
      "metadata": {
        "id": "nQlInDw1THl0"
      },
      "source": [
        "gensim_result = pd.read_csv(results_dir + 'gensim_result.csv', usecols=range(7,17))"
      ],
      "execution_count": null,
      "outputs": []
    },
    {
      "cell_type": "code",
      "metadata": {
        "id": "OIsA8dcnTHl1"
      },
      "source": [
        "PoSEntities_result = pd.read_csv(results_dir + 'PoS-Ent_result.csv', usecols=range(7,17))"
      ],
      "execution_count": null,
      "outputs": []
    },
    {
      "cell_type": "code",
      "metadata": {
        "id": "CGDh8izsUqEe"
      },
      "source": [
        "vanilla_result"
      ],
      "execution_count": null,
      "outputs": []
    },
    {
      "cell_type": "code",
      "metadata": {
        "id": "9rIEgNawU3BD"
      },
      "source": [
        "PoSEntities_result"
      ],
      "execution_count": null,
      "outputs": []
    },
    {
      "cell_type": "code",
      "metadata": {
        "id": "Ne75hoH4U3BF"
      },
      "source": [
        "gensim_result"
      ],
      "execution_count": null,
      "outputs": []
    },
    {
      "cell_type": "code",
      "metadata": {
        "id": "SCtW8LShU3BH"
      },
      "source": [
        "rake_result"
      ],
      "execution_count": null,
      "outputs": []
    },
    {
      "cell_type": "code",
      "metadata": {
        "id": "DRUHCmgBU3BI"
      },
      "source": [
        "topicrank_result"
      ],
      "execution_count": null,
      "outputs": []
    },
    {
      "cell_type": "code",
      "metadata": {
        "id": "CqkyrBBTU3BJ"
      },
      "source": [
        "PoSEntities_result_df = ((PoSEntities_result - vanilla_result) / vanilla_result) * 100 "
      ],
      "execution_count": null,
      "outputs": []
    },
    {
      "cell_type": "code",
      "metadata": {
        "id": "QwizPFVmXz2J"
      },
      "source": [
        "PoSEntities_result_df = PoSEntities_result_df.round(3)"
      ],
      "execution_count": null,
      "outputs": []
    },
    {
      "cell_type": "code",
      "metadata": {
        "id": "-2HBzjysU3BK"
      },
      "source": [
        "rake_result_df = ((rake_result - vanilla_result) / vanilla_result) * 100 "
      ],
      "execution_count": null,
      "outputs": []
    },
    {
      "cell_type": "code",
      "metadata": {
        "id": "5CIgqTZBX61u"
      },
      "source": [
        "rake_result_df = rake_result_df.round(3)"
      ],
      "execution_count": null,
      "outputs": []
    },
    {
      "cell_type": "code",
      "metadata": {
        "id": "68yM0oz6U3BL"
      },
      "source": [
        "gensim_result_df = ((gensim_result - vanilla_result) / vanilla_result) * 100 "
      ],
      "execution_count": null,
      "outputs": []
    },
    {
      "cell_type": "code",
      "metadata": {
        "id": "F2shVEhpX7Oj"
      },
      "source": [
        "gensim_result_df = gensim_result_df.round(3)"
      ],
      "execution_count": null,
      "outputs": []
    },
    {
      "cell_type": "code",
      "metadata": {
        "id": "fGClOmqwU3BM"
      },
      "source": [
        "topicrank_result_df = ((topicrank_result - vanilla_result) / vanilla_result) * 100 "
      ],
      "execution_count": null,
      "outputs": []
    },
    {
      "cell_type": "code",
      "metadata": {
        "id": "zl8KpKyjX7mh"
      },
      "source": [
        "topicrank_result_df = topicrank_result_df.round(3)"
      ],
      "execution_count": null,
      "outputs": []
    },
    {
      "cell_type": "code",
      "metadata": {
        "id": "pw4-GbdQU3BN"
      },
      "source": [
        "PoSEntities_result_df"
      ],
      "execution_count": null,
      "outputs": []
    },
    {
      "cell_type": "code",
      "metadata": {
        "id": "LtZR3sVfU3BO"
      },
      "source": [
        "gensim_result_df"
      ],
      "execution_count": null,
      "outputs": []
    },
    {
      "cell_type": "code",
      "metadata": {
        "id": "q2GtpWdrU3BO"
      },
      "source": [
        "rake_result_df"
      ],
      "execution_count": null,
      "outputs": []
    },
    {
      "cell_type": "code",
      "metadata": {
        "id": "GfmPUgEpU3BQ"
      },
      "source": [
        "topicrank_result_df"
      ],
      "execution_count": null,
      "outputs": []
    },
    {
      "cell_type": "markdown",
      "metadata": {
        "id": "E_KtbK7x0pXD"
      },
      "source": [
        "## LOAD RESULTS WITH MODIFIED DATASETS"
      ]
    },
    {
      "cell_type": "markdown",
      "metadata": {
        "id": "ayFsW1Qi21EK"
      },
      "source": [
        "### SIMILARITY"
      ]
    },
    {
      "cell_type": "markdown",
      "metadata": {
        "id": "5srm5_w80-MY"
      },
      "source": [
        "GENSIM"
      ]
    },
    {
      "cell_type": "code",
      "metadata": {
        "id": "MpFJ4YkF0KN5"
      },
      "source": [
        "gensim_equal_result = pd.read_csv(results_dir + 'modified/similarity/gensim_equal_result.csv', usecols=range(7,15))"
      ],
      "execution_count": null,
      "outputs": []
    },
    {
      "cell_type": "code",
      "metadata": {
        "id": "A6aqPYUzdSm2"
      },
      "source": [
        "vanilla_result = pd.read_csv(results_dir + 'modified/similarity/vanilla_gensim_equal_result.csv', usecols=range(7,15))"
      ],
      "execution_count": null,
      "outputs": []
    },
    {
      "cell_type": "code",
      "metadata": {
        "id": "_HaRFNMQ0X7z"
      },
      "source": [
        "gensim_equal_result_df = ((gensim_equal_result - vanilla_result) / vanilla_result) * 100 \n",
        "gensim_equal_result_df = gensim_equal_result_df.round(3)"
      ],
      "execution_count": null,
      "outputs": []
    },
    {
      "cell_type": "code",
      "metadata": {
        "colab": {
          "base_uri": "https://localhost:8080/",
          "height": 81
        },
        "id": "DuNCAr080fBL",
        "outputId": "b4529a6b-ff60-4d5c-d471-7e4cfde4f4cf"
      },
      "source": [
        "gensim_equal_result_df"
      ],
      "execution_count": null,
      "outputs": [
        {
          "output_type": "execute_result",
          "data": {
            "text/html": [
              "<div>\n",
              "<style scoped>\n",
              "    .dataframe tbody tr th:only-of-type {\n",
              "        vertical-align: middle;\n",
              "    }\n",
              "\n",
              "    .dataframe tbody tr th {\n",
              "        vertical-align: top;\n",
              "    }\n",
              "\n",
              "    .dataframe thead th {\n",
              "        text-align: right;\n",
              "    }\n",
              "</style>\n",
              "<table border=\"1\" class=\"dataframe\">\n",
              "  <thead>\n",
              "    <tr style=\"text-align: right;\">\n",
              "      <th></th>\n",
              "      <th>MEN</th>\n",
              "      <th>WS353</th>\n",
              "      <th>WS353R</th>\n",
              "      <th>WS353S</th>\n",
              "      <th>SimLex999</th>\n",
              "      <th>RW</th>\n",
              "      <th>RG65</th>\n",
              "      <th>MTurk</th>\n",
              "    </tr>\n",
              "  </thead>\n",
              "  <tbody>\n",
              "    <tr>\n",
              "      <th>0</th>\n",
              "      <td>-3.403</td>\n",
              "      <td>-0.274</td>\n",
              "      <td>-0.185</td>\n",
              "      <td>-14.716</td>\n",
              "      <td>2.423</td>\n",
              "      <td>0.452</td>\n",
              "      <td>-19.417</td>\n",
              "      <td>5.933</td>\n",
              "    </tr>\n",
              "  </tbody>\n",
              "</table>\n",
              "</div>"
            ],
            "text/plain": [
              "     MEN  WS353  WS353R  WS353S  SimLex999     RW    RG65  MTurk\n",
              "0 -3.403 -0.274  -0.185 -14.716      2.423  0.452 -19.417  5.933"
            ]
          },
          "metadata": {},
          "execution_count": 13
        }
      ]
    },
    {
      "cell_type": "code",
      "metadata": {
        "id": "7cHJeH2m1Eyl"
      },
      "source": [
        "gensim_one_result = pd.read_csv(results_dir + 'modified/similarity/gensim_one_result.csv', usecols=range(7,15))"
      ],
      "execution_count": null,
      "outputs": []
    },
    {
      "cell_type": "code",
      "metadata": {
        "id": "pnqxaPtHd5QE"
      },
      "source": [
        "vanilla_result = pd.read_csv(results_dir + 'modified/similarity/vanilla_gensim_one_result.csv', usecols=range(7,15))"
      ],
      "execution_count": null,
      "outputs": []
    },
    {
      "cell_type": "code",
      "metadata": {
        "id": "zo_ujxGQ1Eym"
      },
      "source": [
        "gensim_one_result_df = ((gensim_one_result - vanilla_result) / vanilla_result) * 100 \n",
        "gensim_one_result_df = gensim_one_result_df.round(3)"
      ],
      "execution_count": null,
      "outputs": []
    },
    {
      "cell_type": "code",
      "metadata": {
        "colab": {
          "base_uri": "https://localhost:8080/",
          "height": 81
        },
        "id": "0dyw8uuu1Eyn",
        "outputId": "1d2326e2-3140-4970-ed4a-c7ddb177751a"
      },
      "source": [
        "gensim_one_result_df"
      ],
      "execution_count": null,
      "outputs": [
        {
          "output_type": "execute_result",
          "data": {
            "text/html": [
              "<div>\n",
              "<style scoped>\n",
              "    .dataframe tbody tr th:only-of-type {\n",
              "        vertical-align: middle;\n",
              "    }\n",
              "\n",
              "    .dataframe tbody tr th {\n",
              "        vertical-align: top;\n",
              "    }\n",
              "\n",
              "    .dataframe thead th {\n",
              "        text-align: right;\n",
              "    }\n",
              "</style>\n",
              "<table border=\"1\" class=\"dataframe\">\n",
              "  <thead>\n",
              "    <tr style=\"text-align: right;\">\n",
              "      <th></th>\n",
              "      <th>MEN</th>\n",
              "      <th>WS353</th>\n",
              "      <th>WS353R</th>\n",
              "      <th>WS353S</th>\n",
              "      <th>SimLex999</th>\n",
              "      <th>RW</th>\n",
              "      <th>RG65</th>\n",
              "      <th>MTurk</th>\n",
              "    </tr>\n",
              "  </thead>\n",
              "  <tbody>\n",
              "    <tr>\n",
              "      <th>0</th>\n",
              "      <td>0.033</td>\n",
              "      <td>-1.136</td>\n",
              "      <td>-8.883</td>\n",
              "      <td>4.129</td>\n",
              "      <td>2.809</td>\n",
              "      <td>5.894</td>\n",
              "      <td>-0.924</td>\n",
              "      <td>-1.21</td>\n",
              "    </tr>\n",
              "  </tbody>\n",
              "</table>\n",
              "</div>"
            ],
            "text/plain": [
              "     MEN  WS353  WS353R  WS353S  SimLex999     RW   RG65  MTurk\n",
              "0  0.033 -1.136  -8.883   4.129      2.809  5.894 -0.924  -1.21"
            ]
          },
          "metadata": {},
          "execution_count": 17
        }
      ]
    },
    {
      "cell_type": "code",
      "metadata": {
        "id": "V_gh5cD71FEj"
      },
      "source": [
        "gensim_two_result = pd.read_csv(results_dir + 'modified/similarity/gensim_two_result.csv', usecols=range(7,15))"
      ],
      "execution_count": null,
      "outputs": []
    },
    {
      "cell_type": "code",
      "metadata": {
        "id": "e1I-z6W9eAbx"
      },
      "source": [
        "vanilla_result = pd.read_csv(results_dir + 'modified/similarity/vanilla_gensim_two_result.csv', usecols=range(7,15))"
      ],
      "execution_count": null,
      "outputs": []
    },
    {
      "cell_type": "code",
      "metadata": {
        "id": "UuG5K-Hc1FEk"
      },
      "source": [
        "gensim_two_result_df = ((gensim_two_result - vanilla_result) / vanilla_result) * 100 \n",
        "gensim_two_result_df = gensim_two_result_df.round(3)"
      ],
      "execution_count": null,
      "outputs": []
    },
    {
      "cell_type": "code",
      "metadata": {
        "colab": {
          "base_uri": "https://localhost:8080/",
          "height": 81
        },
        "id": "DzaDoKhc1FEl",
        "outputId": "027b2782-b168-4fc1-e0a5-7404d847813c"
      },
      "source": [
        "gensim_two_result_df"
      ],
      "execution_count": null,
      "outputs": [
        {
          "output_type": "execute_result",
          "data": {
            "text/html": [
              "<div>\n",
              "<style scoped>\n",
              "    .dataframe tbody tr th:only-of-type {\n",
              "        vertical-align: middle;\n",
              "    }\n",
              "\n",
              "    .dataframe tbody tr th {\n",
              "        vertical-align: top;\n",
              "    }\n",
              "\n",
              "    .dataframe thead th {\n",
              "        text-align: right;\n",
              "    }\n",
              "</style>\n",
              "<table border=\"1\" class=\"dataframe\">\n",
              "  <thead>\n",
              "    <tr style=\"text-align: right;\">\n",
              "      <th></th>\n",
              "      <th>MEN</th>\n",
              "      <th>WS353</th>\n",
              "      <th>WS353R</th>\n",
              "      <th>WS353S</th>\n",
              "      <th>SimLex999</th>\n",
              "      <th>RW</th>\n",
              "      <th>RG65</th>\n",
              "      <th>MTurk</th>\n",
              "    </tr>\n",
              "  </thead>\n",
              "  <tbody>\n",
              "    <tr>\n",
              "      <th>0</th>\n",
              "      <td>0.321</td>\n",
              "      <td>1.328</td>\n",
              "      <td>2.726</td>\n",
              "      <td>0.924</td>\n",
              "      <td>2.282</td>\n",
              "      <td>-14.353</td>\n",
              "      <td>-8.333</td>\n",
              "      <td>-1.318</td>\n",
              "    </tr>\n",
              "  </tbody>\n",
              "</table>\n",
              "</div>"
            ],
            "text/plain": [
              "     MEN  WS353  WS353R  WS353S  SimLex999      RW   RG65  MTurk\n",
              "0  0.321  1.328   2.726   0.924      2.282 -14.353 -8.333 -1.318"
            ]
          },
          "metadata": {},
          "execution_count": 21
        }
      ]
    },
    {
      "cell_type": "markdown",
      "metadata": {
        "id": "3eFayWE77ax3"
      },
      "source": [
        "PoS-Entities"
      ]
    },
    {
      "cell_type": "code",
      "metadata": {
        "id": "LyGvrOaT7Gqb"
      },
      "source": [
        "PoSEntities_equal_result = pd.read_csv(results_dir + 'modified/similarity/PoS-Ent_equal_result.csv', usecols=range(7,15))"
      ],
      "execution_count": null,
      "outputs": []
    },
    {
      "cell_type": "code",
      "metadata": {
        "id": "aRLouwAceOXm"
      },
      "source": [
        "vanilla_result = pd.read_csv(results_dir + 'modified/similarity/vanilla_pe_equal_result.csv', usecols=range(7,15))"
      ],
      "execution_count": null,
      "outputs": []
    },
    {
      "cell_type": "code",
      "metadata": {
        "id": "qR43wK4R7Gqc"
      },
      "source": [
        "PoSEntities_equal_result_df = ((PoSEntities_equal_result - vanilla_result) / vanilla_result) * 100 \n",
        "PoSEntities_equal_result_df = PoSEntities_equal_result_df.round(3)"
      ],
      "execution_count": null,
      "outputs": []
    },
    {
      "cell_type": "code",
      "metadata": {
        "colab": {
          "base_uri": "https://localhost:8080/",
          "height": 81
        },
        "id": "KCVSkyI67Ttm",
        "outputId": "00211bfe-4916-4b18-99f8-38af7982541d"
      },
      "source": [
        "PoSEntities_equal_result_df"
      ],
      "execution_count": null,
      "outputs": [
        {
          "output_type": "execute_result",
          "data": {
            "text/html": [
              "<div>\n",
              "<style scoped>\n",
              "    .dataframe tbody tr th:only-of-type {\n",
              "        vertical-align: middle;\n",
              "    }\n",
              "\n",
              "    .dataframe tbody tr th {\n",
              "        vertical-align: top;\n",
              "    }\n",
              "\n",
              "    .dataframe thead th {\n",
              "        text-align: right;\n",
              "    }\n",
              "</style>\n",
              "<table border=\"1\" class=\"dataframe\">\n",
              "  <thead>\n",
              "    <tr style=\"text-align: right;\">\n",
              "      <th></th>\n",
              "      <th>MEN</th>\n",
              "      <th>WS353</th>\n",
              "      <th>WS353R</th>\n",
              "      <th>WS353S</th>\n",
              "      <th>SimLex999</th>\n",
              "      <th>RW</th>\n",
              "      <th>RG65</th>\n",
              "      <th>MTurk</th>\n",
              "    </tr>\n",
              "  </thead>\n",
              "  <tbody>\n",
              "    <tr>\n",
              "      <th>0</th>\n",
              "      <td>4.171</td>\n",
              "      <td>20.109</td>\n",
              "      <td>48.25</td>\n",
              "      <td>11.735</td>\n",
              "      <td>51.887</td>\n",
              "      <td>0.259</td>\n",
              "      <td>-15.364</td>\n",
              "      <td>-0.276</td>\n",
              "    </tr>\n",
              "  </tbody>\n",
              "</table>\n",
              "</div>"
            ],
            "text/plain": [
              "     MEN   WS353  WS353R  WS353S  SimLex999     RW    RG65  MTurk\n",
              "0  4.171  20.109   48.25  11.735     51.887  0.259 -15.364 -0.276"
            ]
          },
          "metadata": {},
          "execution_count": 25
        }
      ]
    },
    {
      "cell_type": "code",
      "metadata": {
        "id": "yi9G58rD7ecw"
      },
      "source": [
        "PoSEntities_one_result = pd.read_csv(results_dir + 'modified/similarity/PoS-Ent_one_result.csv', usecols=range(7,15))"
      ],
      "execution_count": null,
      "outputs": []
    },
    {
      "cell_type": "code",
      "metadata": {
        "id": "xGJ4o2jUeYwo"
      },
      "source": [
        "vanilla_result = pd.read_csv(results_dir + 'modified/similarity/vanilla_pe_one_result.csv', usecols=range(7,15))"
      ],
      "execution_count": null,
      "outputs": []
    },
    {
      "cell_type": "code",
      "metadata": {
        "id": "uZxKCqQm7ecw"
      },
      "source": [
        "PoSEntities_one_result_df = ((PoSEntities_one_result - vanilla_result) / vanilla_result) * 100 \n",
        "PoSEntities_one_result_df = PoSEntities_one_result_df.round(3)"
      ],
      "execution_count": null,
      "outputs": []
    },
    {
      "cell_type": "code",
      "metadata": {
        "colab": {
          "base_uri": "https://localhost:8080/",
          "height": 81
        },
        "id": "VIHODhhO7ecx",
        "outputId": "f8ea65fe-91cb-48fe-e7bb-6127caec4454"
      },
      "source": [
        "PoSEntities_one_result_df"
      ],
      "execution_count": null,
      "outputs": [
        {
          "output_type": "execute_result",
          "data": {
            "text/html": [
              "<div>\n",
              "<style scoped>\n",
              "    .dataframe tbody tr th:only-of-type {\n",
              "        vertical-align: middle;\n",
              "    }\n",
              "\n",
              "    .dataframe tbody tr th {\n",
              "        vertical-align: top;\n",
              "    }\n",
              "\n",
              "    .dataframe thead th {\n",
              "        text-align: right;\n",
              "    }\n",
              "</style>\n",
              "<table border=\"1\" class=\"dataframe\">\n",
              "  <thead>\n",
              "    <tr style=\"text-align: right;\">\n",
              "      <th></th>\n",
              "      <th>MEN</th>\n",
              "      <th>WS353</th>\n",
              "      <th>WS353R</th>\n",
              "      <th>WS353S</th>\n",
              "      <th>SimLex999</th>\n",
              "      <th>RW</th>\n",
              "      <th>RG65</th>\n",
              "      <th>MTurk</th>\n",
              "    </tr>\n",
              "  </thead>\n",
              "  <tbody>\n",
              "    <tr>\n",
              "      <th>0</th>\n",
              "      <td>-0.04</td>\n",
              "      <td>-1.021</td>\n",
              "      <td>-2.439</td>\n",
              "      <td>0.471</td>\n",
              "      <td>-0.077</td>\n",
              "      <td>11.35</td>\n",
              "      <td>-5.467</td>\n",
              "      <td>-4.935</td>\n",
              "    </tr>\n",
              "  </tbody>\n",
              "</table>\n",
              "</div>"
            ],
            "text/plain": [
              "    MEN  WS353  WS353R  WS353S  SimLex999     RW   RG65  MTurk\n",
              "0 -0.04 -1.021  -2.439   0.471     -0.077  11.35 -5.467 -4.935"
            ]
          },
          "metadata": {},
          "execution_count": 29
        }
      ]
    },
    {
      "cell_type": "code",
      "metadata": {
        "id": "ZaFoXRVF7ep4"
      },
      "source": [
        "PoSEntities_two_result = pd.read_csv(results_dir + 'modified/similarity/PoS-Ent_two_result.csv', usecols=range(7,15))"
      ],
      "execution_count": null,
      "outputs": []
    },
    {
      "cell_type": "code",
      "metadata": {
        "id": "SEzHQpgKeiwk"
      },
      "source": [
        "vanilla_result = pd.read_csv(results_dir + 'modified/similarity/vanilla_pe_two_result.csv', usecols=range(7,15))"
      ],
      "execution_count": null,
      "outputs": []
    },
    {
      "cell_type": "code",
      "metadata": {
        "id": "PknfeTQO7ep5"
      },
      "source": [
        "PoSEntities_two_result_df = ((PoSEntities_two_result - vanilla_result) / vanilla_result) * 100 \n",
        "PoSEntities_two_result_df = PoSEntities_two_result_df.round(3)"
      ],
      "execution_count": null,
      "outputs": []
    },
    {
      "cell_type": "code",
      "metadata": {
        "colab": {
          "base_uri": "https://localhost:8080/",
          "height": 81
        },
        "id": "czmLy66q7ep6",
        "outputId": "8a370d67-e100-4c36-90f6-923f7990f1b5"
      },
      "source": [
        "PoSEntities_two_result_df"
      ],
      "execution_count": null,
      "outputs": [
        {
          "output_type": "execute_result",
          "data": {
            "text/html": [
              "<div>\n",
              "<style scoped>\n",
              "    .dataframe tbody tr th:only-of-type {\n",
              "        vertical-align: middle;\n",
              "    }\n",
              "\n",
              "    .dataframe tbody tr th {\n",
              "        vertical-align: top;\n",
              "    }\n",
              "\n",
              "    .dataframe thead th {\n",
              "        text-align: right;\n",
              "    }\n",
              "</style>\n",
              "<table border=\"1\" class=\"dataframe\">\n",
              "  <thead>\n",
              "    <tr style=\"text-align: right;\">\n",
              "      <th></th>\n",
              "      <th>MEN</th>\n",
              "      <th>WS353</th>\n",
              "      <th>WS353R</th>\n",
              "      <th>WS353S</th>\n",
              "      <th>SimLex999</th>\n",
              "      <th>RW</th>\n",
              "      <th>RG65</th>\n",
              "      <th>MTurk</th>\n",
              "    </tr>\n",
              "  </thead>\n",
              "  <tbody>\n",
              "    <tr>\n",
              "      <th>0</th>\n",
              "      <td>1.382</td>\n",
              "      <td>3.195</td>\n",
              "      <td>3.055</td>\n",
              "      <td>1.558</td>\n",
              "      <td>2.844</td>\n",
              "      <td>5.615</td>\n",
              "      <td>-25.806</td>\n",
              "      <td>-1.011</td>\n",
              "    </tr>\n",
              "  </tbody>\n",
              "</table>\n",
              "</div>"
            ],
            "text/plain": [
              "     MEN  WS353  WS353R  WS353S  SimLex999     RW    RG65  MTurk\n",
              "0  1.382  3.195   3.055   1.558      2.844  5.615 -25.806 -1.011"
            ]
          },
          "metadata": {},
          "execution_count": 33
        }
      ]
    },
    {
      "cell_type": "markdown",
      "metadata": {
        "id": "tofUaTaq-pzO"
      },
      "source": [
        "RAKE"
      ]
    },
    {
      "cell_type": "code",
      "metadata": {
        "id": "hudlvnnM-q2N"
      },
      "source": [
        "rake_equal_result = pd.read_csv(results_dir + 'modified/similarity/rake_equal_result.csv', usecols=range(7,15))"
      ],
      "execution_count": null,
      "outputs": []
    },
    {
      "cell_type": "code",
      "metadata": {
        "id": "Ck6KGZEoeuOl"
      },
      "source": [
        "vanilla_result = pd.read_csv(results_dir + 'modified/similarity/vanilla_rake_equal_result.csv', usecols=range(7,15))"
      ],
      "execution_count": null,
      "outputs": []
    },
    {
      "cell_type": "code",
      "metadata": {
        "id": "MT8-9SEv-q2N"
      },
      "source": [
        "rake_equal_result_df = ((rake_equal_result - vanilla_result) / vanilla_result) * 100 \n",
        "rake_equal_result_df = rake_equal_result_df.round(3)"
      ],
      "execution_count": null,
      "outputs": []
    },
    {
      "cell_type": "code",
      "metadata": {
        "colab": {
          "base_uri": "https://localhost:8080/",
          "height": 81
        },
        "id": "8P6TVvR9-q2O",
        "outputId": "93b7f87c-ac93-4d78-c30c-59e9ef627c85"
      },
      "source": [
        "rake_equal_result_df"
      ],
      "execution_count": null,
      "outputs": [
        {
          "output_type": "execute_result",
          "data": {
            "text/html": [
              "<div>\n",
              "<style scoped>\n",
              "    .dataframe tbody tr th:only-of-type {\n",
              "        vertical-align: middle;\n",
              "    }\n",
              "\n",
              "    .dataframe tbody tr th {\n",
              "        vertical-align: top;\n",
              "    }\n",
              "\n",
              "    .dataframe thead th {\n",
              "        text-align: right;\n",
              "    }\n",
              "</style>\n",
              "<table border=\"1\" class=\"dataframe\">\n",
              "  <thead>\n",
              "    <tr style=\"text-align: right;\">\n",
              "      <th></th>\n",
              "      <th>MEN</th>\n",
              "      <th>WS353</th>\n",
              "      <th>WS353R</th>\n",
              "      <th>WS353S</th>\n",
              "      <th>SimLex999</th>\n",
              "      <th>RW</th>\n",
              "      <th>RG65</th>\n",
              "      <th>MTurk</th>\n",
              "    </tr>\n",
              "  </thead>\n",
              "  <tbody>\n",
              "    <tr>\n",
              "      <th>0</th>\n",
              "      <td>3.26</td>\n",
              "      <td>3.35</td>\n",
              "      <td>28.528</td>\n",
              "      <td>-7.988</td>\n",
              "      <td>14.103</td>\n",
              "      <td>-8.415</td>\n",
              "      <td>-11.076</td>\n",
              "      <td>-1.293</td>\n",
              "    </tr>\n",
              "  </tbody>\n",
              "</table>\n",
              "</div>"
            ],
            "text/plain": [
              "    MEN  WS353  WS353R  WS353S  SimLex999     RW    RG65  MTurk\n",
              "0  3.26   3.35  28.528  -7.988     14.103 -8.415 -11.076 -1.293"
            ]
          },
          "metadata": {},
          "execution_count": 37
        }
      ]
    },
    {
      "cell_type": "code",
      "metadata": {
        "id": "E0oBRvZc-q2O"
      },
      "source": [
        "rake_one_result = pd.read_csv(results_dir + 'modified/similarity/rake_one_result.csv', usecols=range(7,15))"
      ],
      "execution_count": null,
      "outputs": []
    },
    {
      "cell_type": "code",
      "metadata": {
        "id": "j81yW2vne1mN"
      },
      "source": [
        "vanilla_result = pd.read_csv(results_dir + 'modified/similarity/vanilla_rake_one_result.csv', usecols=range(7,15))"
      ],
      "execution_count": null,
      "outputs": []
    },
    {
      "cell_type": "code",
      "metadata": {
        "id": "v5u__uos-q2P"
      },
      "source": [
        "rake_one_result_df = ((rake_one_result - vanilla_result) / vanilla_result) * 100 \n",
        "rake_one_result_df = rake_one_result_df.round(3)"
      ],
      "execution_count": null,
      "outputs": []
    },
    {
      "cell_type": "code",
      "metadata": {
        "colab": {
          "base_uri": "https://localhost:8080/",
          "height": 81
        },
        "id": "NhG5C7aQ-q2P",
        "outputId": "21318733-238d-47a9-cc70-627e97735278"
      },
      "source": [
        "rake_one_result_df"
      ],
      "execution_count": null,
      "outputs": [
        {
          "output_type": "execute_result",
          "data": {
            "text/html": [
              "<div>\n",
              "<style scoped>\n",
              "    .dataframe tbody tr th:only-of-type {\n",
              "        vertical-align: middle;\n",
              "    }\n",
              "\n",
              "    .dataframe tbody tr th {\n",
              "        vertical-align: top;\n",
              "    }\n",
              "\n",
              "    .dataframe thead th {\n",
              "        text-align: right;\n",
              "    }\n",
              "</style>\n",
              "<table border=\"1\" class=\"dataframe\">\n",
              "  <thead>\n",
              "    <tr style=\"text-align: right;\">\n",
              "      <th></th>\n",
              "      <th>MEN</th>\n",
              "      <th>WS353</th>\n",
              "      <th>WS353R</th>\n",
              "      <th>WS353S</th>\n",
              "      <th>SimLex999</th>\n",
              "      <th>RW</th>\n",
              "      <th>RG65</th>\n",
              "      <th>MTurk</th>\n",
              "    </tr>\n",
              "  </thead>\n",
              "  <tbody>\n",
              "    <tr>\n",
              "      <th>0</th>\n",
              "      <td>0.93</td>\n",
              "      <td>2.749</td>\n",
              "      <td>-1.581</td>\n",
              "      <td>9.962</td>\n",
              "      <td>6.317</td>\n",
              "      <td>6.582</td>\n",
              "      <td>-0.715</td>\n",
              "      <td>2.683</td>\n",
              "    </tr>\n",
              "  </tbody>\n",
              "</table>\n",
              "</div>"
            ],
            "text/plain": [
              "    MEN  WS353  WS353R  WS353S  SimLex999     RW   RG65  MTurk\n",
              "0  0.93  2.749  -1.581   9.962      6.317  6.582 -0.715  2.683"
            ]
          },
          "metadata": {},
          "execution_count": 41
        }
      ]
    },
    {
      "cell_type": "code",
      "metadata": {
        "id": "wC6oIit_-q2Q"
      },
      "source": [
        "rake_two_result = pd.read_csv(results_dir + 'modified/similarity/rake_two_result.csv', usecols=range(7,15))"
      ],
      "execution_count": null,
      "outputs": []
    },
    {
      "cell_type": "code",
      "metadata": {
        "id": "c8X_wQ-ee8Q7"
      },
      "source": [
        "vanilla_result = pd.read_csv(results_dir + 'modified/similarity/vanilla_rake_two_result.csv', usecols=range(7,15))"
      ],
      "execution_count": null,
      "outputs": []
    },
    {
      "cell_type": "code",
      "metadata": {
        "id": "jR55PEKa-q2Q"
      },
      "source": [
        "rake_two_result_df = ((rake_two_result - vanilla_result) / vanilla_result) * 100 \n",
        "rake_two_result_df = rake_two_result_df.round(3)"
      ],
      "execution_count": null,
      "outputs": []
    },
    {
      "cell_type": "code",
      "metadata": {
        "colab": {
          "base_uri": "https://localhost:8080/",
          "height": 81
        },
        "id": "_Ek5Lhn_-q2R",
        "outputId": "b967d9e7-c40f-42c4-a32b-613fc62d3bfc"
      },
      "source": [
        "rake_two_result_df"
      ],
      "execution_count": null,
      "outputs": [
        {
          "output_type": "execute_result",
          "data": {
            "text/html": [
              "<div>\n",
              "<style scoped>\n",
              "    .dataframe tbody tr th:only-of-type {\n",
              "        vertical-align: middle;\n",
              "    }\n",
              "\n",
              "    .dataframe tbody tr th {\n",
              "        vertical-align: top;\n",
              "    }\n",
              "\n",
              "    .dataframe thead th {\n",
              "        text-align: right;\n",
              "    }\n",
              "</style>\n",
              "<table border=\"1\" class=\"dataframe\">\n",
              "  <thead>\n",
              "    <tr style=\"text-align: right;\">\n",
              "      <th></th>\n",
              "      <th>MEN</th>\n",
              "      <th>WS353</th>\n",
              "      <th>WS353R</th>\n",
              "      <th>WS353S</th>\n",
              "      <th>SimLex999</th>\n",
              "      <th>RW</th>\n",
              "      <th>RG65</th>\n",
              "      <th>MTurk</th>\n",
              "    </tr>\n",
              "  </thead>\n",
              "  <tbody>\n",
              "    <tr>\n",
              "      <th>0</th>\n",
              "      <td>0.699</td>\n",
              "      <td>8.065</td>\n",
              "      <td>13.767</td>\n",
              "      <td>2.622</td>\n",
              "      <td>3.887</td>\n",
              "      <td>23.589</td>\n",
              "      <td>-25.0</td>\n",
              "      <td>-4.178</td>\n",
              "    </tr>\n",
              "  </tbody>\n",
              "</table>\n",
              "</div>"
            ],
            "text/plain": [
              "     MEN  WS353  WS353R  WS353S  SimLex999      RW  RG65  MTurk\n",
              "0  0.699  8.065  13.767   2.622      3.887  23.589 -25.0 -4.178"
            ]
          },
          "metadata": {},
          "execution_count": 45
        }
      ]
    },
    {
      "cell_type": "markdown",
      "metadata": {
        "id": "WqOvYziNBI_H"
      },
      "source": [
        "TOPICRANK"
      ]
    },
    {
      "cell_type": "code",
      "metadata": {
        "id": "_RgLyFvlBKSP"
      },
      "source": [
        "tr_equal_result = pd.read_csv(results_dir + 'modified/similarity/topicrank_equal_result.csv', usecols=range(7,15))"
      ],
      "execution_count": null,
      "outputs": []
    },
    {
      "cell_type": "code",
      "metadata": {
        "id": "rhKdC_nefN8z"
      },
      "source": [
        "vanilla_result = pd.read_csv(results_dir + 'modified/similarity/vanilla_tr_equal_result.csv', usecols=range(7,15))"
      ],
      "execution_count": null,
      "outputs": []
    },
    {
      "cell_type": "code",
      "metadata": {
        "id": "OGrq3OUmBKSQ"
      },
      "source": [
        "tr_equal_result_df = ((tr_equal_result - vanilla_result) / vanilla_result) * 100 \n",
        "tr_equal_result_df = tr_equal_result_df.round(3)"
      ],
      "execution_count": null,
      "outputs": []
    },
    {
      "cell_type": "code",
      "metadata": {
        "colab": {
          "base_uri": "https://localhost:8080/",
          "height": 81
        },
        "id": "n9Lsx2-9BKSR",
        "outputId": "afa24cfb-5150-4033-b0d6-f83cda4c7b20"
      },
      "source": [
        "tr_equal_result_df"
      ],
      "execution_count": null,
      "outputs": [
        {
          "output_type": "execute_result",
          "data": {
            "text/html": [
              "<div>\n",
              "<style scoped>\n",
              "    .dataframe tbody tr th:only-of-type {\n",
              "        vertical-align: middle;\n",
              "    }\n",
              "\n",
              "    .dataframe tbody tr th {\n",
              "        vertical-align: top;\n",
              "    }\n",
              "\n",
              "    .dataframe thead th {\n",
              "        text-align: right;\n",
              "    }\n",
              "</style>\n",
              "<table border=\"1\" class=\"dataframe\">\n",
              "  <thead>\n",
              "    <tr style=\"text-align: right;\">\n",
              "      <th></th>\n",
              "      <th>MEN</th>\n",
              "      <th>WS353</th>\n",
              "      <th>WS353R</th>\n",
              "      <th>WS353S</th>\n",
              "      <th>SimLex999</th>\n",
              "      <th>RW</th>\n",
              "      <th>RG65</th>\n",
              "      <th>MTurk</th>\n",
              "    </tr>\n",
              "  </thead>\n",
              "  <tbody>\n",
              "    <tr>\n",
              "      <th>0</th>\n",
              "      <td>-0.055</td>\n",
              "      <td>12.793</td>\n",
              "      <td>407.792</td>\n",
              "      <td>-1.67</td>\n",
              "      <td>57.533</td>\n",
              "      <td>-2.625</td>\n",
              "      <td>-32.198</td>\n",
              "      <td>-2.089</td>\n",
              "    </tr>\n",
              "  </tbody>\n",
              "</table>\n",
              "</div>"
            ],
            "text/plain": [
              "     MEN   WS353   WS353R  WS353S  SimLex999     RW    RG65  MTurk\n",
              "0 -0.055  12.793  407.792   -1.67     57.533 -2.625 -32.198 -2.089"
            ]
          },
          "metadata": {},
          "execution_count": 49
        }
      ]
    },
    {
      "cell_type": "code",
      "metadata": {
        "id": "oSgwAGoPBKSR"
      },
      "source": [
        "tr_one_result = pd.read_csv(results_dir + 'modified/similarity/topicrank_one_result.csv', usecols=range(7,15))"
      ],
      "execution_count": null,
      "outputs": []
    },
    {
      "cell_type": "code",
      "metadata": {
        "id": "nxsu0rovfToQ"
      },
      "source": [
        "vanilla_result = pd.read_csv(results_dir + 'modified/similarity/vanilla_tr_one_result.csv', usecols=range(7,15))"
      ],
      "execution_count": null,
      "outputs": []
    },
    {
      "cell_type": "code",
      "metadata": {
        "id": "JggvENyuBKSR"
      },
      "source": [
        "tr_one_result_df = ((tr_one_result - vanilla_result) / vanilla_result) * 100 \n",
        "tr_one_result_df = tr_one_result_df.round(3)"
      ],
      "execution_count": null,
      "outputs": []
    },
    {
      "cell_type": "code",
      "metadata": {
        "colab": {
          "base_uri": "https://localhost:8080/",
          "height": 81
        },
        "id": "ra9lD2RSBKSR",
        "outputId": "db4b228a-66cb-42a4-e0ff-2a6b5f71d4d2"
      },
      "source": [
        "tr_one_result_df"
      ],
      "execution_count": null,
      "outputs": [
        {
          "output_type": "execute_result",
          "data": {
            "text/html": [
              "<div>\n",
              "<style scoped>\n",
              "    .dataframe tbody tr th:only-of-type {\n",
              "        vertical-align: middle;\n",
              "    }\n",
              "\n",
              "    .dataframe tbody tr th {\n",
              "        vertical-align: top;\n",
              "    }\n",
              "\n",
              "    .dataframe thead th {\n",
              "        text-align: right;\n",
              "    }\n",
              "</style>\n",
              "<table border=\"1\" class=\"dataframe\">\n",
              "  <thead>\n",
              "    <tr style=\"text-align: right;\">\n",
              "      <th></th>\n",
              "      <th>MEN</th>\n",
              "      <th>WS353</th>\n",
              "      <th>WS353R</th>\n",
              "      <th>WS353S</th>\n",
              "      <th>SimLex999</th>\n",
              "      <th>RW</th>\n",
              "      <th>RG65</th>\n",
              "      <th>MTurk</th>\n",
              "    </tr>\n",
              "  </thead>\n",
              "  <tbody>\n",
              "    <tr>\n",
              "      <th>0</th>\n",
              "      <td>0.779</td>\n",
              "      <td>-8.826</td>\n",
              "      <td>-9.779</td>\n",
              "      <td>-5.484</td>\n",
              "      <td>4.474</td>\n",
              "      <td>3.634</td>\n",
              "      <td>-5.906</td>\n",
              "      <td>4.306</td>\n",
              "    </tr>\n",
              "  </tbody>\n",
              "</table>\n",
              "</div>"
            ],
            "text/plain": [
              "     MEN  WS353  WS353R  WS353S  SimLex999     RW   RG65  MTurk\n",
              "0  0.779 -8.826  -9.779  -5.484      4.474  3.634 -5.906  4.306"
            ]
          },
          "metadata": {},
          "execution_count": 53
        }
      ]
    },
    {
      "cell_type": "code",
      "metadata": {
        "id": "GC2Gf5ZOBKSR"
      },
      "source": [
        "tr_two_result = pd.read_csv(results_dir + 'modified/similarity/topicrank_two_result.csv', usecols=range(7,15))"
      ],
      "execution_count": null,
      "outputs": []
    },
    {
      "cell_type": "code",
      "metadata": {
        "id": "lUCpCPvofwi9"
      },
      "source": [
        "vanilla_result = pd.read_csv(results_dir + 'modified/similarity/vanilla_tr_two_result.csv', usecols=range(7,15))"
      ],
      "execution_count": null,
      "outputs": []
    },
    {
      "cell_type": "code",
      "metadata": {
        "id": "-1ozmnjiBKSR"
      },
      "source": [
        "tr_two_result_df = ((tr_two_result - vanilla_result) / vanilla_result) * 100 \n",
        "tr_two_result_df = tr_two_result_df.round(3)"
      ],
      "execution_count": null,
      "outputs": []
    },
    {
      "cell_type": "code",
      "metadata": {
        "colab": {
          "base_uri": "https://localhost:8080/",
          "height": 81
        },
        "id": "aes8T-gGBKSR",
        "outputId": "8971f0b3-1f15-49df-cdcd-617e8c339e69"
      },
      "source": [
        "tr_two_result_df"
      ],
      "execution_count": null,
      "outputs": [
        {
          "output_type": "execute_result",
          "data": {
            "text/html": [
              "<div>\n",
              "<style scoped>\n",
              "    .dataframe tbody tr th:only-of-type {\n",
              "        vertical-align: middle;\n",
              "    }\n",
              "\n",
              "    .dataframe tbody tr th {\n",
              "        vertical-align: top;\n",
              "    }\n",
              "\n",
              "    .dataframe thead th {\n",
              "        text-align: right;\n",
              "    }\n",
              "</style>\n",
              "<table border=\"1\" class=\"dataframe\">\n",
              "  <thead>\n",
              "    <tr style=\"text-align: right;\">\n",
              "      <th></th>\n",
              "      <th>MEN</th>\n",
              "      <th>WS353</th>\n",
              "      <th>WS353R</th>\n",
              "      <th>WS353S</th>\n",
              "      <th>SimLex999</th>\n",
              "      <th>RW</th>\n",
              "      <th>RG65</th>\n",
              "      <th>MTurk</th>\n",
              "    </tr>\n",
              "  </thead>\n",
              "  <tbody>\n",
              "    <tr>\n",
              "      <th>0</th>\n",
              "      <td>0.94</td>\n",
              "      <td>8.849</td>\n",
              "      <td>12.904</td>\n",
              "      <td>1.307</td>\n",
              "      <td>-1.123</td>\n",
              "      <td>-8.635</td>\n",
              "      <td>90.0</td>\n",
              "      <td>0.922</td>\n",
              "    </tr>\n",
              "  </tbody>\n",
              "</table>\n",
              "</div>"
            ],
            "text/plain": [
              "    MEN  WS353  WS353R  WS353S  SimLex999     RW  RG65  MTurk\n",
              "0  0.94  8.849  12.904   1.307     -1.123 -8.635  90.0  0.922"
            ]
          },
          "metadata": {},
          "execution_count": 57
        }
      ]
    },
    {
      "cell_type": "markdown",
      "metadata": {
        "id": "arQAmcz2Hhmd"
      },
      "source": [
        "### ANALOGY"
      ]
    },
    {
      "cell_type": "markdown",
      "metadata": {
        "id": "eIbmIHxzHsEV"
      },
      "source": [
        "GENSIM"
      ]
    },
    {
      "cell_type": "code",
      "metadata": {
        "id": "Lj-RHhAeHsEX"
      },
      "source": [
        "gensim_equal_result = pd.read_csv(results_dir + 'modified/analogy/gensim_equal_result.csv', usecols=range(15,17))"
      ],
      "execution_count": null,
      "outputs": []
    },
    {
      "cell_type": "code",
      "metadata": {
        "id": "aRCcoxPxHsEY"
      },
      "source": [
        "vanilla_result = pd.read_csv(results_dir + 'modified/analogy/vanilla_gensim_equal_result.csv', usecols=range(15,17))"
      ],
      "execution_count": null,
      "outputs": []
    },
    {
      "cell_type": "code",
      "metadata": {
        "id": "nstjv1-nHsEZ"
      },
      "source": [
        "gensim_equal_result_df = ((gensim_equal_result - vanilla_result) / vanilla_result) * 100 \n",
        "gensim_equal_result_df = gensim_equal_result_df.round(3)"
      ],
      "execution_count": null,
      "outputs": []
    },
    {
      "cell_type": "code",
      "metadata": {
        "colab": {
          "base_uri": "https://localhost:8080/",
          "height": 81
        },
        "id": "ayzvf0DeHsEa",
        "outputId": "3b352e3b-f175-4d3f-d780-2f292ae1c18e"
      },
      "source": [
        "gensim_equal_result_df"
      ],
      "execution_count": null,
      "outputs": [
        {
          "output_type": "execute_result",
          "data": {
            "text/html": [
              "<div>\n",
              "<style scoped>\n",
              "    .dataframe tbody tr th:only-of-type {\n",
              "        vertical-align: middle;\n",
              "    }\n",
              "\n",
              "    .dataframe tbody tr th {\n",
              "        vertical-align: top;\n",
              "    }\n",
              "\n",
              "    .dataframe thead th {\n",
              "        text-align: right;\n",
              "    }\n",
              "</style>\n",
              "<table border=\"1\" class=\"dataframe\">\n",
              "  <thead>\n",
              "    <tr style=\"text-align: right;\">\n",
              "      <th></th>\n",
              "      <th>Google</th>\n",
              "      <th>MSR</th>\n",
              "    </tr>\n",
              "  </thead>\n",
              "  <tbody>\n",
              "    <tr>\n",
              "      <th>0</th>\n",
              "      <td>-11.29</td>\n",
              "      <td>-0.386</td>\n",
              "    </tr>\n",
              "  </tbody>\n",
              "</table>\n",
              "</div>"
            ],
            "text/plain": [
              "   Google    MSR\n",
              "0  -11.29 -0.386"
            ]
          },
          "metadata": {},
          "execution_count": 62
        }
      ]
    },
    {
      "cell_type": "code",
      "metadata": {
        "id": "Z3SLmSd6HsEc"
      },
      "source": [
        "gensim_one_result = pd.read_csv(results_dir + 'modified/analogy/gensim_one_result.csv', usecols=range(15,17))"
      ],
      "execution_count": null,
      "outputs": []
    },
    {
      "cell_type": "code",
      "metadata": {
        "id": "MBqT0cKtHsEd"
      },
      "source": [
        "vanilla_result = pd.read_csv(results_dir + 'modified/analogy/vanilla_gensim_one_result.csv', usecols=range(15,17))"
      ],
      "execution_count": null,
      "outputs": []
    },
    {
      "cell_type": "code",
      "metadata": {
        "id": "RnyP3hiPHsEd"
      },
      "source": [
        "gensim_one_result_df = ((gensim_one_result - vanilla_result) / vanilla_result) * 100 \n",
        "gensim_one_result_df = gensim_one_result_df.round(3)"
      ],
      "execution_count": null,
      "outputs": []
    },
    {
      "cell_type": "code",
      "metadata": {
        "colab": {
          "base_uri": "https://localhost:8080/",
          "height": 81
        },
        "id": "Drep0VN_HsEe",
        "outputId": "84d064f7-09fc-4b33-9d77-ec31e30b0282"
      },
      "source": [
        "gensim_one_result_df"
      ],
      "execution_count": null,
      "outputs": [
        {
          "output_type": "execute_result",
          "data": {
            "text/html": [
              "<div>\n",
              "<style scoped>\n",
              "    .dataframe tbody tr th:only-of-type {\n",
              "        vertical-align: middle;\n",
              "    }\n",
              "\n",
              "    .dataframe tbody tr th {\n",
              "        vertical-align: top;\n",
              "    }\n",
              "\n",
              "    .dataframe thead th {\n",
              "        text-align: right;\n",
              "    }\n",
              "</style>\n",
              "<table border=\"1\" class=\"dataframe\">\n",
              "  <thead>\n",
              "    <tr style=\"text-align: right;\">\n",
              "      <th></th>\n",
              "      <th>Google</th>\n",
              "      <th>MSR</th>\n",
              "    </tr>\n",
              "  </thead>\n",
              "  <tbody>\n",
              "    <tr>\n",
              "      <th>0</th>\n",
              "      <td>-6.325</td>\n",
              "      <td>-2.049</td>\n",
              "    </tr>\n",
              "  </tbody>\n",
              "</table>\n",
              "</div>"
            ],
            "text/plain": [
              "   Google    MSR\n",
              "0  -6.325 -2.049"
            ]
          },
          "metadata": {},
          "execution_count": 66
        }
      ]
    },
    {
      "cell_type": "code",
      "metadata": {
        "id": "CftFm64kHsEf"
      },
      "source": [
        "gensim_all_result = pd.read_csv(results_dir + 'modified/analogy/gensim_all_result.csv', usecols=range(15,17))"
      ],
      "execution_count": null,
      "outputs": []
    },
    {
      "cell_type": "code",
      "metadata": {
        "id": "cRXBmEP_HsEg"
      },
      "source": [
        "vanilla_result = pd.read_csv(results_dir + 'modified/analogy/vanilla_gensim_all_result.csv', usecols=range(15,17))"
      ],
      "execution_count": null,
      "outputs": []
    },
    {
      "cell_type": "code",
      "metadata": {
        "id": "UAzm4p7fHsEg"
      },
      "source": [
        "gensim_all_result_df = ((gensim_all_result - vanilla_result) / vanilla_result) * 100 \n",
        "gensim_all_result_df = gensim_all_result_df.round(3)"
      ],
      "execution_count": null,
      "outputs": []
    },
    {
      "cell_type": "code",
      "metadata": {
        "colab": {
          "base_uri": "https://localhost:8080/",
          "height": 81
        },
        "id": "QfQvs3uTHsEh",
        "outputId": "35867de8-109c-4526-9e4a-80a2f6b31e07"
      },
      "source": [
        "gensim_all_result_df"
      ],
      "execution_count": null,
      "outputs": [
        {
          "output_type": "execute_result",
          "data": {
            "text/html": [
              "<div>\n",
              "<style scoped>\n",
              "    .dataframe tbody tr th:only-of-type {\n",
              "        vertical-align: middle;\n",
              "    }\n",
              "\n",
              "    .dataframe tbody tr th {\n",
              "        vertical-align: top;\n",
              "    }\n",
              "\n",
              "    .dataframe thead th {\n",
              "        text-align: right;\n",
              "    }\n",
              "</style>\n",
              "<table border=\"1\" class=\"dataframe\">\n",
              "  <thead>\n",
              "    <tr style=\"text-align: right;\">\n",
              "      <th></th>\n",
              "      <th>Google</th>\n",
              "      <th>MSR</th>\n",
              "    </tr>\n",
              "  </thead>\n",
              "  <tbody>\n",
              "    <tr>\n",
              "      <th>0</th>\n",
              "      <td>-5.263</td>\n",
              "      <td>-11.852</td>\n",
              "    </tr>\n",
              "  </tbody>\n",
              "</table>\n",
              "</div>"
            ],
            "text/plain": [
              "   Google     MSR\n",
              "0  -5.263 -11.852"
            ]
          },
          "metadata": {},
          "execution_count": 75
        }
      ]
    },
    {
      "cell_type": "markdown",
      "metadata": {
        "id": "uvR3_l4JHsEi"
      },
      "source": [
        "PoS-Entities"
      ]
    },
    {
      "cell_type": "code",
      "metadata": {
        "id": "QFqttbjPHsEi"
      },
      "source": [
        "PoSEntities_equal_result = pd.read_csv(results_dir + 'modified/analogy/PoS-Ent_equal_result.csv', usecols=range(15,17))"
      ],
      "execution_count": null,
      "outputs": []
    },
    {
      "cell_type": "code",
      "metadata": {
        "id": "JLObMMlIHsEj"
      },
      "source": [
        "vanilla_result = pd.read_csv(results_dir + 'modified/analogy/vanilla_PoS-Ent_equal_result.csv', usecols=range(15,17))"
      ],
      "execution_count": null,
      "outputs": []
    },
    {
      "cell_type": "code",
      "metadata": {
        "id": "ashtsbnZHsEj"
      },
      "source": [
        "PoSEntities_equal_result_df = ((PoSEntities_equal_result - vanilla_result) / vanilla_result) * 100 \n",
        "PoSEntities_equal_result_df = PoSEntities_equal_result_df.round(3)"
      ],
      "execution_count": null,
      "outputs": []
    },
    {
      "cell_type": "code",
      "metadata": {
        "colab": {
          "base_uri": "https://localhost:8080/",
          "height": 81
        },
        "id": "vZST6hABHsEj",
        "outputId": "7fe5f091-6ce0-4e67-cc87-dbeefe21dd55"
      },
      "source": [
        "PoSEntities_equal_result_df"
      ],
      "execution_count": null,
      "outputs": [
        {
          "output_type": "execute_result",
          "data": {
            "text/html": [
              "<div>\n",
              "<style scoped>\n",
              "    .dataframe tbody tr th:only-of-type {\n",
              "        vertical-align: middle;\n",
              "    }\n",
              "\n",
              "    .dataframe tbody tr th {\n",
              "        vertical-align: top;\n",
              "    }\n",
              "\n",
              "    .dataframe thead th {\n",
              "        text-align: right;\n",
              "    }\n",
              "</style>\n",
              "<table border=\"1\" class=\"dataframe\">\n",
              "  <thead>\n",
              "    <tr style=\"text-align: right;\">\n",
              "      <th></th>\n",
              "      <th>Google</th>\n",
              "      <th>MSR</th>\n",
              "    </tr>\n",
              "  </thead>\n",
              "  <tbody>\n",
              "    <tr>\n",
              "      <th>0</th>\n",
              "      <td>-2.671</td>\n",
              "      <td>1.799</td>\n",
              "    </tr>\n",
              "  </tbody>\n",
              "</table>\n",
              "</div>"
            ],
            "text/plain": [
              "   Google    MSR\n",
              "0  -2.671  1.799"
            ]
          },
          "metadata": {},
          "execution_count": 80
        }
      ]
    },
    {
      "cell_type": "code",
      "metadata": {
        "id": "JsTocUSGHsEk"
      },
      "source": [
        "PoSEntities_one_result = pd.read_csv(results_dir + 'modified/analogy/PoS-Ent_one_result.csv', usecols=range(15,17))"
      ],
      "execution_count": null,
      "outputs": []
    },
    {
      "cell_type": "code",
      "metadata": {
        "id": "s8wZLL1MHsEk"
      },
      "source": [
        "vanilla_result = pd.read_csv(results_dir + 'modified/analogy/vanilla_PoS-Ent_one_result.csv', usecols=range(15,17))"
      ],
      "execution_count": null,
      "outputs": []
    },
    {
      "cell_type": "code",
      "metadata": {
        "id": "IZD5QVOGHsEl"
      },
      "source": [
        "PoSEntities_one_result_df = ((PoSEntities_one_result - vanilla_result) / vanilla_result) * 100 \n",
        "PoSEntities_one_result_df = PoSEntities_one_result_df.round(3)"
      ],
      "execution_count": null,
      "outputs": []
    },
    {
      "cell_type": "code",
      "metadata": {
        "colab": {
          "base_uri": "https://localhost:8080/",
          "height": 81
        },
        "id": "zoLqCnI5HsEl",
        "outputId": "197b45be-89e8-464d-fe60-89f7bdf0b894"
      },
      "source": [
        "PoSEntities_one_result_df"
      ],
      "execution_count": null,
      "outputs": [
        {
          "output_type": "execute_result",
          "data": {
            "text/html": [
              "<div>\n",
              "<style scoped>\n",
              "    .dataframe tbody tr th:only-of-type {\n",
              "        vertical-align: middle;\n",
              "    }\n",
              "\n",
              "    .dataframe tbody tr th {\n",
              "        vertical-align: top;\n",
              "    }\n",
              "\n",
              "    .dataframe thead th {\n",
              "        text-align: right;\n",
              "    }\n",
              "</style>\n",
              "<table border=\"1\" class=\"dataframe\">\n",
              "  <thead>\n",
              "    <tr style=\"text-align: right;\">\n",
              "      <th></th>\n",
              "      <th>Google</th>\n",
              "      <th>MSR</th>\n",
              "    </tr>\n",
              "  </thead>\n",
              "  <tbody>\n",
              "    <tr>\n",
              "      <th>0</th>\n",
              "      <td>-2.146</td>\n",
              "      <td>-2.441</td>\n",
              "    </tr>\n",
              "  </tbody>\n",
              "</table>\n",
              "</div>"
            ],
            "text/plain": [
              "   Google    MSR\n",
              "0  -2.146 -2.441"
            ]
          },
          "metadata": {},
          "execution_count": 84
        }
      ]
    },
    {
      "cell_type": "code",
      "metadata": {
        "id": "fXkKjadYHsEm"
      },
      "source": [
        "PoSEntities_all_result = pd.read_csv(results_dir + 'modified/analogy/PoS-Ent_all_result.csv', usecols=range(15,17))"
      ],
      "execution_count": null,
      "outputs": []
    },
    {
      "cell_type": "code",
      "metadata": {
        "id": "b8ggAJp7HsEn"
      },
      "source": [
        "vanilla_result = pd.read_csv(results_dir + 'modified/analogy/vanilla_PoS-Ent_all_result.csv', usecols=range(15,17))"
      ],
      "execution_count": null,
      "outputs": []
    },
    {
      "cell_type": "code",
      "metadata": {
        "id": "8XdsrkhqHsEn"
      },
      "source": [
        "PoSEntities_all_result_df = ((PoSEntities_all_result - vanilla_result) / vanilla_result) * 100 \n",
        "PoSEntities_all_result_df = PoSEntities_all_result_df.round(3)"
      ],
      "execution_count": null,
      "outputs": []
    },
    {
      "cell_type": "code",
      "metadata": {
        "colab": {
          "base_uri": "https://localhost:8080/",
          "height": 81
        },
        "id": "WiTcpwUoHsEn",
        "outputId": "b12e22dd-8364-4d28-eccf-92d9de231e39"
      },
      "source": [
        "PoSEntities_all_result_df"
      ],
      "execution_count": null,
      "outputs": [
        {
          "output_type": "execute_result",
          "data": {
            "text/html": [
              "<div>\n",
              "<style scoped>\n",
              "    .dataframe tbody tr th:only-of-type {\n",
              "        vertical-align: middle;\n",
              "    }\n",
              "\n",
              "    .dataframe tbody tr th {\n",
              "        vertical-align: top;\n",
              "    }\n",
              "\n",
              "    .dataframe thead th {\n",
              "        text-align: right;\n",
              "    }\n",
              "</style>\n",
              "<table border=\"1\" class=\"dataframe\">\n",
              "  <thead>\n",
              "    <tr style=\"text-align: right;\">\n",
              "      <th></th>\n",
              "      <th>Google</th>\n",
              "      <th>MSR</th>\n",
              "    </tr>\n",
              "  </thead>\n",
              "  <tbody>\n",
              "    <tr>\n",
              "      <th>0</th>\n",
              "      <td>-12.273</td>\n",
              "      <td>-13.514</td>\n",
              "    </tr>\n",
              "  </tbody>\n",
              "</table>\n",
              "</div>"
            ],
            "text/plain": [
              "   Google     MSR\n",
              "0 -12.273 -13.514"
            ]
          },
          "metadata": {},
          "execution_count": 88
        }
      ]
    },
    {
      "cell_type": "markdown",
      "metadata": {
        "id": "QJnq7h2zHsEo"
      },
      "source": [
        "RAKE"
      ]
    },
    {
      "cell_type": "code",
      "metadata": {
        "id": "KA0uAlJTHsEo"
      },
      "source": [
        "rake_equal_result = pd.read_csv(results_dir + 'modified/analogy/rake_equal_result.csv', usecols=range(15,17))"
      ],
      "execution_count": null,
      "outputs": []
    },
    {
      "cell_type": "code",
      "metadata": {
        "id": "QuljUujfHsEo"
      },
      "source": [
        "vanilla_result = pd.read_csv(results_dir + 'modified/analogy/vanilla_rake_equal_result.csv', usecols=range(15,17))"
      ],
      "execution_count": null,
      "outputs": []
    },
    {
      "cell_type": "code",
      "metadata": {
        "id": "ZICxDQbMHsEp"
      },
      "source": [
        "rake_equal_result_df = ((rake_equal_result - vanilla_result) / vanilla_result) * 100 \n",
        "rake_equal_result_df = rake_equal_result_df.round(3)"
      ],
      "execution_count": null,
      "outputs": []
    },
    {
      "cell_type": "code",
      "metadata": {
        "colab": {
          "base_uri": "https://localhost:8080/",
          "height": 81
        },
        "id": "Zo5nFa5mHsEp",
        "outputId": "466ab7e3-5e1b-4e6e-e4c5-58d8c2256f06"
      },
      "source": [
        "rake_equal_result_df"
      ],
      "execution_count": null,
      "outputs": [
        {
          "output_type": "execute_result",
          "data": {
            "text/html": [
              "<div>\n",
              "<style scoped>\n",
              "    .dataframe tbody tr th:only-of-type {\n",
              "        vertical-align: middle;\n",
              "    }\n",
              "\n",
              "    .dataframe tbody tr th {\n",
              "        vertical-align: top;\n",
              "    }\n",
              "\n",
              "    .dataframe thead th {\n",
              "        text-align: right;\n",
              "    }\n",
              "</style>\n",
              "<table border=\"1\" class=\"dataframe\">\n",
              "  <thead>\n",
              "    <tr style=\"text-align: right;\">\n",
              "      <th></th>\n",
              "      <th>Google</th>\n",
              "      <th>MSR</th>\n",
              "    </tr>\n",
              "  </thead>\n",
              "  <tbody>\n",
              "    <tr>\n",
              "      <th>0</th>\n",
              "      <td>-12.195</td>\n",
              "      <td>-11.765</td>\n",
              "    </tr>\n",
              "  </tbody>\n",
              "</table>\n",
              "</div>"
            ],
            "text/plain": [
              "   Google     MSR\n",
              "0 -12.195 -11.765"
            ]
          },
          "metadata": {},
          "execution_count": 92
        }
      ]
    },
    {
      "cell_type": "code",
      "metadata": {
        "id": "mA08o-x3HsEq"
      },
      "source": [
        "rake_one_result = pd.read_csv(results_dir + 'modified/analogy/rake_one_result.csv', usecols=range(15,17))"
      ],
      "execution_count": null,
      "outputs": []
    },
    {
      "cell_type": "code",
      "metadata": {
        "id": "on2nQ-vlHsEq"
      },
      "source": [
        "vanilla_result = pd.read_csv(results_dir + 'modified/analogy/vanilla_rake_one_result.csv', usecols=range(15,17))"
      ],
      "execution_count": null,
      "outputs": []
    },
    {
      "cell_type": "code",
      "metadata": {
        "id": "AX57ULA-HsEr"
      },
      "source": [
        "rake_one_result_df = ((rake_one_result - vanilla_result) / vanilla_result) * 100 \n",
        "rake_one_result_df = rake_one_result_df.round(3)"
      ],
      "execution_count": null,
      "outputs": []
    },
    {
      "cell_type": "code",
      "metadata": {
        "colab": {
          "base_uri": "https://localhost:8080/",
          "height": 81
        },
        "id": "NCMBkeVcHsEs",
        "outputId": "6b020ebb-4b41-409c-a976-52d1d39ec691"
      },
      "source": [
        "rake_one_result_df"
      ],
      "execution_count": null,
      "outputs": [
        {
          "output_type": "execute_result",
          "data": {
            "text/html": [
              "<div>\n",
              "<style scoped>\n",
              "    .dataframe tbody tr th:only-of-type {\n",
              "        vertical-align: middle;\n",
              "    }\n",
              "\n",
              "    .dataframe tbody tr th {\n",
              "        vertical-align: top;\n",
              "    }\n",
              "\n",
              "    .dataframe thead th {\n",
              "        text-align: right;\n",
              "    }\n",
              "</style>\n",
              "<table border=\"1\" class=\"dataframe\">\n",
              "  <thead>\n",
              "    <tr style=\"text-align: right;\">\n",
              "      <th></th>\n",
              "      <th>Google</th>\n",
              "      <th>MSR</th>\n",
              "    </tr>\n",
              "  </thead>\n",
              "  <tbody>\n",
              "    <tr>\n",
              "      <th>0</th>\n",
              "      <td>-10.401</td>\n",
              "      <td>-9.646</td>\n",
              "    </tr>\n",
              "  </tbody>\n",
              "</table>\n",
              "</div>"
            ],
            "text/plain": [
              "   Google    MSR\n",
              "0 -10.401 -9.646"
            ]
          },
          "metadata": {},
          "execution_count": 96
        }
      ]
    },
    {
      "cell_type": "code",
      "metadata": {
        "id": "sGooVI05HsEs"
      },
      "source": [
        "rake_all_result = pd.read_csv(results_dir + 'modified/analogy/rake_all_result.csv', usecols=range(15,17))"
      ],
      "execution_count": null,
      "outputs": []
    },
    {
      "cell_type": "code",
      "metadata": {
        "id": "lW59h-RwHsEs"
      },
      "source": [
        "vanilla_result = pd.read_csv(results_dir + 'modified/analogy/vanilla_rake_all_result.csv', usecols=range(15,17))"
      ],
      "execution_count": null,
      "outputs": []
    },
    {
      "cell_type": "code",
      "metadata": {
        "id": "oRMS_ZhoHsEs"
      },
      "source": [
        "rake_all_result_df = ((rake_all_result - vanilla_result) / vanilla_result) * 100 \n",
        "rake_all_result_df = rake_all_result_df.round(3)"
      ],
      "execution_count": null,
      "outputs": []
    },
    {
      "cell_type": "code",
      "metadata": {
        "colab": {
          "base_uri": "https://localhost:8080/",
          "height": 81
        },
        "id": "qKcmcUIeHsEt",
        "outputId": "62b494fb-8311-44ae-f5b7-eba5c113adf0"
      },
      "source": [
        "rake_all_result_df"
      ],
      "execution_count": null,
      "outputs": [
        {
          "output_type": "execute_result",
          "data": {
            "text/html": [
              "<div>\n",
              "<style scoped>\n",
              "    .dataframe tbody tr th:only-of-type {\n",
              "        vertical-align: middle;\n",
              "    }\n",
              "\n",
              "    .dataframe tbody tr th {\n",
              "        vertical-align: top;\n",
              "    }\n",
              "\n",
              "    .dataframe thead th {\n",
              "        text-align: right;\n",
              "    }\n",
              "</style>\n",
              "<table border=\"1\" class=\"dataframe\">\n",
              "  <thead>\n",
              "    <tr style=\"text-align: right;\">\n",
              "      <th></th>\n",
              "      <th>Google</th>\n",
              "      <th>MSR</th>\n",
              "    </tr>\n",
              "  </thead>\n",
              "  <tbody>\n",
              "    <tr>\n",
              "      <th>0</th>\n",
              "      <td>-9.036</td>\n",
              "      <td>-6.025</td>\n",
              "    </tr>\n",
              "  </tbody>\n",
              "</table>\n",
              "</div>"
            ],
            "text/plain": [
              "   Google    MSR\n",
              "0  -9.036 -6.025"
            ]
          },
          "metadata": {},
          "execution_count": 100
        }
      ]
    },
    {
      "cell_type": "markdown",
      "metadata": {
        "id": "wMoaos7YHsEt"
      },
      "source": [
        "TOPICRANK"
      ]
    },
    {
      "cell_type": "code",
      "metadata": {
        "id": "BisWwBOaHsEt"
      },
      "source": [
        "tr_equal_result = pd.read_csv(results_dir + 'modified/analogy/topicrank_equal_result.csv', usecols=range(15,17))"
      ],
      "execution_count": null,
      "outputs": []
    },
    {
      "cell_type": "code",
      "metadata": {
        "id": "mOM52Hg-HsEu"
      },
      "source": [
        "vanilla_result = pd.read_csv(results_dir + 'modified/analogy/vanilla_topicrank_equal_result.csv', usecols=range(15,17))"
      ],
      "execution_count": null,
      "outputs": []
    },
    {
      "cell_type": "code",
      "metadata": {
        "id": "tFHlUiohHsEu"
      },
      "source": [
        "tr_equal_result_df = ((tr_equal_result - vanilla_result) / vanilla_result) * 100 \n",
        "tr_equal_result_df = tr_equal_result_df.round(3)"
      ],
      "execution_count": null,
      "outputs": []
    },
    {
      "cell_type": "code",
      "metadata": {
        "colab": {
          "base_uri": "https://localhost:8080/",
          "height": 81
        },
        "id": "ymk6BOCKHsEu",
        "outputId": "cc528f07-b4f4-4db0-8f65-876d7902e389"
      },
      "source": [
        "tr_equal_result_df"
      ],
      "execution_count": null,
      "outputs": [
        {
          "output_type": "execute_result",
          "data": {
            "text/html": [
              "<div>\n",
              "<style scoped>\n",
              "    .dataframe tbody tr th:only-of-type {\n",
              "        vertical-align: middle;\n",
              "    }\n",
              "\n",
              "    .dataframe tbody tr th {\n",
              "        vertical-align: top;\n",
              "    }\n",
              "\n",
              "    .dataframe thead th {\n",
              "        text-align: right;\n",
              "    }\n",
              "</style>\n",
              "<table border=\"1\" class=\"dataframe\">\n",
              "  <thead>\n",
              "    <tr style=\"text-align: right;\">\n",
              "      <th></th>\n",
              "      <th>Google</th>\n",
              "      <th>MSR</th>\n",
              "    </tr>\n",
              "  </thead>\n",
              "  <tbody>\n",
              "    <tr>\n",
              "      <th>0</th>\n",
              "      <td>-4.984</td>\n",
              "      <td>0.511</td>\n",
              "    </tr>\n",
              "  </tbody>\n",
              "</table>\n",
              "</div>"
            ],
            "text/plain": [
              "   Google    MSR\n",
              "0  -4.984  0.511"
            ]
          },
          "metadata": {},
          "execution_count": 106
        }
      ]
    },
    {
      "cell_type": "code",
      "metadata": {
        "id": "LbZSPENpHsEu"
      },
      "source": [
        "tr_one_result = pd.read_csv(results_dir + 'modified/analogy/topicrank_one_result.csv', usecols=range(15,17))"
      ],
      "execution_count": null,
      "outputs": []
    },
    {
      "cell_type": "code",
      "metadata": {
        "id": "LEPGoJc0HsEv"
      },
      "source": [
        "vanilla_result = pd.read_csv(results_dir + 'modified/analogy/vanilla_topicrank_one_result.csv', usecols=range(15,17))"
      ],
      "execution_count": null,
      "outputs": []
    },
    {
      "cell_type": "code",
      "metadata": {
        "id": "a58-JvJ9HsEv"
      },
      "source": [
        "tr_one_result_df = ((tr_one_result - vanilla_result) / vanilla_result) * 100 \n",
        "tr_one_result_df = tr_one_result_df.round(3)"
      ],
      "execution_count": null,
      "outputs": []
    },
    {
      "cell_type": "code",
      "metadata": {
        "colab": {
          "base_uri": "https://localhost:8080/",
          "height": 81
        },
        "id": "ekaHpYdSHsEv",
        "outputId": "3f111f92-440f-4d08-92c5-2af172b0f728"
      },
      "source": [
        "tr_one_result_df"
      ],
      "execution_count": null,
      "outputs": [
        {
          "output_type": "execute_result",
          "data": {
            "text/html": [
              "<div>\n",
              "<style scoped>\n",
              "    .dataframe tbody tr th:only-of-type {\n",
              "        vertical-align: middle;\n",
              "    }\n",
              "\n",
              "    .dataframe tbody tr th {\n",
              "        vertical-align: top;\n",
              "    }\n",
              "\n",
              "    .dataframe thead th {\n",
              "        text-align: right;\n",
              "    }\n",
              "</style>\n",
              "<table border=\"1\" class=\"dataframe\">\n",
              "  <thead>\n",
              "    <tr style=\"text-align: right;\">\n",
              "      <th></th>\n",
              "      <th>Google</th>\n",
              "      <th>MSR</th>\n",
              "    </tr>\n",
              "  </thead>\n",
              "  <tbody>\n",
              "    <tr>\n",
              "      <th>0</th>\n",
              "      <td>-7.375</td>\n",
              "      <td>-4.99</td>\n",
              "    </tr>\n",
              "  </tbody>\n",
              "</table>\n",
              "</div>"
            ],
            "text/plain": [
              "   Google   MSR\n",
              "0  -7.375 -4.99"
            ]
          },
          "metadata": {},
          "execution_count": 110
        }
      ]
    },
    {
      "cell_type": "code",
      "metadata": {
        "id": "dAiotP1zHsEv"
      },
      "source": [
        "tr_all_result = pd.read_csv(results_dir + 'modified/analogy/topicrank_all_result.csv', usecols=range(15,17))"
      ],
      "execution_count": null,
      "outputs": []
    },
    {
      "cell_type": "code",
      "metadata": {
        "id": "COmX8xnbHsEw"
      },
      "source": [
        "vanilla_result = pd.read_csv(results_dir + 'modified/analogy/vanilla_topicrank_all_result.csv', usecols=range(15,17))"
      ],
      "execution_count": null,
      "outputs": []
    },
    {
      "cell_type": "code",
      "metadata": {
        "id": "JhhInJIGHsEx"
      },
      "source": [
        "tr_all_result_df = ((tr_all_result - vanilla_result) / vanilla_result) * 100 \n",
        "tr_all_result_df = tr_all_result_df.round(3)"
      ],
      "execution_count": null,
      "outputs": []
    },
    {
      "cell_type": "code",
      "metadata": {
        "colab": {
          "base_uri": "https://localhost:8080/",
          "height": 81
        },
        "id": "B3Gy88MCHsEx",
        "outputId": "c721bb56-bf1e-4467-93ee-f2825aa4e0d1"
      },
      "source": [
        "tr_all_result_df"
      ],
      "execution_count": null,
      "outputs": [
        {
          "output_type": "execute_result",
          "data": {
            "text/html": [
              "<div>\n",
              "<style scoped>\n",
              "    .dataframe tbody tr th:only-of-type {\n",
              "        vertical-align: middle;\n",
              "    }\n",
              "\n",
              "    .dataframe tbody tr th {\n",
              "        vertical-align: top;\n",
              "    }\n",
              "\n",
              "    .dataframe thead th {\n",
              "        text-align: right;\n",
              "    }\n",
              "</style>\n",
              "<table border=\"1\" class=\"dataframe\">\n",
              "  <thead>\n",
              "    <tr style=\"text-align: right;\">\n",
              "      <th></th>\n",
              "      <th>Google</th>\n",
              "      <th>MSR</th>\n",
              "    </tr>\n",
              "  </thead>\n",
              "  <tbody>\n",
              "    <tr>\n",
              "      <th>0</th>\n",
              "      <td>-12.393</td>\n",
              "      <td>-17.75</td>\n",
              "    </tr>\n",
              "  </tbody>\n",
              "</table>\n",
              "</div>"
            ],
            "text/plain": [
              "   Google    MSR\n",
              "0 -12.393 -17.75"
            ]
          },
          "metadata": {},
          "execution_count": 116
        }
      ]
    },
    {
      "cell_type": "markdown",
      "metadata": {
        "id": "PgeErsW-Q6Mo"
      },
      "source": [
        "## LOAD RESULTS WITH EXTENDED CORPORA"
      ]
    },
    {
      "cell_type": "code",
      "metadata": {
        "id": "Ps8ho54IRuUv"
      },
      "source": [
        "vanilla_result = pd.read_csv(results_dir + 'vanilla_result.csv', usecols=range(7,17))"
      ],
      "execution_count": null,
      "outputs": []
    },
    {
      "cell_type": "code",
      "metadata": {
        "id": "jKwCyUkMACJM"
      },
      "source": [
        "PoSEntities_extended_result = pd.read_csv(results_dir + 'PoS-Ent_extended_result.csv', usecols=range(7,17))"
      ],
      "execution_count": null,
      "outputs": []
    },
    {
      "cell_type": "code",
      "metadata": {
        "id": "DQTQ_LjfR_rP"
      },
      "source": [
        "gensim_extended_result = pd.read_csv(results_dir + 'gensim_extended_result.csv', usecols=range(7,17))"
      ],
      "execution_count": null,
      "outputs": []
    },
    {
      "cell_type": "code",
      "metadata": {
        "id": "hTvJWB1OR9-H"
      },
      "source": [
        "rake_extended_result = pd.read_csv(results_dir + 'rake_extended_result.csv', usecols=range(7,17))"
      ],
      "execution_count": null,
      "outputs": []
    },
    {
      "cell_type": "code",
      "metadata": {
        "id": "s5IUEZC5R_75"
      },
      "source": [
        "tr_extended_result = pd.read_csv(results_dir + 'topicrank_extended_result.csv', usecols=range(7,17))"
      ],
      "execution_count": null,
      "outputs": []
    },
    {
      "cell_type": "code",
      "metadata": {
        "id": "Uk5-XhugSHt-"
      },
      "source": [
        "vanilla_result"
      ],
      "execution_count": null,
      "outputs": []
    },
    {
      "cell_type": "code",
      "metadata": {
        "id": "nhCVJ7gzAMtb"
      },
      "source": [
        "PoSEntities_extended_result"
      ],
      "execution_count": null,
      "outputs": []
    },
    {
      "cell_type": "code",
      "metadata": {
        "id": "Ad3HLIB-SH59"
      },
      "source": [
        "gensim_extended_result"
      ],
      "execution_count": null,
      "outputs": []
    },
    {
      "cell_type": "code",
      "metadata": {
        "id": "pdjlYdftSIGj"
      },
      "source": [
        "rake_extended_result"
      ],
      "execution_count": null,
      "outputs": []
    },
    {
      "cell_type": "code",
      "metadata": {
        "id": "rAwYwUcpSIQo"
      },
      "source": [
        "tr_extended_result"
      ],
      "execution_count": null,
      "outputs": []
    },
    {
      "cell_type": "code",
      "metadata": {
        "id": "BTN6iaEAAYoQ"
      },
      "source": [
        "PoSEntities_extended_result_df = ((PoSEntities_extended_result - vanilla_result) / vanilla_result) * 100 "
      ],
      "execution_count": null,
      "outputs": []
    },
    {
      "cell_type": "code",
      "metadata": {
        "id": "UXojhCWmAYoR"
      },
      "source": [
        "PoSEntities_extended_result_df = PoSEntities_extended_result_df.round(3)"
      ],
      "execution_count": null,
      "outputs": []
    },
    {
      "cell_type": "code",
      "metadata": {
        "id": "KZ8P_4w_SPID"
      },
      "source": [
        "gensim_extended_result_df = ((gensim_extended_result - vanilla_result) / vanilla_result) * 100 "
      ],
      "execution_count": null,
      "outputs": []
    },
    {
      "cell_type": "code",
      "metadata": {
        "id": "TY2NclffSSBc"
      },
      "source": [
        "gensim_extended_result_df = gensim_extended_result_df.round(3)"
      ],
      "execution_count": null,
      "outputs": []
    },
    {
      "cell_type": "code",
      "metadata": {
        "id": "XyQAYFxtSQym"
      },
      "source": [
        "rake_extended_result_df = ((rake_extended_result - vanilla_result) / vanilla_result) * 100 "
      ],
      "execution_count": null,
      "outputs": []
    },
    {
      "cell_type": "code",
      "metadata": {
        "id": "jZZZD6-tSSbz"
      },
      "source": [
        "rake_extended_result_df = rake_extended_result_df.round(3)"
      ],
      "execution_count": null,
      "outputs": []
    },
    {
      "cell_type": "code",
      "metadata": {
        "id": "zsBcBDosSQ85"
      },
      "source": [
        "tr_extended_result_df = ((tr_extended_result - vanilla_result) / vanilla_result) * 100 "
      ],
      "execution_count": null,
      "outputs": []
    },
    {
      "cell_type": "code",
      "metadata": {
        "id": "Tj6_d0EtSS8h"
      },
      "source": [
        "tr_extended_result_df = tr_extended_result_df.round(3)"
      ],
      "execution_count": null,
      "outputs": []
    },
    {
      "cell_type": "code",
      "metadata": {
        "id": "TFh1bo1QAeQA"
      },
      "source": [
        "PoSEntities_extended_result_df"
      ],
      "execution_count": null,
      "outputs": []
    },
    {
      "cell_type": "code",
      "metadata": {
        "id": "K0Smg6SnmvFS"
      },
      "source": [
        "PoSEntities_result_df"
      ],
      "execution_count": null,
      "outputs": []
    },
    {
      "cell_type": "code",
      "metadata": {
        "id": "3QaP7MvrSsiy"
      },
      "source": [
        "gensim_extended_result_df"
      ],
      "execution_count": null,
      "outputs": []
    },
    {
      "cell_type": "code",
      "metadata": {
        "id": "qiaiay5Imyxy"
      },
      "source": [
        "gensim_result_df"
      ],
      "execution_count": null,
      "outputs": []
    },
    {
      "cell_type": "code",
      "metadata": {
        "id": "HaVH8Z4aStjH"
      },
      "source": [
        "rake_extended_result_df"
      ],
      "execution_count": null,
      "outputs": []
    },
    {
      "cell_type": "code",
      "metadata": {
        "id": "QqDC33cwm3uh"
      },
      "source": [
        "rake_result_df"
      ],
      "execution_count": null,
      "outputs": []
    },
    {
      "cell_type": "code",
      "metadata": {
        "id": "JVLXUbYRSrvE"
      },
      "source": [
        "tr_extended_result_df"
      ],
      "execution_count": null,
      "outputs": []
    },
    {
      "cell_type": "code",
      "metadata": {
        "id": "EuRkwkZGm_ur"
      },
      "source": [
        "topicrank_result_df"
      ],
      "execution_count": null,
      "outputs": []
    }
  ]
}