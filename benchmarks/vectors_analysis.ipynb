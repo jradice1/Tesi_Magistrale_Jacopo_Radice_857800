{
  "nbformat": 4,
  "nbformat_minor": 0,
  "metadata": {
    "colab": {
      "name": "vectors_analysis.ipynb",
      "provenance": []
    },
    "kernelspec": {
      "name": "python3",
      "display_name": "Python 3"
    },
    "language_info": {
      "name": "python"
    }
  },
  "cells": [
    {
      "cell_type": "code",
      "metadata": {
        "id": "OdaUIXCIA6n2"
      },
      "source": [
        "from google.colab import drive\n",
        "\n",
        "drive.mount('/content/drive')\n",
        "root_dir = \"/content/drive/My Drive/\"\n",
        "base_dir = root_dir + 'Tesi/downstream/'"
      ],
      "execution_count": null,
      "outputs": []
    },
    {
      "cell_type": "code",
      "metadata": {
        "id": "DJ4tvhcPPg_U"
      },
      "source": [
        "from gensim.models import KeyedVectors\n",
        "from pathlib import Path"
      ],
      "execution_count": null,
      "outputs": []
    },
    {
      "cell_type": "code",
      "metadata": {
        "id": "t_alj9-T-ga2"
      },
      "source": [
        "import numpy as np\n",
        "import pandas as pd"
      ],
      "execution_count": null,
      "outputs": []
    },
    {
      "cell_type": "markdown",
      "metadata": {
        "id": "Qb1o185OZJ-Z"
      },
      "source": [
        "EMBEDDINGS"
      ]
    },
    {
      "cell_type": "code",
      "metadata": {
        "id": "8r3xE_WvTD_Y"
      },
      "source": [
        "vanilla_emb = KeyedVectors.load_word2vec_format(base_dir + 'embeddings/vanillaCCOHA2_embeddings.txt', binary=False)"
      ],
      "execution_count": null,
      "outputs": []
    },
    {
      "cell_type": "code",
      "metadata": {
        "id": "eBmCnk6qLYz0"
      },
      "source": [
        "PE_extended_emb = KeyedVectors.load_word2vec_format(base_dir + 'embeddings/PoS-Ent_CCOHA2_extended_embeddings.txt', binary=False)"
      ],
      "execution_count": null,
      "outputs": []
    },
    {
      "cell_type": "code",
      "metadata": {
        "id": "QQMn9nDQnwR1"
      },
      "source": [
        "PE_emb = KeyedVectors.load_word2vec_format(base_dir + 'embeddings/PoS-Ent_CCOHA2_embeddings.txt', binary=False)"
      ],
      "execution_count": null,
      "outputs": []
    },
    {
      "cell_type": "markdown",
      "metadata": {
        "id": "czJ7u_f_8nfD"
      },
      "source": [
        "## SIMILARITY"
      ]
    },
    {
      "cell_type": "markdown",
      "metadata": {
        "id": "ce-qm2Hitr2f"
      },
      "source": [
        "RARE WORD"
      ]
    },
    {
      "cell_type": "code",
      "metadata": {
        "id": "nb8VGAiCCscM"
      },
      "source": [
        "# disadvantaged\tunderprivileged\t8.14\t"
      ],
      "execution_count": null,
      "outputs": []
    },
    {
      "cell_type": "code",
      "metadata": {
        "id": "K71arcgxC0IC"
      },
      "source": [
        "val = (8.14/10) "
      ],
      "execution_count": null,
      "outputs": []
    },
    {
      "cell_type": "code",
      "metadata": {
        "id": "_QFr2lU7C0ID"
      },
      "source": [
        "val"
      ],
      "execution_count": null,
      "outputs": []
    },
    {
      "cell_type": "code",
      "metadata": {
        "id": "iqSNu5AmC0IE"
      },
      "source": [
        "vanilla_emb.most_similar(positive=[\"disadvantaged\"])"
      ],
      "execution_count": null,
      "outputs": []
    },
    {
      "cell_type": "code",
      "metadata": {
        "id": "3CQP5c5nC0IE"
      },
      "source": [
        "PE_emb.most_similar(positive=[\"disadvantaged\"])"
      ],
      "execution_count": null,
      "outputs": []
    },
    {
      "cell_type": "code",
      "metadata": {
        "id": "Xgsp0R0FC0IF"
      },
      "source": [
        "PE_extended_emb.most_similar(positive=[\"disadvantaged\"])"
      ],
      "execution_count": null,
      "outputs": []
    },
    {
      "cell_type": "code",
      "metadata": {
        "id": "iMFCPcrFC0IF"
      },
      "source": [
        "vanilla_emb.most_similar(positive=[\"underprivileged\"])"
      ],
      "execution_count": null,
      "outputs": []
    },
    {
      "cell_type": "code",
      "metadata": {
        "id": "8zXlV7t3C0IG"
      },
      "source": [
        "PE_emb.most_similar(positive=[\"underprivileged\"])"
      ],
      "execution_count": null,
      "outputs": []
    },
    {
      "cell_type": "code",
      "metadata": {
        "id": "e9G0hzUmC0IH"
      },
      "source": [
        "PE_extended_emb.most_similar(positive=[\"underprivileged\"])"
      ],
      "execution_count": null,
      "outputs": []
    },
    {
      "cell_type": "code",
      "metadata": {
        "id": "OrYXy5I0C0IH"
      },
      "source": [
        "print(\"Vanilla: disadvantaged - underprivileged\", vanilla_emb.similarity(\"disadvantaged\", \"underprivileged\"))"
      ],
      "execution_count": null,
      "outputs": []
    },
    {
      "cell_type": "code",
      "metadata": {
        "id": "ZPVP-dxIC0II"
      },
      "source": [
        "print(\"PoS-Ent: disadvantaged - underprivileged\", PE_emb.similarity(\"disadvantaged\", \"underprivileged\"))"
      ],
      "execution_count": null,
      "outputs": []
    },
    {
      "cell_type": "code",
      "metadata": {
        "id": "Y6PELWeoC0IJ"
      },
      "source": [
        "print(\"PoS-Ent_extended: disadvantaged - underprivileged\", PE_extended_emb.similarity(\"disadvantaged\", \"underprivileged\"))"
      ],
      "execution_count": null,
      "outputs": []
    },
    {
      "cell_type": "code",
      "metadata": {
        "id": "q3mWPZMeCUG-"
      },
      "source": [
        "# reviewers\tcritic\t8.89\t"
      ],
      "execution_count": null,
      "outputs": []
    },
    {
      "cell_type": "code",
      "metadata": {
        "id": "m716SCDZCW29"
      },
      "source": [
        "val = (8.89/10) "
      ],
      "execution_count": null,
      "outputs": []
    },
    {
      "cell_type": "code",
      "metadata": {
        "id": "cM0eIjncCW2-"
      },
      "source": [
        "val"
      ],
      "execution_count": null,
      "outputs": []
    },
    {
      "cell_type": "code",
      "metadata": {
        "id": "jZv7m16BCW2_"
      },
      "source": [
        "vanilla_emb.most_similar(positive=[\"reviewers\"])"
      ],
      "execution_count": null,
      "outputs": []
    },
    {
      "cell_type": "code",
      "metadata": {
        "id": "ZIJzZM-sCW3A"
      },
      "source": [
        "PE_emb.most_similar(positive=[\"reviewers\"])"
      ],
      "execution_count": null,
      "outputs": []
    },
    {
      "cell_type": "code",
      "metadata": {
        "id": "4WW8p32QCW3C"
      },
      "source": [
        "PE_extended_emb.most_similar(positive=[\"reviewers\"])"
      ],
      "execution_count": null,
      "outputs": []
    },
    {
      "cell_type": "code",
      "metadata": {
        "id": "b5C2LXr4CW3C"
      },
      "source": [
        "vanilla_emb.most_similar(positive=[\"critic\"])"
      ],
      "execution_count": null,
      "outputs": []
    },
    {
      "cell_type": "code",
      "metadata": {
        "id": "qI__Cex_CW3D"
      },
      "source": [
        "PE_emb.most_similar(positive=[\"critic\"])"
      ],
      "execution_count": null,
      "outputs": []
    },
    {
      "cell_type": "code",
      "metadata": {
        "id": "jUGOymBeCW3D"
      },
      "source": [
        "PE_extended_emb.most_similar(positive=[\"critic\"])"
      ],
      "execution_count": null,
      "outputs": []
    },
    {
      "cell_type": "code",
      "metadata": {
        "id": "uwQN-UFTCW3E"
      },
      "source": [
        "print(\"Vanilla: reviewers - critic\", vanilla_emb.similarity(\"reviewers\", \"critic\"))"
      ],
      "execution_count": null,
      "outputs": []
    },
    {
      "cell_type": "code",
      "metadata": {
        "id": "20oaNEA7CW3E"
      },
      "source": [
        "print(\"PoS-Ent: reviewers - critic\", PE_emb.similarity(\"reviewers\", \"critic\"))"
      ],
      "execution_count": null,
      "outputs": []
    },
    {
      "cell_type": "code",
      "metadata": {
        "id": "ugbeFyU7CW3F"
      },
      "source": [
        "print(\"PoS-Ent_extended: reviewers - critic\", PE_extended_emb.similarity(\"reviewers\", \"critic\"))"
      ],
      "execution_count": null,
      "outputs": []
    },
    {
      "cell_type": "code",
      "metadata": {
        "id": "-D2swgsSB-Zp"
      },
      "source": [
        "# remarkable\tsignificant\t8.29\t"
      ],
      "execution_count": null,
      "outputs": []
    },
    {
      "cell_type": "code",
      "metadata": {
        "id": "tGNWmdQDCBiz"
      },
      "source": [
        "val = (8.29/10) "
      ],
      "execution_count": null,
      "outputs": []
    },
    {
      "cell_type": "code",
      "metadata": {
        "id": "K9ycmETsCBi0"
      },
      "source": [
        "val"
      ],
      "execution_count": null,
      "outputs": []
    },
    {
      "cell_type": "code",
      "metadata": {
        "id": "8CgO931nCBi0"
      },
      "source": [
        "vanilla_emb.most_similar(positive=[\"remarkable\"])"
      ],
      "execution_count": null,
      "outputs": []
    },
    {
      "cell_type": "code",
      "metadata": {
        "id": "KnYctB3JCBi1"
      },
      "source": [
        "PE_emb.most_similar(positive=[\"remarkable\"])"
      ],
      "execution_count": null,
      "outputs": []
    },
    {
      "cell_type": "code",
      "metadata": {
        "id": "hz3Jkbk0CBi2"
      },
      "source": [
        "PE_extended_emb.most_similar(positive=[\"remarkable\"])"
      ],
      "execution_count": null,
      "outputs": []
    },
    {
      "cell_type": "code",
      "metadata": {
        "id": "Dn4r2HfmCBi2"
      },
      "source": [
        "vanilla_emb.most_similar(positive=[\"significant\"])"
      ],
      "execution_count": null,
      "outputs": []
    },
    {
      "cell_type": "code",
      "metadata": {
        "id": "wb5wV2GzCBi3"
      },
      "source": [
        "PE_emb.most_similar(positive=[\"significant\"])"
      ],
      "execution_count": null,
      "outputs": []
    },
    {
      "cell_type": "code",
      "metadata": {
        "id": "WAHft1KnCBi3"
      },
      "source": [
        "PE_extended_emb.most_similar(positive=[\"significant\"])"
      ],
      "execution_count": null,
      "outputs": []
    },
    {
      "cell_type": "code",
      "metadata": {
        "id": "W9dMeam8CBi4"
      },
      "source": [
        "print(\"Vanilla: remarkable - significant\", vanilla_emb.similarity(\"remarkable\", \"significant\"))"
      ],
      "execution_count": null,
      "outputs": []
    },
    {
      "cell_type": "code",
      "metadata": {
        "id": "h4gt9lVQCBi4"
      },
      "source": [
        "print(\"PoS-Ent: remarkable - significant\", PE_emb.similarity(\"remarkable\", \"significant\"))"
      ],
      "execution_count": null,
      "outputs": []
    },
    {
      "cell_type": "code",
      "metadata": {
        "id": "mYaVeKsJCBi5"
      },
      "source": [
        "print(\"PoS-Ent_extended: remarkable - significant\", PE_extended_emb.similarity(\"remarkable\", \"significant\"))"
      ],
      "execution_count": null,
      "outputs": []
    },
    {
      "cell_type": "code",
      "metadata": {
        "id": "_RESl8fxBa-c"
      },
      "source": [
        "# prescriptions\tmedicine\t9.11"
      ],
      "execution_count": null,
      "outputs": []
    },
    {
      "cell_type": "code",
      "metadata": {
        "id": "VGhVzuAUBdxb"
      },
      "source": [
        "val = (9.11/10) "
      ],
      "execution_count": null,
      "outputs": []
    },
    {
      "cell_type": "code",
      "metadata": {
        "id": "wTBbUHBwBdxc"
      },
      "source": [
        "val"
      ],
      "execution_count": null,
      "outputs": []
    },
    {
      "cell_type": "code",
      "metadata": {
        "id": "mMkK7CusBdxd"
      },
      "source": [
        "vanilla_emb.most_similar(positive=[\"prescriptions\"])"
      ],
      "execution_count": null,
      "outputs": []
    },
    {
      "cell_type": "code",
      "metadata": {
        "id": "AJP1x59vBdxd"
      },
      "source": [
        "PE_emb.most_similar(positive=[\"prescriptions\"])"
      ],
      "execution_count": null,
      "outputs": []
    },
    {
      "cell_type": "code",
      "metadata": {
        "id": "qag8ZN6-Bdxe"
      },
      "source": [
        "PE_extended_emb.most_similar(positive=[\"prescriptions\"])"
      ],
      "execution_count": null,
      "outputs": []
    },
    {
      "cell_type": "code",
      "metadata": {
        "id": "qVPAWXcsBdxe"
      },
      "source": [
        "vanilla_emb.most_similar(positive=[\"medicine\"])"
      ],
      "execution_count": null,
      "outputs": []
    },
    {
      "cell_type": "code",
      "metadata": {
        "id": "ljPYWXIDBdxf"
      },
      "source": [
        "PE_emb.most_similar(positive=[\"medicine\"])"
      ],
      "execution_count": null,
      "outputs": []
    },
    {
      "cell_type": "code",
      "metadata": {
        "id": "Q6-Ir4ZzBdxg"
      },
      "source": [
        "PE_extended_emb.most_similar(positive=[\"medicine\"])"
      ],
      "execution_count": null,
      "outputs": []
    },
    {
      "cell_type": "code",
      "metadata": {
        "id": "P5AuIciKBdxg"
      },
      "source": [
        "print(\"Vanilla: prescriptions - medicine\", vanilla_emb.similarity(\"prescriptions\", \"medicine\"))"
      ],
      "execution_count": null,
      "outputs": []
    },
    {
      "cell_type": "code",
      "metadata": {
        "id": "xsyko045Bdxg"
      },
      "source": [
        "print(\"PoS-Ent: prescriptions - medicine\", PE_emb.similarity(\"prescriptions\", \"medicine\"))"
      ],
      "execution_count": null,
      "outputs": []
    },
    {
      "cell_type": "code",
      "metadata": {
        "id": "jimAa8eIBdxh"
      },
      "source": [
        "print(\"PoS-Ent_extended: prescriptions - medicine\", PE_extended_emb.similarity(\"prescriptions\", \"medicine\"))"
      ],
      "execution_count": null,
      "outputs": []
    },
    {
      "cell_type": "code",
      "metadata": {
        "id": "ab4FaiYS8xZw"
      },
      "source": [
        "# endangerment\thazard\t9.67"
      ],
      "execution_count": null,
      "outputs": []
    },
    {
      "cell_type": "code",
      "metadata": {
        "id": "RugAG21M818g"
      },
      "source": [
        "val = (9.67/10) "
      ],
      "execution_count": null,
      "outputs": []
    },
    {
      "cell_type": "code",
      "metadata": {
        "id": "JBJhHf16818h"
      },
      "source": [
        "val"
      ],
      "execution_count": null,
      "outputs": []
    },
    {
      "cell_type": "code",
      "metadata": {
        "id": "ZMp6AN6q818h"
      },
      "source": [
        "vanilla_emb.most_similar(positive=[\"endangerment\"])"
      ],
      "execution_count": null,
      "outputs": []
    },
    {
      "cell_type": "code",
      "metadata": {
        "id": "5JvV_AMe818i"
      },
      "source": [
        "PE_emb.most_similar(positive=[\"endangerment\"])"
      ],
      "execution_count": null,
      "outputs": []
    },
    {
      "cell_type": "code",
      "metadata": {
        "id": "M0Y2K8h_818j"
      },
      "source": [
        "PE_extended_emb.most_similar(positive=[\"endangerment\"])"
      ],
      "execution_count": null,
      "outputs": []
    },
    {
      "cell_type": "code",
      "metadata": {
        "id": "PVLw5F66818k"
      },
      "source": [
        "vanilla_emb.most_similar(positive=[\"hazard\"])"
      ],
      "execution_count": null,
      "outputs": []
    },
    {
      "cell_type": "code",
      "metadata": {
        "id": "9gT0KrVl818k"
      },
      "source": [
        "PE_emb.most_similar(positive=[\"hazard\"])"
      ],
      "execution_count": null,
      "outputs": []
    },
    {
      "cell_type": "code",
      "metadata": {
        "id": "Uz4aXef1818l"
      },
      "source": [
        "PE_extended_emb.most_similar(positive=[\"hazard\"])"
      ],
      "execution_count": null,
      "outputs": []
    },
    {
      "cell_type": "code",
      "metadata": {
        "id": "8FwX3oAb818m"
      },
      "source": [
        "print(\"Vanilla: endangerment - hazard\", vanilla_emb.similarity(\"endangerment\", \"hazard\"))"
      ],
      "execution_count": null,
      "outputs": []
    },
    {
      "cell_type": "code",
      "metadata": {
        "id": "rGWgODV0818m"
      },
      "source": [
        "print(\"PoS-Ent: endangerment - hazard\", PE_emb.similarity(\"endangerment\", \"hazard\"))"
      ],
      "execution_count": null,
      "outputs": []
    },
    {
      "cell_type": "code",
      "metadata": {
        "id": "nbnX9TkK818o"
      },
      "source": [
        "print(\"PoS-Ent_extended: endangerment - hazard\", PE_extended_emb.similarity(\"endangerment\", \"hazard\"))"
      ],
      "execution_count": null,
      "outputs": []
    },
    {
      "cell_type": "markdown",
      "metadata": {
        "id": "1clFIfcwtqPl"
      },
      "source": [
        "SIMLEX999"
      ]
    },
    {
      "cell_type": "code",
      "metadata": {
        "id": "yr4t96iF7UYG"
      },
      "source": [
        "# achieve\ttry\t4.42"
      ],
      "execution_count": null,
      "outputs": []
    },
    {
      "cell_type": "code",
      "metadata": {
        "id": "KPowhyWS7YP-"
      },
      "source": [
        "val = (4.42/10) "
      ],
      "execution_count": null,
      "outputs": []
    },
    {
      "cell_type": "code",
      "metadata": {
        "id": "ZQc2OXno7YP-"
      },
      "source": [
        "val"
      ],
      "execution_count": null,
      "outputs": []
    },
    {
      "cell_type": "code",
      "metadata": {
        "id": "cY8JxiHw7YP_"
      },
      "source": [
        "vanilla_emb.most_similar(positive=[\"achieve\"])"
      ],
      "execution_count": null,
      "outputs": []
    },
    {
      "cell_type": "code",
      "metadata": {
        "id": "DUuoshyR7YQA"
      },
      "source": [
        "PE_emb.most_similar(positive=[\"achieve\"])"
      ],
      "execution_count": null,
      "outputs": []
    },
    {
      "cell_type": "code",
      "metadata": {
        "id": "hX4_G2Xo7YQA"
      },
      "source": [
        "PE_extended_emb.most_similar(positive=[\"achieve\"])"
      ],
      "execution_count": null,
      "outputs": []
    },
    {
      "cell_type": "code",
      "metadata": {
        "id": "PTJFXNo17YQB"
      },
      "source": [
        "vanilla_emb.most_similar(positive=[\"try\"])"
      ],
      "execution_count": null,
      "outputs": []
    },
    {
      "cell_type": "code",
      "metadata": {
        "id": "AipBNlfI7YQC"
      },
      "source": [
        "PE_emb.most_similar(positive=[\"try\"])"
      ],
      "execution_count": null,
      "outputs": []
    },
    {
      "cell_type": "code",
      "metadata": {
        "id": "W1X87nCO7YQD"
      },
      "source": [
        "PE_extended_emb.most_similar(positive=[\"try\"])"
      ],
      "execution_count": null,
      "outputs": []
    },
    {
      "cell_type": "code",
      "metadata": {
        "id": "bqN-qpRu7YQD"
      },
      "source": [
        "print(\"Vanilla: achieve - try\", vanilla_emb.similarity(\"achieve\", \"try\"))"
      ],
      "execution_count": null,
      "outputs": []
    },
    {
      "cell_type": "code",
      "metadata": {
        "id": "jAv80ggF7YQE"
      },
      "source": [
        "print(\"PoS-Ent: achieve - try\", PE_emb.similarity(\"achieve\", \"try\"))"
      ],
      "execution_count": null,
      "outputs": []
    },
    {
      "cell_type": "code",
      "metadata": {
        "id": "DQsdi5fO7YQF"
      },
      "source": [
        "print(\"PoS-Ent_extended: achieve - try\", PE_extended_emb.similarity(\"achieve\", \"try\"))"
      ],
      "execution_count": null,
      "outputs": []
    },
    {
      "cell_type": "code",
      "metadata": {
        "id": "NRTQm2av62Nz"
      },
      "source": [
        "# movie\tfilm 8.87\t"
      ],
      "execution_count": null,
      "outputs": []
    },
    {
      "cell_type": "code",
      "metadata": {
        "id": "AngliRuw65W0"
      },
      "source": [
        "val = (8.87/10) "
      ],
      "execution_count": null,
      "outputs": []
    },
    {
      "cell_type": "code",
      "metadata": {
        "id": "lBcPKmhC65W1"
      },
      "source": [
        "val"
      ],
      "execution_count": null,
      "outputs": []
    },
    {
      "cell_type": "code",
      "metadata": {
        "id": "hD_dh5AU65W1"
      },
      "source": [
        "vanilla_emb.most_similar(positive=[\"movie\"])"
      ],
      "execution_count": null,
      "outputs": []
    },
    {
      "cell_type": "code",
      "metadata": {
        "id": "Di3cyhVI65W2"
      },
      "source": [
        "PE_emb.most_similar(positive=[\"movie\"])"
      ],
      "execution_count": null,
      "outputs": []
    },
    {
      "cell_type": "code",
      "metadata": {
        "id": "zgTQqNjh65W2"
      },
      "source": [
        "PE_extended_emb.most_similar(positive=[\"movie\"])"
      ],
      "execution_count": null,
      "outputs": []
    },
    {
      "cell_type": "code",
      "metadata": {
        "id": "4JY5_rsc65W3"
      },
      "source": [
        "vanilla_emb.most_similar(positive=[\"film\"])"
      ],
      "execution_count": null,
      "outputs": []
    },
    {
      "cell_type": "code",
      "metadata": {
        "id": "ZRYC26cq65W4"
      },
      "source": [
        "PE_emb.most_similar(positive=[\"film\"])"
      ],
      "execution_count": null,
      "outputs": []
    },
    {
      "cell_type": "code",
      "metadata": {
        "id": "i6Oi3nq565W4"
      },
      "source": [
        "PE_extended_emb.most_similar(positive=[\"film\"])"
      ],
      "execution_count": null,
      "outputs": []
    },
    {
      "cell_type": "code",
      "metadata": {
        "id": "tdQI6h6o65W5"
      },
      "source": [
        "print(\"Vanilla: movie - film\", vanilla_emb.similarity(\"movie\", \"film\"))"
      ],
      "execution_count": null,
      "outputs": []
    },
    {
      "cell_type": "code",
      "metadata": {
        "id": "5BY1Df0665W5"
      },
      "source": [
        "print(\"PoS-Ent: movie - film\", PE_emb.similarity(\"movie\", \"film\"))"
      ],
      "execution_count": null,
      "outputs": []
    },
    {
      "cell_type": "code",
      "metadata": {
        "id": "5smQHdlX65W7"
      },
      "source": [
        "print(\"PoS-Ent_extended: movie - film\", PE_extended_emb.similarity(\"movie\", \"film\"))"
      ],
      "execution_count": null,
      "outputs": []
    },
    {
      "cell_type": "code",
      "metadata": {
        "id": "48x1jfiP47m8"
      },
      "source": [
        "# violent\tangry\t6.98"
      ],
      "execution_count": null,
      "outputs": []
    },
    {
      "cell_type": "code",
      "metadata": {
        "id": "Q4fbWDsD5BPs"
      },
      "source": [
        "val = (6.98/10) "
      ],
      "execution_count": null,
      "outputs": []
    },
    {
      "cell_type": "code",
      "metadata": {
        "id": "tRBMP7ey5BPt"
      },
      "source": [
        "val"
      ],
      "execution_count": null,
      "outputs": []
    },
    {
      "cell_type": "code",
      "metadata": {
        "id": "-mnLg_oP5BPu"
      },
      "source": [
        "vanilla_emb.most_similar(positive=[\"violent\"])"
      ],
      "execution_count": null,
      "outputs": []
    },
    {
      "cell_type": "code",
      "metadata": {
        "id": "jZT3Ny1M5BPv"
      },
      "source": [
        "PE_emb.most_similar(positive=[\"violent\"])"
      ],
      "execution_count": null,
      "outputs": []
    },
    {
      "cell_type": "code",
      "metadata": {
        "id": "84UtFc-S5BPw"
      },
      "source": [
        "PE_extended_emb.most_similar(positive=[\"violent\"])"
      ],
      "execution_count": null,
      "outputs": []
    },
    {
      "cell_type": "code",
      "metadata": {
        "id": "Vy4bVe3J5BPx"
      },
      "source": [
        "vanilla_emb.most_similar(positive=[\"angry\"])"
      ],
      "execution_count": null,
      "outputs": []
    },
    {
      "cell_type": "code",
      "metadata": {
        "id": "nuwwb_lD5BPx"
      },
      "source": [
        "PE_emb.most_similar(positive=[\"angry\"])"
      ],
      "execution_count": null,
      "outputs": []
    },
    {
      "cell_type": "code",
      "metadata": {
        "id": "MPl79kK_5BPy"
      },
      "source": [
        "PE_extended_emb.most_similar(positive=[\"angry\"])"
      ],
      "execution_count": null,
      "outputs": []
    },
    {
      "cell_type": "code",
      "metadata": {
        "id": "E6N5lLRS5BPz"
      },
      "source": [
        "print(\"Vanilla: violent - angry\", vanilla_emb.similarity(\"violent\", \"angry\"))"
      ],
      "execution_count": null,
      "outputs": []
    },
    {
      "cell_type": "code",
      "metadata": {
        "id": "HlgeCY4t5BP0"
      },
      "source": [
        "print(\"PoS-Ent: violent - angry\", PE_emb.similarity(\"violent\", \"angry\"))"
      ],
      "execution_count": null,
      "outputs": []
    },
    {
      "cell_type": "code",
      "metadata": {
        "id": "_3QGiGQN5BP1"
      },
      "source": [
        "print(\"PoS-Ent_extended: violent - angry\", PE_extended_emb.similarity(\"violent\", \"angry\"))"
      ],
      "execution_count": null,
      "outputs": []
    },
    {
      "cell_type": "code",
      "metadata": {
        "id": "w4Kb4PNG4OYl"
      },
      "source": [
        "# bizarre\tstrange\t9.37\t"
      ],
      "execution_count": null,
      "outputs": []
    },
    {
      "cell_type": "code",
      "metadata": {
        "id": "Uf61ZwxI4RSQ"
      },
      "source": [
        "val = (9.37/10) "
      ],
      "execution_count": null,
      "outputs": []
    },
    {
      "cell_type": "code",
      "metadata": {
        "id": "IWoNoA6f4RSR"
      },
      "source": [
        "val"
      ],
      "execution_count": null,
      "outputs": []
    },
    {
      "cell_type": "code",
      "metadata": {
        "id": "4AecNxK-4RSR"
      },
      "source": [
        "vanilla_emb.most_similar(positive=[\"bizarre\"])"
      ],
      "execution_count": null,
      "outputs": []
    },
    {
      "cell_type": "code",
      "metadata": {
        "id": "0PddR9sd4RSS"
      },
      "source": [
        "PE_emb.most_similar(positive=[\"bizarre\"])"
      ],
      "execution_count": null,
      "outputs": []
    },
    {
      "cell_type": "code",
      "metadata": {
        "id": "bVnYH31k4RST"
      },
      "source": [
        "PE_extended_emb.most_similar(positive=[\"bizarre\"])"
      ],
      "execution_count": null,
      "outputs": []
    },
    {
      "cell_type": "code",
      "metadata": {
        "id": "hf2qn_dV4RST"
      },
      "source": [
        "vanilla_emb.most_similar(positive=[\"strange\"])"
      ],
      "execution_count": null,
      "outputs": []
    },
    {
      "cell_type": "code",
      "metadata": {
        "id": "0oq45QSa4RSU"
      },
      "source": [
        "PE_emb.most_similar(positive=[\"strange\"])"
      ],
      "execution_count": null,
      "outputs": []
    },
    {
      "cell_type": "code",
      "metadata": {
        "id": "rSSTnHIT4RSU"
      },
      "source": [
        "PE_extended_emb.most_similar(positive=[\"strange\"])"
      ],
      "execution_count": null,
      "outputs": []
    },
    {
      "cell_type": "code",
      "metadata": {
        "id": "CNwr9w8P4RSV"
      },
      "source": [
        "print(\"Vanilla: bizarre - strange\", vanilla_emb.similarity(\"bizarre\", \"strange\"))"
      ],
      "execution_count": null,
      "outputs": []
    },
    {
      "cell_type": "code",
      "metadata": {
        "id": "jn_nqyle4RSX"
      },
      "source": [
        "print(\"PoS-Ent: bizarre - strange\", PE_emb.similarity(\"bizarre\", \"strange\"))"
      ],
      "execution_count": null,
      "outputs": []
    },
    {
      "cell_type": "code",
      "metadata": {
        "id": "5I3yk8Go4RSX"
      },
      "source": [
        "print(\"PoS-Ent_extended: bizarre - strange\", PE_extended_emb.similarity(\"bizarre\", \"strange\"))"
      ],
      "execution_count": null,
      "outputs": []
    },
    {
      "cell_type": "code",
      "metadata": {
        "id": "BJyZKwye3uvI"
      },
      "source": [
        "# crucial\timportant\t8.82"
      ],
      "execution_count": null,
      "outputs": []
    },
    {
      "cell_type": "code",
      "metadata": {
        "id": "ZvzMAGv43zT7"
      },
      "source": [
        "val = (8.82/10) "
      ],
      "execution_count": null,
      "outputs": []
    },
    {
      "cell_type": "code",
      "metadata": {
        "id": "IYuNHQyx3zT8"
      },
      "source": [
        "val"
      ],
      "execution_count": null,
      "outputs": []
    },
    {
      "cell_type": "code",
      "metadata": {
        "id": "jNycpo423zT-"
      },
      "source": [
        "vanilla_emb.most_similar(positive=[\"crucial\"])"
      ],
      "execution_count": null,
      "outputs": []
    },
    {
      "cell_type": "code",
      "metadata": {
        "id": "ZSkC2TQM3zT-"
      },
      "source": [
        "PE_emb.most_similar(positive=[\"crucial\"])"
      ],
      "execution_count": null,
      "outputs": []
    },
    {
      "cell_type": "code",
      "metadata": {
        "id": "unYzhjAr3zT-"
      },
      "source": [
        "PE_extended_emb.most_similar(positive=[\"crucial\"])"
      ],
      "execution_count": null,
      "outputs": []
    },
    {
      "cell_type": "code",
      "metadata": {
        "id": "yy8oYmJt3zUA"
      },
      "source": [
        "vanilla_emb.most_similar(positive=[\"important\"])"
      ],
      "execution_count": null,
      "outputs": []
    },
    {
      "cell_type": "code",
      "metadata": {
        "id": "1WgdHnGl3zUA"
      },
      "source": [
        "PE_emb.most_similar(positive=[\"important\"])"
      ],
      "execution_count": null,
      "outputs": []
    },
    {
      "cell_type": "code",
      "metadata": {
        "id": "PSGX-sGT3zUB"
      },
      "source": [
        "PE_extended_emb.most_similar(positive=[\"important\"])"
      ],
      "execution_count": null,
      "outputs": []
    },
    {
      "cell_type": "code",
      "metadata": {
        "id": "GOQ9xyMM3zUC"
      },
      "source": [
        "print(\"Vanilla: crucial - important\", vanilla_emb.similarity(\"crucial\", \"important\"))"
      ],
      "execution_count": null,
      "outputs": []
    },
    {
      "cell_type": "code",
      "metadata": {
        "id": "DtCWdZg23zUD"
      },
      "source": [
        "print(\"PoS-Ent: crucial - important\", PE_emb.similarity(\"crucial\", \"important\"))"
      ],
      "execution_count": null,
      "outputs": []
    },
    {
      "cell_type": "code",
      "metadata": {
        "id": "ob4DA0NQ3zUE"
      },
      "source": [
        "print(\"PoS-Ent_extended: crucial - important\", PE_extended_emb.similarity(\"crucial\", \"important\"))"
      ],
      "execution_count": null,
      "outputs": []
    },
    {
      "cell_type": "markdown",
      "metadata": {
        "id": "IZ33HT6DqH8h"
      },
      "source": [
        "MEN"
      ]
    },
    {
      "cell_type": "code",
      "metadata": {
        "id": "2eDO-fW9sxir"
      },
      "source": [
        "# cathedral ruin 23.000000 MEN"
      ],
      "execution_count": null,
      "outputs": []
    },
    {
      "cell_type": "code",
      "metadata": {
        "id": "xGvgVd0Ns1CZ"
      },
      "source": [
        "val = (23.000000/50) "
      ],
      "execution_count": null,
      "outputs": []
    },
    {
      "cell_type": "code",
      "metadata": {
        "id": "-lNxbIhhs1Ca"
      },
      "source": [
        "val"
      ],
      "execution_count": null,
      "outputs": []
    },
    {
      "cell_type": "code",
      "metadata": {
        "id": "2vAQXYNns1Cb"
      },
      "source": [
        "vanilla_emb.most_similar(positive=[\"cathedral\"])"
      ],
      "execution_count": null,
      "outputs": []
    },
    {
      "cell_type": "code",
      "metadata": {
        "id": "UdX3jw_ls1Cc"
      },
      "source": [
        "PE_emb.most_similar(positive=[\"cathedral\"])"
      ],
      "execution_count": null,
      "outputs": []
    },
    {
      "cell_type": "code",
      "metadata": {
        "id": "wrmiSleks1Cd"
      },
      "source": [
        "PE_extended_emb.most_similar(positive=[\"cathedral\"])"
      ],
      "execution_count": null,
      "outputs": []
    },
    {
      "cell_type": "code",
      "metadata": {
        "id": "aJmXEb-Ts1Ce"
      },
      "source": [
        "vanilla_emb.most_similar(positive=[\"ruin\"])"
      ],
      "execution_count": null,
      "outputs": []
    },
    {
      "cell_type": "code",
      "metadata": {
        "id": "u7tflTbqs1Ce"
      },
      "source": [
        "PE_emb.most_similar(positive=[\"ruin\"])"
      ],
      "execution_count": null,
      "outputs": []
    },
    {
      "cell_type": "code",
      "metadata": {
        "id": "Fwg9pCjas1Ce"
      },
      "source": [
        "PE_extended_emb.most_similar(positive=[\"ruin\"])"
      ],
      "execution_count": null,
      "outputs": []
    },
    {
      "cell_type": "code",
      "metadata": {
        "id": "V297EaoWs1Cg"
      },
      "source": [
        "print(\"Vanilla: cathedral - ruin\", vanilla_emb.similarity(\"cathedral\", \"ruin\"))"
      ],
      "execution_count": null,
      "outputs": []
    },
    {
      "cell_type": "code",
      "metadata": {
        "id": "vbBQnB0ks1Cg"
      },
      "source": [
        "print(\"PoS-Ent: cathedral - ruin\", PE_emb.similarity(\"cathedral\", \"ruin\"))"
      ],
      "execution_count": null,
      "outputs": []
    },
    {
      "cell_type": "code",
      "metadata": {
        "id": "y6n0PJ1Ws1Ch"
      },
      "source": [
        "print(\"PoS-Ent_extended: cathedral - ruin\", PE_extended_emb.similarity(\"cathedral\", \"ruin\"))"
      ],
      "execution_count": null,
      "outputs": []
    },
    {
      "cell_type": "code",
      "metadata": {
        "id": "eqN-w5mAsReA"
      },
      "source": [
        "# jazz musician 44.000000 MEN"
      ],
      "execution_count": null,
      "outputs": []
    },
    {
      "cell_type": "code",
      "metadata": {
        "id": "e2QoFULLsZJa"
      },
      "source": [
        "val = (44.000000/50) "
      ],
      "execution_count": null,
      "outputs": []
    },
    {
      "cell_type": "code",
      "metadata": {
        "id": "FGKb9-99sZJb"
      },
      "source": [
        "val"
      ],
      "execution_count": null,
      "outputs": []
    },
    {
      "cell_type": "code",
      "metadata": {
        "id": "T0Q_4YGAsZJb"
      },
      "source": [
        "vanilla_emb.most_similar(positive=[\"jazz\"])"
      ],
      "execution_count": null,
      "outputs": []
    },
    {
      "cell_type": "code",
      "metadata": {
        "id": "meZ3THxssZJc"
      },
      "source": [
        "PE_emb.most_similar(positive=[\"jazz\"])"
      ],
      "execution_count": null,
      "outputs": []
    },
    {
      "cell_type": "code",
      "metadata": {
        "id": "ZPAwkpkdsZJc"
      },
      "source": [
        "PE_extended_emb.most_similar(positive=[\"jazz\"])"
      ],
      "execution_count": null,
      "outputs": []
    },
    {
      "cell_type": "code",
      "metadata": {
        "id": "ZD5B7td1sZJd"
      },
      "source": [
        "vanilla_emb.most_similar(positive=[\"musician\"])"
      ],
      "execution_count": null,
      "outputs": []
    },
    {
      "cell_type": "code",
      "metadata": {
        "id": "jI0y4ouTsZJe"
      },
      "source": [
        "PE_emb.most_similar(positive=[\"musician\"])"
      ],
      "execution_count": null,
      "outputs": []
    },
    {
      "cell_type": "code",
      "metadata": {
        "id": "yBMHaGG6sZJf"
      },
      "source": [
        "PE_extended_emb.most_similar(positive=[\"musician\"])"
      ],
      "execution_count": null,
      "outputs": []
    },
    {
      "cell_type": "code",
      "metadata": {
        "id": "X8KDFgbdsZJg"
      },
      "source": [
        "print(\"Vanilla: jazz - musician\", vanilla_emb.similarity(\"jazz\", \"musician\"))"
      ],
      "execution_count": null,
      "outputs": []
    },
    {
      "cell_type": "code",
      "metadata": {
        "id": "23f1yRg2sZJg"
      },
      "source": [
        "print(\"PoS-Ent: jazz - musician\", PE_emb.similarity(\"jazz\", \"musician\"))"
      ],
      "execution_count": null,
      "outputs": []
    },
    {
      "cell_type": "code",
      "metadata": {
        "id": "8XnZ8vtDsZJh"
      },
      "source": [
        "print(\"PoS-Ent_extended: jazz - musician\", PE_extended_emb.similarity(\"jazz\", \"musician\"))"
      ],
      "execution_count": null,
      "outputs": []
    },
    {
      "cell_type": "code",
      "metadata": {
        "id": "Rx8uXPU8rYO-"
      },
      "source": [
        "# cow milk 45.000000 MEN"
      ],
      "execution_count": null,
      "outputs": []
    },
    {
      "cell_type": "code",
      "metadata": {
        "id": "6wIf4f90rdKT"
      },
      "source": [
        "val = (45.000000/50) "
      ],
      "execution_count": null,
      "outputs": []
    },
    {
      "cell_type": "code",
      "metadata": {
        "id": "K-BG1tfxrdKU"
      },
      "source": [
        "val"
      ],
      "execution_count": null,
      "outputs": []
    },
    {
      "cell_type": "code",
      "metadata": {
        "id": "iQ5moEARrdKV"
      },
      "source": [
        "vanilla_emb.most_similar(positive=[\"cow\"])"
      ],
      "execution_count": null,
      "outputs": []
    },
    {
      "cell_type": "code",
      "metadata": {
        "id": "ifPFdI01rdKW"
      },
      "source": [
        "PE_emb.most_similar(positive=[\"cow\"])"
      ],
      "execution_count": null,
      "outputs": []
    },
    {
      "cell_type": "code",
      "metadata": {
        "id": "yg5wC77MrdKW"
      },
      "source": [
        "PE_extended_emb.most_similar(positive=[\"cow\"])"
      ],
      "execution_count": null,
      "outputs": []
    },
    {
      "cell_type": "code",
      "metadata": {
        "id": "GmCXPViordKX"
      },
      "source": [
        "vanilla_emb.most_similar(positive=[\"milk\"])"
      ],
      "execution_count": null,
      "outputs": []
    },
    {
      "cell_type": "code",
      "metadata": {
        "id": "Z4Uetk5prdKY"
      },
      "source": [
        "PE_emb.most_similar(positive=[\"milk\"])"
      ],
      "execution_count": null,
      "outputs": []
    },
    {
      "cell_type": "code",
      "metadata": {
        "id": "CbdelW3xrdKY"
      },
      "source": [
        "PE_extended_emb.most_similar(positive=[\"milk\"])"
      ],
      "execution_count": null,
      "outputs": []
    },
    {
      "cell_type": "code",
      "metadata": {
        "id": "jEdSkVgLrdKZ"
      },
      "source": [
        "print(\"Vanilla: cow - milk\", vanilla_emb.similarity(\"cow\", \"milk\"))"
      ],
      "execution_count": null,
      "outputs": []
    },
    {
      "cell_type": "code",
      "metadata": {
        "id": "zjsJmLi0rdKa"
      },
      "source": [
        "print(\"PoS-Ent: cow - milk\", PE_emb.similarity(\"cow\", \"milk\"))"
      ],
      "execution_count": null,
      "outputs": []
    },
    {
      "cell_type": "code",
      "metadata": {
        "id": "OFh0Fa6ZrdKc"
      },
      "source": [
        "print(\"PoS-Ent_extended: cow - milk\", PE_extended_emb.similarity(\"cow\", \"milk\"))"
      ],
      "execution_count": null,
      "outputs": []
    },
    {
      "cell_type": "code",
      "metadata": {
        "id": "-lVAFm0Aq0HY"
      },
      "source": [
        "# parrot pelican 37.000000 MEN"
      ],
      "execution_count": null,
      "outputs": []
    },
    {
      "cell_type": "code",
      "metadata": {
        "id": "G7VsUPzOq4GH"
      },
      "source": [
        "val = (37.000000/50) "
      ],
      "execution_count": null,
      "outputs": []
    },
    {
      "cell_type": "code",
      "metadata": {
        "id": "Y1r_3YRwq4GI"
      },
      "source": [
        "val"
      ],
      "execution_count": null,
      "outputs": []
    },
    {
      "cell_type": "code",
      "metadata": {
        "id": "mUINDLwrq4GL"
      },
      "source": [
        "vanilla_emb.most_similar(positive=[\"parrot\"])"
      ],
      "execution_count": null,
      "outputs": []
    },
    {
      "cell_type": "code",
      "metadata": {
        "id": "Vr3IJdP6q4GM"
      },
      "source": [
        "PE_emb.most_similar(positive=[\"parrot\"])"
      ],
      "execution_count": null,
      "outputs": []
    },
    {
      "cell_type": "code",
      "metadata": {
        "id": "Z-7i5JWYq4GN"
      },
      "source": [
        "PE_extended_emb.most_similar(positive=[\"parrot\"])"
      ],
      "execution_count": null,
      "outputs": []
    },
    {
      "cell_type": "code",
      "metadata": {
        "id": "qwxi0_-6q4GO"
      },
      "source": [
        "vanilla_emb.most_similar(positive=[\"pelican\"])"
      ],
      "execution_count": null,
      "outputs": []
    },
    {
      "cell_type": "code",
      "metadata": {
        "id": "_gigrLCbq4GP"
      },
      "source": [
        "PE_emb.most_similar(positive=[\"pelican\"])"
      ],
      "execution_count": null,
      "outputs": []
    },
    {
      "cell_type": "code",
      "metadata": {
        "id": "8KkNDLkqq4GQ"
      },
      "source": [
        "PE_extended_emb.most_similar(positive=[\"pelican\"])"
      ],
      "execution_count": null,
      "outputs": []
    },
    {
      "cell_type": "code",
      "metadata": {
        "id": "DACnua-3q4GR"
      },
      "source": [
        "print(\"Vanilla: parrot - pelican\", vanilla_emb.similarity(\"parrot\", \"pelican\"))"
      ],
      "execution_count": null,
      "outputs": []
    },
    {
      "cell_type": "code",
      "metadata": {
        "id": "y34QcKiAq4GS"
      },
      "source": [
        "print(\"PoS-Ent: parrot - pelican\", PE_emb.similarity(\"parrot\", \"pelican\"))"
      ],
      "execution_count": null,
      "outputs": []
    },
    {
      "cell_type": "code",
      "metadata": {
        "id": "BgLjpptMq4GU"
      },
      "source": [
        "print(\"PoS-Ent_extended: parrot - pelican\", PE_extended_emb.similarity(\"parrot\", \"pelican\"))"
      ],
      "execution_count": null,
      "outputs": []
    },
    {
      "cell_type": "code",
      "metadata": {
        "id": "D-kQ8xZhqIrJ"
      },
      "source": [
        "# flower garden 48.000000 MEN"
      ],
      "execution_count": null,
      "outputs": []
    },
    {
      "cell_type": "code",
      "metadata": {
        "id": "Sdk6e1_bqTXz"
      },
      "source": [
        "val = (48.000000/50) "
      ],
      "execution_count": null,
      "outputs": []
    },
    {
      "cell_type": "code",
      "metadata": {
        "id": "GNFuN-mFqTX0"
      },
      "source": [
        "val"
      ],
      "execution_count": null,
      "outputs": []
    },
    {
      "cell_type": "code",
      "metadata": {
        "id": "mGsveBnjqTX0"
      },
      "source": [
        "vanilla_emb.most_similar(positive=[\"flower\"])"
      ],
      "execution_count": null,
      "outputs": []
    },
    {
      "cell_type": "code",
      "metadata": {
        "id": "P8jTjQeuqTX1"
      },
      "source": [
        "PE_emb.most_similar(positive=[\"flower\"])"
      ],
      "execution_count": null,
      "outputs": []
    },
    {
      "cell_type": "code",
      "metadata": {
        "id": "NJ5LQUVoqTX1"
      },
      "source": [
        "PE_extended_emb.most_similar(positive=[\"flower\"])"
      ],
      "execution_count": null,
      "outputs": []
    },
    {
      "cell_type": "code",
      "metadata": {
        "id": "OrCMlGgFqTX3"
      },
      "source": [
        "vanilla_emb.most_similar(positive=[\"garden\"])"
      ],
      "execution_count": null,
      "outputs": []
    },
    {
      "cell_type": "code",
      "metadata": {
        "id": "gElbtdw4qTX4"
      },
      "source": [
        "PE_emb.most_similar(positive=[\"garden\"])"
      ],
      "execution_count": null,
      "outputs": []
    },
    {
      "cell_type": "code",
      "metadata": {
        "id": "-dRb9_AaqTX4"
      },
      "source": [
        "PE_extended_emb.most_similar(positive=[\"garden\"])"
      ],
      "execution_count": null,
      "outputs": []
    },
    {
      "cell_type": "code",
      "metadata": {
        "id": "JMm9pRQyqTX5"
      },
      "source": [
        "print(\"Vanilla: flower - garden\", vanilla_emb.similarity(\"flower\", \"garden\"))"
      ],
      "execution_count": null,
      "outputs": []
    },
    {
      "cell_type": "code",
      "metadata": {
        "id": "HsM-qwd6qTX6"
      },
      "source": [
        "print(\"PoS-Ent: flower - garden\", PE_emb.similarity(\"flower\", \"garden\"))"
      ],
      "execution_count": null,
      "outputs": []
    },
    {
      "cell_type": "code",
      "metadata": {
        "id": "iUuj1ekSqTX6"
      },
      "source": [
        "print(\"PoS-Ent_extended: flower - garden\", PE_extended_emb.similarity(\"flower\", \"garden\"))"
      ],
      "execution_count": null,
      "outputs": []
    },
    {
      "cell_type": "markdown",
      "metadata": {
        "id": "bK8Tbpuhox6b"
      },
      "source": [
        "MTURK"
      ]
    },
    {
      "cell_type": "code",
      "metadata": {
        "id": "-e5ZS_p2ieVQ"
      },
      "source": [
        "# scotch liquor 4.571428571 MTurk"
      ],
      "execution_count": null,
      "outputs": []
    },
    {
      "cell_type": "code",
      "metadata": {
        "id": "_h1vnTfLjEXE"
      },
      "source": [
        "val = (4.571428571/5) "
      ],
      "execution_count": null,
      "outputs": []
    },
    {
      "cell_type": "code",
      "metadata": {
        "id": "dqQ1nOkSjLk5"
      },
      "source": [
        "val"
      ],
      "execution_count": null,
      "outputs": []
    },
    {
      "cell_type": "code",
      "metadata": {
        "id": "lchaMBLtijgA"
      },
      "source": [
        "vanilla_emb.most_similar(positive=[\"scotch\"])"
      ],
      "execution_count": null,
      "outputs": []
    },
    {
      "cell_type": "code",
      "metadata": {
        "id": "oHg6duHlijgB"
      },
      "source": [
        "PE_emb.most_similar(positive=[\"scotch\"])"
      ],
      "execution_count": null,
      "outputs": []
    },
    {
      "cell_type": "code",
      "metadata": {
        "id": "gLg5RVGsijgC"
      },
      "source": [
        "PE_extended_emb.most_similar(positive=[\"scotch\"])"
      ],
      "execution_count": null,
      "outputs": []
    },
    {
      "cell_type": "code",
      "metadata": {
        "id": "cv92rKo3ijgD"
      },
      "source": [
        "vanilla_emb.most_similar(positive=[\"liquor\"])"
      ],
      "execution_count": null,
      "outputs": []
    },
    {
      "cell_type": "code",
      "metadata": {
        "id": "87pbSW6vijgD"
      },
      "source": [
        "PE_emb.most_similar(positive=[\"liquor\"])"
      ],
      "execution_count": null,
      "outputs": []
    },
    {
      "cell_type": "code",
      "metadata": {
        "id": "xNZ8rKQLijgE"
      },
      "source": [
        "PE_extended_emb.most_similar(positive=[\"liquor\"])"
      ],
      "execution_count": null,
      "outputs": []
    },
    {
      "cell_type": "code",
      "metadata": {
        "id": "Z7N9tYsfijgF"
      },
      "source": [
        "print(\"Vanilla: scotch - liquor\", vanilla_emb.similarity(\"scotch\", \"liquor\"))"
      ],
      "execution_count": null,
      "outputs": []
    },
    {
      "cell_type": "code",
      "metadata": {
        "id": "YEa9R3K-ijgG"
      },
      "source": [
        "print(\"PoS-Ent: scotch - liquor\", PE_emb.similarity(\"scotch\", \"liquor\"))"
      ],
      "execution_count": null,
      "outputs": []
    },
    {
      "cell_type": "code",
      "metadata": {
        "id": "pnL7kBXaijgH"
      },
      "source": [
        "print(\"PoS-Ent_extended: scotch - liquor\", PE_extended_emb.similarity(\"scotch\", \"liquor\"))"
      ],
      "execution_count": null,
      "outputs": []
    },
    {
      "cell_type": "code",
      "metadata": {
        "id": "E1OqIX4fj0Xa"
      },
      "source": [
        "# summer winter 4.375 MTurk"
      ],
      "execution_count": null,
      "outputs": []
    },
    {
      "cell_type": "code",
      "metadata": {
        "id": "Q_8DihKJj3Le"
      },
      "source": [
        "val = (4.375/5) "
      ],
      "execution_count": null,
      "outputs": []
    },
    {
      "cell_type": "code",
      "metadata": {
        "id": "luEuLuXxj3Lf"
      },
      "source": [
        "val"
      ],
      "execution_count": null,
      "outputs": []
    },
    {
      "cell_type": "code",
      "metadata": {
        "id": "CetV1s1zj3Lg"
      },
      "source": [
        "vanilla_emb.most_similar(positive=[\"summer\"])"
      ],
      "execution_count": null,
      "outputs": []
    },
    {
      "cell_type": "code",
      "metadata": {
        "id": "qAnSlonYj3Lh"
      },
      "source": [
        "PE_emb.most_similar(positive=[\"summer\"])"
      ],
      "execution_count": null,
      "outputs": []
    },
    {
      "cell_type": "code",
      "metadata": {
        "id": "p5LyBugrj3Li"
      },
      "source": [
        "PE_extended_emb.most_similar(positive=[\"summer\"])"
      ],
      "execution_count": null,
      "outputs": []
    },
    {
      "cell_type": "code",
      "metadata": {
        "id": "2t015UE-j3Li"
      },
      "source": [
        "vanilla_emb.most_similar(positive=[\"winter\"])"
      ],
      "execution_count": null,
      "outputs": []
    },
    {
      "cell_type": "code",
      "metadata": {
        "id": "tQrgySLvj3Li"
      },
      "source": [
        "PE_emb.most_similar(positive=[\"winter\"])"
      ],
      "execution_count": null,
      "outputs": []
    },
    {
      "cell_type": "code",
      "metadata": {
        "id": "tSRPbSKij3Lj"
      },
      "source": [
        "PE_extended_emb.most_similar(positive=[\"winter\"])"
      ],
      "execution_count": null,
      "outputs": []
    },
    {
      "cell_type": "code",
      "metadata": {
        "id": "mZz8JGtEj3Lj"
      },
      "source": [
        "print(\"Vanilla: summer - winter\", vanilla_emb.similarity(\"summer\", \"winter\"))"
      ],
      "execution_count": null,
      "outputs": []
    },
    {
      "cell_type": "code",
      "metadata": {
        "id": "2NNPS2X1j3Lj"
      },
      "source": [
        "print(\"PoS-Ent: summer - winter\", PE_emb.similarity(\"summer\", \"winter\"))"
      ],
      "execution_count": null,
      "outputs": []
    },
    {
      "cell_type": "code",
      "metadata": {
        "id": "8EMX2maqj3Lk"
      },
      "source": [
        "print(\"PoS-Ent_extended: summer - winter\", PE_extended_emb.similarity(\"summer\", \"winter\"))"
      ],
      "execution_count": null,
      "outputs": []
    },
    {
      "cell_type": "code",
      "metadata": {
        "id": "nJ-aqlHJkiAf"
      },
      "source": [
        "# genius intellect 4.090909091 MTurk"
      ],
      "execution_count": null,
      "outputs": []
    },
    {
      "cell_type": "code",
      "metadata": {
        "id": "-WOf8BbMkleY"
      },
      "source": [
        "val = (4.090909091/5) "
      ],
      "execution_count": null,
      "outputs": []
    },
    {
      "cell_type": "code",
      "metadata": {
        "id": "8_JsDddTkleY"
      },
      "source": [
        "val"
      ],
      "execution_count": null,
      "outputs": []
    },
    {
      "cell_type": "code",
      "metadata": {
        "id": "hCvQaPDLklea"
      },
      "source": [
        "vanilla_emb.most_similar(positive=[\"genius\"])"
      ],
      "execution_count": null,
      "outputs": []
    },
    {
      "cell_type": "code",
      "metadata": {
        "id": "eSxfS-fJklea"
      },
      "source": [
        "PE_emb.most_similar(positive=[\"genius\"])"
      ],
      "execution_count": null,
      "outputs": []
    },
    {
      "cell_type": "code",
      "metadata": {
        "id": "nW4c-DN0klea"
      },
      "source": [
        "PE_extended_emb.most_similar(positive=[\"genius\"])"
      ],
      "execution_count": null,
      "outputs": []
    },
    {
      "cell_type": "code",
      "metadata": {
        "id": "WB5yEfnpklec"
      },
      "source": [
        "vanilla_emb.most_similar(positive=[\"intellect\"])"
      ],
      "execution_count": null,
      "outputs": []
    },
    {
      "cell_type": "code",
      "metadata": {
        "id": "8b7SF_BSklec"
      },
      "source": [
        "PE_emb.most_similar(positive=[\"intellect\"])"
      ],
      "execution_count": null,
      "outputs": []
    },
    {
      "cell_type": "code",
      "metadata": {
        "id": "KBCS-epxklec"
      },
      "source": [
        "PE_extended_emb.most_similar(positive=[\"intellect\"])"
      ],
      "execution_count": null,
      "outputs": []
    },
    {
      "cell_type": "code",
      "metadata": {
        "id": "MkFQ193Mklee"
      },
      "source": [
        "print(\"Vanilla: genius - intellect\", vanilla_emb.similarity(\"genius\", \"intellect\"))"
      ],
      "execution_count": null,
      "outputs": []
    },
    {
      "cell_type": "code",
      "metadata": {
        "id": "oXMBsnYJklee"
      },
      "source": [
        "print(\"PoS-Ent: genius - intellect\", PE_emb.similarity(\"genius\", \"intellect\"))"
      ],
      "execution_count": null,
      "outputs": []
    },
    {
      "cell_type": "code",
      "metadata": {
        "id": "v14s8gZbklef"
      },
      "source": [
        "print(\"PoS-Ent_extended: genius - intellect\", PE_extended_emb.similarity(\"genius\", \"intellect\"))"
      ],
      "execution_count": null,
      "outputs": []
    },
    {
      "cell_type": "code",
      "metadata": {
        "id": "viLxHF_yUyD6"
      },
      "source": [
        "# socialism capitalism 3.785714286 MTurk"
      ],
      "execution_count": null,
      "outputs": []
    },
    {
      "cell_type": "code",
      "metadata": {
        "id": "aqw-J7HVjSAE"
      },
      "source": [
        "val = (3.785714286/5) "
      ],
      "execution_count": null,
      "outputs": []
    },
    {
      "cell_type": "code",
      "metadata": {
        "id": "oCWQpgLPjSAF"
      },
      "source": [
        "val"
      ],
      "execution_count": null,
      "outputs": []
    },
    {
      "cell_type": "code",
      "metadata": {
        "id": "PHqg03uyU6iI"
      },
      "source": [
        "vanilla_emb.most_similar(positive=[\"socialism\"])"
      ],
      "execution_count": null,
      "outputs": []
    },
    {
      "cell_type": "code",
      "metadata": {
        "id": "mxLXvyHRU7c9"
      },
      "source": [
        "PE_emb.most_similar(positive=[\"socialism\"])"
      ],
      "execution_count": null,
      "outputs": []
    },
    {
      "cell_type": "code",
      "metadata": {
        "id": "tQah_KLTVEpD"
      },
      "source": [
        "PE_extended_emb.most_similar(positive=[\"socialism\"])"
      ],
      "execution_count": null,
      "outputs": []
    },
    {
      "cell_type": "code",
      "metadata": {
        "id": "v_VD7XJYVL7Q"
      },
      "source": [
        "vanilla_emb.most_similar(positive=[\"capitalism\"])"
      ],
      "execution_count": null,
      "outputs": []
    },
    {
      "cell_type": "code",
      "metadata": {
        "id": "iYOX1HG2VL7S"
      },
      "source": [
        "PE_emb.most_similar(positive=[\"capitalism\"])"
      ],
      "execution_count": null,
      "outputs": []
    },
    {
      "cell_type": "code",
      "metadata": {
        "id": "XpEtqCiDVL7T"
      },
      "source": [
        "PE_extended_emb.most_similar(positive=[\"capitalism\"])"
      ],
      "execution_count": null,
      "outputs": []
    },
    {
      "cell_type": "code",
      "metadata": {
        "id": "3Vy3EC09VXJ2"
      },
      "source": [
        "print(\"Vanilla: socialism - capitalism\", vanilla_emb.similarity(\"socialism\", \"capitalism\"))"
      ],
      "execution_count": null,
      "outputs": []
    },
    {
      "cell_type": "code",
      "metadata": {
        "id": "QsY15lAwVXJ3"
      },
      "source": [
        "print(\"PoS-Ent: socialism - capitalism\", PE_emb.similarity(\"socialism\", \"capitalism\"))"
      ],
      "execution_count": null,
      "outputs": []
    },
    {
      "cell_type": "code",
      "metadata": {
        "id": "bIJSl0YXVXJ4"
      },
      "source": [
        "print(\"PoS-Ent_extended: socialism - capitalism\", PE_extended_emb.similarity(\"socialism\", \"capitalism\"))"
      ],
      "execution_count": null,
      "outputs": []
    },
    {
      "cell_type": "code",
      "metadata": {
        "id": "M0ifx4BU_Km4"
      },
      "source": [
        "# disease plague 4.117647058999999 MTurk"
      ],
      "execution_count": null,
      "outputs": []
    },
    {
      "cell_type": "code",
      "metadata": {
        "id": "BO5X1lxojhAe"
      },
      "source": [
        "val = (4.117647058999999/5) "
      ],
      "execution_count": null,
      "outputs": []
    },
    {
      "cell_type": "code",
      "metadata": {
        "id": "8orqg_OujhAf"
      },
      "source": [
        "val"
      ],
      "execution_count": null,
      "outputs": []
    },
    {
      "cell_type": "code",
      "metadata": {
        "id": "UoNzKl6TnWmd"
      },
      "source": [
        "vanilla_emb.most_similar(positive=[\"disease\"])"
      ],
      "execution_count": null,
      "outputs": []
    },
    {
      "cell_type": "code",
      "metadata": {
        "id": "tf6U5CUin0_8"
      },
      "source": [
        "PE_emb.most_similar(positive=[\"disease\"])"
      ],
      "execution_count": null,
      "outputs": []
    },
    {
      "cell_type": "code",
      "metadata": {
        "id": "9bXDCki5mvFG"
      },
      "source": [
        "PE_extended_emb.most_similar(positive=[\"disease\"])"
      ],
      "execution_count": null,
      "outputs": []
    },
    {
      "cell_type": "code",
      "metadata": {
        "id": "cw8UnhnJowUN"
      },
      "source": [
        "vanilla_emb.most_similar(positive=[\"plague\"])"
      ],
      "execution_count": null,
      "outputs": []
    },
    {
      "cell_type": "code",
      "metadata": {
        "id": "CAqLijrnowze"
      },
      "source": [
        "PE_emb.most_similar(positive=[\"plague\"])"
      ],
      "execution_count": null,
      "outputs": []
    },
    {
      "cell_type": "code",
      "metadata": {
        "id": "V4-99qhdowpC"
      },
      "source": [
        "PE_extended_emb.most_similar(positive=[\"plague\"])"
      ],
      "execution_count": null,
      "outputs": []
    },
    {
      "cell_type": "code",
      "metadata": {
        "id": "qBns939knTe7"
      },
      "source": [
        "print(\"Vanilla: disease - plague\", vanilla_emb.similarity(\"disease\", \"plague\"))"
      ],
      "execution_count": null,
      "outputs": []
    },
    {
      "cell_type": "code",
      "metadata": {
        "id": "o8xsCjLyn8ZF"
      },
      "source": [
        "print(\"PoS-Ent: disease-plague\", PE_emb.similarity(\"disease\", \"plague\"))"
      ],
      "execution_count": null,
      "outputs": []
    },
    {
      "cell_type": "code",
      "metadata": {
        "id": "6dtOBxRdjwit"
      },
      "source": [
        "print(\"PoS-Ent_extended: disease-plague\", PE_extended_emb.similarity(\"disease\", \"plague\"))"
      ],
      "execution_count": null,
      "outputs": []
    },
    {
      "cell_type": "markdown",
      "metadata": {
        "id": "6GEtq72F8kkI"
      },
      "source": [
        "## ANALOGY"
      ]
    },
    {
      "cell_type": "markdown",
      "metadata": {
        "id": "3HLShIUnmqRS"
      },
      "source": [
        "GOOGLE"
      ]
    },
    {
      "cell_type": "code",
      "metadata": {
        "id": "dV61bgnpm5hT"
      },
      "source": [
        "# large : larger = loud : louder GOOGLE"
      ],
      "execution_count": null,
      "outputs": []
    },
    {
      "cell_type": "code",
      "metadata": {
        "id": "7worKN6FnA7u"
      },
      "source": [
        "vanilla_emb.most_similar(positive=[\"larger\", \"loud\"], negative=[\"large\"]) "
      ],
      "execution_count": null,
      "outputs": []
    },
    {
      "cell_type": "code",
      "metadata": {
        "id": "xQPU1AtUnA7v"
      },
      "source": [
        "PE_emb.most_similar(positive=[\"larger\", \"loud\"], negative=[\"large\"])"
      ],
      "execution_count": null,
      "outputs": []
    },
    {
      "cell_type": "code",
      "metadata": {
        "id": "Xph5LApqnA7w"
      },
      "source": [
        "PE_extended_emb.most_similar(positive=[\"larger\", \"loud\"], negative=[\"large\"])"
      ],
      "execution_count": null,
      "outputs": []
    },
    {
      "cell_type": "code",
      "metadata": {
        "id": "dZPg6mTTmZh3"
      },
      "source": [
        "# listen : listens = eat : eats GOOGLE"
      ],
      "execution_count": null,
      "outputs": []
    },
    {
      "cell_type": "code",
      "metadata": {
        "id": "-ulMnEhAmdPj"
      },
      "source": [
        "vanilla_emb.most_similar(positive=[\"listens\", \"eat\"], negative=[\"listen\"]) "
      ],
      "execution_count": null,
      "outputs": []
    },
    {
      "cell_type": "code",
      "metadata": {
        "id": "FFuLB7-XmdPk"
      },
      "source": [
        "PE_emb.most_similar(positive=[\"listens\", \"eat\"], negative=[\"listen\"])"
      ],
      "execution_count": null,
      "outputs": []
    },
    {
      "cell_type": "code",
      "metadata": {
        "id": "8WCCzAg_mdPl"
      },
      "source": [
        "PE_extended_emb.most_similar(positive=[\"listens\", \"eat\"], negative=[\"listen\"])"
      ],
      "execution_count": null,
      "outputs": []
    },
    {
      "cell_type": "code",
      "metadata": {
        "id": "n__VPpHHlJTo"
      },
      "source": [
        "# father : mother = husband : wife GOOGLE"
      ],
      "execution_count": null,
      "outputs": []
    },
    {
      "cell_type": "code",
      "metadata": {
        "id": "8abX6x_vlQ4g"
      },
      "source": [
        "vanilla_emb.most_similar(positive=[\"mother\", \"husband\"], negative=[\"father\"]) "
      ],
      "execution_count": null,
      "outputs": []
    },
    {
      "cell_type": "code",
      "metadata": {
        "id": "E2m-XX9SlQ4i"
      },
      "source": [
        "PE_emb.most_similar(positive=[\"mother\", \"husband\"], negative=[\"father\"])"
      ],
      "execution_count": null,
      "outputs": []
    },
    {
      "cell_type": "code",
      "metadata": {
        "id": "JBOGVdJLlQ4i"
      },
      "source": [
        "PE_extended_emb.most_similar(positive=[\"mother\", \"husband\"], negative=[\"father\"])"
      ],
      "execution_count": null,
      "outputs": []
    },
    {
      "cell_type": "code",
      "metadata": {
        "id": "UWmfudG0-v0s"
      },
      "source": [
        "# boy : king = girl : queen GOOGLE"
      ],
      "execution_count": null,
      "outputs": []
    },
    {
      "cell_type": "code",
      "metadata": {
        "id": "Y6WQAewW62Lz"
      },
      "source": [
        "vanilla_emb.most_similar(positive=[\"girl\", \"king\"], negative=[\"boy\"]) #topn=3"
      ],
      "execution_count": null,
      "outputs": []
    },
    {
      "cell_type": "code",
      "metadata": {
        "id": "3Bdl2OVQ8D9D"
      },
      "source": [
        "PE_emb.most_similar(positive=[\"girl\", \"king\"], negative=[\"boy\"])"
      ],
      "execution_count": null,
      "outputs": []
    },
    {
      "cell_type": "code",
      "metadata": {
        "id": "aIShyPes7o3o"
      },
      "source": [
        "PE_extended_emb.most_similar(positive=[\"girl\", \"king\"], negative=[\"boy\"])"
      ],
      "execution_count": null,
      "outputs": []
    },
    {
      "cell_type": "code",
      "metadata": {
        "id": "APgvplPd-sh4"
      },
      "source": [
        "# mango : mangoes = lion : lions GOOGLE"
      ],
      "execution_count": null,
      "outputs": []
    },
    {
      "cell_type": "code",
      "metadata": {
        "id": "Q-QMu94H8uBu"
      },
      "source": [
        "vanilla_emb.most_similar(positive=[\"mangoes\", \"lion\"], negative=[\"mango\"])"
      ],
      "execution_count": null,
      "outputs": []
    },
    {
      "cell_type": "code",
      "metadata": {
        "id": "17AtCG7w8-i5"
      },
      "source": [
        "PE_emb.most_similar(positive=[\"mangoes\", \"lion\"], negative=[\"mango\"])"
      ],
      "execution_count": null,
      "outputs": []
    },
    {
      "cell_type": "code",
      "metadata": {
        "id": "JuyU7XY78-Ne"
      },
      "source": [
        "PE_extended_emb.most_similar(positive=[\"mangoes\", \"lion\"], negative=[\"mango\"])"
      ],
      "execution_count": null,
      "outputs": []
    },
    {
      "cell_type": "markdown",
      "metadata": {
        "id": "8EuO_zu1msRd"
      },
      "source": [
        "MSR"
      ]
    },
    {
      "cell_type": "code",
      "metadata": {
        "id": "DInwdoKep0ti"
      },
      "source": [
        "# end : ended = say : VB_VBD said"
      ],
      "execution_count": null,
      "outputs": []
    },
    {
      "cell_type": "code",
      "metadata": {
        "id": "wiikhWf9p4GN"
      },
      "source": [
        "vanilla_emb.most_similar(positive=[\"ended\", \"say\"], negative=[\"end\"])"
      ],
      "execution_count": null,
      "outputs": []
    },
    {
      "cell_type": "code",
      "metadata": {
        "id": "BKgcvOeSp4GO"
      },
      "source": [
        "PE_emb.most_similar(positive=[\"ended\", \"say\"], negative=[\"end\"])"
      ],
      "execution_count": null,
      "outputs": []
    },
    {
      "cell_type": "code",
      "metadata": {
        "id": "QnxPSPTep4GP"
      },
      "source": [
        "PE_extended_emb.most_similar(positive=[\"ended\", \"say\"], negative=[\"end\"])"
      ],
      "execution_count": null,
      "outputs": []
    },
    {
      "cell_type": "code",
      "metadata": {
        "id": "C4GGGjbkoorC"
      },
      "source": [
        "# help : helped = reduce : VB_VBD reduced MSR"
      ],
      "execution_count": null,
      "outputs": []
    },
    {
      "cell_type": "code",
      "metadata": {
        "id": "ql_TOJYWo2Jp"
      },
      "source": [
        "vanilla_emb.most_similar(positive=[\"helped\", \"reduce\"], negative=[\"help\"])"
      ],
      "execution_count": null,
      "outputs": []
    },
    {
      "cell_type": "code",
      "metadata": {
        "id": "snWtP0cao2Jr"
      },
      "source": [
        "PE_emb.most_similar(positive=[\"helped\", \"reduce\"], negative=[\"help\"])"
      ],
      "execution_count": null,
      "outputs": []
    },
    {
      "cell_type": "code",
      "metadata": {
        "id": "_2vCN_H7o2Jr"
      },
      "source": [
        "PE_extended_emb.most_similar(positive=[\"helped\", \"reduce\"], negative=[\"help\"])"
      ],
      "execution_count": null,
      "outputs": []
    },
    {
      "cell_type": "code",
      "metadata": {
        "id": "pL2uNol9nPhG"
      },
      "source": [
        "# highest : high = worst : JJS_JJ bad MSR"
      ],
      "execution_count": null,
      "outputs": []
    },
    {
      "cell_type": "code",
      "metadata": {
        "id": "pQvXbtwonUrk"
      },
      "source": [
        "vanilla_emb.most_similar(positive=[\"high\", \"worst\"], negative=[\"highest\"])"
      ],
      "execution_count": null,
      "outputs": []
    },
    {
      "cell_type": "code",
      "metadata": {
        "id": "Fd1cvvnfnUrk"
      },
      "source": [
        "PE_emb.most_similar(positive=[\"high\", \"worst\"], negative=[\"highest\"])"
      ],
      "execution_count": null,
      "outputs": []
    },
    {
      "cell_type": "code",
      "metadata": {
        "id": "A5TepDainUrm"
      },
      "source": [
        "PE_extended_emb.most_similar(positive=[\"high\", \"worst\"], negative=[\"highest\"])"
      ],
      "execution_count": null,
      "outputs": []
    },
    {
      "cell_type": "code",
      "metadata": {
        "id": "PLOMzUcW-Qlc"
      },
      "source": [
        "# extended : extends = went : VBD_VBZ goes MSR"
      ],
      "execution_count": null,
      "outputs": []
    },
    {
      "cell_type": "code",
      "metadata": {
        "id": "lWO7wO9R9PtN"
      },
      "source": [
        "vanilla_emb.most_similar(positive=[\"extends\", \"went\"], negative=[\"extended\"])"
      ],
      "execution_count": null,
      "outputs": []
    },
    {
      "cell_type": "code",
      "metadata": {
        "id": "bkS4V2sr-EZ4"
      },
      "source": [
        "PE_emb.most_similar(positive=[\"extends\", \"went\"], negative=[\"extended\"])"
      ],
      "execution_count": null,
      "outputs": []
    },
    {
      "cell_type": "code",
      "metadata": {
        "id": "IjnnD1x6-A-R"
      },
      "source": [
        "PE_extended_emb.most_similar(positive=[\"extends\", \"went\"], negative=[\"extended\"])"
      ],
      "execution_count": null,
      "outputs": []
    },
    {
      "cell_type": "code",
      "metadata": {
        "id": "9GFQFZxR_69Q"
      },
      "source": [
        "# lucky : luckier = early : JJ_JJR earlier MSR"
      ],
      "execution_count": null,
      "outputs": []
    },
    {
      "cell_type": "code",
      "metadata": {
        "id": "Q1U6RPm4AJer"
      },
      "source": [
        "vanilla_emb.most_similar(positive=[\"luckier\", \"early\"], negative=[\"lucky\"])"
      ],
      "execution_count": null,
      "outputs": []
    },
    {
      "cell_type": "code",
      "metadata": {
        "id": "zzxxOHomARnM"
      },
      "source": [
        "PE_emb.most_similar(positive=[\"luckier\", \"early\"], negative=[\"lucky\"])"
      ],
      "execution_count": null,
      "outputs": []
    },
    {
      "cell_type": "code",
      "metadata": {
        "id": "NyA4sFPoARcp"
      },
      "source": [
        "PE_extended_emb.most_similar(positive=[\"luckier\", \"early\"], negative=[\"lucky\"])"
      ],
      "execution_count": null,
      "outputs": []
    }
  ]
}