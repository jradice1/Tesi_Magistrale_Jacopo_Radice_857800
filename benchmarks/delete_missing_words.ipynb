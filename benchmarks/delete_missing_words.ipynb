{
  "nbformat": 4,
  "nbformat_minor": 0,
  "metadata": {
    "colab": {
      "name": "delete-missing-words.ipynb",
      "provenance": [],
      "collapsed_sections": []
    },
    "kernelspec": {
      "name": "python3",
      "display_name": "Python 3"
    },
    "language_info": {
      "name": "python"
    }
  },
  "cells": [
    {
      "cell_type": "code",
      "metadata": {
        "id": "OdaUIXCIA6n2"
      },
      "source": [
        "from google.colab import drive\n",
        "\n",
        "drive.mount('/content/drive')\n",
        "root_dir = \"/content/drive/My Drive/\"\n",
        "base_dir = root_dir + 'Tesi/downstream/'"
      ],
      "execution_count": null,
      "outputs": []
    },
    {
      "cell_type": "code",
      "metadata": {
        "id": "DJ4tvhcPPg_U"
      },
      "source": [
        "from gensim.models import KeyedVectors\n",
        "from pathlib import Path"
      ],
      "execution_count": null,
      "outputs": []
    },
    {
      "cell_type": "code",
      "metadata": {
        "id": "t_alj9-T-ga2"
      },
      "source": [
        "import numpy as np\n",
        "import pandas as pd"
      ],
      "execution_count": null,
      "outputs": []
    },
    {
      "cell_type": "markdown",
      "metadata": {
        "id": "Qb1o185OZJ-Z"
      },
      "source": [
        "LOAD EMBEDDINGS"
      ]
    },
    {
      "cell_type": "code",
      "metadata": {
        "id": "8r3xE_WvTD_Y"
      },
      "source": [
        "v_emb = KeyedVectors.load_word2vec_format(base_dir + 'embeddings/vanillaCCOHA2_embeddings.txt', binary=False)"
      ],
      "execution_count": null,
      "outputs": []
    },
    {
      "cell_type": "code",
      "metadata": {
        "id": "eBmCnk6qLYz0"
      },
      "source": [
        "PE_emb = KeyedVectors.load_word2vec_format(base_dir + 'embeddings/PoS-Ent_CCOHA2_embeddings.txt', binary=False)"
      ],
      "execution_count": null,
      "outputs": []
    },
    {
      "cell_type": "code",
      "metadata": {
        "id": "MY6xGSKkTSPm"
      },
      "source": [
        "g_emb = KeyedVectors.load_word2vec_format(base_dir + 'embeddings/gensim_1-100_CCOHA2_embeddings.txt', binary=False)"
      ],
      "execution_count": null,
      "outputs": []
    },
    {
      "cell_type": "code",
      "metadata": {
        "id": "S9A1CRgeYare"
      },
      "source": [
        "topic_emb = KeyedVectors.load_word2vec_format(base_dir + 'embeddings/topicrankCCOHA2_embeddings.txt', binary=False) "
      ],
      "execution_count": null,
      "outputs": []
    },
    {
      "cell_type": "code",
      "metadata": {
        "id": "2v9gXSFeYfTO"
      },
      "source": [
        "rake_emb = KeyedVectors.load_word2vec_format(base_dir + 'embeddings/rakeCCOHA2_embeddings.txt', binary=False) "
      ],
      "execution_count": null,
      "outputs": []
    },
    {
      "cell_type": "markdown",
      "metadata": {
        "id": "PfPV3S1QjyM8"
      },
      "source": [
        "DATASETS AS DATAFRAMES - N.B not done for rg65 because no mean vector were created"
      ]
    },
    {
      "cell_type": "code",
      "metadata": {
        "id": "9cO9_zvcj02H"
      },
      "source": [
        "df_men = pd.read_csv(base_dir + \"datasets/EN-MEN-LEM.txt\", sep=' ', header=None)"
      ],
      "execution_count": null,
      "outputs": []
    },
    {
      "cell_type": "code",
      "metadata": {
        "id": "8wcGG0NTj9x8"
      },
      "source": [
        "df_men"
      ],
      "execution_count": null,
      "outputs": []
    },
    {
      "cell_type": "code",
      "metadata": {
        "id": "tJRqZhyPkgX3"
      },
      "source": [
        "df_ws_all = pd.read_csv(base_dir + \"datasets/EN-WS353.txt\", sep='\\t', header=None)"
      ],
      "execution_count": null,
      "outputs": []
    },
    {
      "cell_type": "code",
      "metadata": {
        "id": "YaZqUJ8xkoJm"
      },
      "source": [
        "df_ws_all"
      ],
      "execution_count": null,
      "outputs": []
    },
    {
      "cell_type": "code",
      "metadata": {
        "id": "ub2k1cxckwLj"
      },
      "source": [
        "df_ws_rel = pd.read_csv(base_dir + \"datasets/EN-WS-353-REL.txt\", sep='\\t', header=None)"
      ],
      "execution_count": null,
      "outputs": []
    },
    {
      "cell_type": "code",
      "metadata": {
        "id": "FrgYVkbIlAmk"
      },
      "source": [
        "df_ws_rel"
      ],
      "execution_count": null,
      "outputs": []
    },
    {
      "cell_type": "code",
      "metadata": {
        "id": "wEh7CcIRkygr"
      },
      "source": [
        "df_ws_sim = pd.read_csv(base_dir + \"datasets/EN-WS-353-SIM.txt\", sep='\\t', header=None)"
      ],
      "execution_count": null,
      "outputs": []
    },
    {
      "cell_type": "code",
      "metadata": {
        "id": "DZYggc4ClB8_"
      },
      "source": [
        "df_ws_sim"
      ],
      "execution_count": null,
      "outputs": []
    },
    {
      "cell_type": "code",
      "metadata": {
        "id": "G2Ox5_c7lWCL"
      },
      "source": [
        "df_SIM999 = pd.read_csv(base_dir + \"datasets/EN-SIM999.txt\", sep='\\t', header=None)"
      ],
      "execution_count": null,
      "outputs": []
    },
    {
      "cell_type": "code",
      "metadata": {
        "id": "W5kt2DS3lVKh"
      },
      "source": [
        "df_SIM999"
      ],
      "execution_count": null,
      "outputs": []
    },
    {
      "cell_type": "code",
      "metadata": {
        "id": "7e6Ln-cmmCpr"
      },
      "source": [
        "df_rw = pd.read_csv(base_dir + \"datasets/EN-RW.txt\", sep='\\t', header=None)"
      ],
      "execution_count": null,
      "outputs": []
    },
    {
      "cell_type": "code",
      "metadata": {
        "id": "pNUWYKkftsT7"
      },
      "source": [
        "df_rw = df_rw.fillna('')"
      ],
      "execution_count": null,
      "outputs": []
    },
    {
      "cell_type": "code",
      "metadata": {
        "id": "8H5WKe_pmCDl"
      },
      "source": [
        "df_rw"
      ],
      "execution_count": null,
      "outputs": []
    },
    {
      "cell_type": "code",
      "metadata": {
        "id": "taGSn4V1m4B8"
      },
      "source": [
        "df_mturk = pd.read_csv(base_dir + \"datasets/EN-MTurk-287.txt\", sep='\\t', header=None)"
      ],
      "execution_count": null,
      "outputs": []
    },
    {
      "cell_type": "code",
      "metadata": {
        "id": "BvMJroE6m2kU"
      },
      "source": [
        "df_mturk"
      ],
      "execution_count": null,
      "outputs": []
    },
    {
      "cell_type": "code",
      "metadata": {
        "id": "RfdzRDc-nIzn"
      },
      "source": [
        "df_google = pd.read_csv(base_dir + \"datasets/EN-GOOGLE.txt\", header=None)"
      ],
      "execution_count": null,
      "outputs": []
    },
    {
      "cell_type": "code",
      "metadata": {
        "id": "LDl3Lr52nG53"
      },
      "source": [
        "df_google"
      ],
      "execution_count": null,
      "outputs": []
    },
    {
      "cell_type": "code",
      "metadata": {
        "id": "quNZ_LLR1guf"
      },
      "source": [
        "df_google= df_google[0].str.split(\" \", n = 4, expand = True)"
      ],
      "execution_count": null,
      "outputs": []
    },
    {
      "cell_type": "code",
      "metadata": {
        "id": "Ttyv7MKz3H-T"
      },
      "source": [
        "df_google = df_google.fillna('')"
      ],
      "execution_count": null,
      "outputs": []
    },
    {
      "cell_type": "code",
      "metadata": {
        "id": "qFpJI2DM2tyW"
      },
      "source": [
        "df_google"
      ],
      "execution_count": null,
      "outputs": []
    },
    {
      "cell_type": "code",
      "metadata": {
        "id": "3Fa8807NoFpg"
      },
      "source": [
        "df_msr = pd.read_csv(base_dir + \"datasets/EN-MSR.txt\", sep=' ', header=None)"
      ],
      "execution_count": null,
      "outputs": []
    },
    {
      "cell_type": "code",
      "metadata": {
        "id": "IP1cwaQEoExm"
      },
      "source": [
        "df_msr"
      ],
      "execution_count": null,
      "outputs": []
    },
    {
      "cell_type": "markdown",
      "metadata": {
        "id": "0vQ9Fx7ritzj"
      },
      "source": [
        "COMPARISON"
      ]
    },
    {
      "cell_type": "code",
      "metadata": {
        "id": "fBCtl_cBqUrH"
      },
      "source": [
        "for i in range(len(df_men)):\n",
        "  if(df_men[0][i][:-2]) not in (v_emb.vocab or PE_emb.vocab or topic_emb.vocab or rake_emb.vocab or g_emb.vocab):\n",
        "    df_men = df_men.drop([i])\n",
        "\n",
        "df_men = df_men.reset_index(drop=True)"
      ],
      "execution_count": null,
      "outputs": []
    },
    {
      "cell_type": "code",
      "metadata": {
        "id": "Wg6lUzhWo6d8"
      },
      "source": [
        "for i in range(len(df_men)):\n",
        "  if(df_men[1][i][:-2]) not in (v_emb.vocab or PE_emb.vocab or topic_emb.vocab or rake_emb.vocab or g_emb.vocab):\n",
        "    df_men = df_men.drop([i])\n",
        "\n",
        "df_men = df_men.reset_index(drop=True)"
      ],
      "execution_count": null,
      "outputs": []
    },
    {
      "cell_type": "code",
      "metadata": {
        "id": "_yhvFut6qG2r"
      },
      "source": [
        "df_men"
      ],
      "execution_count": null,
      "outputs": []
    },
    {
      "cell_type": "code",
      "metadata": {
        "id": "RXOhJMrfr3Ae"
      },
      "source": [
        "for i in range(len(df_ws_all)-1):\n",
        "  if(df_ws_all[0][i+1]) not in (v_emb.vocab or PE_emb.vocab or topic_emb.vocab or rake_emb.vocab or g_emb.vocab):\n",
        "    df_ws_all = df_ws_all.drop([i+1])\n",
        "\n",
        "df_ws_all = df_ws_all.reset_index(drop=True)"
      ],
      "execution_count": null,
      "outputs": []
    },
    {
      "cell_type": "code",
      "metadata": {
        "id": "Gut7DyVQr3Ac"
      },
      "source": [
        "for i in range(len(df_ws_all)-1):\n",
        "  if(df_ws_all[1][i+1]) not in (v_emb.vocab or PE_emb.vocab or topic_emb.vocab or rake_emb.vocab or g_emb.vocab):\n",
        "    df_ws_all = df_ws_all.drop([i+1])\n",
        "\n",
        "df_ws_all = df_ws_all.reset_index(drop=True)"
      ],
      "execution_count": null,
      "outputs": []
    },
    {
      "cell_type": "code",
      "metadata": {
        "id": "QBEH-XxWr7yt"
      },
      "source": [
        "df_ws_all"
      ],
      "execution_count": null,
      "outputs": []
    },
    {
      "cell_type": "code",
      "metadata": {
        "id": "DhHpYNblsNLF"
      },
      "source": [
        "for i in range(len(df_ws_sim)):\n",
        "  if(df_ws_sim[0][i]) not in (v_emb.vocab or PE_emb.vocab or topic_emb.vocab or rake_emb.vocab or g_emb.vocab):\n",
        "    df_ws_sim = df_ws_sim.drop([i])\n",
        "\n",
        "df_ws_sim = df_ws_sim.reset_index(drop=True)"
      ],
      "execution_count": null,
      "outputs": []
    },
    {
      "cell_type": "code",
      "metadata": {
        "id": "PiCpQgoOsNLH"
      },
      "source": [
        "for i in range(len(df_ws_sim)):\n",
        "  if(df_ws_sim[1][i]) not in (v_emb.vocab or PE_emb.vocab or topic_emb.vocab or rake_emb.vocab or g_emb.vocab):\n",
        "    df_ws_sim = df_ws_sim.drop([i])\n",
        "\n",
        "df_ws_sim = df_ws_sim.reset_index(drop=True)"
      ],
      "execution_count": null,
      "outputs": []
    },
    {
      "cell_type": "code",
      "metadata": {
        "id": "W1sRvR86sS_0"
      },
      "source": [
        "df_ws_sim"
      ],
      "execution_count": null,
      "outputs": []
    },
    {
      "cell_type": "code",
      "metadata": {
        "id": "L2RuXMu2sdh3"
      },
      "source": [
        "for i in range(len(df_ws_rel)):\n",
        "  if(df_ws_rel[0][i]) not in (v_emb.vocab or PE_emb.vocab or topic_emb.vocab or rake_emb.vocab or g_emb.vocab):\n",
        "    df_ws_rel = df_ws_rel.drop([i])\n",
        "\n",
        "df_ws_rel = df_ws_rel.reset_index(drop=True)"
      ],
      "execution_count": null,
      "outputs": []
    },
    {
      "cell_type": "code",
      "metadata": {
        "id": "BsDsME7_sdh4"
      },
      "source": [
        "for i in range(len(df_ws_rel)):\n",
        "  if(df_ws_rel[1][i]) not in (v_emb.vocab or PE_emb.vocab or topic_emb.vocab or rake_emb.vocab or g_emb.vocab):\n",
        "    df_ws_rel = df_ws_rel.drop([i])\n",
        "\n",
        "df_ws_rel = df_ws_rel.reset_index(drop=True)"
      ],
      "execution_count": null,
      "outputs": []
    },
    {
      "cell_type": "code",
      "metadata": {
        "id": "B7B1uVCQsdh5"
      },
      "source": [
        "df_ws_rel"
      ],
      "execution_count": null,
      "outputs": []
    },
    {
      "cell_type": "code",
      "metadata": {
        "id": "NDTBXJBrsr8g"
      },
      "source": [
        "for i in range(len(df_SIM999)-1):\n",
        "  if(df_SIM999[0][i+1]) not in (v_emb.vocab or PE_emb.vocab or topic_emb.vocab or rake_emb.vocab or g_emb.vocab):\n",
        "    df_SIM999 = df_SIM999.drop([i+1])\n",
        "\n",
        "df_SIM999 = df_SIM999.reset_index(drop=True)"
      ],
      "execution_count": null,
      "outputs": []
    },
    {
      "cell_type": "code",
      "metadata": {
        "id": "-WSqBhLbsr8h"
      },
      "source": [
        "for i in range(len(df_SIM999)-1):\n",
        "  if(df_SIM999[1][i+1]) not in (v_emb.vocab or PE_emb.vocab or topic_emb.vocab or rake_emb.vocab or g_emb.vocab):\n",
        "    df_SIM999 = df_SIM999.drop([i+1])\n",
        "\n",
        "df_SIM999 = df_SIM999.reset_index(drop=True)"
      ],
      "execution_count": null,
      "outputs": []
    },
    {
      "cell_type": "code",
      "metadata": {
        "id": "HeL2vGENsr8h"
      },
      "source": [
        "df_SIM999"
      ],
      "execution_count": null,
      "outputs": []
    },
    {
      "cell_type": "code",
      "metadata": {
        "id": "HTm2B3mbs8W5"
      },
      "source": [
        "for i in range(len(df_rw)):\n",
        "  if(df_rw[0][i]) not in (v_emb.vocab or PE_emb.vocab or topic_emb.vocab or rake_emb.vocab or g_emb.vocab):\n",
        "    df_rw = df_rw.drop([i])\n",
        "\n",
        "df_rw = df_rw.reset_index(drop=True)"
      ],
      "execution_count": null,
      "outputs": []
    },
    {
      "cell_type": "code",
      "metadata": {
        "id": "epo0_4UXs8W6"
      },
      "source": [
        "for i in range(len(df_rw)):\n",
        "  if(df_rw[1][i]) not in (v_emb.vocab or PE_emb.vocab or topic_emb.vocab or rake_emb.vocab or g_emb.vocab):\n",
        "    df_rw = df_rw.drop([i])\n",
        "\n",
        "df_rw = df_rw.reset_index(drop=True)"
      ],
      "execution_count": null,
      "outputs": []
    },
    {
      "cell_type": "code",
      "metadata": {
        "id": "fPFbU4Wfs8W7"
      },
      "source": [
        "df_rw"
      ],
      "execution_count": null,
      "outputs": []
    },
    {
      "cell_type": "code",
      "metadata": {
        "id": "D5HMbvCkvgQp"
      },
      "source": [
        "for i in range(len(df_mturk)):\n",
        "  if(df_mturk[0][i]) not in (v_emb.vocab or PE_emb.vocab or topic_emb.vocab or rake_emb.vocab or g_emb.vocab):\n",
        "    df_mturk = df_mturk.drop([i])\n",
        "\n",
        "df_mturk = df_mturk.reset_index(drop=True)"
      ],
      "execution_count": null,
      "outputs": []
    },
    {
      "cell_type": "code",
      "metadata": {
        "id": "f3bp1tqsvgQp"
      },
      "source": [
        "for i in range(len(df_mturk)):\n",
        "  if(df_mturk[1][i]) not in (v_emb.vocab or PE_emb.vocab or topic_emb.vocab or rake_emb.vocab or g_emb.vocab):\n",
        "    df_mturk = df_mturk.drop([i])\n",
        "\n",
        "df_mturk = df_mturk.reset_index(drop=True)"
      ],
      "execution_count": null,
      "outputs": []
    },
    {
      "cell_type": "code",
      "metadata": {
        "id": "ZjRRNea2vgQq"
      },
      "source": [
        "df_mturk"
      ],
      "execution_count": null,
      "outputs": []
    },
    {
      "cell_type": "code",
      "metadata": {
        "id": "ipXC3N3ZwLN9"
      },
      "source": [
        "for i in range(len(df_msr)):\n",
        "  if(df_msr[0][i]) not in (v_emb.vocab or PE_emb.vocab or topic_emb.vocab or rake_emb.vocab or g_emb.vocab):\n",
        "    df_msr = df_msr.drop([i])\n",
        "\n",
        "df_msr = df_msr.reset_index(drop=True)"
      ],
      "execution_count": null,
      "outputs": []
    },
    {
      "cell_type": "code",
      "metadata": {
        "id": "7eCWM_S9wLN_"
      },
      "source": [
        "for i in range(len(df_msr)):\n",
        "  if(df_msr[1][i]) not in (v_emb.vocab or PE_emb.vocab or topic_emb.vocab or rake_emb.vocab or g_emb.vocab):\n",
        "    df_msr = df_msr.drop([i])\n",
        "\n",
        "df_msr = df_msr.reset_index(drop=True)"
      ],
      "execution_count": null,
      "outputs": []
    },
    {
      "cell_type": "code",
      "metadata": {
        "id": "1fkpbC7iwUDO"
      },
      "source": [
        "for i in range(len(df_msr)):\n",
        "  if(df_msr[2][i]) not in (v_emb.vocab or PE_emb.vocab or topic_emb.vocab or rake_emb.vocab or g_emb.vocab):\n",
        "    df_msr = df_msr.drop([i])\n",
        "\n",
        "df_msr = df_msr.reset_index(drop=True)"
      ],
      "execution_count": null,
      "outputs": []
    },
    {
      "cell_type": "code",
      "metadata": {
        "id": "NceQeEo_wUYb"
      },
      "source": [
        "for i in range(len(df_msr)):\n",
        "  if(df_msr[4][i]) not in (v_emb.vocab or PE_emb.vocab or topic_emb.vocab or rake_emb.vocab or g_emb.vocab):\n",
        "    df_msr = df_msr.drop([i])\n",
        "\n",
        "df_msr = df_msr.reset_index(drop=True)"
      ],
      "execution_count": null,
      "outputs": []
    },
    {
      "cell_type": "code",
      "metadata": {
        "id": "ObWosUW8wLOB"
      },
      "source": [
        "df_msr"
      ],
      "execution_count": null,
      "outputs": []
    },
    {
      "cell_type": "code",
      "metadata": {
        "id": "PObpJqRrwqMT"
      },
      "source": [
        "for i in range(len(df_google)):\n",
        "  if(df_google[0][i] != \":\"):\n",
        "    if(df_google[0][i]) not in (v_emb.vocab or PE_emb.vocab or topic_emb.vocab or rake_emb.vocab or g_emb.vocab):\n",
        "      df_google = df_google.drop([i])\n",
        "\n",
        "df_google = df_google.reset_index(drop=True)"
      ],
      "execution_count": null,
      "outputs": []
    },
    {
      "cell_type": "code",
      "metadata": {
        "id": "mWU95lckwqMU"
      },
      "source": [
        "for i in range(len(df_google)):\n",
        "  if(df_google[0][i] != \":\"):\n",
        "    if(df_google[1][i]) not in (v_emb.vocab or PE_emb.vocab or topic_emb.vocab or rake_emb.vocab or g_emb.vocab):\n",
        "      df_google = df_google.drop([i])\n",
        "\n",
        "df_google = df_google.reset_index(drop=True)"
      ],
      "execution_count": null,
      "outputs": []
    },
    {
      "cell_type": "code",
      "metadata": {
        "id": "L5y9N39hwqMU"
      },
      "source": [
        "for i in range(len(df_google)):\n",
        "  if(df_google[0][i] != \":\"):\n",
        "    if(df_google[2][i]) not in (v_emb.vocab or PE_emb.vocab or topic_emb.vocab or rake_emb.vocab or g_emb.vocab):\n",
        "      df_google = df_google.drop([i])\n",
        "\n",
        "df_google = df_google.reset_index(drop=True)"
      ],
      "execution_count": null,
      "outputs": []
    },
    {
      "cell_type": "code",
      "metadata": {
        "id": "J8Y8nIkawqMV"
      },
      "source": [
        "for i in range(len(df_google)):\n",
        "  if(df_google[0][i] != \":\"):\n",
        "    if(df_google[3][i]) not in (v_emb.vocab or PE_emb.vocab or topic_emb.vocab or rake_emb.vocab or g_emb.vocab):\n",
        "      df_google = df_google.drop([i])\n",
        "\n",
        "df_google = df_google.reset_index(drop=True)"
      ],
      "execution_count": null,
      "outputs": []
    },
    {
      "cell_type": "code",
      "metadata": {
        "id": "2RF0OQ7vGtsH"
      },
      "source": [
        "for i in range(len(df_google)):\n",
        "  if(df_google[0][i] == \":\" and df_google[0][i+1] == \":\"):\n",
        "    df_google = df_google.drop([i])\n",
        "\n",
        "df_google = df_google.reset_index(drop=True)"
      ],
      "execution_count": null,
      "outputs": []
    },
    {
      "cell_type": "code",
      "metadata": {
        "id": "rwP0YwBqwqMW"
      },
      "source": [
        "df_google"
      ],
      "execution_count": null,
      "outputs": []
    },
    {
      "cell_type": "markdown",
      "metadata": {
        "id": "5Vb6Q_Ad-OYS"
      },
      "source": [
        "SAVE NEW DATASETS"
      ]
    },
    {
      "cell_type": "code",
      "metadata": {
        "id": "t1Em1UXH--w_"
      },
      "source": [
        "df_google.to_csv('new_GOOGLE.txt', header=None, index=None, sep=' ', mode='a')"
      ],
      "execution_count": null,
      "outputs": []
    },
    {
      "cell_type": "code",
      "metadata": {
        "id": "Iy3H9RSB-Q84"
      },
      "source": [
        "df_msr.to_csv('new_MSR.txt', header=None, index=None, sep=' ', mode='a')"
      ],
      "execution_count": null,
      "outputs": []
    },
    {
      "cell_type": "code",
      "metadata": {
        "id": "APpBK9xd_qYe"
      },
      "source": [
        "df_mturk.to_csv('new_MTurk287.txt', header=None, index=None, sep=' ', mode='a')"
      ],
      "execution_count": null,
      "outputs": []
    },
    {
      "cell_type": "code",
      "metadata": {
        "id": "03vLkOAz_rWu"
      },
      "source": [
        "df_rw.to_csv('new_RW.txt', header=None, index=None, sep='\\t', mode='a')"
      ],
      "execution_count": null,
      "outputs": []
    },
    {
      "cell_type": "code",
      "metadata": {
        "id": "1GIbGtBj_ri7"
      },
      "source": [
        "df_SIM999.to_csv('new_SIM999.txt', header=None, index=None, sep='\\t', mode='a')"
      ],
      "execution_count": null,
      "outputs": []
    },
    {
      "cell_type": "code",
      "metadata": {
        "id": "j7UwCtWm_rrL"
      },
      "source": [
        "df_ws_rel.to_csv('new_WS-353-REL.txt', header=None, index=None, sep='\\t', mode='a', float_format='%.2f')"
      ],
      "execution_count": null,
      "outputs": []
    },
    {
      "cell_type": "code",
      "metadata": {
        "id": "gW76h1y-_rzo"
      },
      "source": [
        "df_ws_sim.to_csv('new_WS-353-SIM.txt', header=None, index=None, sep='\\t', mode='a', float_format='%.2f')"
      ],
      "execution_count": null,
      "outputs": []
    },
    {
      "cell_type": "code",
      "metadata": {
        "id": "n8lVD1tC_r9I"
      },
      "source": [
        "df_ws_all.to_csv('new_WS-353-ALL.txt', header=None, index=None, sep='\\t', float_format='%.2f')"
      ],
      "execution_count": null,
      "outputs": []
    },
    {
      "cell_type": "code",
      "metadata": {
        "id": "YuiOP7vo_sJp"
      },
      "source": [
        "df_men.to_csv('new_MEN.txt', header=None, index=None, sep=' ', mode='a', float_format='%.6f')"
      ],
      "execution_count": null,
      "outputs": []
    }
  ]
}