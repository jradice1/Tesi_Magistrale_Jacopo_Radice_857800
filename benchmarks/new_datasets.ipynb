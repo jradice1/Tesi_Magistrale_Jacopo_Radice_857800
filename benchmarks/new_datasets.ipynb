{
  "nbformat": 4,
  "nbformat_minor": 0,
  "metadata": {
    "colab": {
      "name": "new-datasets.ipynb",
      "provenance": [],
      "collapsed_sections": [
        "hiMiJA2R7vGb",
        "ebodC3PE7xQw",
        "hi_URrKn7wdF"
      ]
    },
    "kernelspec": {
      "name": "python3",
      "display_name": "Python 3"
    },
    "language_info": {
      "name": "python"
    }
  },
  "cells": [
    {
      "cell_type": "code",
      "metadata": {
        "colab": {
          "base_uri": "https://localhost:8080/"
        },
        "id": "k3XU-V4DBRn9",
        "outputId": "d72d02fa-f211-4a82-986e-e44aadd42b3f"
      },
      "source": [
        "from google.colab import drive\n",
        "\n",
        "drive.mount('/content/drive')\n",
        "root_dir = \"/content/drive/My Drive/\"\n",
        "base_dir = root_dir + 'Tesi/downstream/'\n",
        "\n",
        "datasets_dir = base_dir + \"datasets/\""
      ],
      "execution_count": null,
      "outputs": [
        {
          "output_type": "stream",
          "name": "stdout",
          "text": [
            "Mounted at /content/drive\n"
          ]
        }
      ]
    },
    {
      "cell_type": "code",
      "metadata": {
        "id": "Lo0I5zZMD2Ji"
      },
      "source": [
        "import os \n",
        "from pathlib import Path\n",
        "\n",
        "from itertools import chain\n",
        "from collections import Counter\n",
        "import numpy as np"
      ],
      "execution_count": null,
      "outputs": []
    },
    {
      "cell_type": "code",
      "metadata": {
        "id": "yx8zc7FVBh9l"
      },
      "source": [
        "import pandas as pd \n",
        "\n",
        "df_Vanilla = pd.read_csv(base_dir + 'ccoha2_preprocessed.csv')\n",
        "\n",
        "df_PE = pd.read_csv(base_dir + 'methods/newCCOHA2_PoS-Ent.csv')\n",
        "\n",
        "df_Gensim = pd.read_csv(base_dir + 'methods/newCCOHA2_Gensim_1-100.csv')\n",
        "\n",
        "df_Rake = pd.read_csv(base_dir + 'methods/newCCOHA2_Rake.csv')\n",
        "\n",
        "df_Topicrank = pd.read_csv(base_dir + 'methods/newCCOHA2_topicrank.csv')"
      ],
      "execution_count": null,
      "outputs": []
    },
    {
      "cell_type": "markdown",
      "metadata": {
        "id": "2W9h0laTCzPd"
      },
      "source": [
        "DATASETS"
      ]
    },
    {
      "cell_type": "code",
      "metadata": {
        "id": "ftJ6rYkHFzAZ"
      },
      "source": [
        "f=open(datasets_dir + \"new/new_MEN.txt\",\"r\")\n",
        "lines=f.readlines()\n",
        "men=[]\n",
        "for x in lines:\n",
        "    men.append(x.split(' ')[0])\n",
        "    men.append(x.split(' ')[1])\n",
        "f.close()"
      ],
      "execution_count": null,
      "outputs": []
    },
    {
      "cell_type": "code",
      "metadata": {
        "id": "Tlh7rM5OifLz"
      },
      "source": [
        "men = [x[:-2] for x in men]"
      ],
      "execution_count": null,
      "outputs": []
    },
    {
      "cell_type": "code",
      "metadata": {
        "id": "IMG3_QTMG-yU"
      },
      "source": [
        "f=open(datasets_dir + \"new/new_WS-353-ALL.txt\",\"r\")\n",
        "lines=f.readlines()\n",
        "ws353all=[]\n",
        "for x in lines:\n",
        "    ws353all.append(x.split('\\t')[0])\n",
        "    ws353all.append(x.split('\\t')[1])\n",
        "f.close()"
      ],
      "execution_count": null,
      "outputs": []
    },
    {
      "cell_type": "code",
      "metadata": {
        "id": "kAsntHJFjBQ2"
      },
      "source": [
        "del ws353all[0:2]"
      ],
      "execution_count": null,
      "outputs": []
    },
    {
      "cell_type": "code",
      "metadata": {
        "id": "XjullCOBHXEt"
      },
      "source": [
        "f=open(datasets_dir + \"new/new_WS-353-REL.txt\",\"r\")\n",
        "lines=f.readlines()\n",
        "ws353rel=[]\n",
        "for x in lines:\n",
        "    ws353rel.append(x.split('\\t')[0])\n",
        "    ws353rel.append(x.split('\\t')[1])\n",
        "f.close()"
      ],
      "execution_count": null,
      "outputs": []
    },
    {
      "cell_type": "code",
      "metadata": {
        "id": "PTzn9LIpHXje"
      },
      "source": [
        "f=open(datasets_dir + \"new/new_WS-353-SIM.txt\",\"r\")\n",
        "lines=f.readlines()\n",
        "ws353sim=[]\n",
        "for x in lines:\n",
        "    ws353sim.append(x.split('\\t')[0])\n",
        "    ws353sim.append(x.split('\\t')[1])\n",
        "f.close()"
      ],
      "execution_count": null,
      "outputs": []
    },
    {
      "cell_type": "code",
      "metadata": {
        "id": "UydRjTF7H3_r"
      },
      "source": [
        "f=open(datasets_dir + \"new/new_SIM999.txt\",\"r\")\n",
        "lines=f.readlines()\n",
        "simLex=[]\n",
        "for x in lines:\n",
        "    simLex.append(x.split('\\t')[0])\n",
        "    simLex.append(x.split('\\t')[1])\n",
        "f.close()"
      ],
      "execution_count": null,
      "outputs": []
    },
    {
      "cell_type": "code",
      "metadata": {
        "id": "O-yaoEmPj0zH"
      },
      "source": [
        "del simLex[0:2]"
      ],
      "execution_count": null,
      "outputs": []
    },
    {
      "cell_type": "code",
      "metadata": {
        "id": "0U22JYCQIsOp"
      },
      "source": [
        "f=open(datasets_dir + \"new/new_RW.txt\",\"r\")\n",
        "lines=f.readlines()\n",
        "rw=[]\n",
        "for x in lines:\n",
        "    rw.append(x.split('\\t')[0])\n",
        "    rw.append(x.split('\\t')[1])\n",
        "f.close()"
      ],
      "execution_count": null,
      "outputs": []
    },
    {
      "cell_type": "code",
      "metadata": {
        "id": "uvy7xJB7I_wF"
      },
      "source": [
        "f=open(datasets_dir + \"EN-RG-65.txt\",\"r\")\n",
        "lines=f.readlines()\n",
        "rg65=[]\n",
        "for x in lines:\n",
        "    rg65.append(x.split('\\t')[0])\n",
        "    rg65.append(x.split('\\t')[1])\n",
        "f.close()"
      ],
      "execution_count": null,
      "outputs": []
    },
    {
      "cell_type": "code",
      "metadata": {
        "id": "BTLAfGhlJAH4"
      },
      "source": [
        "f=open(datasets_dir + \"new/new_MTurk287.txt\",\"r\")\n",
        "lines=f.readlines()\n",
        "mturk=[]\n",
        "for x in lines:\n",
        "    mturk.append(x.split(' ')[0])\n",
        "    mturk.append(x.split(' ')[1])\n",
        "f.close()"
      ],
      "execution_count": null,
      "outputs": []
    },
    {
      "cell_type": "code",
      "metadata": {
        "id": "A2T2E0oTO77e"
      },
      "source": [
        "f=open(datasets_dir + \"new/new_GOOGLE_nt.txt\",\"r\")\n",
        "lines=f.readlines()\n",
        "google_temp=[]\n",
        "\n",
        "for x in lines:\n",
        "    google_temp.append(x.split(' ')[0])\n",
        "    google_temp.append(x.split(' ')[1])\n",
        "    google_temp.append(x.split(' ')[2])\n",
        "    google_temp.append(x.split(' ')[3])\n",
        "f.close()"
      ],
      "execution_count": null,
      "outputs": []
    },
    {
      "cell_type": "code",
      "metadata": {
        "id": "7BR64s7sSRTA"
      },
      "source": [
        "google = []\n",
        "\n",
        "for el in google_temp:\n",
        "    google.append(el.strip())"
      ],
      "execution_count": null,
      "outputs": []
    },
    {
      "cell_type": "code",
      "metadata": {
        "id": "8bKNuzeRSqtF"
      },
      "source": [
        "f=open(datasets_dir + \"new/new_MSR.txt\",\"r\")\n",
        "lines=f.readlines()\n",
        "msr_temp=[]\n",
        "\n",
        "for x in lines:\n",
        "    msr_temp.append(x.split(' ')[0])\n",
        "    msr_temp.append(x.split(' ')[1])\n",
        "    msr_temp.append(x.split(' ')[2])\n",
        "    msr_temp.append(x.split(' ')[4])\n",
        "f.close()"
      ],
      "execution_count": null,
      "outputs": []
    },
    {
      "cell_type": "code",
      "metadata": {
        "id": "cQIRBwrlS9wW"
      },
      "source": [
        "msr = []\n",
        "\n",
        "for el in msr_temp:\n",
        "    msr.append(el.strip())"
      ],
      "execution_count": null,
      "outputs": []
    },
    {
      "cell_type": "code",
      "metadata": {
        "id": "e1xGmzMhD-NJ"
      },
      "source": [
        "semeval_files = []\n",
        "for filename in Path(datasets_dir + \"SEMEVAL2012original/\").iterdir():\n",
        "    with open(filename) as f:\n",
        "        semeval_files.extend(f.read().splitlines()[1:])"
      ],
      "execution_count": null,
      "outputs": []
    },
    {
      "cell_type": "code",
      "metadata": {
        "id": "lRH_f-GME7uK"
      },
      "source": [
        "semeval_files = [s.replace(':', ' ') for s in semeval_files]"
      ],
      "execution_count": null,
      "outputs": []
    },
    {
      "cell_type": "code",
      "metadata": {
        "id": "5tWejhkqEpio"
      },
      "source": [
        "semeval=[]\n",
        "\n",
        "for x in semeval_files:\n",
        "    semeval.append(x.split(' ')[0])\n",
        "    semeval.append(x.split(' ')[1])\n",
        "f.close()"
      ],
      "execution_count": null,
      "outputs": []
    },
    {
      "cell_type": "markdown",
      "metadata": {
        "id": "mpQ4wyWlE4Bh"
      },
      "source": [
        "DATASET PREPROCESSING"
      ]
    },
    {
      "cell_type": "code",
      "metadata": {
        "id": "PvLthsdbFYGY"
      },
      "source": [
        "semeval = list(dict.fromkeys(semeval))"
      ],
      "execution_count": null,
      "outputs": []
    },
    {
      "cell_type": "code",
      "metadata": {
        "id": "_-NCF5w-E570"
      },
      "source": [
        "msr = list(dict.fromkeys(msr))"
      ],
      "execution_count": null,
      "outputs": []
    },
    {
      "cell_type": "code",
      "metadata": {
        "id": "PcXa-44KE6TH"
      },
      "source": [
        "google = list(dict.fromkeys(google))"
      ],
      "execution_count": null,
      "outputs": []
    },
    {
      "cell_type": "code",
      "metadata": {
        "id": "jSKkhSeNE6dK"
      },
      "source": [
        "mturk = list(dict.fromkeys(mturk))"
      ],
      "execution_count": null,
      "outputs": []
    },
    {
      "cell_type": "code",
      "metadata": {
        "id": "htq9n-7KE6k7"
      },
      "source": [
        "rg65 = list(dict.fromkeys(rg65))"
      ],
      "execution_count": null,
      "outputs": []
    },
    {
      "cell_type": "code",
      "metadata": {
        "id": "PPpVaM2CE6sk"
      },
      "source": [
        "rw = list(dict.fromkeys(rw))"
      ],
      "execution_count": null,
      "outputs": []
    },
    {
      "cell_type": "code",
      "metadata": {
        "id": "GQc64N1ZE62Z"
      },
      "source": [
        "simLex = list(dict.fromkeys(simLex))"
      ],
      "execution_count": null,
      "outputs": []
    },
    {
      "cell_type": "code",
      "metadata": {
        "id": "_uRBG6WKFKNJ"
      },
      "source": [
        "ws353sim = list(dict.fromkeys(ws353sim))"
      ],
      "execution_count": null,
      "outputs": []
    },
    {
      "cell_type": "code",
      "metadata": {
        "id": "i6Fw1rrwFKZh"
      },
      "source": [
        "ws353rel = list(dict.fromkeys(ws353rel))"
      ],
      "execution_count": null,
      "outputs": []
    },
    {
      "cell_type": "code",
      "metadata": {
        "id": "m0uTZ3oCFKkC"
      },
      "source": [
        "ws353all = list(dict.fromkeys(ws353all))"
      ],
      "execution_count": null,
      "outputs": []
    },
    {
      "cell_type": "code",
      "metadata": {
        "id": "lDBieQhFFKuw"
      },
      "source": [
        "men = list(dict.fromkeys(men))"
      ],
      "execution_count": null,
      "outputs": []
    },
    {
      "cell_type": "markdown",
      "metadata": {
        "id": "wWCcBh1GjoC3"
      },
      "source": [
        "TEXT PREPROCESSING"
      ]
    },
    {
      "cell_type": "code",
      "metadata": {
        "id": "5ueF_WkuS4Ns"
      },
      "source": [
        "punct = ''''\"“”’'.,<>!\\()\\\\|[]{}~;:?`+=@#$%^&*'''"
      ],
      "execution_count": null,
      "outputs": []
    },
    {
      "cell_type": "code",
      "metadata": {
        "id": "3XJYtqD7S4Nt"
      },
      "source": [
        "def remove_punct(text):\n",
        "    text  = \"\".join([char for char in text if char not in punct])\n",
        "    return text"
      ],
      "execution_count": null,
      "outputs": []
    },
    {
      "cell_type": "code",
      "metadata": {
        "id": "yX5-5rP2SbBi"
      },
      "source": [
        "df_Vanilla['token'] = df_Vanilla['text'].apply(lambda x: remove_punct(x))\n",
        "\n",
        "df_Vanilla['token']=df_Vanilla['token'].str.lower().str.split()"
      ],
      "execution_count": null,
      "outputs": []
    },
    {
      "cell_type": "code",
      "metadata": {
        "id": "YPzSibpV57r2"
      },
      "source": [
        "df_PE['token'] = df_PE['text'].apply(lambda x: remove_punct(x))\n",
        "\n",
        "df_PE['token']=df_PE['token'].str.lower().str.split()"
      ],
      "execution_count": null,
      "outputs": []
    },
    {
      "cell_type": "code",
      "metadata": {
        "id": "DWTI_xv258PJ"
      },
      "source": [
        "df_Gensim['token'] = df_Gensim['text'].apply(lambda x: remove_punct(x))\n",
        "\n",
        "df_Gensim['token']=df_Gensim['token'].str.lower().str.split()"
      ],
      "execution_count": null,
      "outputs": []
    },
    {
      "cell_type": "code",
      "metadata": {
        "id": "5wHp6J8i58dh"
      },
      "source": [
        "df_Rake['token'] = df_Rake['text'].apply(lambda x: remove_punct(x))\n",
        "\n",
        "df_Rake['token']=df_Rake['token'].str.lower().str.split()"
      ],
      "execution_count": null,
      "outputs": []
    },
    {
      "cell_type": "code",
      "metadata": {
        "id": "Bo-WpBBk58za"
      },
      "source": [
        "df_Topicrank['token'] = df_Topicrank['text'].apply(lambda x: remove_punct(x))\n",
        "\n",
        "df_Topicrank['token']=df_Topicrank['token'].str.lower().str.split()"
      ],
      "execution_count": null,
      "outputs": []
    },
    {
      "cell_type": "markdown",
      "metadata": {
        "id": "ooL3kfu2wxE2"
      },
      "source": [
        "MEN"
      ]
    },
    {
      "cell_type": "code",
      "metadata": {
        "id": "j017gbVQ08LO"
      },
      "source": [
        "df_Vanilla['men'] = df_Vanilla['token'].apply(lambda x: [item for item in x if item in men])"
      ],
      "execution_count": null,
      "outputs": []
    },
    {
      "cell_type": "code",
      "metadata": {
        "id": "L7brcyD174zF"
      },
      "source": [
        "df_PE['men'] = df_PE['token'].apply(lambda x: [item for item in x if item in men])"
      ],
      "execution_count": null,
      "outputs": []
    },
    {
      "cell_type": "code",
      "metadata": {
        "id": "uQH5791T75C5"
      },
      "source": [
        "df_Gensim['men'] = df_Gensim['token'].apply(lambda x: [item for item in x if item in men])"
      ],
      "execution_count": null,
      "outputs": []
    },
    {
      "cell_type": "code",
      "metadata": {
        "id": "Pd0WfNCd75UI"
      },
      "source": [
        "df_Rake['men'] = df_Rake['token'].apply(lambda x: [item for item in x if item in men])"
      ],
      "execution_count": null,
      "outputs": []
    },
    {
      "cell_type": "code",
      "metadata": {
        "id": "tUYicnXC75iM"
      },
      "source": [
        "df_Topicrank['men'] = df_Topicrank['token'].apply(lambda x: [item for item in x if item in men])"
      ],
      "execution_count": null,
      "outputs": []
    },
    {
      "cell_type": "code",
      "metadata": {
        "id": "sNXtXxEk4Uwz"
      },
      "source": [
        "men_vanilla_counter = Counter(chain.from_iterable(df_Vanilla['men']))"
      ],
      "execution_count": null,
      "outputs": []
    },
    {
      "cell_type": "code",
      "metadata": {
        "id": "7frbSBVu5ae_"
      },
      "source": [
        "men_PE_counter = Counter(chain.from_iterable(df_PE['men']))"
      ],
      "execution_count": null,
      "outputs": []
    },
    {
      "cell_type": "code",
      "metadata": {
        "id": "7PoJwkta5a45"
      },
      "source": [
        "men_gensim_counter = Counter(chain.from_iterable(df_Gensim['men']))"
      ],
      "execution_count": null,
      "outputs": []
    },
    {
      "cell_type": "code",
      "metadata": {
        "id": "2woTBe0O5bGx"
      },
      "source": [
        "men_rake_counter = Counter(chain.from_iterable(df_Rake['men']))"
      ],
      "execution_count": null,
      "outputs": []
    },
    {
      "cell_type": "code",
      "metadata": {
        "id": "J09mPyXp5bT5"
      },
      "source": [
        "men_topicrank_counter = Counter(chain.from_iterable(df_Topicrank['men']))"
      ],
      "execution_count": null,
      "outputs": []
    },
    {
      "cell_type": "markdown",
      "metadata": {
        "id": "JJqX0t5B7TeF"
      },
      "source": [
        "WS353ALL"
      ]
    },
    {
      "cell_type": "code",
      "metadata": {
        "id": "8qH2haWo40Ij"
      },
      "source": [
        "df_Vanilla['ws353all'] = df_Vanilla['token'].apply(lambda x: [item for item in x if item in ws353all])"
      ],
      "execution_count": null,
      "outputs": []
    },
    {
      "cell_type": "code",
      "metadata": {
        "id": "m_hbLftb8l9P"
      },
      "source": [
        "df_PE['ws353all'] = df_PE['token'].apply(lambda x: [item for item in x if item in ws353all])"
      ],
      "execution_count": null,
      "outputs": []
    },
    {
      "cell_type": "code",
      "metadata": {
        "id": "wNkAzZOx8mKf"
      },
      "source": [
        "df_Gensim['ws353all'] = df_Gensim['token'].apply(lambda x: [item for item in x if item in ws353all])"
      ],
      "execution_count": null,
      "outputs": []
    },
    {
      "cell_type": "code",
      "metadata": {
        "id": "RUMtRFdn8mXC"
      },
      "source": [
        "df_Rake['ws353all'] = df_Rake['token'].apply(lambda x: [item for item in x if item in ws353all])"
      ],
      "execution_count": null,
      "outputs": []
    },
    {
      "cell_type": "code",
      "metadata": {
        "id": "nmHPSGwv8mno"
      },
      "source": [
        "df_Topicrank['ws353all'] = df_Topicrank['token'].apply(lambda x: [item for item in x if item in ws353all])"
      ],
      "execution_count": null,
      "outputs": []
    },
    {
      "cell_type": "code",
      "metadata": {
        "id": "4rjtMQcA_0ql"
      },
      "source": [
        "ws353all_vanilla_counter = Counter(chain.from_iterable(df_Vanilla['ws353all']))"
      ],
      "execution_count": null,
      "outputs": []
    },
    {
      "cell_type": "code",
      "metadata": {
        "id": "peRFGKc-Afm1"
      },
      "source": [
        "ws353all_PE_counter = Counter(chain.from_iterable(df_PE['ws353all']))"
      ],
      "execution_count": null,
      "outputs": []
    },
    {
      "cell_type": "code",
      "metadata": {
        "id": "poKoebOTAfyb"
      },
      "source": [
        "ws353all_gensim_counter = Counter(chain.from_iterable(df_Gensim['ws353all']))"
      ],
      "execution_count": null,
      "outputs": []
    },
    {
      "cell_type": "code",
      "metadata": {
        "id": "ycXejCqxAf9K"
      },
      "source": [
        "ws353all_rake_counter = Counter(chain.from_iterable(df_Rake['ws353all']))"
      ],
      "execution_count": null,
      "outputs": []
    },
    {
      "cell_type": "code",
      "metadata": {
        "id": "YgDbdUchAgF_"
      },
      "source": [
        "ws353all_topicrank_counter = Counter(chain.from_iterable(df_Topicrank['ws353all']))"
      ],
      "execution_count": null,
      "outputs": []
    },
    {
      "cell_type": "markdown",
      "metadata": {
        "id": "3HgXBs52I2kf"
      },
      "source": [
        "WS353REL"
      ]
    },
    {
      "cell_type": "code",
      "metadata": {
        "id": "DHfbEn6k46F1"
      },
      "source": [
        "df_Vanilla['ws353rel'] = df_Vanilla['token'].apply(lambda x: [item for item in x if item in ws353rel])"
      ],
      "execution_count": null,
      "outputs": []
    },
    {
      "cell_type": "code",
      "metadata": {
        "id": "8K2sRmwr8zHV"
      },
      "source": [
        "df_PE['ws353rel'] = df_PE['token'].apply(lambda x: [item for item in x if item in ws353rel])"
      ],
      "execution_count": null,
      "outputs": []
    },
    {
      "cell_type": "code",
      "metadata": {
        "id": "nRg-GxPG8zTP"
      },
      "source": [
        "df_Gensim['ws353rel'] = df_Gensim['token'].apply(lambda x: [item for item in x if item in ws353rel])"
      ],
      "execution_count": null,
      "outputs": []
    },
    {
      "cell_type": "code",
      "metadata": {
        "id": "WMKKTzj78zjo"
      },
      "source": [
        "df_Rake['ws353rel'] = df_Rake['token'].apply(lambda x: [item for item in x if item in ws353rel])"
      ],
      "execution_count": null,
      "outputs": []
    },
    {
      "cell_type": "code",
      "metadata": {
        "id": "SL4kB31f8zu4"
      },
      "source": [
        "df_Topicrank['ws353rel'] = df_Topicrank['token'].apply(lambda x: [item for item in x if item in ws353rel])"
      ],
      "execution_count": null,
      "outputs": []
    },
    {
      "cell_type": "code",
      "metadata": {
        "id": "mA5Q8KOw_5xD"
      },
      "source": [
        "ws353rel_vanilla_counter = Counter(chain.from_iterable(df_Vanilla['ws353rel']))"
      ],
      "execution_count": null,
      "outputs": []
    },
    {
      "cell_type": "code",
      "metadata": {
        "id": "-seVRZ7XAuFQ"
      },
      "source": [
        "ws353rel_PE_counter = Counter(chain.from_iterable(df_PE['ws353rel']))"
      ],
      "execution_count": null,
      "outputs": []
    },
    {
      "cell_type": "code",
      "metadata": {
        "id": "5KPruxVkAuQc"
      },
      "source": [
        "ws353rel_gensim_counter = Counter(chain.from_iterable(df_Gensim['ws353rel']))"
      ],
      "execution_count": null,
      "outputs": []
    },
    {
      "cell_type": "code",
      "metadata": {
        "id": "t8tIhFEAAuaq"
      },
      "source": [
        "ws353rel_rake_counter = Counter(chain.from_iterable(df_Rake['ws353rel']))"
      ],
      "execution_count": null,
      "outputs": []
    },
    {
      "cell_type": "code",
      "metadata": {
        "id": "nXBE_wS0Ault"
      },
      "source": [
        "ws353rel_topicrank_counter = Counter(chain.from_iterable(df_Topicrank['ws353rel']))"
      ],
      "execution_count": null,
      "outputs": []
    },
    {
      "cell_type": "markdown",
      "metadata": {
        "id": "invph2kkIv0H"
      },
      "source": [
        "WS353SIM"
      ]
    },
    {
      "cell_type": "code",
      "metadata": {
        "id": "xJCMXw6Z46d8"
      },
      "source": [
        "df_Vanilla['ws353sim'] = df_Vanilla['token'].apply(lambda x: [item for item in x if item in ws353sim])"
      ],
      "execution_count": null,
      "outputs": []
    },
    {
      "cell_type": "code",
      "metadata": {
        "id": "SGu9SmgQ88sN"
      },
      "source": [
        "df_PE['ws353sim'] = df_PE['token'].apply(lambda x: [item for item in x if item in ws353sim])"
      ],
      "execution_count": null,
      "outputs": []
    },
    {
      "cell_type": "code",
      "metadata": {
        "id": "uQYALvBv883q"
      },
      "source": [
        "df_Gensim['ws353sim'] = df_Gensim['token'].apply(lambda x: [item for item in x if item in ws353sim])"
      ],
      "execution_count": null,
      "outputs": []
    },
    {
      "cell_type": "code",
      "metadata": {
        "id": "sezCwe6K89Gp"
      },
      "source": [
        "df_Rake['ws353sim'] = df_Rake['token'].apply(lambda x: [item for item in x if item in ws353sim])"
      ],
      "execution_count": null,
      "outputs": []
    },
    {
      "cell_type": "code",
      "metadata": {
        "id": "noV6RVIc89XB"
      },
      "source": [
        "df_Topicrank['ws353sim'] = df_Topicrank['token'].apply(lambda x: [item for item in x if item in ws353sim])"
      ],
      "execution_count": null,
      "outputs": []
    },
    {
      "cell_type": "code",
      "metadata": {
        "id": "4Nx9V3qe_6X_"
      },
      "source": [
        "ws353sim_vanilla_counter = Counter(chain.from_iterable(df_Vanilla['ws353sim']))"
      ],
      "execution_count": null,
      "outputs": []
    },
    {
      "cell_type": "code",
      "metadata": {
        "id": "Xe9cEKc6A4I9"
      },
      "source": [
        "ws353sim_PE_counter = Counter(chain.from_iterable(df_PE['ws353sim']))"
      ],
      "execution_count": null,
      "outputs": []
    },
    {
      "cell_type": "code",
      "metadata": {
        "id": "H3pPc8ccA4Vz"
      },
      "source": [
        "ws353sim_gensim_counter = Counter(chain.from_iterable(df_Gensim['ws353sim']))"
      ],
      "execution_count": null,
      "outputs": []
    },
    {
      "cell_type": "code",
      "metadata": {
        "id": "7kmmtvZYA4g_"
      },
      "source": [
        "ws353sim_rake_counter = Counter(chain.from_iterable(df_Rake['ws353sim']))"
      ],
      "execution_count": null,
      "outputs": []
    },
    {
      "cell_type": "code",
      "metadata": {
        "id": "sHNSOZSNA4sU"
      },
      "source": [
        "ws353sim_topicrank_counter = Counter(chain.from_iterable(df_Topicrank['ws353sim']))"
      ],
      "execution_count": null,
      "outputs": []
    },
    {
      "cell_type": "markdown",
      "metadata": {
        "id": "RJdwhoAkIuBI"
      },
      "source": [
        "SIMLEX999"
      ]
    },
    {
      "cell_type": "code",
      "metadata": {
        "id": "OtOaH-6X46zF"
      },
      "source": [
        "df_Vanilla['simLex'] = df_Vanilla['token'].apply(lambda x: [item for item in x if item in simLex])"
      ],
      "execution_count": null,
      "outputs": []
    },
    {
      "cell_type": "code",
      "metadata": {
        "id": "b75NDMFf9YmA"
      },
      "source": [
        "df_PE['simLex'] = df_PE['token'].apply(lambda x: [item for item in x if item in simLex])"
      ],
      "execution_count": null,
      "outputs": []
    },
    {
      "cell_type": "code",
      "metadata": {
        "id": "8L9M7s0Z9Yzo"
      },
      "source": [
        "df_Gensim['simLex'] = df_Gensim['token'].apply(lambda x: [item for item in x if item in simLex])"
      ],
      "execution_count": null,
      "outputs": []
    },
    {
      "cell_type": "code",
      "metadata": {
        "id": "kLKwAetQ9Y_B"
      },
      "source": [
        "df_Rake['simLex'] = df_Rake['token'].apply(lambda x: [item for item in x if item in simLex])"
      ],
      "execution_count": null,
      "outputs": []
    },
    {
      "cell_type": "code",
      "metadata": {
        "id": "lCefX4nw9ZKU"
      },
      "source": [
        "df_Topicrank['simLex'] = df_Topicrank['token'].apply(lambda x: [item for item in x if item in simLex])"
      ],
      "execution_count": null,
      "outputs": []
    },
    {
      "cell_type": "code",
      "metadata": {
        "id": "7HKinzy5_8aA"
      },
      "source": [
        "simLex_vanilla_counter = Counter(chain.from_iterable(df_Vanilla['simLex']))"
      ],
      "execution_count": null,
      "outputs": []
    },
    {
      "cell_type": "code",
      "metadata": {
        "id": "wFeLXOnOBUvS"
      },
      "source": [
        "simLex_PE_counter = Counter(chain.from_iterable(df_PE['simLex']))"
      ],
      "execution_count": null,
      "outputs": []
    },
    {
      "cell_type": "code",
      "metadata": {
        "id": "o5ZQA6f2BU9W"
      },
      "source": [
        "simLex_gensim_counter = Counter(chain.from_iterable(df_Gensim['simLex']))"
      ],
      "execution_count": null,
      "outputs": []
    },
    {
      "cell_type": "code",
      "metadata": {
        "id": "NF-yLYRnBVJf"
      },
      "source": [
        "simLex_rake_counter = Counter(chain.from_iterable(df_Rake['simLex']))"
      ],
      "execution_count": null,
      "outputs": []
    },
    {
      "cell_type": "code",
      "metadata": {
        "id": "9xB9zEd4BVWF"
      },
      "source": [
        "simLex_topicrank_counter = Counter(chain.from_iterable(df_Topicrank['simLex']))"
      ],
      "execution_count": null,
      "outputs": []
    },
    {
      "cell_type": "markdown",
      "metadata": {
        "id": "6hXAMiHEIsIO"
      },
      "source": [
        "RARE WORD"
      ]
    },
    {
      "cell_type": "code",
      "metadata": {
        "id": "-zZzMO3v49TQ"
      },
      "source": [
        "df_Vanilla['rw'] = df_Vanilla['token'].apply(lambda x: [item for item in x if item in rw])"
      ],
      "execution_count": null,
      "outputs": []
    },
    {
      "cell_type": "code",
      "metadata": {
        "id": "G5VhhBhK90uO"
      },
      "source": [
        "df_PE['rw'] = df_PE['token'].apply(lambda x: [item for item in x if item in rw])"
      ],
      "execution_count": null,
      "outputs": []
    },
    {
      "cell_type": "code",
      "metadata": {
        "id": "RBhzv__c91GF"
      },
      "source": [
        "df_Gensim['rw'] = df_Gensim['token'].apply(lambda x: [item for item in x if item in rw])"
      ],
      "execution_count": null,
      "outputs": []
    },
    {
      "cell_type": "code",
      "metadata": {
        "id": "l1nCd3U291ST"
      },
      "source": [
        "df_Rake['rw'] = df_Rake['token'].apply(lambda x: [item for item in x if item in rw])"
      ],
      "execution_count": null,
      "outputs": []
    },
    {
      "cell_type": "code",
      "metadata": {
        "id": "ADLTueHa91eA"
      },
      "source": [
        "df_Topicrank['rw'] = df_Topicrank['token'].apply(lambda x: [item for item in x if item in rw])"
      ],
      "execution_count": null,
      "outputs": []
    },
    {
      "cell_type": "code",
      "metadata": {
        "id": "McfWRTNi_9Ew"
      },
      "source": [
        "rw_vanilla_counter = Counter(chain.from_iterable(df_Vanilla['rw']))"
      ],
      "execution_count": null,
      "outputs": []
    },
    {
      "cell_type": "code",
      "metadata": {
        "id": "mqFmIJV5BeA9"
      },
      "source": [
        "rw_PE_counter = Counter(chain.from_iterable(df_PE['rw']))"
      ],
      "execution_count": null,
      "outputs": []
    },
    {
      "cell_type": "code",
      "metadata": {
        "id": "_zUC-6sQBeMg"
      },
      "source": [
        "rw_gensim_counter = Counter(chain.from_iterable(df_Gensim['rw']))"
      ],
      "execution_count": null,
      "outputs": []
    },
    {
      "cell_type": "code",
      "metadata": {
        "id": "XVhQvOoTBeXc"
      },
      "source": [
        "rw_rake_counter = Counter(chain.from_iterable(df_Rake['rw']))"
      ],
      "execution_count": null,
      "outputs": []
    },
    {
      "cell_type": "code",
      "metadata": {
        "id": "Va0_KDHNBeib"
      },
      "source": [
        "rw_topicrank_counter = Counter(chain.from_iterable(df_Topicrank['rw']))"
      ],
      "execution_count": null,
      "outputs": []
    },
    {
      "cell_type": "markdown",
      "metadata": {
        "id": "VX1fzPzLIoar"
      },
      "source": [
        "RG65"
      ]
    },
    {
      "cell_type": "code",
      "metadata": {
        "id": "oPuMT0hO49j8"
      },
      "source": [
        "df_Vanilla['rg65'] = df_Vanilla['token'].apply(lambda x: [item for item in x if item in rg65])"
      ],
      "execution_count": null,
      "outputs": []
    },
    {
      "cell_type": "code",
      "metadata": {
        "id": "luYffsuA98rg"
      },
      "source": [
        "df_PE['rg65'] = df_PE['token'].apply(lambda x: [item for item in x if item in rg65])"
      ],
      "execution_count": null,
      "outputs": []
    },
    {
      "cell_type": "code",
      "metadata": {
        "id": "bRNAI9B_982y"
      },
      "source": [
        "df_Gensim['rg65'] = df_Gensim['token'].apply(lambda x: [item for item in x if item in rg65])"
      ],
      "execution_count": null,
      "outputs": []
    },
    {
      "cell_type": "code",
      "metadata": {
        "id": "QjhBkZYr99Ce"
      },
      "source": [
        "df_Rake['rg65'] = df_Rake['token'].apply(lambda x: [item for item in x if item in rg65])"
      ],
      "execution_count": null,
      "outputs": []
    },
    {
      "cell_type": "code",
      "metadata": {
        "id": "MKgKnb2999Ms"
      },
      "source": [
        "df_Topicrank['rg65'] = df_Topicrank['token'].apply(lambda x: [item for item in x if item in rg65])"
      ],
      "execution_count": null,
      "outputs": []
    },
    {
      "cell_type": "code",
      "metadata": {
        "id": "d7EPax_r_9zo"
      },
      "source": [
        "rg65_vanilla_counter = Counter(chain.from_iterable(df_Vanilla['rg65']))"
      ],
      "execution_count": null,
      "outputs": []
    },
    {
      "cell_type": "code",
      "metadata": {
        "id": "rJKNZGWEBoFh"
      },
      "source": [
        "rg65_PE_counter = Counter(chain.from_iterable(df_PE['rg65']))"
      ],
      "execution_count": null,
      "outputs": []
    },
    {
      "cell_type": "code",
      "metadata": {
        "id": "qX8kqcrPBoPt"
      },
      "source": [
        "rg65_gensim_counter = Counter(chain.from_iterable(df_Gensim['rg65']))"
      ],
      "execution_count": null,
      "outputs": []
    },
    {
      "cell_type": "code",
      "metadata": {
        "id": "ovk40vRyBoeG"
      },
      "source": [
        "rg65_rake_counter = Counter(chain.from_iterable(df_Rake['rg65']))"
      ],
      "execution_count": null,
      "outputs": []
    },
    {
      "cell_type": "code",
      "metadata": {
        "id": "Rc9liPIdBov3"
      },
      "source": [
        "rg65_topicrank_counter = Counter(chain.from_iterable(df_Topicrank['rg65']))"
      ],
      "execution_count": null,
      "outputs": []
    },
    {
      "cell_type": "markdown",
      "metadata": {
        "id": "9eSkyhivHpQE"
      },
      "source": [
        "MTURK"
      ]
    },
    {
      "cell_type": "code",
      "metadata": {
        "id": "QMi6Jkuk49xm"
      },
      "source": [
        "df_Vanilla['mturk'] = df_Vanilla['token'].apply(lambda x: [item for item in x if item in mturk])"
      ],
      "execution_count": null,
      "outputs": []
    },
    {
      "cell_type": "code",
      "metadata": {
        "id": "T4AcJIUi-DsM"
      },
      "source": [
        "df_PE['mturk'] = df_PE['token'].apply(lambda x: [item for item in x if item in mturk])"
      ],
      "execution_count": null,
      "outputs": []
    },
    {
      "cell_type": "code",
      "metadata": {
        "id": "l2U4lpSt-D3N"
      },
      "source": [
        "df_Gensim['mturk'] = df_Gensim['token'].apply(lambda x: [item for item in x if item in mturk])"
      ],
      "execution_count": null,
      "outputs": []
    },
    {
      "cell_type": "code",
      "metadata": {
        "id": "IZgTHKVj-EBo"
      },
      "source": [
        "df_Rake['mturk'] = df_Rake['token'].apply(lambda x: [item for item in x if item in mturk])"
      ],
      "execution_count": null,
      "outputs": []
    },
    {
      "cell_type": "code",
      "metadata": {
        "id": "Vr-X2ll4-EMM"
      },
      "source": [
        "df_Topicrank['mturk'] = df_Topicrank['token'].apply(lambda x: [item for item in x if item in mturk])"
      ],
      "execution_count": null,
      "outputs": []
    },
    {
      "cell_type": "code",
      "metadata": {
        "id": "HFKbBkPC_-bs"
      },
      "source": [
        "mturk_vanilla_counter = Counter(chain.from_iterable(df_Vanilla['mturk']))"
      ],
      "execution_count": null,
      "outputs": []
    },
    {
      "cell_type": "code",
      "metadata": {
        "id": "FxCR-SkaBxmj"
      },
      "source": [
        "mturk_PE_counter = Counter(chain.from_iterable(df_PE['mturk']))"
      ],
      "execution_count": null,
      "outputs": []
    },
    {
      "cell_type": "code",
      "metadata": {
        "id": "f2FiK9qoBxxd"
      },
      "source": [
        "mturk_gensim_counter = Counter(chain.from_iterable(df_Gensim['mturk']))"
      ],
      "execution_count": null,
      "outputs": []
    },
    {
      "cell_type": "code",
      "metadata": {
        "id": "gTgi6k6rBx7B"
      },
      "source": [
        "mturk_rake_counter = Counter(chain.from_iterable(df_Rake['mturk']))"
      ],
      "execution_count": null,
      "outputs": []
    },
    {
      "cell_type": "code",
      "metadata": {
        "id": "NzbxMG5yByFo"
      },
      "source": [
        "mturk_topicrank_counter = Counter(chain.from_iterable(df_Topicrank['mturk']))"
      ],
      "execution_count": null,
      "outputs": []
    },
    {
      "cell_type": "markdown",
      "metadata": {
        "id": "RcrLphYSHbES"
      },
      "source": [
        "GOOGLE"
      ]
    },
    {
      "cell_type": "code",
      "metadata": {
        "id": "4_OuGuKX499y"
      },
      "source": [
        "df_Vanilla['google'] = df_Vanilla['token'].apply(lambda x: [item for item in x if item in google])"
      ],
      "execution_count": null,
      "outputs": []
    },
    {
      "cell_type": "code",
      "metadata": {
        "id": "WkcYe-0p-LA0"
      },
      "source": [
        "df_PE['google'] = df_PE['token'].apply(lambda x: [item for item in x if item in google])"
      ],
      "execution_count": null,
      "outputs": []
    },
    {
      "cell_type": "code",
      "metadata": {
        "id": "RPXdJoJE-LMp"
      },
      "source": [
        "df_Gensim['google'] = df_Gensim['token'].apply(lambda x: [item for item in x if item in google])"
      ],
      "execution_count": null,
      "outputs": []
    },
    {
      "cell_type": "code",
      "metadata": {
        "id": "wUnt71Tp-LXl"
      },
      "source": [
        "df_Rake['google'] = df_Rake['token'].apply(lambda x: [item for item in x if item in google])"
      ],
      "execution_count": null,
      "outputs": []
    },
    {
      "cell_type": "code",
      "metadata": {
        "id": "MEPlGiAZ-LgS"
      },
      "source": [
        "df_Topicrank['google'] = df_Topicrank['token'].apply(lambda x: [item for item in x if item in google])"
      ],
      "execution_count": null,
      "outputs": []
    },
    {
      "cell_type": "code",
      "metadata": {
        "id": "qeUBc9Ey__BA"
      },
      "source": [
        "google_vanilla_counter = Counter(chain.from_iterable(df_Vanilla['google']))"
      ],
      "execution_count": null,
      "outputs": []
    },
    {
      "cell_type": "code",
      "metadata": {
        "id": "rvhcTBQkB8vi"
      },
      "source": [
        "google_PE_counter = Counter(chain.from_iterable(df_PE['google']))"
      ],
      "execution_count": null,
      "outputs": []
    },
    {
      "cell_type": "code",
      "metadata": {
        "id": "-41AcZbRB86B"
      },
      "source": [
        "google_gensim_counter = Counter(chain.from_iterable(df_Gensim['google']))"
      ],
      "execution_count": null,
      "outputs": []
    },
    {
      "cell_type": "code",
      "metadata": {
        "id": "OSjGSQkXB9DR"
      },
      "source": [
        "google_rake_counter = Counter(chain.from_iterable(df_Rake['google']))"
      ],
      "execution_count": null,
      "outputs": []
    },
    {
      "cell_type": "code",
      "metadata": {
        "id": "RuSpWcNuB9M_"
      },
      "source": [
        "google_topicrank_counter = Counter(chain.from_iterable(df_Topicrank['google']))"
      ],
      "execution_count": null,
      "outputs": []
    },
    {
      "cell_type": "markdown",
      "metadata": {
        "id": "RVyqF4fNHF1L"
      },
      "source": [
        "MSR"
      ]
    },
    {
      "cell_type": "code",
      "metadata": {
        "id": "eu5Pu17w4-JQ"
      },
      "source": [
        "df_Vanilla['msr'] = df_Vanilla['token'].apply(lambda x: [item for item in x if item in msr])"
      ],
      "execution_count": null,
      "outputs": []
    },
    {
      "cell_type": "code",
      "metadata": {
        "id": "QwdQ9MRz-iSI"
      },
      "source": [
        "df_PE['msr'] = df_PE['token'].apply(lambda x: [item for item in x if item in msr])"
      ],
      "execution_count": null,
      "outputs": []
    },
    {
      "cell_type": "code",
      "metadata": {
        "id": "BtUvzYd4-ib3"
      },
      "source": [
        "df_Gensim['msr'] = df_Gensim['token'].apply(lambda x: [item for item in x if item in msr])"
      ],
      "execution_count": null,
      "outputs": []
    },
    {
      "cell_type": "code",
      "metadata": {
        "id": "H4sM0NG--iqd"
      },
      "source": [
        "df_Rake['msr'] = df_Rake['token'].apply(lambda x: [item for item in x if item in msr])"
      ],
      "execution_count": null,
      "outputs": []
    },
    {
      "cell_type": "code",
      "metadata": {
        "id": "Z4D1PgM0-i0f"
      },
      "source": [
        "df_Topicrank['msr'] = df_Topicrank['token'].apply(lambda x: [item for item in x if item in msr])"
      ],
      "execution_count": null,
      "outputs": []
    },
    {
      "cell_type": "code",
      "metadata": {
        "id": "_HIp91v2__ly"
      },
      "source": [
        "msr_vanilla_counter = Counter(chain.from_iterable(df_Vanilla['msr']))"
      ],
      "execution_count": null,
      "outputs": []
    },
    {
      "cell_type": "code",
      "metadata": {
        "id": "B2MUY7JqCJMP"
      },
      "source": [
        "msr_PE_counter = Counter(chain.from_iterable(df_PE['msr']))"
      ],
      "execution_count": null,
      "outputs": []
    },
    {
      "cell_type": "code",
      "metadata": {
        "id": "OoyxA_pSCJWI"
      },
      "source": [
        "msr_gensim_counter = Counter(chain.from_iterable(df_Gensim['msr']))"
      ],
      "execution_count": null,
      "outputs": []
    },
    {
      "cell_type": "code",
      "metadata": {
        "id": "44B0a7V9CJfp"
      },
      "source": [
        "msr_rake_counter = Counter(chain.from_iterable(df_Rake['msr']))"
      ],
      "execution_count": null,
      "outputs": []
    },
    {
      "cell_type": "code",
      "metadata": {
        "id": "TsSATkI1CJpQ"
      },
      "source": [
        "msr_topicrank_counter = Counter(chain.from_iterable(df_Topicrank['msr']))"
      ],
      "execution_count": null,
      "outputs": []
    },
    {
      "cell_type": "markdown",
      "metadata": {
        "id": "ACB81_-kFaSQ"
      },
      "source": [
        "SEMEVAL"
      ]
    },
    {
      "cell_type": "code",
      "metadata": {
        "id": "qxgUJnZ44-Vi"
      },
      "source": [
        "df_Vanilla['semeval'] = df_Vanilla['token'].apply(lambda x: [item for item in x if item in semeval])"
      ],
      "execution_count": null,
      "outputs": []
    },
    {
      "cell_type": "code",
      "metadata": {
        "id": "v6NQMtOM_qiC"
      },
      "source": [
        "df_PE['semeval'] = df_PE['token'].apply(lambda x: [item for item in x if item in semeval])"
      ],
      "execution_count": null,
      "outputs": []
    },
    {
      "cell_type": "code",
      "metadata": {
        "id": "DDVxV--c_qt-"
      },
      "source": [
        "df_Gensim['semeval'] = df_Gensim['token'].apply(lambda x: [item for item in x if item in semeval])"
      ],
      "execution_count": null,
      "outputs": []
    },
    {
      "cell_type": "code",
      "metadata": {
        "id": "H2ka03Xg_q3I"
      },
      "source": [
        "df_Rake['semeval'] = df_Rake['token'].apply(lambda x: [item for item in x if item in semeval])"
      ],
      "execution_count": null,
      "outputs": []
    },
    {
      "cell_type": "code",
      "metadata": {
        "id": "zDbizQYS_rAh"
      },
      "source": [
        "df_Topicrank['semeval'] = df_Topicrank['token'].apply(lambda x: [item for item in x if item in semeval])"
      ],
      "execution_count": null,
      "outputs": []
    },
    {
      "cell_type": "code",
      "metadata": {
        "id": "dYyfPY74AAX6"
      },
      "source": [
        "semeval_vanilla_counter = Counter(chain.from_iterable(df_Vanilla['semeval']))"
      ],
      "execution_count": null,
      "outputs": []
    },
    {
      "cell_type": "code",
      "metadata": {
        "id": "0CDeyCntCSw2"
      },
      "source": [
        "semeval_PE_counter = Counter(chain.from_iterable(df_PE['semeval']))"
      ],
      "execution_count": null,
      "outputs": []
    },
    {
      "cell_type": "code",
      "metadata": {
        "id": "NoxjhgrmCS7C"
      },
      "source": [
        "semeval_gensim_counter = Counter(chain.from_iterable(df_Gensim['semeval']))"
      ],
      "execution_count": null,
      "outputs": []
    },
    {
      "cell_type": "code",
      "metadata": {
        "id": "tRdCEty8CTDW"
      },
      "source": [
        "semeval_rake_counter = Counter(chain.from_iterable(df_Rake['semeval']))"
      ],
      "execution_count": null,
      "outputs": []
    },
    {
      "cell_type": "code",
      "metadata": {
        "id": "FP0ewXy8CTLA"
      },
      "source": [
        "semeval_topicrank_counter = Counter(chain.from_iterable(df_Topicrank['semeval']))"
      ],
      "execution_count": null,
      "outputs": []
    },
    {
      "cell_type": "markdown",
      "metadata": {
        "id": "6oeIPqDuQ0cb"
      },
      "source": [
        "MEN COUNTER DIFFERENCIES"
      ]
    },
    {
      "cell_type": "code",
      "metadata": {
        "id": "-78MOY22Hf04"
      },
      "source": [
        "#count word differencies PoS-Entities\n",
        "men_PE_counter_differencies = {key: (men_PE_counter.get(key, 0) / value - 1) * 100 for key, value in men_vanilla_counter.items()}\n",
        "\n",
        "men_pe_five = 0\n",
        "men_pe_ten = 0\n",
        "men_pe_fifty = 0\n",
        "men_pe_equal = 0\n",
        "men_pe_more = 0\n",
        "\n",
        "for i,j in men_PE_counter_differencies.items():\n",
        "  if j== 0:\n",
        "    men_pe_equal += 1\n",
        "\n",
        "for i,j in men_PE_counter_differencies.items():\n",
        "  if 0>j>=-5:\n",
        "    men_pe_five += 1\n",
        "\n",
        "for i,j in men_PE_counter_differencies.items():\n",
        "  if -10<=j<-5:\n",
        "    men_pe_ten += 1\n",
        "\n",
        "for i,j in men_PE_counter_differencies.items():\n",
        "  if -50<=j<-10:\n",
        "    men_pe_fifty += 1\n",
        "\n",
        "for i,j in men_PE_counter_differencies.items():\n",
        "  if j<-50:\n",
        "    men_pe_more += 1"
      ],
      "execution_count": null,
      "outputs": []
    },
    {
      "cell_type": "code",
      "metadata": {
        "id": "wsjQob7VN7Vb"
      },
      "source": [
        "len(men)"
      ],
      "execution_count": null,
      "outputs": []
    },
    {
      "cell_type": "code",
      "metadata": {
        "id": "6J79odc_N4WP"
      },
      "source": [
        "men_pe_equal"
      ],
      "execution_count": null,
      "outputs": []
    },
    {
      "cell_type": "code",
      "metadata": {
        "id": "U1buFmDnN-Hk"
      },
      "source": [
        "men_pe_five"
      ],
      "execution_count": null,
      "outputs": []
    },
    {
      "cell_type": "code",
      "metadata": {
        "id": "XWeV2xA5OAYY"
      },
      "source": [
        "men_pe_ten"
      ],
      "execution_count": null,
      "outputs": []
    },
    {
      "cell_type": "code",
      "metadata": {
        "id": "kx9pu_QuN__R"
      },
      "source": [
        "men_pe_fifty"
      ],
      "execution_count": null,
      "outputs": []
    },
    {
      "cell_type": "code",
      "metadata": {
        "id": "Ejs4JSN3N2AM"
      },
      "source": [
        "men_pe_more"
      ],
      "execution_count": null,
      "outputs": []
    },
    {
      "cell_type": "code",
      "metadata": {
        "id": "hXxLsNGoQWED"
      },
      "source": [
        "#count word differencies Gensim\n",
        "men_ge_counter_differencies = {key: (men_gensim_counter.get(key, 0) / value - 1) * 100 for key, value in men_vanilla_counter.items()}\n",
        "\n",
        "men_ge_five = 0\n",
        "men_ge_ten = 0\n",
        "men_ge_fifty = 0\n",
        "men_ge_equal = 0\n",
        "men_ge_more = 0\n",
        "\n",
        "for i,j in men_ge_counter_differencies.items():\n",
        "  if j== 0:\n",
        "    men_ge_equal += 1\n",
        "\n",
        "for i,j in men_ge_counter_differencies.items():\n",
        "  if 0>j>=-5:\n",
        "    men_ge_five += 1\n",
        "\n",
        "for i,j in men_ge_counter_differencies.items():\n",
        "  if -10<=j<-5:\n",
        "    men_ge_ten += 1\n",
        "\n",
        "for i,j in men_ge_counter_differencies.items():\n",
        "  if -50<=j<-10:\n",
        "    men_ge_fifty += 1\n",
        "\n",
        "for i,j in men_ge_counter_differencies.items():\n",
        "  if j<-50:\n",
        "    men_ge_more += 1"
      ],
      "execution_count": null,
      "outputs": []
    },
    {
      "cell_type": "code",
      "metadata": {
        "id": "66XbDAlJRCFP"
      },
      "source": [
        "men_ge_equal"
      ],
      "execution_count": null,
      "outputs": []
    },
    {
      "cell_type": "code",
      "metadata": {
        "id": "Gbs7HUI2RCFR"
      },
      "source": [
        "men_ge_five"
      ],
      "execution_count": null,
      "outputs": []
    },
    {
      "cell_type": "code",
      "metadata": {
        "id": "q-94lUZgRCFS"
      },
      "source": [
        "men_ge_ten"
      ],
      "execution_count": null,
      "outputs": []
    },
    {
      "cell_type": "code",
      "metadata": {
        "id": "tQ1pxzQRRCFT"
      },
      "source": [
        "men_ge_fifty"
      ],
      "execution_count": null,
      "outputs": []
    },
    {
      "cell_type": "code",
      "metadata": {
        "id": "1iBsUioYRCFU"
      },
      "source": [
        "men_ge_more"
      ],
      "execution_count": null,
      "outputs": []
    },
    {
      "cell_type": "code",
      "metadata": {
        "id": "VxcGPtvZQVaK"
      },
      "source": [
        "#count word differencies Rake\n",
        "men_rake_counter_differencies = {key: (men_rake_counter.get(key, 0) / value - 1) * 100 for key, value in men_vanilla_counter.items()}\n",
        "\n",
        "men_rake_five = 0\n",
        "men_rake_ten = 0\n",
        "men_rake_fifty = 0\n",
        "men_rake_equal = 0\n",
        "men_rake_more = 0\n",
        "\n",
        "for i,j in men_rake_counter_differencies.items():\n",
        "  if j== 0:\n",
        "    men_rake_equal += 1\n",
        "\n",
        "for i,j in men_rake_counter_differencies.items():\n",
        "  if 0>j>=-5:\n",
        "    men_rake_five += 1\n",
        "\n",
        "for i,j in men_rake_counter_differencies.items():\n",
        "  if -10<=j<-5:\n",
        "    men_rake_ten += 1\n",
        "\n",
        "for i,j in men_rake_counter_differencies.items():\n",
        "  if -50<=j<-10:\n",
        "    men_rake_fifty += 1\n",
        "\n",
        "for i,j in men_rake_counter_differencies.items():\n",
        "  if j<-50:\n",
        "    men_rake_more += 1"
      ],
      "execution_count": null,
      "outputs": []
    },
    {
      "cell_type": "code",
      "metadata": {
        "id": "0qD7GTAaXEaE"
      },
      "source": [
        "men_rake_equal"
      ],
      "execution_count": null,
      "outputs": []
    },
    {
      "cell_type": "code",
      "metadata": {
        "id": "DnAFJbkFXEaK"
      },
      "source": [
        "men_rake_five"
      ],
      "execution_count": null,
      "outputs": []
    },
    {
      "cell_type": "code",
      "metadata": {
        "id": "Api57uxCXEaL"
      },
      "source": [
        "men_rake_ten"
      ],
      "execution_count": null,
      "outputs": []
    },
    {
      "cell_type": "code",
      "metadata": {
        "id": "7_-TvvXeXEaL"
      },
      "source": [
        "men_rake_fifty"
      ],
      "execution_count": null,
      "outputs": []
    },
    {
      "cell_type": "code",
      "metadata": {
        "id": "qm2GqVLkXEaM"
      },
      "source": [
        "men_rake_more"
      ],
      "execution_count": null,
      "outputs": []
    },
    {
      "cell_type": "code",
      "metadata": {
        "id": "HrXP21dDQWR7"
      },
      "source": [
        "#count word differencies Topicrank\n",
        "men_tr_counter_differencies = {key: (men_topicrank_counter.get(key, 0) / value - 1) * 100 for key, value in men_vanilla_counter.items()}\n",
        "\n",
        "men_tr_equal = 0\n",
        "men_tr_five = 0\n",
        "men_tr_ten = 0\n",
        "men_tr_fifty = 0\n",
        "men_tr_more = 0\n",
        "\n",
        "for i,j in men_tr_counter_differencies.items():\n",
        "  if j== 0:\n",
        "    men_tr_equal += 1\n",
        "\n",
        "for i,j in men_tr_counter_differencies.items():\n",
        "  if 0>j>=-5:\n",
        "    men_tr_five += 1\n",
        "\n",
        "for i,j in men_tr_counter_differencies.items():\n",
        "  if -10<=j<-5:\n",
        "    men_tr_ten += 1\n",
        "\n",
        "for i,j in men_tr_counter_differencies.items():\n",
        "  if -50<=j<-10:\n",
        "    men_tr_fifty += 1\n",
        "\n",
        "for i,j in men_tr_counter_differencies.items():\n",
        "  if j<-50:\n",
        "    men_tr_more += 1"
      ],
      "execution_count": null,
      "outputs": []
    },
    {
      "cell_type": "code",
      "metadata": {
        "id": "regyU-cXYYFk"
      },
      "source": [
        "men_tr_equal"
      ],
      "execution_count": null,
      "outputs": []
    },
    {
      "cell_type": "code",
      "metadata": {
        "id": "J-6VU6S6YYFm"
      },
      "source": [
        "men_tr_five"
      ],
      "execution_count": null,
      "outputs": []
    },
    {
      "cell_type": "code",
      "metadata": {
        "id": "ksH40PNNYYFn"
      },
      "source": [
        "men_tr_ten"
      ],
      "execution_count": null,
      "outputs": []
    },
    {
      "cell_type": "code",
      "metadata": {
        "id": "S36YvauAYYFo"
      },
      "source": [
        "men_tr_fifty"
      ],
      "execution_count": null,
      "outputs": []
    },
    {
      "cell_type": "code",
      "metadata": {
        "id": "7c4DiXNWYYFp"
      },
      "source": [
        "men_tr_more"
      ],
      "execution_count": null,
      "outputs": []
    },
    {
      "cell_type": "markdown",
      "metadata": {
        "id": "hdbXTMw6Y5rX"
      },
      "source": [
        "WS353ALL COUNTER DIFFERENCIES"
      ]
    },
    {
      "cell_type": "code",
      "metadata": {
        "id": "JNVoy5oCQWkv"
      },
      "source": [
        "#count word differencies PE\n",
        "wsall_PE_counter_differencies = {key: (ws353all_PE_counter.get(key, 0) / value - 1) * 100 for key, value in ws353all_vanilla_counter.items()}\n",
        "\n",
        "wsall_pe_equal = 0\n",
        "wsall_pe_five = 0\n",
        "wsall_pe_ten = 0\n",
        "wsall_pe_fifty = 0\n",
        "wsall_pe_more = 0\n",
        "\n",
        "for i,j in wsall_PE_counter_differencies.items():\n",
        "  if j== 0:\n",
        "    wsall_pe_equal += 1\n",
        "\n",
        "for i,j in wsall_PE_counter_differencies.items():\n",
        "  if 0>j>=-5:\n",
        "    wsall_pe_five += 1\n",
        "\n",
        "for i,j in wsall_PE_counter_differencies.items():\n",
        "  if -10<=j<-5:\n",
        "    wsall_pe_ten += 1\n",
        "\n",
        "for i,j in wsall_PE_counter_differencies.items():\n",
        "  if -50<=j<-10:\n",
        "    wsall_pe_fifty += 1\n",
        "\n",
        "for i,j in wsall_PE_counter_differencies.items():\n",
        "  if j<-50:\n",
        "    wsall_pe_more += 1"
      ],
      "execution_count": null,
      "outputs": []
    },
    {
      "cell_type": "code",
      "metadata": {
        "id": "RCa3egWWZMXA"
      },
      "source": [
        "len(ws353all)"
      ],
      "execution_count": null,
      "outputs": []
    },
    {
      "cell_type": "code",
      "metadata": {
        "id": "u_OESEoqZ7sb"
      },
      "source": [
        "wsall_pe_equal"
      ],
      "execution_count": null,
      "outputs": []
    },
    {
      "cell_type": "code",
      "metadata": {
        "id": "6l9VFeC2Z7sb"
      },
      "source": [
        "wsall_pe_five"
      ],
      "execution_count": null,
      "outputs": []
    },
    {
      "cell_type": "code",
      "metadata": {
        "id": "-0QJJFItZ7sc"
      },
      "source": [
        "wsall_pe_ten"
      ],
      "execution_count": null,
      "outputs": []
    },
    {
      "cell_type": "code",
      "metadata": {
        "id": "9ZtR4k7bZ7sd"
      },
      "source": [
        "wsall_pe_fifty"
      ],
      "execution_count": null,
      "outputs": []
    },
    {
      "cell_type": "code",
      "metadata": {
        "id": "KLknJPJrZ7se"
      },
      "source": [
        "wsall_pe_more"
      ],
      "execution_count": null,
      "outputs": []
    },
    {
      "cell_type": "code",
      "metadata": {
        "id": "NbpwGte7aTi2"
      },
      "source": [
        "#count word differencies Gensim\n",
        "wsall_ge_counter_differencies = {key: (ws353all_gensim_counter.get(key, 0) / value - 1) * 100 for key, value in ws353all_vanilla_counter.items()}\n",
        "\n",
        "wsall_ge_equal = 0\n",
        "wsall_ge_five = 0\n",
        "wsall_ge_ten = 0\n",
        "wsall_ge_fifty = 0\n",
        "wsall_ge_more = 0\n",
        "\n",
        "for i,j in wsall_ge_counter_differencies.items():\n",
        "  if j== 0:\n",
        "    wsall_ge_equal += 1\n",
        "\n",
        "for i,j in wsall_ge_counter_differencies.items():\n",
        "  if 0>j>=-5:\n",
        "    wsall_ge_five += 1\n",
        "\n",
        "for i,j in wsall_ge_counter_differencies.items():\n",
        "  if -10<=j<-5:\n",
        "    wsall_ge_ten += 1\n",
        "\n",
        "for i,j in wsall_ge_counter_differencies.items():\n",
        "  if -50<=j<-10:\n",
        "    wsall_ge_fifty += 1\n",
        "\n",
        "for i,j in wsall_ge_counter_differencies.items():\n",
        "  if j<-50:\n",
        "    wsall_ge_more += 1"
      ],
      "execution_count": null,
      "outputs": []
    },
    {
      "cell_type": "code",
      "metadata": {
        "id": "6piTZ8bgaTi5"
      },
      "source": [
        "wsall_ge_equal"
      ],
      "execution_count": null,
      "outputs": []
    },
    {
      "cell_type": "code",
      "metadata": {
        "id": "WAOyDAnpaTi6"
      },
      "source": [
        "wsall_ge_five"
      ],
      "execution_count": null,
      "outputs": []
    },
    {
      "cell_type": "code",
      "metadata": {
        "id": "SazWjIK4aTi7"
      },
      "source": [
        "wsall_ge_ten"
      ],
      "execution_count": null,
      "outputs": []
    },
    {
      "cell_type": "code",
      "metadata": {
        "id": "HW1j5v8MaTi7"
      },
      "source": [
        "wsall_ge_fifty"
      ],
      "execution_count": null,
      "outputs": []
    },
    {
      "cell_type": "code",
      "metadata": {
        "id": "17QU6mzVaTi8"
      },
      "source": [
        "wsall_ge_more"
      ],
      "execution_count": null,
      "outputs": []
    },
    {
      "cell_type": "code",
      "metadata": {
        "id": "OpyGq-RYaUST"
      },
      "source": [
        "#count word differencies Rake\n",
        "wsall_rake_counter_differencies = {key: (ws353all_rake_counter.get(key, 0) / value - 1) * 100 for key, value in ws353all_vanilla_counter.items()}\n",
        "\n",
        "wsall_rake_equal = 0\n",
        "wsall_rake_five = 0\n",
        "wsall_rake_ten = 0\n",
        "wsall_rake_fifty = 0\n",
        "wsall_rake_more = 0\n",
        "\n",
        "for i,j in wsall_rake_counter_differencies.items():\n",
        "  if j== 0:\n",
        "    wsall_rake_equal += 1\n",
        "\n",
        "for i,j in wsall_rake_counter_differencies.items():\n",
        "  if 0>j>=-5:\n",
        "    wsall_rake_five += 1\n",
        "\n",
        "for i,j in wsall_rake_counter_differencies.items():\n",
        "  if -10<=j<-5:\n",
        "    wsall_rake_ten += 1\n",
        "\n",
        "for i,j in wsall_rake_counter_differencies.items():\n",
        "  if -50<=j<-10:\n",
        "    wsall_rake_fifty += 1\n",
        "\n",
        "for i,j in wsall_rake_counter_differencies.items():\n",
        "  if j<-50:\n",
        "    wsall_rake_more += 1"
      ],
      "execution_count": null,
      "outputs": []
    },
    {
      "cell_type": "code",
      "metadata": {
        "id": "Ou7Ug5WwaUSV"
      },
      "source": [
        "wsall_rake_equal"
      ],
      "execution_count": null,
      "outputs": []
    },
    {
      "cell_type": "code",
      "metadata": {
        "id": "P_sGzu-naUSV"
      },
      "source": [
        "wsall_rake_five"
      ],
      "execution_count": null,
      "outputs": []
    },
    {
      "cell_type": "code",
      "metadata": {
        "id": "uDIkraVBaUSW"
      },
      "source": [
        "wsall_rake_ten"
      ],
      "execution_count": null,
      "outputs": []
    },
    {
      "cell_type": "code",
      "metadata": {
        "id": "HyqdCHnuaUSW"
      },
      "source": [
        "wsall_rake_fifty"
      ],
      "execution_count": null,
      "outputs": []
    },
    {
      "cell_type": "code",
      "metadata": {
        "id": "J2kBkjLFaUSX"
      },
      "source": [
        "wsall_rake_more"
      ],
      "execution_count": null,
      "outputs": []
    },
    {
      "cell_type": "code",
      "metadata": {
        "id": "9XbXyY-waU6w"
      },
      "source": [
        "#count word differencies topicrank\n",
        "wsall_tr_counter_differencies = {key: (ws353all_topicrank_counter.get(key, 0) / value - 1) * 100 for key, value in ws353all_vanilla_counter.items()}\n",
        "\n",
        "wsall_tr_equal = 0\n",
        "wsall_tr_five = 0\n",
        "wsall_tr_ten = 0\n",
        "wsall_tr_fifty = 0\n",
        "wsall_tr_more = 0\n",
        "\n",
        "for i,j in wsall_tr_counter_differencies.items():\n",
        "  if j== 0:\n",
        "    wsall_tr_equal += 1\n",
        "\n",
        "for i,j in wsall_tr_counter_differencies.items():\n",
        "  if 0>j>=-5:\n",
        "    wsall_tr_five += 1\n",
        "\n",
        "for i,j in wsall_tr_counter_differencies.items():\n",
        "  if -10<=j<-5:\n",
        "    wsall_tr_ten += 1\n",
        "\n",
        "for i,j in wsall_tr_counter_differencies.items():\n",
        "  if -50<=j<-10:\n",
        "    wsall_tr_fifty += 1\n",
        "\n",
        "for i,j in wsall_tr_counter_differencies.items():\n",
        "  if j<-50:\n",
        "    wsall_tr_more += 1"
      ],
      "execution_count": null,
      "outputs": []
    },
    {
      "cell_type": "code",
      "metadata": {
        "id": "FlCgHoiQaU6x"
      },
      "source": [
        "wsall_tr_equal"
      ],
      "execution_count": null,
      "outputs": []
    },
    {
      "cell_type": "code",
      "metadata": {
        "id": "Hk_5oqdpaU6y"
      },
      "source": [
        "wsall_tr_five"
      ],
      "execution_count": null,
      "outputs": []
    },
    {
      "cell_type": "code",
      "metadata": {
        "id": "fmxn5pZBaU6z"
      },
      "source": [
        "wsall_tr_ten"
      ],
      "execution_count": null,
      "outputs": []
    },
    {
      "cell_type": "code",
      "metadata": {
        "id": "NlUmQFkHaU6z"
      },
      "source": [
        "wsall_tr_fifty"
      ],
      "execution_count": null,
      "outputs": []
    },
    {
      "cell_type": "code",
      "metadata": {
        "id": "bxCa1tW_aU60"
      },
      "source": [
        "wsall_tr_more"
      ],
      "execution_count": null,
      "outputs": []
    },
    {
      "cell_type": "markdown",
      "metadata": {
        "id": "qmfeejpZZGPG"
      },
      "source": [
        "WS353REL COUNTER DIFFERENCIES"
      ]
    },
    {
      "cell_type": "code",
      "metadata": {
        "id": "BdzlFM75oW2n"
      },
      "source": [
        "#count word differencies PE\n",
        "wsrel_PE_counter_differencies = {key: (ws353rel_PE_counter.get(key, 0) / value - 1) * 100 for key, value in ws353rel_vanilla_counter.items()}\n",
        "\n",
        "wsrel_pe_equal = 0\n",
        "wsrel_pe_five = 0\n",
        "wsrel_pe_ten = 0\n",
        "wsrel_pe_fifty = 0\n",
        "wsrel_pe_more = 0\n",
        "\n",
        "for i,j in wsrel_PE_counter_differencies.items():\n",
        "  if j== 0:\n",
        "    wsrel_pe_equal += 1\n",
        "\n",
        "for i,j in wsrel_PE_counter_differencies.items():\n",
        "  if 0>j>=-5:\n",
        "    wsrel_pe_five += 1\n",
        "\n",
        "for i,j in wsrel_PE_counter_differencies.items():\n",
        "  if -10<=j<-5:\n",
        "    wsrel_pe_ten += 1\n",
        "\n",
        "for i,j in wsrel_PE_counter_differencies.items():\n",
        "  if -50<=j<-10:\n",
        "    wsrel_pe_fifty += 1\n",
        "\n",
        "for i,j in wsrel_PE_counter_differencies.items():\n",
        "  if j<-50:\n",
        "    wsrel_pe_more += 1"
      ],
      "execution_count": null,
      "outputs": []
    },
    {
      "cell_type": "code",
      "metadata": {
        "id": "ztt2mkuyoW2o"
      },
      "source": [
        "len(ws353rel)"
      ],
      "execution_count": null,
      "outputs": []
    },
    {
      "cell_type": "code",
      "metadata": {
        "id": "A7xtDqR1oW2q"
      },
      "source": [
        "wsrel_pe_equal"
      ],
      "execution_count": null,
      "outputs": []
    },
    {
      "cell_type": "code",
      "metadata": {
        "id": "gBf-Gex_oW2r"
      },
      "source": [
        "wsrel_pe_five"
      ],
      "execution_count": null,
      "outputs": []
    },
    {
      "cell_type": "code",
      "metadata": {
        "id": "yQnBQIvzoW2s"
      },
      "source": [
        "wsrel_pe_ten"
      ],
      "execution_count": null,
      "outputs": []
    },
    {
      "cell_type": "code",
      "metadata": {
        "id": "Y1BDL6cooW2t"
      },
      "source": [
        "wsrel_pe_fifty"
      ],
      "execution_count": null,
      "outputs": []
    },
    {
      "cell_type": "code",
      "metadata": {
        "id": "BZgVC-XHoW2v"
      },
      "source": [
        "wsrel_pe_more"
      ],
      "execution_count": null,
      "outputs": []
    },
    {
      "cell_type": "code",
      "metadata": {
        "id": "wabKdAjEoW2w"
      },
      "source": [
        "#count word differencies Gensim\n",
        "wsrel_ge_counter_differencies = {key: (ws353rel_gensim_counter.get(key, 0) / value - 1) * 100 for key, value in ws353rel_vanilla_counter.items()}\n",
        "\n",
        "wsrel_ge_equal = 0\n",
        "wsrel_ge_five = 0\n",
        "wsrel_ge_ten = 0\n",
        "wsrel_ge_fifty = 0\n",
        "wsrel_ge_more = 0\n",
        "\n",
        "for i,j in wsrel_ge_counter_differencies.items():\n",
        "  if j== 0:\n",
        "    wsrel_ge_equal += 1\n",
        "\n",
        "for i,j in wsrel_ge_counter_differencies.items():\n",
        "  if 0>j>=-5:\n",
        "    wsrel_ge_five += 1\n",
        "\n",
        "for i,j in wsrel_ge_counter_differencies.items():\n",
        "  if -10<=j<-5:\n",
        "    wsrel_ge_ten += 1\n",
        "\n",
        "for i,j in wsrel_ge_counter_differencies.items():\n",
        "  if -50<=j<-10:\n",
        "    wsrel_ge_fifty += 1\n",
        "\n",
        "for i,j in wsrel_ge_counter_differencies.items():\n",
        "  if j<-50:\n",
        "    wsrel_ge_more += 1"
      ],
      "execution_count": null,
      "outputs": []
    },
    {
      "cell_type": "code",
      "metadata": {
        "id": "t_PtXiw5oW2x"
      },
      "source": [
        "wsrel_ge_equal"
      ],
      "execution_count": null,
      "outputs": []
    },
    {
      "cell_type": "code",
      "metadata": {
        "id": "5LbdmtJcoW2y"
      },
      "source": [
        "wsrel_ge_five"
      ],
      "execution_count": null,
      "outputs": []
    },
    {
      "cell_type": "code",
      "metadata": {
        "id": "MLRKNiJDoW2z"
      },
      "source": [
        "wsrel_ge_ten"
      ],
      "execution_count": null,
      "outputs": []
    },
    {
      "cell_type": "code",
      "metadata": {
        "id": "xGVEAxFsoW20"
      },
      "source": [
        "wsrel_ge_fifty"
      ],
      "execution_count": null,
      "outputs": []
    },
    {
      "cell_type": "code",
      "metadata": {
        "id": "pD2oUizboW21"
      },
      "source": [
        "wsrel_ge_more"
      ],
      "execution_count": null,
      "outputs": []
    },
    {
      "cell_type": "code",
      "metadata": {
        "id": "eAobe7QcoW21"
      },
      "source": [
        "#count word differencies Rake\n",
        "wsrel_rake_counter_differencies = {key: (ws353rel_rake_counter.get(key, 0) / value - 1) * 100 for key, value in ws353rel_vanilla_counter.items()}\n",
        "\n",
        "wsrel_rake_equal = 0\n",
        "wsrel_rake_five = 0\n",
        "wsrel_rake_ten = 0\n",
        "wsrel_rake_fifty = 0\n",
        "wsrel_rake_more = 0\n",
        "\n",
        "for i,j in wsrel_rake_counter_differencies.items():\n",
        "  if j== 0:\n",
        "    wsrel_rake_equal += 1\n",
        "\n",
        "for i,j in wsrel_rake_counter_differencies.items():\n",
        "  if 0>j>=-5:\n",
        "    wsrel_rake_five += 1\n",
        "\n",
        "for i,j in wsrel_rake_counter_differencies.items():\n",
        "  if -10<=j<-5:\n",
        "    wsrel_rake_ten += 1\n",
        "\n",
        "for i,j in wsrel_rake_counter_differencies.items():\n",
        "  if -50<=j<-10:\n",
        "    wsrel_rake_fifty += 1\n",
        "\n",
        "for i,j in wsrel_rake_counter_differencies.items():\n",
        "  if j<-50:\n",
        "    wsrel_rake_more += 1"
      ],
      "execution_count": null,
      "outputs": []
    },
    {
      "cell_type": "code",
      "metadata": {
        "id": "p8QydMzAoW22"
      },
      "source": [
        "wsrel_rake_equal"
      ],
      "execution_count": null,
      "outputs": []
    },
    {
      "cell_type": "code",
      "metadata": {
        "id": "Vh-ChPBjoW22"
      },
      "source": [
        "wsrel_rake_five"
      ],
      "execution_count": null,
      "outputs": []
    },
    {
      "cell_type": "code",
      "metadata": {
        "id": "ofyz9qlkoW22"
      },
      "source": [
        "wsrel_rake_ten"
      ],
      "execution_count": null,
      "outputs": []
    },
    {
      "cell_type": "code",
      "metadata": {
        "id": "WmnRSOmloW23"
      },
      "source": [
        "wsrel_rake_fifty"
      ],
      "execution_count": null,
      "outputs": []
    },
    {
      "cell_type": "code",
      "metadata": {
        "id": "FtRUHRVuoW24"
      },
      "source": [
        "wsrel_rake_more"
      ],
      "execution_count": null,
      "outputs": []
    },
    {
      "cell_type": "code",
      "metadata": {
        "id": "isOGTFZvoW24"
      },
      "source": [
        "#count word differencies topicrank\n",
        "wsrel_tr_counter_differencies = {key: (ws353rel_topicrank_counter.get(key, 0) / value - 1) * 100 for key, value in ws353rel_vanilla_counter.items()}\n",
        "\n",
        "wsrel_tr_equal = 0\n",
        "wsrel_tr_five = 0\n",
        "wsrel_tr_ten = 0\n",
        "wsrel_tr_fifty = 0\n",
        "wsrel_tr_more = 0\n",
        "\n",
        "for i,j in wsrel_tr_counter_differencies.items():\n",
        "  if j== 0:\n",
        "    wsrel_tr_equal += 1\n",
        "\n",
        "for i,j in wsrel_tr_counter_differencies.items():\n",
        "  if 0>j>=-5:\n",
        "    wsrel_tr_five += 1\n",
        "\n",
        "for i,j in wsrel_tr_counter_differencies.items():\n",
        "  if -10<=j<-5:\n",
        "    wsrel_tr_ten += 1\n",
        "\n",
        "for i,j in wsrel_tr_counter_differencies.items():\n",
        "  if -50<=j<-10:\n",
        "    wsrel_tr_fifty += 1\n",
        "\n",
        "for i,j in wsrel_tr_counter_differencies.items():\n",
        "  if j<-50:\n",
        "    wsrel_tr_more += 1"
      ],
      "execution_count": null,
      "outputs": []
    },
    {
      "cell_type": "code",
      "metadata": {
        "id": "A0vG6-fGoW25"
      },
      "source": [
        "wsrel_tr_equal"
      ],
      "execution_count": null,
      "outputs": []
    },
    {
      "cell_type": "code",
      "metadata": {
        "id": "7trfmosRoW25"
      },
      "source": [
        "wsrel_tr_five"
      ],
      "execution_count": null,
      "outputs": []
    },
    {
      "cell_type": "code",
      "metadata": {
        "id": "uK9itgg1oW26"
      },
      "source": [
        "wsrel_tr_ten"
      ],
      "execution_count": null,
      "outputs": []
    },
    {
      "cell_type": "code",
      "metadata": {
        "id": "k7FcpnlloW26"
      },
      "source": [
        "wsrel_tr_fifty"
      ],
      "execution_count": null,
      "outputs": []
    },
    {
      "cell_type": "code",
      "metadata": {
        "id": "KxB2RZ8aoW26"
      },
      "source": [
        "wsrel_tr_more"
      ],
      "execution_count": null,
      "outputs": []
    },
    {
      "cell_type": "markdown",
      "metadata": {
        "id": "ekZkVawCZGBc"
      },
      "source": [
        "WS353SIM COUNTER DIFFERENCIES"
      ]
    },
    {
      "cell_type": "code",
      "metadata": {
        "id": "vHT1mtc8mVMW"
      },
      "source": [
        "#count word differencies PE\n",
        "wssim_PE_counter_differencies = {key: (ws353sim_PE_counter.get(key, 0) / value - 1) * 100 for key, value in ws353sim_vanilla_counter.items()}\n",
        "\n",
        "wssim_pe_equal = 0\n",
        "wssim_pe_five = 0\n",
        "wssim_pe_ten = 0\n",
        "wssim_pe_fifty = 0\n",
        "wssim_pe_more = 0\n",
        "\n",
        "for i,j in wssim_PE_counter_differencies.items():\n",
        "  if j== 0:\n",
        "    wssim_pe_equal += 1\n",
        "\n",
        "for i,j in wssim_PE_counter_differencies.items():\n",
        "  if 0>j>=-5:\n",
        "    wssim_pe_five += 1\n",
        "\n",
        "for i,j in wssim_PE_counter_differencies.items():\n",
        "  if -10<=j<-5:\n",
        "    wssim_pe_ten += 1\n",
        "\n",
        "for i,j in wssim_PE_counter_differencies.items():\n",
        "  if -50<=j<-10:\n",
        "    wssim_pe_fifty += 1\n",
        "\n",
        "for i,j in wssim_PE_counter_differencies.items():\n",
        "  if j<-50:\n",
        "    wssim_pe_more += 1"
      ],
      "execution_count": null,
      "outputs": []
    },
    {
      "cell_type": "code",
      "metadata": {
        "id": "dO0buXHtmVMY"
      },
      "source": [
        "len(ws353sim)"
      ],
      "execution_count": null,
      "outputs": []
    },
    {
      "cell_type": "code",
      "metadata": {
        "id": "z3EOFdF2mVMa"
      },
      "source": [
        "wssim_pe_equal"
      ],
      "execution_count": null,
      "outputs": []
    },
    {
      "cell_type": "code",
      "metadata": {
        "id": "wmywdLYtmVMa"
      },
      "source": [
        "wssim_pe_five"
      ],
      "execution_count": null,
      "outputs": []
    },
    {
      "cell_type": "code",
      "metadata": {
        "id": "r3dAoDbImVMb"
      },
      "source": [
        "wssim_pe_ten"
      ],
      "execution_count": null,
      "outputs": []
    },
    {
      "cell_type": "code",
      "metadata": {
        "id": "vUQRCLSKmVMc"
      },
      "source": [
        "wssim_pe_fifty"
      ],
      "execution_count": null,
      "outputs": []
    },
    {
      "cell_type": "code",
      "metadata": {
        "id": "nOuk5nOJmVMd"
      },
      "source": [
        "wssim_pe_more"
      ],
      "execution_count": null,
      "outputs": []
    },
    {
      "cell_type": "code",
      "metadata": {
        "id": "xBGgGc-ymVMd"
      },
      "source": [
        "#count word differencies Gensim\n",
        "wssim_ge_counter_differencies = {key: (ws353sim_gensim_counter.get(key, 0) / value - 1) * 100 for key, value in ws353sim_vanilla_counter.items()}\n",
        "\n",
        "wssim_ge_equal = 0\n",
        "wssim_ge_five = 0\n",
        "wssim_ge_ten = 0\n",
        "wssim_ge_fifty = 0\n",
        "wssim_ge_more = 0\n",
        "\n",
        "for i,j in wssim_ge_counter_differencies.items():\n",
        "  if j== 0:\n",
        "    wssim_ge_equal += 1\n",
        "\n",
        "for i,j in wssim_ge_counter_differencies.items():\n",
        "  if 0>j>=-5:\n",
        "    wssim_ge_five += 1\n",
        "\n",
        "for i,j in wssim_ge_counter_differencies.items():\n",
        "  if -10<=j<-5:\n",
        "    wssim_ge_ten += 1\n",
        "\n",
        "for i,j in wssim_ge_counter_differencies.items():\n",
        "  if -50<=j<-10:\n",
        "    wssim_ge_fifty += 1\n",
        "\n",
        "for i,j in wssim_ge_counter_differencies.items():\n",
        "  if j<-50:\n",
        "    wssim_ge_more += 1"
      ],
      "execution_count": null,
      "outputs": []
    },
    {
      "cell_type": "code",
      "metadata": {
        "id": "Zhkdd12amVMe"
      },
      "source": [
        "wssim_ge_equal"
      ],
      "execution_count": null,
      "outputs": []
    },
    {
      "cell_type": "code",
      "metadata": {
        "id": "s-1tKJbQmVMf"
      },
      "source": [
        "wssim_ge_five"
      ],
      "execution_count": null,
      "outputs": []
    },
    {
      "cell_type": "code",
      "metadata": {
        "id": "Ij9AsLPwmVMg"
      },
      "source": [
        "wssim_ge_ten"
      ],
      "execution_count": null,
      "outputs": []
    },
    {
      "cell_type": "code",
      "metadata": {
        "id": "znHhcJThmVMh"
      },
      "source": [
        "wssim_ge_fifty"
      ],
      "execution_count": null,
      "outputs": []
    },
    {
      "cell_type": "code",
      "metadata": {
        "id": "EVDcQifHmVMi"
      },
      "source": [
        "wssim_ge_more"
      ],
      "execution_count": null,
      "outputs": []
    },
    {
      "cell_type": "code",
      "metadata": {
        "id": "GxOyJkzNmVMi"
      },
      "source": [
        "#count word differencies Rake\n",
        "wssim_rake_counter_differencies = {key: (ws353sim_rake_counter.get(key, 0) / value - 1) * 100 for key, value in ws353sim_vanilla_counter.items()}\n",
        "\n",
        "wssim_rake_equal = 0\n",
        "wssim_rake_five = 0\n",
        "wssim_rake_ten = 0\n",
        "wssim_rake_fifty = 0\n",
        "wssim_rake_more = 0\n",
        "\n",
        "for i,j in wssim_rake_counter_differencies.items():\n",
        "  if j== 0:\n",
        "    wssim_rake_equal += 1\n",
        "\n",
        "for i,j in wssim_rake_counter_differencies.items():\n",
        "  if 0>j>=-5:\n",
        "    wssim_rake_five += 1\n",
        "\n",
        "for i,j in wssim_rake_counter_differencies.items():\n",
        "  if -10<=j<-5:\n",
        "    wssim_rake_ten += 1\n",
        "\n",
        "for i,j in wssim_rake_counter_differencies.items():\n",
        "  if -50<=j<-10:\n",
        "    wssim_rake_fifty += 1\n",
        "\n",
        "for i,j in wssim_rake_counter_differencies.items():\n",
        "  if j<-50:\n",
        "    wssim_rake_more += 1"
      ],
      "execution_count": null,
      "outputs": []
    },
    {
      "cell_type": "code",
      "metadata": {
        "id": "rATeEXPnmVMj"
      },
      "source": [
        "wssim_rake_equal"
      ],
      "execution_count": null,
      "outputs": []
    },
    {
      "cell_type": "code",
      "metadata": {
        "id": "NWFqKTzRmVMj"
      },
      "source": [
        "wssim_rake_five"
      ],
      "execution_count": null,
      "outputs": []
    },
    {
      "cell_type": "code",
      "metadata": {
        "id": "kuE6RicnmVMk"
      },
      "source": [
        "wssim_rake_ten"
      ],
      "execution_count": null,
      "outputs": []
    },
    {
      "cell_type": "code",
      "metadata": {
        "id": "QWL7jrhamVMk"
      },
      "source": [
        "wssim_rake_fifty"
      ],
      "execution_count": null,
      "outputs": []
    },
    {
      "cell_type": "code",
      "metadata": {
        "id": "GkMBtAOFmVMl"
      },
      "source": [
        "wssim_rake_more"
      ],
      "execution_count": null,
      "outputs": []
    },
    {
      "cell_type": "code",
      "metadata": {
        "id": "2qPQjvR3mVMl"
      },
      "source": [
        "#count word differencies topicrank\n",
        "wssim_tr_counter_differencies = {key: (ws353sim_topicrank_counter.get(key, 0) / value - 1) * 100 for key, value in ws353sim_vanilla_counter.items()}\n",
        "\n",
        "wssim_tr_equal = 0\n",
        "wssim_tr_five = 0\n",
        "wssim_tr_ten = 0\n",
        "wssim_tr_fifty = 0\n",
        "wssim_tr_more = 0\n",
        "\n",
        "for i,j in wssim_tr_counter_differencies.items():\n",
        "  if j== 0:\n",
        "    wssim_tr_equal += 1\n",
        "\n",
        "for i,j in wssim_tr_counter_differencies.items():\n",
        "  if 0>j>=-5:\n",
        "    wssim_tr_five += 1\n",
        "\n",
        "for i,j in wssim_tr_counter_differencies.items():\n",
        "  if -10<=j<-5:\n",
        "    wssim_tr_ten += 1\n",
        "\n",
        "for i,j in wssim_tr_counter_differencies.items():\n",
        "  if -50<=j<-10:\n",
        "    wssim_tr_fifty += 1\n",
        "\n",
        "for i,j in wssim_tr_counter_differencies.items():\n",
        "  if j<-50:\n",
        "    wssim_tr_more += 1"
      ],
      "execution_count": null,
      "outputs": []
    },
    {
      "cell_type": "code",
      "metadata": {
        "id": "MJvg_ofvmVMm"
      },
      "source": [
        "wssim_tr_equal"
      ],
      "execution_count": null,
      "outputs": []
    },
    {
      "cell_type": "code",
      "metadata": {
        "id": "E847qldymVMn"
      },
      "source": [
        "wssim_tr_five"
      ],
      "execution_count": null,
      "outputs": []
    },
    {
      "cell_type": "code",
      "metadata": {
        "id": "08ELuKN5mVMn"
      },
      "source": [
        "wssim_tr_ten"
      ],
      "execution_count": null,
      "outputs": []
    },
    {
      "cell_type": "code",
      "metadata": {
        "id": "rEsSzUy_mVMn"
      },
      "source": [
        "wssim_tr_fifty"
      ],
      "execution_count": null,
      "outputs": []
    },
    {
      "cell_type": "code",
      "metadata": {
        "id": "luqnskX1mVMn"
      },
      "source": [
        "wssim_tr_more"
      ],
      "execution_count": null,
      "outputs": []
    },
    {
      "cell_type": "markdown",
      "metadata": {
        "id": "POnIQF0yrGG1"
      },
      "source": [
        "SIMLEX999 COUNTER DIFFERENCIES"
      ]
    },
    {
      "cell_type": "code",
      "metadata": {
        "id": "ON8mvVCGrdro"
      },
      "source": [
        "#count word differencies PE\n",
        "simLex_PE_counter_differencies = {key: (simLex_PE_counter.get(key, 0) / value - 1) * 100 for key, value in simLex_vanilla_counter.items()}\n",
        "\n",
        "simLex_pe_equal = 0\n",
        "simLex_pe_five = 0\n",
        "simLex_pe_ten = 0\n",
        "simLex_pe_fifty = 0\n",
        "simLex_pe_more = 0\n",
        "\n",
        "for i,j in simLex_PE_counter_differencies.items():\n",
        "  if j== 0:\n",
        "    simLex_pe_equal += 1\n",
        "\n",
        "for i,j in simLex_PE_counter_differencies.items():\n",
        "  if 0>j>=-5:\n",
        "    simLex_pe_five += 1\n",
        "\n",
        "for i,j in simLex_PE_counter_differencies.items():\n",
        "  if -10<=j<-5:\n",
        "    simLex_pe_ten += 1\n",
        "\n",
        "for i,j in simLex_PE_counter_differencies.items():\n",
        "  if -50<=j<-10:\n",
        "    simLex_pe_fifty += 1\n",
        "\n",
        "for i,j in simLex_PE_counter_differencies.items():\n",
        "  if j<-50:\n",
        "    simLex_pe_more += 1"
      ],
      "execution_count": null,
      "outputs": []
    },
    {
      "cell_type": "code",
      "metadata": {
        "id": "gHOg8_Sdrdro"
      },
      "source": [
        "len(simLex)"
      ],
      "execution_count": null,
      "outputs": []
    },
    {
      "cell_type": "code",
      "metadata": {
        "id": "RFey5tSTrdrq"
      },
      "source": [
        "simLex_pe_equal"
      ],
      "execution_count": null,
      "outputs": []
    },
    {
      "cell_type": "code",
      "metadata": {
        "id": "NHeZnFAOrdrr"
      },
      "source": [
        "simLex_pe_five"
      ],
      "execution_count": null,
      "outputs": []
    },
    {
      "cell_type": "code",
      "metadata": {
        "id": "L0Kh_jB5rdrr"
      },
      "source": [
        "simLex_pe_ten"
      ],
      "execution_count": null,
      "outputs": []
    },
    {
      "cell_type": "code",
      "metadata": {
        "id": "hUvpF2yurdrs"
      },
      "source": [
        "simLex_pe_fifty"
      ],
      "execution_count": null,
      "outputs": []
    },
    {
      "cell_type": "code",
      "metadata": {
        "id": "sx3vVZZrrdrt"
      },
      "source": [
        "simLex_pe_more"
      ],
      "execution_count": null,
      "outputs": []
    },
    {
      "cell_type": "code",
      "metadata": {
        "id": "3rre8-2ir_uN"
      },
      "source": [
        "#count word differencies Gensim\n",
        "simLex_ge_counter_differencies = {key: (simLex_gensim_counter.get(key, 0) / value - 1) * 100 for key, value in simLex_vanilla_counter.items()}\n",
        "\n",
        "simLex_ge_equal = 0\n",
        "simLex_ge_five = 0\n",
        "simLex_ge_ten = 0\n",
        "simLex_ge_fifty = 0\n",
        "simLex_ge_more = 0\n",
        "\n",
        "for i,j in simLex_ge_counter_differencies.items():\n",
        "  if j== 0:\n",
        "    simLex_ge_equal += 1\n",
        "\n",
        "for i,j in simLex_ge_counter_differencies.items():\n",
        "  if 0>j>=-5:\n",
        "    simLex_ge_five += 1\n",
        "\n",
        "for i,j in simLex_ge_counter_differencies.items():\n",
        "  if -10<=j<-5:\n",
        "    simLex_ge_ten += 1\n",
        "\n",
        "for i,j in simLex_ge_counter_differencies.items():\n",
        "  if -50<=j<-10:\n",
        "    simLex_ge_fifty += 1\n",
        "\n",
        "for i,j in simLex_ge_counter_differencies.items():\n",
        "  if j<-50:\n",
        "    simLex_ge_more += 1"
      ],
      "execution_count": null,
      "outputs": []
    },
    {
      "cell_type": "code",
      "metadata": {
        "id": "S0kE_uGXr_uR"
      },
      "source": [
        "simLex_ge_equal"
      ],
      "execution_count": null,
      "outputs": []
    },
    {
      "cell_type": "code",
      "metadata": {
        "id": "DXlTI9knr_uR"
      },
      "source": [
        "simLex_ge_five"
      ],
      "execution_count": null,
      "outputs": []
    },
    {
      "cell_type": "code",
      "metadata": {
        "id": "ZORhQTPjr_uS"
      },
      "source": [
        "simLex_ge_ten"
      ],
      "execution_count": null,
      "outputs": []
    },
    {
      "cell_type": "code",
      "metadata": {
        "id": "yWIV1R0_r_uT"
      },
      "source": [
        "simLex_ge_fifty"
      ],
      "execution_count": null,
      "outputs": []
    },
    {
      "cell_type": "code",
      "metadata": {
        "id": "qMvnGvvXr_uU"
      },
      "source": [
        "simLex_ge_more"
      ],
      "execution_count": null,
      "outputs": []
    },
    {
      "cell_type": "code",
      "metadata": {
        "id": "gGtEzNlisApf"
      },
      "source": [
        "#count word differencies Rake\n",
        "simLex_rake_counter_differencies = {key: (simLex_rake_counter.get(key, 0) / value - 1) * 100 for key, value in simLex_vanilla_counter.items()}\n",
        "\n",
        "simLex_rake_equal = 0\n",
        "simLex_rake_five = 0\n",
        "simLex_rake_ten = 0\n",
        "simLex_rake_fifty = 0\n",
        "simLex_rake_more = 0\n",
        "\n",
        "for i,j in simLex_rake_counter_differencies.items():\n",
        "  if j== 0:\n",
        "    simLex_rake_equal += 1\n",
        "\n",
        "for i,j in simLex_rake_counter_differencies.items():\n",
        "  if 0>j>=-5:\n",
        "    simLex_rake_five += 1\n",
        "\n",
        "for i,j in simLex_rake_counter_differencies.items():\n",
        "  if -10<=j<-5:\n",
        "    simLex_rake_ten += 1\n",
        "\n",
        "for i,j in simLex_rake_counter_differencies.items():\n",
        "  if -50<=j<-10:\n",
        "    simLex_rake_fifty += 1\n",
        "\n",
        "for i,j in simLex_rake_counter_differencies.items():\n",
        "  if j<-50:\n",
        "    simLex_rake_more += 1"
      ],
      "execution_count": null,
      "outputs": []
    },
    {
      "cell_type": "code",
      "metadata": {
        "id": "7mp_It-PsAph"
      },
      "source": [
        "simLex_rake_equal"
      ],
      "execution_count": null,
      "outputs": []
    },
    {
      "cell_type": "code",
      "metadata": {
        "id": "v-LmYJqxsAph"
      },
      "source": [
        "simLex_rake_five"
      ],
      "execution_count": null,
      "outputs": []
    },
    {
      "cell_type": "code",
      "metadata": {
        "id": "XVRfJ7pdsApj"
      },
      "source": [
        "simLex_rake_ten"
      ],
      "execution_count": null,
      "outputs": []
    },
    {
      "cell_type": "code",
      "metadata": {
        "id": "gwy4aHSLsApk"
      },
      "source": [
        "simLex_rake_fifty"
      ],
      "execution_count": null,
      "outputs": []
    },
    {
      "cell_type": "code",
      "metadata": {
        "id": "Kdkpw6Y4sApl"
      },
      "source": [
        "simLex_rake_more"
      ],
      "execution_count": null,
      "outputs": []
    },
    {
      "cell_type": "code",
      "metadata": {
        "id": "tOz6Hk8OsBS6"
      },
      "source": [
        "#count word differencies Topicrank\n",
        "simLex_tr_counter_differencies = {key: (simLex_topicrank_counter.get(key, 0) / value - 1) * 100 for key, value in simLex_vanilla_counter.items()}\n",
        "\n",
        "simLex_tr_equal = 0\n",
        "simLex_tr_five = 0\n",
        "simLex_tr_ten = 0\n",
        "simLex_tr_fifty = 0\n",
        "simLex_tr_more = 0\n",
        "\n",
        "for i,j in simLex_tr_counter_differencies.items():\n",
        "  if j== 0:\n",
        "    simLex_tr_equal += 1\n",
        "\n",
        "for i,j in simLex_tr_counter_differencies.items():\n",
        "  if 0>j>=-5:\n",
        "    simLex_tr_five += 1\n",
        "\n",
        "for i,j in simLex_tr_counter_differencies.items():\n",
        "  if -10<=j<-5:\n",
        "    simLex_tr_ten += 1\n",
        "\n",
        "for i,j in simLex_tr_counter_differencies.items():\n",
        "  if -50<=j<-10:\n",
        "    simLex_tr_fifty += 1\n",
        "\n",
        "for i,j in simLex_tr_counter_differencies.items():\n",
        "  if j<-50:\n",
        "    simLex_tr_more += 1"
      ],
      "execution_count": null,
      "outputs": []
    },
    {
      "cell_type": "code",
      "metadata": {
        "id": "-3fi2hT4sBS8"
      },
      "source": [
        "simLex_tr_equal"
      ],
      "execution_count": null,
      "outputs": []
    },
    {
      "cell_type": "code",
      "metadata": {
        "id": "xTTJ6sBusBS8"
      },
      "source": [
        "simLex_tr_five"
      ],
      "execution_count": null,
      "outputs": []
    },
    {
      "cell_type": "code",
      "metadata": {
        "id": "M4K9Y2t4sBS9"
      },
      "source": [
        "simLex_tr_ten"
      ],
      "execution_count": null,
      "outputs": []
    },
    {
      "cell_type": "code",
      "metadata": {
        "id": "SX9lwOm3sBS9"
      },
      "source": [
        "simLex_tr_fifty"
      ],
      "execution_count": null,
      "outputs": []
    },
    {
      "cell_type": "code",
      "metadata": {
        "id": "Meuqz111sBS-"
      },
      "source": [
        "simLex_tr_more"
      ],
      "execution_count": null,
      "outputs": []
    },
    {
      "cell_type": "markdown",
      "metadata": {
        "id": "QCXGefz-rPcf"
      },
      "source": [
        "RARE WORD COUNTER DIFFERENCIES"
      ]
    },
    {
      "cell_type": "code",
      "metadata": {
        "id": "PykmuvRPtNly"
      },
      "source": [
        "#count word differencies PE\n",
        "rw_PE_counter_differencies = {key: (rw_PE_counter.get(key, 0) / value - 1) * 100 for key, value in rw_vanilla_counter.items()}\n",
        "\n",
        "rw_pe_equal = 0\n",
        "rw_pe_five = 0\n",
        "rw_pe_ten = 0\n",
        "rw_pe_fifty = 0\n",
        "rw_pe_more = 0\n",
        "\n",
        "for i,j in rw_PE_counter_differencies.items():\n",
        "  if j== 0:\n",
        "    rw_pe_equal += 1\n",
        "\n",
        "for i,j in rw_PE_counter_differencies.items():\n",
        "  if 0>j>=-5:\n",
        "    rw_pe_five += 1\n",
        "\n",
        "for i,j in rw_PE_counter_differencies.items():\n",
        "  if -10<=j<-5:\n",
        "    rw_pe_ten += 1\n",
        "\n",
        "for i,j in rw_PE_counter_differencies.items():\n",
        "  if -50<=j<-10:\n",
        "    rw_pe_fifty += 1\n",
        "\n",
        "for i,j in rw_PE_counter_differencies.items():\n",
        "  if j<-50:\n",
        "    rw_pe_more += 1"
      ],
      "execution_count": null,
      "outputs": []
    },
    {
      "cell_type": "code",
      "metadata": {
        "id": "6efC254qtNl0"
      },
      "source": [
        "len(rw)"
      ],
      "execution_count": null,
      "outputs": []
    },
    {
      "cell_type": "code",
      "metadata": {
        "id": "4-OV2itTtNl1"
      },
      "source": [
        "rw_pe_equal"
      ],
      "execution_count": null,
      "outputs": []
    },
    {
      "cell_type": "code",
      "metadata": {
        "id": "4fxCjuU4tNl2"
      },
      "source": [
        "rw_pe_five"
      ],
      "execution_count": null,
      "outputs": []
    },
    {
      "cell_type": "code",
      "metadata": {
        "id": "5OGoB0_9tNl3"
      },
      "source": [
        "rw_pe_ten"
      ],
      "execution_count": null,
      "outputs": []
    },
    {
      "cell_type": "code",
      "metadata": {
        "id": "9YzTW1XRtNl4"
      },
      "source": [
        "rw_pe_fifty"
      ],
      "execution_count": null,
      "outputs": []
    },
    {
      "cell_type": "code",
      "metadata": {
        "id": "Rk2AhNXDtNl7"
      },
      "source": [
        "rw_pe_more"
      ],
      "execution_count": null,
      "outputs": []
    },
    {
      "cell_type": "code",
      "metadata": {
        "id": "o8cZ60autk3m"
      },
      "source": [
        "#count word differencies Gensim\n",
        "rw_ge_counter_differencies = {key: (rw_gensim_counter.get(key, 0) / value - 1) * 100 for key, value in rw_vanilla_counter.items()}\n",
        "\n",
        "rw_ge_equal = 0\n",
        "rw_ge_five = 0\n",
        "rw_ge_ten = 0\n",
        "rw_ge_fifty = 0\n",
        "rw_ge_more = 0\n",
        "\n",
        "for i,j in rw_ge_counter_differencies.items():\n",
        "  if j== 0:\n",
        "    rw_ge_equal += 1\n",
        "\n",
        "for i,j in rw_ge_counter_differencies.items():\n",
        "  if 0>j>=-5:\n",
        "    rw_ge_five += 1\n",
        "\n",
        "for i,j in rw_ge_counter_differencies.items():\n",
        "  if -10<=j<-5:\n",
        "    rw_ge_ten += 1\n",
        "\n",
        "for i,j in rw_ge_counter_differencies.items():\n",
        "  if -50<=j<-10:\n",
        "    rw_ge_fifty += 1\n",
        "\n",
        "for i,j in rw_ge_counter_differencies.items():\n",
        "  if j<-50:\n",
        "    rw_ge_more += 1"
      ],
      "execution_count": null,
      "outputs": []
    },
    {
      "cell_type": "code",
      "metadata": {
        "id": "H1_-oHGrtk3p"
      },
      "source": [
        "rw_ge_equal"
      ],
      "execution_count": null,
      "outputs": []
    },
    {
      "cell_type": "code",
      "metadata": {
        "id": "oRykzWeptk3r"
      },
      "source": [
        "rw_ge_five"
      ],
      "execution_count": null,
      "outputs": []
    },
    {
      "cell_type": "code",
      "metadata": {
        "id": "_lGPZ7f2tk3s"
      },
      "source": [
        "rw_ge_ten"
      ],
      "execution_count": null,
      "outputs": []
    },
    {
      "cell_type": "code",
      "metadata": {
        "id": "weayUJojtk3s"
      },
      "source": [
        "rw_ge_fifty"
      ],
      "execution_count": null,
      "outputs": []
    },
    {
      "cell_type": "code",
      "metadata": {
        "id": "piyiJXMLtk3u"
      },
      "source": [
        "rw_ge_more"
      ],
      "execution_count": null,
      "outputs": []
    },
    {
      "cell_type": "code",
      "metadata": {
        "id": "aBeGGfZFtleN"
      },
      "source": [
        "#count word differencies Rake\n",
        "rw_rake_counter_differencies = {key: (rw_rake_counter.get(key, 0) / value - 1) * 100 for key, value in rw_vanilla_counter.items()}\n",
        "\n",
        "rw_rake_equal = 0\n",
        "rw_rake_five = 0\n",
        "rw_rake_ten = 0\n",
        "rw_rake_fifty = 0\n",
        "rw_rake_more = 0\n",
        "\n",
        "for i,j in rw_rake_counter_differencies.items():\n",
        "  if j== 0:\n",
        "    rw_rake_equal += 1\n",
        "\n",
        "for i,j in rw_rake_counter_differencies.items():\n",
        "  if 0>j>=-5:\n",
        "    rw_rake_five += 1\n",
        "\n",
        "for i,j in rw_rake_counter_differencies.items():\n",
        "  if -10<=j<-5:\n",
        "    rw_rake_ten += 1\n",
        "\n",
        "for i,j in rw_rake_counter_differencies.items():\n",
        "  if -50<=j<-10:\n",
        "    rw_rake_fifty += 1\n",
        "\n",
        "for i,j in rw_rake_counter_differencies.items():\n",
        "  if j<-50:\n",
        "    rw_rake_more += 1"
      ],
      "execution_count": null,
      "outputs": []
    },
    {
      "cell_type": "code",
      "metadata": {
        "id": "dzZ3GDzRtleQ"
      },
      "source": [
        "rw_rake_equal"
      ],
      "execution_count": null,
      "outputs": []
    },
    {
      "cell_type": "code",
      "metadata": {
        "id": "upX-dcSotleR"
      },
      "source": [
        "rw_rake_five"
      ],
      "execution_count": null,
      "outputs": []
    },
    {
      "cell_type": "code",
      "metadata": {
        "id": "w-gqMoyItleR"
      },
      "source": [
        "rw_rake_ten"
      ],
      "execution_count": null,
      "outputs": []
    },
    {
      "cell_type": "code",
      "metadata": {
        "id": "aFSaN9B6tleS"
      },
      "source": [
        "rw_rake_fifty"
      ],
      "execution_count": null,
      "outputs": []
    },
    {
      "cell_type": "code",
      "metadata": {
        "id": "TIa-0SGKtleS"
      },
      "source": [
        "rw_rake_more"
      ],
      "execution_count": null,
      "outputs": []
    },
    {
      "cell_type": "code",
      "metadata": {
        "id": "asgm9yn8tmLi"
      },
      "source": [
        "#count word differencies Topicrank\n",
        "rw_tr_counter_differencies = {key: (rw_topicrank_counter.get(key, 0) / value - 1) * 100 for key, value in rw_vanilla_counter.items()}\n",
        "\n",
        "rw_tr_equal = 0\n",
        "rw_tr_five = 0\n",
        "rw_tr_ten = 0\n",
        "rw_tr_fifty = 0\n",
        "rw_tr_more = 0\n",
        "\n",
        "for i,j in rw_tr_counter_differencies.items():\n",
        "  if j== 0:\n",
        "    rw_tr_equal += 1\n",
        "\n",
        "for i,j in rw_tr_counter_differencies.items():\n",
        "  if 0>j>=-5:\n",
        "    rw_tr_five += 1\n",
        "\n",
        "for i,j in rw_tr_counter_differencies.items():\n",
        "  if -10<=j<-5:\n",
        "    rw_tr_ten += 1\n",
        "\n",
        "for i,j in rw_tr_counter_differencies.items():\n",
        "  if -50<=j<-10:\n",
        "    rw_tr_fifty += 1\n",
        "\n",
        "for i,j in rw_tr_counter_differencies.items():\n",
        "  if j<-50:\n",
        "    rw_tr_more += 1"
      ],
      "execution_count": null,
      "outputs": []
    },
    {
      "cell_type": "code",
      "metadata": {
        "id": "0BEJJtomtmLk"
      },
      "source": [
        "rw_tr_equal"
      ],
      "execution_count": null,
      "outputs": []
    },
    {
      "cell_type": "code",
      "metadata": {
        "id": "4F_ncll_tmLk"
      },
      "source": [
        "rw_tr_five"
      ],
      "execution_count": null,
      "outputs": []
    },
    {
      "cell_type": "code",
      "metadata": {
        "id": "FJgn0W_KtmLk"
      },
      "source": [
        "rw_tr_ten"
      ],
      "execution_count": null,
      "outputs": []
    },
    {
      "cell_type": "code",
      "metadata": {
        "id": "vXUy4_m1tmLl"
      },
      "source": [
        "rw_tr_fifty"
      ],
      "execution_count": null,
      "outputs": []
    },
    {
      "cell_type": "code",
      "metadata": {
        "id": "BaxeHGTVtmLl"
      },
      "source": [
        "rw_tr_more"
      ],
      "execution_count": null,
      "outputs": []
    },
    {
      "cell_type": "markdown",
      "metadata": {
        "id": "e_xIA7aFulZL"
      },
      "source": [
        "RG65 COUNTER DIFFERENCIES"
      ]
    },
    {
      "cell_type": "code",
      "metadata": {
        "id": "J7GsdMLyvGsW"
      },
      "source": [
        "#count word differencies PE\n",
        "rg65_PE_counter_differencies = {key: (rg65_PE_counter.get(key, 0) / value - 1) * 100 for key, value in rg65_vanilla_counter.items()}\n",
        "\n",
        "rg_pe_equal = 0\n",
        "rg_pe_five = 0\n",
        "rg_pe_ten = 0\n",
        "rg_pe_fifty = 0\n",
        "rg_pe_more = 0\n",
        "\n",
        "for i,j in rg65_PE_counter_differencies.items():\n",
        "  if j== 0:\n",
        "    rg_pe_equal += 1\n",
        "\n",
        "for i,j in rg65_PE_counter_differencies.items():\n",
        "  if 0>j>=-5:\n",
        "    rg_pe_five += 1\n",
        "\n",
        "for i,j in rg65_PE_counter_differencies.items():\n",
        "  if -10<=j<-5:\n",
        "    rg_pe_ten += 1\n",
        "\n",
        "for i,j in rg65_PE_counter_differencies.items():\n",
        "  if -50<=j<-10:\n",
        "    rg_pe_fifty += 1\n",
        "\n",
        "for i,j in rg65_PE_counter_differencies.items():\n",
        "  if j<-50:\n",
        "    rg_pe_more += 1"
      ],
      "execution_count": null,
      "outputs": []
    },
    {
      "cell_type": "code",
      "metadata": {
        "id": "jpPyczGdvGsY"
      },
      "source": [
        "len(rg65)"
      ],
      "execution_count": null,
      "outputs": []
    },
    {
      "cell_type": "code",
      "metadata": {
        "id": "7ilE1AbvvGsZ"
      },
      "source": [
        "rg_pe_equal"
      ],
      "execution_count": null,
      "outputs": []
    },
    {
      "cell_type": "code",
      "metadata": {
        "id": "F5-IWKPAvGsa"
      },
      "source": [
        "rg_pe_five"
      ],
      "execution_count": null,
      "outputs": []
    },
    {
      "cell_type": "code",
      "metadata": {
        "id": "n8iAb4j0vGsb"
      },
      "source": [
        "rg_pe_ten"
      ],
      "execution_count": null,
      "outputs": []
    },
    {
      "cell_type": "code",
      "metadata": {
        "id": "iZwKAAR4vGsc"
      },
      "source": [
        "rg_pe_fifty"
      ],
      "execution_count": null,
      "outputs": []
    },
    {
      "cell_type": "code",
      "metadata": {
        "id": "Le1fBAQOvGse"
      },
      "source": [
        "rg_pe_more"
      ],
      "execution_count": null,
      "outputs": []
    },
    {
      "cell_type": "code",
      "metadata": {
        "id": "uIRTmrAmvkTI"
      },
      "source": [
        "#count word differencies Gensim\n",
        "rg65_ge_counter_differencies = {key: (rg65_gensim_counter.get(key, 0) / value - 1) * 100 for key, value in rg65_vanilla_counter.items()}\n",
        "\n",
        "rg_ge_equal = 0\n",
        "rg_ge_five = 0\n",
        "rg_ge_ten = 0\n",
        "rg_ge_fifty = 0\n",
        "rg_ge_more = 0\n",
        "\n",
        "for i,j in rg65_ge_counter_differencies.items():\n",
        "  if j== 0:\n",
        "    rg_ge_equal += 1\n",
        "\n",
        "for i,j in rg65_ge_counter_differencies.items():\n",
        "  if 0>j>=-5:\n",
        "    rg_ge_five += 1\n",
        "\n",
        "for i,j in rg65_ge_counter_differencies.items():\n",
        "  if -10<=j<-5:\n",
        "    rg_ge_ten += 1\n",
        "\n",
        "for i,j in rg65_ge_counter_differencies.items():\n",
        "  if -50<=j<-10:\n",
        "    rg_ge_fifty += 1\n",
        "\n",
        "for i,j in rg65_ge_counter_differencies.items():\n",
        "  if j<-50:\n",
        "    rg_ge_more += 1"
      ],
      "execution_count": null,
      "outputs": []
    },
    {
      "cell_type": "code",
      "metadata": {
        "id": "NEwDb32wvkTL"
      },
      "source": [
        "rg_ge_equal"
      ],
      "execution_count": null,
      "outputs": []
    },
    {
      "cell_type": "code",
      "metadata": {
        "id": "L5JbeBOJvkTM"
      },
      "source": [
        "rg_ge_five"
      ],
      "execution_count": null,
      "outputs": []
    },
    {
      "cell_type": "code",
      "metadata": {
        "id": "NWvOap5yvkTN"
      },
      "source": [
        "rg_ge_ten"
      ],
      "execution_count": null,
      "outputs": []
    },
    {
      "cell_type": "code",
      "metadata": {
        "id": "F55EYCrtvkTO"
      },
      "source": [
        "rg_ge_fifty"
      ],
      "execution_count": null,
      "outputs": []
    },
    {
      "cell_type": "code",
      "metadata": {
        "id": "0lAgHc7ovkTP"
      },
      "source": [
        "rg_ge_more"
      ],
      "execution_count": null,
      "outputs": []
    },
    {
      "cell_type": "code",
      "metadata": {
        "id": "vRnO5vMkvk5g"
      },
      "source": [
        "#count word differencies Rake\n",
        "rg65_rake_counter_differencies = {key: (rg65_rake_counter.get(key, 0) / value - 1) * 100 for key, value in rg65_vanilla_counter.items()}\n",
        "\n",
        "rg_rake_equal = 0\n",
        "rg_rake_five = 0\n",
        "rg_rake_ten = 0\n",
        "rg_rake_fifty = 0\n",
        "rg_rake_more = 0\n",
        "\n",
        "for i,j in rg65_rake_counter_differencies.items():\n",
        "  if j== 0:\n",
        "    rg_rake_equal += 1\n",
        "\n",
        "for i,j in rg65_rake_counter_differencies.items():\n",
        "  if 0>j>=-5:\n",
        "    rg_rake_five += 1\n",
        "\n",
        "for i,j in rg65_rake_counter_differencies.items():\n",
        "  if -10<=j<-5:\n",
        "    rg_rake_ten += 1\n",
        "\n",
        "for i,j in rg65_rake_counter_differencies.items():\n",
        "  if -50<=j<-10:\n",
        "    rg_rake_fifty += 1\n",
        "\n",
        "for i,j in rg65_rake_counter_differencies.items():\n",
        "  if j<-50:\n",
        "    rg_rake_more += 1"
      ],
      "execution_count": null,
      "outputs": []
    },
    {
      "cell_type": "code",
      "metadata": {
        "id": "DuSvAFpcvk5i"
      },
      "source": [
        "rg_rake_equal"
      ],
      "execution_count": null,
      "outputs": []
    },
    {
      "cell_type": "code",
      "metadata": {
        "id": "5NFYAVWMvk5j"
      },
      "source": [
        "rg_rake_five"
      ],
      "execution_count": null,
      "outputs": []
    },
    {
      "cell_type": "code",
      "metadata": {
        "id": "aDozV9n1vk5k"
      },
      "source": [
        "rg_rake_ten"
      ],
      "execution_count": null,
      "outputs": []
    },
    {
      "cell_type": "code",
      "metadata": {
        "id": "3SkeEssavk5l"
      },
      "source": [
        "rg_rake_fifty"
      ],
      "execution_count": null,
      "outputs": []
    },
    {
      "cell_type": "code",
      "metadata": {
        "id": "fQFOP6z7vk5l"
      },
      "source": [
        "rg_rake_more"
      ],
      "execution_count": null,
      "outputs": []
    },
    {
      "cell_type": "code",
      "metadata": {
        "id": "JIqvbJzXvlm6"
      },
      "source": [
        "#count word differencies Topicrank\n",
        "rg65_tr_counter_differencies = {key: (rg65_topicrank_counter.get(key, 0) / value - 1) * 100 for key, value in rg65_vanilla_counter.items()}\n",
        "\n",
        "rg_tr_equal = 0\n",
        "rg_tr_five = 0\n",
        "rg_tr_ten = 0\n",
        "rg_tr_fifty = 0\n",
        "rg_tr_more = 0\n",
        "\n",
        "for i,j in rg65_tr_counter_differencies.items():\n",
        "  if j== 0:\n",
        "    rg_tr_equal += 1\n",
        "\n",
        "for i,j in rg65_tr_counter_differencies.items():\n",
        "  if 0>j>=-5:\n",
        "    rg_tr_five += 1\n",
        "\n",
        "for i,j in rg65_tr_counter_differencies.items():\n",
        "  if -10<=j<-5:\n",
        "    rg_tr_ten += 1\n",
        "\n",
        "for i,j in rg65_tr_counter_differencies.items():\n",
        "  if -50<=j<-10:\n",
        "    rg_tr_fifty += 1\n",
        "\n",
        "for i,j in rg65_tr_counter_differencies.items():\n",
        "  if j<-50:\n",
        "    rg_tr_more += 1"
      ],
      "execution_count": null,
      "outputs": []
    },
    {
      "cell_type": "code",
      "metadata": {
        "id": "pmibOvDdvlm7"
      },
      "source": [
        "rg_tr_equal"
      ],
      "execution_count": null,
      "outputs": []
    },
    {
      "cell_type": "code",
      "metadata": {
        "id": "EA93LJzXvlm8"
      },
      "source": [
        "rg_tr_five"
      ],
      "execution_count": null,
      "outputs": []
    },
    {
      "cell_type": "code",
      "metadata": {
        "id": "mxtJb9lAvlm8"
      },
      "source": [
        "rg_tr_ten"
      ],
      "execution_count": null,
      "outputs": []
    },
    {
      "cell_type": "code",
      "metadata": {
        "id": "eCeUXpOTvlm9"
      },
      "source": [
        "rg_tr_fifty"
      ],
      "execution_count": null,
      "outputs": []
    },
    {
      "cell_type": "code",
      "metadata": {
        "id": "gckFiQiGvlm9"
      },
      "source": [
        "rg_tr_more"
      ],
      "execution_count": null,
      "outputs": []
    },
    {
      "cell_type": "markdown",
      "metadata": {
        "id": "e4R6qYz7umMS"
      },
      "source": [
        "MTURK COUNTER DIFFERENCIES"
      ]
    },
    {
      "cell_type": "code",
      "metadata": {
        "id": "iPgr3tHwvJ73"
      },
      "source": [
        "#count word differencies PE\n",
        "mturk_PE_counter_differencies = {key: (mturk_PE_counter.get(key, 0) / value - 1) * 100 for key, value in mturk_vanilla_counter.items()}\n",
        "\n",
        "mturk_pe_equal = 0\n",
        "mturk_pe_five = 0\n",
        "mturk_pe_ten = 0\n",
        "mturk_pe_fifty = 0\n",
        "mturk_pe_more = 0\n",
        "\n",
        "for i,j in mturk_PE_counter_differencies.items():\n",
        "  if j== 0:\n",
        "    mturk_pe_equal += 1\n",
        "\n",
        "for i,j in mturk_PE_counter_differencies.items():\n",
        "  if 0>j>=-5:\n",
        "    mturk_pe_five += 1\n",
        "\n",
        "for i,j in mturk_PE_counter_differencies.items():\n",
        "  if -10<=j<-5:\n",
        "    mturk_pe_ten += 1\n",
        "\n",
        "for i,j in mturk_PE_counter_differencies.items():\n",
        "  if -50<=j<-10:\n",
        "    mturk_pe_fifty += 1\n",
        "\n",
        "for i,j in mturk_PE_counter_differencies.items():\n",
        "  if j<-50:\n",
        "    mturk_pe_more += 1"
      ],
      "execution_count": null,
      "outputs": []
    },
    {
      "cell_type": "code",
      "metadata": {
        "id": "w_TlH07SvJ74"
      },
      "source": [
        "len(mturk)"
      ],
      "execution_count": null,
      "outputs": []
    },
    {
      "cell_type": "code",
      "metadata": {
        "id": "yz4WrkHSvJ75"
      },
      "source": [
        "mturk_pe_equal"
      ],
      "execution_count": null,
      "outputs": []
    },
    {
      "cell_type": "code",
      "metadata": {
        "id": "uYJVHT7fvJ75"
      },
      "source": [
        "mturk_pe_five"
      ],
      "execution_count": null,
      "outputs": []
    },
    {
      "cell_type": "code",
      "metadata": {
        "id": "Oh-Ty1gEvJ76"
      },
      "source": [
        "mturk_pe_ten"
      ],
      "execution_count": null,
      "outputs": []
    },
    {
      "cell_type": "code",
      "metadata": {
        "id": "hTifEg-zvJ76"
      },
      "source": [
        "mturk_pe_fifty"
      ],
      "execution_count": null,
      "outputs": []
    },
    {
      "cell_type": "code",
      "metadata": {
        "id": "rYn-j1r0vJ76"
      },
      "source": [
        "mturk_pe_more"
      ],
      "execution_count": null,
      "outputs": []
    },
    {
      "cell_type": "code",
      "metadata": {
        "id": "ddC9w-JRw7x5"
      },
      "source": [
        "#count word differencies Gensim\n",
        "mturk_ge_counter_differencies = {key: (mturk_gensim_counter.get(key, 0) / value - 1) * 100 for key, value in mturk_vanilla_counter.items()}\n",
        "\n",
        "mturk_ge_equal = 0\n",
        "mturk_ge_five = 0\n",
        "mturk_ge_ten = 0\n",
        "mturk_ge_fifty = 0\n",
        "mturk_ge_more = 0\n",
        "\n",
        "for i,j in mturk_ge_counter_differencies.items():\n",
        "  if j== 0:\n",
        "    mturk_ge_equal += 1\n",
        "\n",
        "for i,j in mturk_ge_counter_differencies.items():\n",
        "  if 0>j>=-5:\n",
        "    mturk_ge_five += 1\n",
        "\n",
        "for i,j in mturk_ge_counter_differencies.items():\n",
        "  if -10<=j<-5:\n",
        "    mturk_ge_ten += 1\n",
        "\n",
        "for i,j in mturk_ge_counter_differencies.items():\n",
        "  if -50<=j<-10:\n",
        "    mturk_ge_fifty += 1\n",
        "\n",
        "for i,j in mturk_ge_counter_differencies.items():\n",
        "  if j<-50:\n",
        "    mturk_ge_more += 1"
      ],
      "execution_count": null,
      "outputs": []
    },
    {
      "cell_type": "code",
      "metadata": {
        "id": "Q2DjOcjIw7x7"
      },
      "source": [
        "mturk_ge_equal"
      ],
      "execution_count": null,
      "outputs": []
    },
    {
      "cell_type": "code",
      "metadata": {
        "id": "LzmiXK1Pw7x8"
      },
      "source": [
        "mturk_ge_five"
      ],
      "execution_count": null,
      "outputs": []
    },
    {
      "cell_type": "code",
      "metadata": {
        "id": "-HzzCknAw7x9"
      },
      "source": [
        "mturk_ge_ten"
      ],
      "execution_count": null,
      "outputs": []
    },
    {
      "cell_type": "code",
      "metadata": {
        "id": "zWRbgCnow7x-"
      },
      "source": [
        "mturk_ge_fifty"
      ],
      "execution_count": null,
      "outputs": []
    },
    {
      "cell_type": "code",
      "metadata": {
        "id": "jtYZNB9mw7x_"
      },
      "source": [
        "mturk_ge_more"
      ],
      "execution_count": null,
      "outputs": []
    },
    {
      "cell_type": "code",
      "metadata": {
        "id": "Pmof9OIzw8h7"
      },
      "source": [
        "#count word differencies Rake\n",
        "mturk_rake_counter_differencies = {key: (mturk_rake_counter.get(key, 0) / value - 1) * 100 for key, value in mturk_vanilla_counter.items()}\n",
        "\n",
        "mturk_rake_equal = 0\n",
        "mturk_rake_five = 0\n",
        "mturk_rake_ten = 0\n",
        "mturk_rake_fifty = 0\n",
        "mturk_rake_more = 0\n",
        "\n",
        "for i,j in mturk_rake_counter_differencies.items():\n",
        "  if j== 0:\n",
        "    mturk_rake_equal += 1\n",
        "\n",
        "for i,j in mturk_rake_counter_differencies.items():\n",
        "  if 0>j>=-5:\n",
        "    mturk_rake_five += 1\n",
        "\n",
        "for i,j in mturk_rake_counter_differencies.items():\n",
        "  if -10<=j<-5:\n",
        "    mturk_rake_ten += 1\n",
        "\n",
        "for i,j in mturk_rake_counter_differencies.items():\n",
        "  if -50<=j<-10:\n",
        "    mturk_rake_fifty += 1\n",
        "\n",
        "for i,j in mturk_rake_counter_differencies.items():\n",
        "  if j<-50:\n",
        "    mturk_rake_more += 1"
      ],
      "execution_count": null,
      "outputs": []
    },
    {
      "cell_type": "code",
      "metadata": {
        "id": "nq5QC1_Iw8h8"
      },
      "source": [
        "mturk_rake_equal"
      ],
      "execution_count": null,
      "outputs": []
    },
    {
      "cell_type": "code",
      "metadata": {
        "id": "HS2FJJ52w8h9"
      },
      "source": [
        "mturk_rake_five"
      ],
      "execution_count": null,
      "outputs": []
    },
    {
      "cell_type": "code",
      "metadata": {
        "id": "Jq1eH6Lvw8h-"
      },
      "source": [
        "mturk_rake_ten"
      ],
      "execution_count": null,
      "outputs": []
    },
    {
      "cell_type": "code",
      "metadata": {
        "id": "W_6K7zu4w8h-"
      },
      "source": [
        "mturk_rake_fifty"
      ],
      "execution_count": null,
      "outputs": []
    },
    {
      "cell_type": "code",
      "metadata": {
        "id": "9lyj4b1sw8h_"
      },
      "source": [
        "mturk_rake_more"
      ],
      "execution_count": null,
      "outputs": []
    },
    {
      "cell_type": "code",
      "metadata": {
        "id": "byVCQsgdw9Ma"
      },
      "source": [
        "#count word differencies Topicrank\n",
        "mturk_tr_counter_differencies = {key: (mturk_topicrank_counter.get(key, 0) / value - 1) * 100 for key, value in mturk_vanilla_counter.items()}\n",
        "\n",
        "mturk_tr_equal = 0\n",
        "mturk_tr_five = 0\n",
        "mturk_tr_ten = 0\n",
        "mturk_tr_fifty = 0\n",
        "mturk_tr_more = 0\n",
        "\n",
        "for i,j in mturk_tr_counter_differencies.items():\n",
        "  if j== 0:\n",
        "    mturk_tr_equal += 1\n",
        "\n",
        "for i,j in mturk_tr_counter_differencies.items():\n",
        "  if 0>j>=-5:\n",
        "    mturk_tr_five += 1\n",
        "\n",
        "for i,j in mturk_tr_counter_differencies.items():\n",
        "  if -10<=j<-5:\n",
        "    mturk_tr_ten += 1\n",
        "\n",
        "for i,j in mturk_tr_counter_differencies.items():\n",
        "  if -50<=j<-10:\n",
        "    mturk_tr_fifty += 1\n",
        "\n",
        "for i,j in mturk_tr_counter_differencies.items():\n",
        "  if j<-50:\n",
        "    mturk_tr_more += 1"
      ],
      "execution_count": null,
      "outputs": []
    },
    {
      "cell_type": "code",
      "metadata": {
        "id": "Ymhv5OYdw9Mc"
      },
      "source": [
        "mturk_tr_equal"
      ],
      "execution_count": null,
      "outputs": []
    },
    {
      "cell_type": "code",
      "metadata": {
        "id": "x8OdrkNNw9Md"
      },
      "source": [
        "mturk_tr_five"
      ],
      "execution_count": null,
      "outputs": []
    },
    {
      "cell_type": "code",
      "metadata": {
        "id": "HLHqJujCw9Md"
      },
      "source": [
        "mturk_tr_ten"
      ],
      "execution_count": null,
      "outputs": []
    },
    {
      "cell_type": "code",
      "metadata": {
        "id": "xbBd5Cwew9Md"
      },
      "source": [
        "mturk_tr_fifty"
      ],
      "execution_count": null,
      "outputs": []
    },
    {
      "cell_type": "code",
      "metadata": {
        "id": "ppPKQGpEw9Me"
      },
      "source": [
        "mturk_tr_more"
      ],
      "execution_count": null,
      "outputs": []
    },
    {
      "cell_type": "markdown",
      "metadata": {
        "id": "9R0nZMJFuwEf"
      },
      "source": [
        "GOOGLE COUNTER DIFFERENCIES"
      ]
    },
    {
      "cell_type": "code",
      "metadata": {
        "id": "ZsJB6dBIvJPL"
      },
      "source": [
        "#count word differencies PE\n",
        "google_PE_counter_differencies = {key: (google_PE_counter.get(key, 0) / value - 1) * 100 for key, value in google_vanilla_counter.items()}\n",
        "\n",
        "google_pe_equal = 0\n",
        "google_pe_five = 0\n",
        "google_pe_ten = 0\n",
        "google_pe_fifty = 0\n",
        "google_pe_more = 0\n",
        "\n",
        "for i,j in google_PE_counter_differencies.items():\n",
        "  if j== 0:\n",
        "    google_pe_equal += 1\n",
        "\n",
        "for i,j in google_PE_counter_differencies.items():\n",
        "  if 0>j>=-5:\n",
        "    google_pe_five += 1\n",
        "\n",
        "for i,j in google_PE_counter_differencies.items():\n",
        "  if -10<=j<-5:\n",
        "    google_pe_ten += 1\n",
        "\n",
        "for i,j in google_PE_counter_differencies.items():\n",
        "  if -50<=j<-10:\n",
        "    google_pe_fifty += 1\n",
        "\n",
        "for i,j in google_PE_counter_differencies.items():\n",
        "  if j<-50:\n",
        "    google_pe_more += 1"
      ],
      "execution_count": null,
      "outputs": []
    },
    {
      "cell_type": "code",
      "metadata": {
        "id": "Acwoe1j9vJPL"
      },
      "source": [
        "len(google)"
      ],
      "execution_count": null,
      "outputs": []
    },
    {
      "cell_type": "code",
      "metadata": {
        "id": "NdADT4XDvJPM"
      },
      "source": [
        "google_pe_equal"
      ],
      "execution_count": null,
      "outputs": []
    },
    {
      "cell_type": "code",
      "metadata": {
        "id": "L59PMufzvJPM"
      },
      "source": [
        "google_pe_five"
      ],
      "execution_count": null,
      "outputs": []
    },
    {
      "cell_type": "code",
      "metadata": {
        "id": "wO3azBTMvJPN"
      },
      "source": [
        "google_pe_ten"
      ],
      "execution_count": null,
      "outputs": []
    },
    {
      "cell_type": "code",
      "metadata": {
        "id": "20O6Um4evJPN"
      },
      "source": [
        "google_pe_fifty"
      ],
      "execution_count": null,
      "outputs": []
    },
    {
      "cell_type": "code",
      "metadata": {
        "id": "5dXrZorcvJPN"
      },
      "source": [
        "google_pe_more"
      ],
      "execution_count": null,
      "outputs": []
    },
    {
      "cell_type": "code",
      "metadata": {
        "id": "TVGYnNsDy57j"
      },
      "source": [
        "#count word differencies Gensim\n",
        "google_ge_counter_differencies = {key: (google_gensim_counter.get(key, 0) / value - 1) * 100 for key, value in google_vanilla_counter.items()}\n",
        "\n",
        "google_ge_equal = 0\n",
        "google_ge_five = 0\n",
        "google_ge_ten = 0\n",
        "google_ge_fifty = 0\n",
        "google_ge_more = 0\n",
        "\n",
        "for i,j in google_ge_counter_differencies.items():\n",
        "  if j== 0:\n",
        "    google_ge_equal += 1\n",
        "\n",
        "for i,j in google_ge_counter_differencies.items():\n",
        "  if 0>j>=-5:\n",
        "    google_ge_five += 1\n",
        "\n",
        "for i,j in google_ge_counter_differencies.items():\n",
        "  if -10<=j<-5:\n",
        "    google_ge_ten += 1\n",
        "\n",
        "for i,j in google_ge_counter_differencies.items():\n",
        "  if -50<=j<-10:\n",
        "    google_ge_fifty += 1\n",
        "\n",
        "for i,j in google_ge_counter_differencies.items():\n",
        "  if j<-50:\n",
        "    google_ge_more += 1"
      ],
      "execution_count": null,
      "outputs": []
    },
    {
      "cell_type": "code",
      "metadata": {
        "id": "OkTPk4ely57m"
      },
      "source": [
        "google_ge_equal"
      ],
      "execution_count": null,
      "outputs": []
    },
    {
      "cell_type": "code",
      "metadata": {
        "id": "mpRl8sZLy57n"
      },
      "source": [
        "google_ge_five"
      ],
      "execution_count": null,
      "outputs": []
    },
    {
      "cell_type": "code",
      "metadata": {
        "id": "LX8emBTly57o"
      },
      "source": [
        "google_ge_ten"
      ],
      "execution_count": null,
      "outputs": []
    },
    {
      "cell_type": "code",
      "metadata": {
        "id": "9QYHIw_vy57p"
      },
      "source": [
        "google_ge_fifty"
      ],
      "execution_count": null,
      "outputs": []
    },
    {
      "cell_type": "code",
      "metadata": {
        "id": "51QfZr7Zy57q"
      },
      "source": [
        "google_ge_more"
      ],
      "execution_count": null,
      "outputs": []
    },
    {
      "cell_type": "code",
      "metadata": {
        "id": "Z6W2LNSmy7rM"
      },
      "source": [
        "#count word differencies Rake\n",
        "google_rake_counter_differencies = {key: (google_rake_counter.get(key, 0) / value - 1) * 100 for key, value in google_vanilla_counter.items()}\n",
        "\n",
        "google_rake_equal = 0\n",
        "google_rake_five = 0\n",
        "google_rake_ten = 0\n",
        "google_rake_fifty = 0\n",
        "google_rake_more = 0\n",
        "\n",
        "for i,j in google_rake_counter_differencies.items():\n",
        "  if j== 0:\n",
        "    google_rake_equal += 1\n",
        "\n",
        "for i,j in google_rake_counter_differencies.items():\n",
        "  if 0>j>=-5:\n",
        "    google_rake_five += 1\n",
        "\n",
        "for i,j in google_rake_counter_differencies.items():\n",
        "  if -10<=j<-5:\n",
        "    google_rake_ten += 1\n",
        "\n",
        "for i,j in google_rake_counter_differencies.items():\n",
        "  if -50<=j<-10:\n",
        "    google_rake_fifty += 1\n",
        "\n",
        "for i,j in google_rake_counter_differencies.items():\n",
        "  if j<-50:\n",
        "    google_rake_more += 1"
      ],
      "execution_count": null,
      "outputs": []
    },
    {
      "cell_type": "code",
      "metadata": {
        "id": "ZaZCUGMJy7rN"
      },
      "source": [
        "google_rake_equal"
      ],
      "execution_count": null,
      "outputs": []
    },
    {
      "cell_type": "code",
      "metadata": {
        "id": "eDv3XJ_3y7rO"
      },
      "source": [
        "google_rake_five"
      ],
      "execution_count": null,
      "outputs": []
    },
    {
      "cell_type": "code",
      "metadata": {
        "id": "8dGrHjbxy7rP"
      },
      "source": [
        "google_rake_ten"
      ],
      "execution_count": null,
      "outputs": []
    },
    {
      "cell_type": "code",
      "metadata": {
        "id": "QYkW7tt4y7rP"
      },
      "source": [
        "google_rake_fifty"
      ],
      "execution_count": null,
      "outputs": []
    },
    {
      "cell_type": "code",
      "metadata": {
        "id": "f9zMSA2fy7rQ"
      },
      "source": [
        "google_rake_more"
      ],
      "execution_count": null,
      "outputs": []
    },
    {
      "cell_type": "code",
      "metadata": {
        "id": "gXy49gYay8YU"
      },
      "source": [
        "#count word differencies Topicrank\n",
        "google_tr_counter_differencies = {key: (google_topicrank_counter.get(key, 0) / value - 1) * 100 for key, value in google_vanilla_counter.items()}\n",
        "\n",
        "google_tr_equal = 0\n",
        "google_tr_five = 0\n",
        "google_tr_ten = 0\n",
        "google_tr_fifty = 0\n",
        "google_tr_more = 0\n",
        "\n",
        "for i,j in google_tr_counter_differencies.items():\n",
        "  if j== 0:\n",
        "    google_tr_equal += 1\n",
        "\n",
        "for i,j in google_tr_counter_differencies.items():\n",
        "  if 0>j>=-5:\n",
        "    google_tr_five += 1\n",
        "\n",
        "for i,j in google_tr_counter_differencies.items():\n",
        "  if -10<=j<-5:\n",
        "    google_tr_ten += 1\n",
        "\n",
        "for i,j in google_tr_counter_differencies.items():\n",
        "  if -50<=j<-10:\n",
        "    google_tr_fifty += 1\n",
        "\n",
        "for i,j in google_tr_counter_differencies.items():\n",
        "  if j<-50:\n",
        "    google_tr_more += 1"
      ],
      "execution_count": null,
      "outputs": []
    },
    {
      "cell_type": "code",
      "metadata": {
        "id": "uwZtSALry8YV"
      },
      "source": [
        "google_tr_equal"
      ],
      "execution_count": null,
      "outputs": []
    },
    {
      "cell_type": "code",
      "metadata": {
        "id": "YQcvW3G-y8YW"
      },
      "source": [
        "google_tr_five"
      ],
      "execution_count": null,
      "outputs": []
    },
    {
      "cell_type": "code",
      "metadata": {
        "id": "NBn5zASsy8YW"
      },
      "source": [
        "google_tr_ten"
      ],
      "execution_count": null,
      "outputs": []
    },
    {
      "cell_type": "code",
      "metadata": {
        "id": "tceGhDm4y8YX"
      },
      "source": [
        "google_tr_fifty"
      ],
      "execution_count": null,
      "outputs": []
    },
    {
      "cell_type": "code",
      "metadata": {
        "id": "8yn6u2WDy8YX"
      },
      "source": [
        "google_tr_more"
      ],
      "execution_count": null,
      "outputs": []
    },
    {
      "cell_type": "markdown",
      "metadata": {
        "id": "enUFwqFuuxxf"
      },
      "source": [
        "MSR COUNTER DIFFERENCIES"
      ]
    },
    {
      "cell_type": "code",
      "metadata": {
        "id": "eWkaD_mtvIc_"
      },
      "source": [
        "#count word differencies PE\n",
        "msr_PE_counter_differencies = {key: (msr_PE_counter.get(key, 0) / value - 1) * 100 for key, value in msr_vanilla_counter.items()}\n",
        "\n",
        "msr_pe_equal = 0\n",
        "msr_pe_five = 0\n",
        "msr_pe_ten = 0\n",
        "msr_pe_fifty = 0\n",
        "msr_pe_more = 0\n",
        "\n",
        "for i,j in msr_PE_counter_differencies.items():\n",
        "  if j== 0:\n",
        "    msr_pe_equal += 1\n",
        "\n",
        "for i,j in msr_PE_counter_differencies.items():\n",
        "  if 0>j>=-5:\n",
        "    msr_pe_five += 1\n",
        "\n",
        "for i,j in msr_PE_counter_differencies.items():\n",
        "  if -10<=j<-5:\n",
        "    msr_pe_ten += 1\n",
        "\n",
        "for i,j in msr_PE_counter_differencies.items():\n",
        "  if -50<=j<-10:\n",
        "    msr_pe_fifty += 1\n",
        "\n",
        "for i,j in msr_PE_counter_differencies.items():\n",
        "  if j<-50:\n",
        "    msr_pe_more += 1"
      ],
      "execution_count": null,
      "outputs": []
    },
    {
      "cell_type": "code",
      "metadata": {
        "id": "hlhXgwv9vIdA"
      },
      "source": [
        "len(msr)"
      ],
      "execution_count": null,
      "outputs": []
    },
    {
      "cell_type": "code",
      "metadata": {
        "id": "nfH5YnYnvIdA"
      },
      "source": [
        "msr_pe_equal"
      ],
      "execution_count": null,
      "outputs": []
    },
    {
      "cell_type": "code",
      "metadata": {
        "id": "Tm8UOZRxvIdB"
      },
      "source": [
        "msr_pe_five"
      ],
      "execution_count": null,
      "outputs": []
    },
    {
      "cell_type": "code",
      "metadata": {
        "id": "tWf1XAnlvIdC"
      },
      "source": [
        "msr_pe_ten"
      ],
      "execution_count": null,
      "outputs": []
    },
    {
      "cell_type": "code",
      "metadata": {
        "id": "Nvg9ywJUvIdC"
      },
      "source": [
        "msr_pe_fifty"
      ],
      "execution_count": null,
      "outputs": []
    },
    {
      "cell_type": "code",
      "metadata": {
        "id": "G5qj16jOvIdD"
      },
      "source": [
        "msr_pe_more"
      ],
      "execution_count": null,
      "outputs": []
    },
    {
      "cell_type": "code",
      "metadata": {
        "id": "GSGz-lNq0MJX"
      },
      "source": [
        "#count word differencies Gensim\n",
        "msr_ge_counter_differencies = {key: (msr_gensim_counter.get(key, 0) / value - 1) * 100 for key, value in msr_vanilla_counter.items()}\n",
        "\n",
        "msr_ge_equal = 0\n",
        "msr_ge_five = 0\n",
        "msr_ge_ten = 0\n",
        "msr_ge_fifty = 0\n",
        "msr_ge_more = 0\n",
        "\n",
        "for i,j in msr_ge_counter_differencies.items():\n",
        "  if j== 0:\n",
        "    msr_ge_equal += 1\n",
        "\n",
        "for i,j in msr_ge_counter_differencies.items():\n",
        "  if 0>j>=-5:\n",
        "    msr_ge_five += 1\n",
        "\n",
        "for i,j in msr_ge_counter_differencies.items():\n",
        "  if -10<=j<-5:\n",
        "    msr_ge_ten += 1\n",
        "\n",
        "for i,j in msr_ge_counter_differencies.items():\n",
        "  if -50<=j<-10:\n",
        "    msr_ge_fifty += 1\n",
        "\n",
        "for i,j in msr_ge_counter_differencies.items():\n",
        "  if j<-50:\n",
        "    msr_ge_more += 1"
      ],
      "execution_count": null,
      "outputs": []
    },
    {
      "cell_type": "code",
      "metadata": {
        "id": "5tBprxxN0MJZ"
      },
      "source": [
        "msr_ge_equal"
      ],
      "execution_count": null,
      "outputs": []
    },
    {
      "cell_type": "code",
      "metadata": {
        "id": "XMwDRos_0MJa"
      },
      "source": [
        "msr_ge_five"
      ],
      "execution_count": null,
      "outputs": []
    },
    {
      "cell_type": "code",
      "metadata": {
        "id": "mMCqV86h0MJb"
      },
      "source": [
        "msr_ge_ten"
      ],
      "execution_count": null,
      "outputs": []
    },
    {
      "cell_type": "code",
      "metadata": {
        "id": "OC0oJj0P0MJb"
      },
      "source": [
        "msr_ge_fifty"
      ],
      "execution_count": null,
      "outputs": []
    },
    {
      "cell_type": "code",
      "metadata": {
        "id": "ZV0-ICGD0MJc"
      },
      "source": [
        "msr_ge_more"
      ],
      "execution_count": null,
      "outputs": []
    },
    {
      "cell_type": "code",
      "metadata": {
        "id": "kzQpAAxE0M0I"
      },
      "source": [
        "#count word differencies Rake\n",
        "msr_rake_counter_differencies = {key: (msr_rake_counter.get(key, 0) / value - 1) * 100 for key, value in msr_vanilla_counter.items()}\n",
        "\n",
        "msr_rake_equal = 0\n",
        "msr_rake_five = 0\n",
        "msr_rake_ten = 0\n",
        "msr_rake_fifty = 0\n",
        "msr_rake_more = 0\n",
        "\n",
        "for i,j in msr_rake_counter_differencies.items():\n",
        "  if j== 0:\n",
        "    msr_rake_equal += 1\n",
        "\n",
        "for i,j in msr_rake_counter_differencies.items():\n",
        "  if 0>j>=-5:\n",
        "    msr_rake_five += 1\n",
        "\n",
        "for i,j in msr_rake_counter_differencies.items():\n",
        "  if -10<=j<-5:\n",
        "    msr_rake_ten += 1\n",
        "\n",
        "for i,j in msr_rake_counter_differencies.items():\n",
        "  if -50<=j<-10:\n",
        "    msr_rake_fifty += 1\n",
        "\n",
        "for i,j in msr_rake_counter_differencies.items():\n",
        "  if j<-50:\n",
        "    msr_rake_more += 1"
      ],
      "execution_count": null,
      "outputs": []
    },
    {
      "cell_type": "code",
      "metadata": {
        "id": "wU1BzG6d0M0K"
      },
      "source": [
        "msr_rake_equal"
      ],
      "execution_count": null,
      "outputs": []
    },
    {
      "cell_type": "code",
      "metadata": {
        "id": "BcW4nXYf0M0K"
      },
      "source": [
        "msr_rake_five"
      ],
      "execution_count": null,
      "outputs": []
    },
    {
      "cell_type": "code",
      "metadata": {
        "id": "ODvwh5fJ0M0L"
      },
      "source": [
        "msr_rake_ten"
      ],
      "execution_count": null,
      "outputs": []
    },
    {
      "cell_type": "code",
      "metadata": {
        "id": "WxIuhpAg0M0L"
      },
      "source": [
        "msr_rake_fifty"
      ],
      "execution_count": null,
      "outputs": []
    },
    {
      "cell_type": "code",
      "metadata": {
        "id": "SCuj-P_20M0M"
      },
      "source": [
        "msr_rake_more"
      ],
      "execution_count": null,
      "outputs": []
    },
    {
      "cell_type": "code",
      "metadata": {
        "id": "qF3BHQfQ0NZQ"
      },
      "source": [
        "#count word differencies Topicrank\n",
        "msr_tr_counter_differencies = {key: (msr_topicrank_counter.get(key, 0) / value - 1) * 100 for key, value in msr_vanilla_counter.items()}\n",
        "\n",
        "msr_tr_equal = 0\n",
        "msr_tr_five = 0\n",
        "msr_tr_ten = 0\n",
        "msr_tr_fifty = 0\n",
        "msr_tr_more = 0\n",
        "\n",
        "for i,j in msr_tr_counter_differencies.items():\n",
        "  if j== 0:\n",
        "    msr_tr_equal += 1\n",
        "\n",
        "for i,j in msr_tr_counter_differencies.items():\n",
        "  if 0>j>=-5:\n",
        "    msr_tr_five += 1\n",
        "\n",
        "for i,j in msr_tr_counter_differencies.items():\n",
        "  if -10<=j<-5:\n",
        "    msr_tr_ten += 1\n",
        "\n",
        "for i,j in msr_tr_counter_differencies.items():\n",
        "  if -50<=j<-10:\n",
        "    msr_tr_fifty += 1\n",
        "\n",
        "for i,j in msr_tr_counter_differencies.items():\n",
        "  if j<-50:\n",
        "    msr_tr_more += 1"
      ],
      "execution_count": null,
      "outputs": []
    },
    {
      "cell_type": "code",
      "metadata": {
        "id": "RVrf1-Sy0NZR"
      },
      "source": [
        "msr_tr_equal"
      ],
      "execution_count": null,
      "outputs": []
    },
    {
      "cell_type": "code",
      "metadata": {
        "id": "QX3PP0e80NZR"
      },
      "source": [
        "msr_tr_five"
      ],
      "execution_count": null,
      "outputs": []
    },
    {
      "cell_type": "code",
      "metadata": {
        "id": "d5BkfMc70NZR"
      },
      "source": [
        "msr_tr_ten"
      ],
      "execution_count": null,
      "outputs": []
    },
    {
      "cell_type": "code",
      "metadata": {
        "id": "AqtGOe-p0NZS"
      },
      "source": [
        "msr_tr_fifty"
      ],
      "execution_count": null,
      "outputs": []
    },
    {
      "cell_type": "code",
      "metadata": {
        "id": "rMWo7qUV0NZS"
      },
      "source": [
        "msr_tr_more"
      ],
      "execution_count": null,
      "outputs": []
    },
    {
      "cell_type": "markdown",
      "metadata": {
        "id": "QfgEMjvQuyvl"
      },
      "source": [
        "SEMEVAL COUNTER DIFFERENCIES"
      ]
    },
    {
      "cell_type": "code",
      "metadata": {
        "id": "dY6IKIK8vHnb"
      },
      "source": [
        "#count word differencies PE\n",
        "sem_PE_counter_differencies = {key: (semeval_PE_counter.get(key, 0) / value - 1) * 100 for key, value in semeval_vanilla_counter.items()}\n",
        "\n",
        "sem_pe_equal = 0\n",
        "sem_pe_five = 0\n",
        "sem_pe_ten = 0\n",
        "sem_pe_fifty = 0\n",
        "sem_pe_more = 0\n",
        "\n",
        "for i,j in sem_PE_counter_differencies.items():\n",
        "  if j== 0:\n",
        "    sem_pe_equal += 1\n",
        "\n",
        "for i,j in sem_PE_counter_differencies.items():\n",
        "  if 0>j>=-5:\n",
        "    sem_pe_five += 1\n",
        "\n",
        "for i,j in sem_PE_counter_differencies.items():\n",
        "  if -10<=j<-5:\n",
        "    sem_pe_ten += 1\n",
        "\n",
        "for i,j in sem_PE_counter_differencies.items():\n",
        "  if -50<=j<-10:\n",
        "    sem_pe_fifty += 1\n",
        "\n",
        "for i,j in sem_PE_counter_differencies.items():\n",
        "  if j<-50:\n",
        "    sem_pe_more += 1"
      ],
      "execution_count": null,
      "outputs": []
    },
    {
      "cell_type": "code",
      "metadata": {
        "id": "OuRgIvNBvHnc"
      },
      "source": [
        "len(semeval)"
      ],
      "execution_count": null,
      "outputs": []
    },
    {
      "cell_type": "code",
      "metadata": {
        "id": "33hilpwAvHnc"
      },
      "source": [
        "sem_pe_equal"
      ],
      "execution_count": null,
      "outputs": []
    },
    {
      "cell_type": "code",
      "metadata": {
        "id": "fSAJ5pPKvHnd"
      },
      "source": [
        "sem_pe_five"
      ],
      "execution_count": null,
      "outputs": []
    },
    {
      "cell_type": "code",
      "metadata": {
        "id": "O6XI0VWpvHne"
      },
      "source": [
        "sem_pe_ten"
      ],
      "execution_count": null,
      "outputs": []
    },
    {
      "cell_type": "code",
      "metadata": {
        "id": "eXC2j3MZvHne"
      },
      "source": [
        "sem_pe_fifty"
      ],
      "execution_count": null,
      "outputs": []
    },
    {
      "cell_type": "code",
      "metadata": {
        "id": "uF0XZCBTvHnf"
      },
      "source": [
        "sem_pe_more"
      ],
      "execution_count": null,
      "outputs": []
    },
    {
      "cell_type": "code",
      "metadata": {
        "id": "c6CkE4F428xB"
      },
      "source": [
        "#count word differencies Gensim\n",
        "sem_ge_counter_differencies = {key: (semeval_gensim_counter.get(key, 0) / value - 1) * 100 for key, value in semeval_vanilla_counter.items()}\n",
        "\n",
        "sem_ge_equal = 0\n",
        "sem_ge_five = 0\n",
        "sem_ge_ten = 0\n",
        "sem_ge_fifty = 0\n",
        "sem_ge_more = 0\n",
        "\n",
        "for i,j in sem_ge_counter_differencies.items():\n",
        "  if j== 0:\n",
        "    sem_ge_equal += 1\n",
        "\n",
        "for i,j in sem_ge_counter_differencies.items():\n",
        "  if 0>j>=-5:\n",
        "    sem_ge_five += 1\n",
        "\n",
        "for i,j in sem_ge_counter_differencies.items():\n",
        "  if -10<=j<-5:\n",
        "    sem_ge_ten += 1\n",
        "\n",
        "for i,j in sem_ge_counter_differencies.items():\n",
        "  if -50<=j<-10:\n",
        "    sem_ge_fifty += 1\n",
        "\n",
        "for i,j in sem_ge_counter_differencies.items():\n",
        "  if j<-50:\n",
        "    sem_ge_more += 1"
      ],
      "execution_count": null,
      "outputs": []
    },
    {
      "cell_type": "code",
      "metadata": {
        "id": "u9Gj5ovW28xD"
      },
      "source": [
        "sem_ge_equal"
      ],
      "execution_count": null,
      "outputs": []
    },
    {
      "cell_type": "code",
      "metadata": {
        "id": "OXIN4iqR28xE"
      },
      "source": [
        "sem_ge_five"
      ],
      "execution_count": null,
      "outputs": []
    },
    {
      "cell_type": "code",
      "metadata": {
        "id": "Ik-KYvzr28xF"
      },
      "source": [
        "sem_ge_ten"
      ],
      "execution_count": null,
      "outputs": []
    },
    {
      "cell_type": "code",
      "metadata": {
        "id": "BRpWqWpe28xF"
      },
      "source": [
        "sem_ge_fifty"
      ],
      "execution_count": null,
      "outputs": []
    },
    {
      "cell_type": "code",
      "metadata": {
        "id": "Bld6H0w528xG"
      },
      "source": [
        "sem_ge_more"
      ],
      "execution_count": null,
      "outputs": []
    },
    {
      "cell_type": "code",
      "metadata": {
        "id": "WZCjIbLB29ZY"
      },
      "source": [
        "#count word differencies Rake\n",
        "sem_rake_counter_differencies = {key: (semeval_rake_counter.get(key, 0) / value - 1) * 100 for key, value in semeval_vanilla_counter.items()}\n",
        "\n",
        "sem_rake_equal = 0\n",
        "sem_rake_five = 0\n",
        "sem_rake_ten = 0\n",
        "sem_rake_fifty = 0\n",
        "sem_rake_more = 0\n",
        "\n",
        "for i,j in sem_rake_counter_differencies.items():\n",
        "  if j== 0:\n",
        "    sem_rake_equal += 1\n",
        "\n",
        "for i,j in sem_rake_counter_differencies.items():\n",
        "  if 0>j>=-5:\n",
        "    sem_rake_five += 1\n",
        "\n",
        "for i,j in sem_rake_counter_differencies.items():\n",
        "  if -10<=j<-5:\n",
        "    sem_rake_ten += 1\n",
        "\n",
        "for i,j in sem_rake_counter_differencies.items():\n",
        "  if -50<=j<-10:\n",
        "    sem_rake_fifty += 1\n",
        "\n",
        "for i,j in sem_rake_counter_differencies.items():\n",
        "  if j<-50:\n",
        "    sem_rake_more += 1"
      ],
      "execution_count": null,
      "outputs": []
    },
    {
      "cell_type": "code",
      "metadata": {
        "id": "htpTCoTw29Za"
      },
      "source": [
        "sem_rake_equal"
      ],
      "execution_count": null,
      "outputs": []
    },
    {
      "cell_type": "code",
      "metadata": {
        "id": "DcY4Q28n29Zc"
      },
      "source": [
        "sem_rake_five"
      ],
      "execution_count": null,
      "outputs": []
    },
    {
      "cell_type": "code",
      "metadata": {
        "id": "ghiAWNn929Zc"
      },
      "source": [
        "sem_rake_ten"
      ],
      "execution_count": null,
      "outputs": []
    },
    {
      "cell_type": "code",
      "metadata": {
        "id": "Zot-6zt529Zd"
      },
      "source": [
        "sem_rake_fifty"
      ],
      "execution_count": null,
      "outputs": []
    },
    {
      "cell_type": "code",
      "metadata": {
        "id": "6IAF_rXW29Ze"
      },
      "source": [
        "sem_rake_more"
      ],
      "execution_count": null,
      "outputs": []
    },
    {
      "cell_type": "code",
      "metadata": {
        "id": "WWQa_ONx2-Dz"
      },
      "source": [
        "#count word differencies Topicrank\n",
        "sem_tr_counter_differencies = {key: (semeval_topicrank_counter.get(key, 0) / value - 1) * 100 for key, value in semeval_vanilla_counter.items()}\n",
        "\n",
        "sem_tr_equal = 0\n",
        "sem_tr_five = 0\n",
        "sem_tr_ten = 0\n",
        "sem_tr_fifty = 0\n",
        "sem_tr_more = 0\n",
        "\n",
        "for i,j in sem_tr_counter_differencies.items():\n",
        "  if j== 0:\n",
        "    sem_tr_equal += 1\n",
        "\n",
        "for i,j in sem_tr_counter_differencies.items():\n",
        "  if 0>j>=-5:\n",
        "    sem_tr_five += 1\n",
        "\n",
        "for i,j in sem_tr_counter_differencies.items():\n",
        "  if -10<=j<-5:\n",
        "    sem_tr_ten += 1\n",
        "\n",
        "for i,j in sem_tr_counter_differencies.items():\n",
        "  if -50<=j<-10:\n",
        "    sem_tr_fifty += 1\n",
        "\n",
        "for i,j in sem_tr_counter_differencies.items():\n",
        "  if j<-50:\n",
        "    sem_tr_more += 1"
      ],
      "execution_count": null,
      "outputs": []
    },
    {
      "cell_type": "code",
      "metadata": {
        "id": "O0ZJcoNN2-D0"
      },
      "source": [
        "sem_tr_equal"
      ],
      "execution_count": null,
      "outputs": []
    },
    {
      "cell_type": "code",
      "metadata": {
        "id": "lGZv7P5X2-D1"
      },
      "source": [
        "sem_tr_five"
      ],
      "execution_count": null,
      "outputs": []
    },
    {
      "cell_type": "code",
      "metadata": {
        "id": "JHdZywza2-D1"
      },
      "source": [
        "sem_tr_ten"
      ],
      "execution_count": null,
      "outputs": []
    },
    {
      "cell_type": "code",
      "metadata": {
        "id": "9fnEx9Ch2-D2"
      },
      "source": [
        "sem_tr_fifty"
      ],
      "execution_count": null,
      "outputs": []
    },
    {
      "cell_type": "code",
      "metadata": {
        "id": "LYHui-cH2-D2"
      },
      "source": [
        "sem_tr_more"
      ],
      "execution_count": null,
      "outputs": []
    },
    {
      "cell_type": "markdown",
      "metadata": {
        "id": "pIaqhgD7bvFv"
      },
      "source": [
        "# CREATE NEW DATASETS"
      ]
    },
    {
      "cell_type": "markdown",
      "metadata": {
        "id": "kqN1yAgmMcPA"
      },
      "source": [
        "## SIMILARITY TASK"
      ]
    },
    {
      "cell_type": "markdown",
      "metadata": {
        "id": "g7Oo1nDoqzTW"
      },
      "source": [
        "### EQUAL"
      ]
    },
    {
      "cell_type": "markdown",
      "metadata": {
        "id": "ktZjgCmC8-NE"
      },
      "source": [
        "MEN"
      ]
    },
    {
      "cell_type": "code",
      "metadata": {
        "id": "9cO9_zvcj02H"
      },
      "source": [
        "df_men = pd.read_csv(datasets_dir + \"new/new_MEN.txt\", sep=' ', header=None)"
      ],
      "execution_count": null,
      "outputs": []
    },
    {
      "cell_type": "code",
      "metadata": {
        "id": "2FpmADTRGFLJ"
      },
      "source": [
        "df_men[3] = df_men[0].str[-2:]\n",
        "df_men[4] = df_men[1].str[-2:]"
      ],
      "execution_count": null,
      "outputs": []
    },
    {
      "cell_type": "code",
      "metadata": {
        "id": "obipLuANGFLR"
      },
      "source": [
        "df_men[0] = df_men[0].str[:-2]\n",
        "df_men[1] = df_men[1].str[:-2]"
      ],
      "execution_count": null,
      "outputs": []
    },
    {
      "cell_type": "code",
      "metadata": {
        "id": "8wcGG0NTj9x8"
      },
      "source": [
        "df_men"
      ],
      "execution_count": null,
      "outputs": []
    },
    {
      "cell_type": "code",
      "metadata": {
        "id": "S6NFZAK7GFLS"
      },
      "source": [
        "indicators = df_men.applymap(lambda x: men_tr_counter_differencies.get(x, 0)) == 0"
      ],
      "execution_count": null,
      "outputs": []
    },
    {
      "cell_type": "code",
      "metadata": {
        "id": "Lflgl-LvGFLT"
      },
      "source": [
        "mask = np.logical_and(indicators[0], indicators[1])"
      ],
      "execution_count": null,
      "outputs": []
    },
    {
      "cell_type": "code",
      "metadata": {
        "id": "XnjwTakWGFLU"
      },
      "source": [
        "df_men = df_men[mask]\n",
        "\n",
        "df_men = df_men.reset_index(drop=True)"
      ],
      "execution_count": null,
      "outputs": []
    },
    {
      "cell_type": "code",
      "metadata": {
        "id": "YWzB57yhGFLV"
      },
      "source": [
        "df_men[0] = df_men[0]+df_men[3]\n",
        "df_men[1] = df_men[1]+df_men[4]"
      ],
      "execution_count": null,
      "outputs": []
    },
    {
      "cell_type": "code",
      "metadata": {
        "id": "gcV9LYvpGFLW"
      },
      "source": [
        "df_men = df_men.drop(columns=[3,4])"
      ],
      "execution_count": null,
      "outputs": []
    },
    {
      "cell_type": "code",
      "metadata": {
        "id": "pznDdJF12Pjh"
      },
      "source": [
        "df_men"
      ],
      "execution_count": null,
      "outputs": []
    },
    {
      "cell_type": "code",
      "metadata": {
        "id": "tc6yFBP5DCqm"
      },
      "source": [
        "men_PE_counter_differencies"
      ],
      "execution_count": null,
      "outputs": []
    },
    {
      "cell_type": "code",
      "metadata": {
        "id": "jjvC_juz-OID"
      },
      "source": [
        "# remember to change for every approach\n",
        "df_men.to_csv('MEN_tr_equal.txt', header=None, index=None, sep=' ', mode='a', float_format='%.6f')"
      ],
      "execution_count": null,
      "outputs": []
    },
    {
      "cell_type": "markdown",
      "metadata": {
        "id": "cYWPMij7-B0D"
      },
      "source": [
        "WS353-ALL"
      ]
    },
    {
      "cell_type": "code",
      "metadata": {
        "id": "tJRqZhyPkgX3"
      },
      "source": [
        "df_ws_all = pd.read_csv(datasets_dir + \"new/new_WS-353-ALL.txt\", sep='\\t', header=None)"
      ],
      "execution_count": null,
      "outputs": []
    },
    {
      "cell_type": "code",
      "metadata": {
        "id": "FSATNJWuGrYC"
      },
      "source": [
        "df_ws_all = df_ws_all.iloc[1: , :]\n",
        "\n",
        "df_ws_all = df_ws_all.reset_index(drop=True)"
      ],
      "execution_count": null,
      "outputs": []
    },
    {
      "cell_type": "code",
      "metadata": {
        "id": "bx8-i1X-GrYD"
      },
      "source": [
        "indicators = df_ws_all.applymap(lambda x: wsall_tr_counter_differencies.get(x, 0)) == 0"
      ],
      "execution_count": null,
      "outputs": []
    },
    {
      "cell_type": "code",
      "metadata": {
        "id": "wTWOvMJNGrYE"
      },
      "source": [
        "mask = np.logical_and(indicators[0], indicators[1])"
      ],
      "execution_count": null,
      "outputs": []
    },
    {
      "cell_type": "code",
      "metadata": {
        "id": "lXFh9RWeGrYF"
      },
      "source": [
        "df_ws_all = df_ws_all[mask]\n",
        "\n",
        "df_ws_all = df_ws_all.reset_index(drop=True)"
      ],
      "execution_count": null,
      "outputs": []
    },
    {
      "cell_type": "code",
      "metadata": {
        "id": "LCFG8tSMGrYF"
      },
      "source": [
        "df_ws_all.loc[-1] = ['Word 1', 'Word 2', 'Human (mean)']  # adding a row\n",
        "df_ws_all.index = df_ws_all.index + 1  # shifting index\n",
        "df_ws_all = df_ws_all.sort_index()  # sorting by index"
      ],
      "execution_count": null,
      "outputs": []
    },
    {
      "cell_type": "code",
      "metadata": {
        "id": "YaZqUJ8xkoJm"
      },
      "source": [
        "df_ws_all"
      ],
      "execution_count": null,
      "outputs": []
    },
    {
      "cell_type": "code",
      "metadata": {
        "id": "NDfyQhx0ArTj"
      },
      "source": [
        "df_ws_all.to_csv('WS-353-ALL_tr_equal.txt', header=None, index=None, sep='\\t', float_format='%.2f')"
      ],
      "execution_count": null,
      "outputs": []
    },
    {
      "cell_type": "markdown",
      "metadata": {
        "id": "x4iX0X-lAr0b"
      },
      "source": [
        "WS353-REL"
      ]
    },
    {
      "cell_type": "code",
      "metadata": {
        "id": "ub2k1cxckwLj"
      },
      "source": [
        "df_ws_rel = pd.read_csv(datasets_dir + \"new/new_WS-353-REL.txt\", sep='\\t', header=None)"
      ],
      "execution_count": null,
      "outputs": []
    },
    {
      "cell_type": "code",
      "metadata": {
        "id": "Xpa0zF8KG9vk"
      },
      "source": [
        "indicators = df_ws_rel.applymap(lambda x: wsrel_tr_counter_differencies.get(x, 0)) == 0"
      ],
      "execution_count": null,
      "outputs": []
    },
    {
      "cell_type": "code",
      "metadata": {
        "id": "ZFo6CRNMG9vl"
      },
      "source": [
        "mask = np.logical_and(indicators[0], indicators[1])"
      ],
      "execution_count": null,
      "outputs": []
    },
    {
      "cell_type": "code",
      "metadata": {
        "id": "JG3o_hIIG9vl"
      },
      "source": [
        "df_ws_rel = df_ws_rel[mask]\n",
        "\n",
        "df_ws_rel = df_ws_rel.reset_index(drop=True)"
      ],
      "execution_count": null,
      "outputs": []
    },
    {
      "cell_type": "code",
      "metadata": {
        "id": "FrgYVkbIlAmk"
      },
      "source": [
        "df_ws_rel"
      ],
      "execution_count": null,
      "outputs": []
    },
    {
      "cell_type": "code",
      "metadata": {
        "id": "LMinKXwRL7fL"
      },
      "source": [
        "df_ws_rel.to_csv('WS-353-REL_tr_equal.txt', header=None, index=None, sep='\\t', mode='a', float_format='%.2f')"
      ],
      "execution_count": null,
      "outputs": []
    },
    {
      "cell_type": "markdown",
      "metadata": {
        "id": "RJP7qQBfLeae"
      },
      "source": [
        "WS353-SIM"
      ]
    },
    {
      "cell_type": "code",
      "metadata": {
        "id": "wEh7CcIRkygr"
      },
      "source": [
        "df_ws_sim = pd.read_csv(datasets_dir + \"new/new_WS-353-SIM.txt\", sep='\\t', header=None)"
      ],
      "execution_count": null,
      "outputs": []
    },
    {
      "cell_type": "code",
      "metadata": {
        "id": "RM71RI13HOJw"
      },
      "source": [
        "indicators = df_ws_sim.applymap(lambda x: wssim_tr_counter_differencies.get(x, 0)) == 0"
      ],
      "execution_count": null,
      "outputs": []
    },
    {
      "cell_type": "code",
      "metadata": {
        "id": "eOmL4jLyHOJy"
      },
      "source": [
        "mask = np.logical_and(indicators[0], indicators[1])"
      ],
      "execution_count": null,
      "outputs": []
    },
    {
      "cell_type": "code",
      "metadata": {
        "id": "yzVV9PjcHOJz"
      },
      "source": [
        "df_ws_sim = df_ws_sim[mask]\n",
        "\n",
        "df_ws_sim = df_ws_sim.reset_index(drop=True)"
      ],
      "execution_count": null,
      "outputs": []
    },
    {
      "cell_type": "code",
      "metadata": {
        "id": "DZYggc4ClB8_"
      },
      "source": [
        "df_ws_sim"
      ],
      "execution_count": null,
      "outputs": []
    },
    {
      "cell_type": "code",
      "metadata": {
        "id": "kjEXxLoeND22"
      },
      "source": [
        "df_ws_sim.to_csv('WS-353-SIM_tr_equal.txt', header=None, index=None, sep='\\t', mode='a', float_format='%.2f')"
      ],
      "execution_count": null,
      "outputs": []
    },
    {
      "cell_type": "markdown",
      "metadata": {
        "id": "_rUBTCMuNAwc"
      },
      "source": [
        "SIM999"
      ]
    },
    {
      "cell_type": "code",
      "metadata": {
        "id": "G2Ox5_c7lWCL"
      },
      "source": [
        "df_SIM999 = pd.read_csv(datasets_dir + \"new/new_SIM999.txt\", sep='\\t', header=None)"
      ],
      "execution_count": null,
      "outputs": []
    },
    {
      "cell_type": "code",
      "metadata": {
        "id": "Y8lBNxqDHe-S"
      },
      "source": [
        "df_SIM999 = df_SIM999.iloc[1: , :]\n",
        "\n",
        "df_SIM999 = df_SIM999.reset_index(drop=True)"
      ],
      "execution_count": null,
      "outputs": []
    },
    {
      "cell_type": "code",
      "metadata": {
        "id": "ftwVsB6bHe-T"
      },
      "source": [
        "indicators = df_SIM999.applymap(lambda x: simLex_tr_counter_differencies.get(x, 0)) == 0"
      ],
      "execution_count": null,
      "outputs": []
    },
    {
      "cell_type": "code",
      "metadata": {
        "id": "xmIjODTMHe-U"
      },
      "source": [
        "mask = np.logical_and(indicators[0], indicators[1])"
      ],
      "execution_count": null,
      "outputs": []
    },
    {
      "cell_type": "code",
      "metadata": {
        "id": "-swHy4DFHe-U"
      },
      "source": [
        "df_SIM999 = df_SIM999[mask]\n",
        "\n",
        "df_SIM999 = df_SIM999.reset_index(drop=True)"
      ],
      "execution_count": null,
      "outputs": []
    },
    {
      "cell_type": "code",
      "metadata": {
        "id": "TWBzM0qjHe-V"
      },
      "source": [
        "df_SIM999.loc[-1] = ['word1', 'word2', 'POS', 'SimLex999', 'conc(w1)', 'conc(w2)', 'concQ', 'Assoc(USF)', 'SimAssoc333', 'SD(SimLex)']  # adding a row\n",
        "df_SIM999.index = df_SIM999.index + 1  # shifting index\n",
        "df_SIM999 = df_SIM999.sort_index()  # sorting by index"
      ],
      "execution_count": null,
      "outputs": []
    },
    {
      "cell_type": "code",
      "metadata": {
        "id": "W5kt2DS3lVKh"
      },
      "source": [
        "df_SIM999"
      ],
      "execution_count": null,
      "outputs": []
    },
    {
      "cell_type": "code",
      "metadata": {
        "id": "echtmE05OXuk"
      },
      "source": [
        "df_SIM999.to_csv('SIM999_tr_equal.txt', header=None, index=None, sep='\\t', mode='a')"
      ],
      "execution_count": null,
      "outputs": []
    },
    {
      "cell_type": "markdown",
      "metadata": {
        "id": "mF6eX8KVOYN6"
      },
      "source": [
        "RARE WORD"
      ]
    },
    {
      "cell_type": "code",
      "metadata": {
        "id": "7e6Ln-cmmCpr"
      },
      "source": [
        "df_rw = pd.read_csv(datasets_dir + \"new/new_RW.txt\", sep='\\t', header=None)"
      ],
      "execution_count": null,
      "outputs": []
    },
    {
      "cell_type": "code",
      "metadata": {
        "id": "ZsAz89LoHzcF"
      },
      "source": [
        "df_rw = df_rw.fillna('')"
      ],
      "execution_count": null,
      "outputs": []
    },
    {
      "cell_type": "code",
      "metadata": {
        "id": "e1L2UdlQHzcH"
      },
      "source": [
        "indicators = df_rw.applymap(lambda x: rw_tr_counter_differencies.get(x, 0)) == 0"
      ],
      "execution_count": null,
      "outputs": []
    },
    {
      "cell_type": "code",
      "metadata": {
        "id": "U3_fZ4wzHzcI"
      },
      "source": [
        "mask = np.logical_and(indicators[0], indicators[1])"
      ],
      "execution_count": null,
      "outputs": []
    },
    {
      "cell_type": "code",
      "metadata": {
        "id": "IdZgJR1eHzcJ"
      },
      "source": [
        "df_rw = df_rw[mask]\n",
        "\n",
        "df_rw = df_rw.reset_index(drop=True)"
      ],
      "execution_count": null,
      "outputs": []
    },
    {
      "cell_type": "code",
      "metadata": {
        "id": "8H5WKe_pmCDl"
      },
      "source": [
        "df_rw"
      ],
      "execution_count": null,
      "outputs": []
    },
    {
      "cell_type": "code",
      "metadata": {
        "id": "Ri5FkP0KPo2-"
      },
      "source": [
        "df_rw.to_csv('RW_tr_equal.txt', header=None, index=None, sep='\\t', mode='a')"
      ],
      "execution_count": null,
      "outputs": []
    },
    {
      "cell_type": "markdown",
      "metadata": {
        "id": "qOcq-5TgPgx4"
      },
      "source": [
        "RG65"
      ]
    },
    {
      "cell_type": "code",
      "metadata": {
        "id": "zrw_mUMamPmp"
      },
      "source": [
        "df_rg65 = pd.read_csv(datasets_dir + \"EN-RG-65.txt\", sep='\\t', header=None)"
      ],
      "execution_count": null,
      "outputs": []
    },
    {
      "cell_type": "code",
      "metadata": {
        "id": "_BikzyaHI4-Q"
      },
      "source": [
        "indicators = df_rg65.applymap(lambda x: rg65_tr_counter_differencies.get(x, 0)) == 0"
      ],
      "execution_count": null,
      "outputs": []
    },
    {
      "cell_type": "code",
      "metadata": {
        "id": "2H7o2JysI4-S"
      },
      "source": [
        "mask = np.logical_and(indicators[0], indicators[1])"
      ],
      "execution_count": null,
      "outputs": []
    },
    {
      "cell_type": "code",
      "metadata": {
        "id": "7Kd21Q56I4-T"
      },
      "source": [
        "df_rg65 = df_rg65[mask]\n",
        "\n",
        "df_rg65 = df_rg65.reset_index(drop=True)"
      ],
      "execution_count": null,
      "outputs": []
    },
    {
      "cell_type": "code",
      "metadata": {
        "id": "A0reMRYVmOkW"
      },
      "source": [
        "df_rg65"
      ],
      "execution_count": null,
      "outputs": []
    },
    {
      "cell_type": "code",
      "metadata": {
        "id": "G2il59iUQf_f"
      },
      "source": [
        "df_rg65.to_csv('RG65_tr_equal.txt', header=None, index=None, sep='\\t', mode='a')"
      ],
      "execution_count": null,
      "outputs": []
    },
    {
      "cell_type": "markdown",
      "metadata": {
        "id": "p2ohBIJKPigp"
      },
      "source": [
        "MTURK"
      ]
    },
    {
      "cell_type": "code",
      "metadata": {
        "id": "taGSn4V1m4B8"
      },
      "source": [
        "df_mturk = pd.read_csv(datasets_dir + \"new/new_MTurk287.txt\", sep=' ', header=None)"
      ],
      "execution_count": null,
      "outputs": []
    },
    {
      "cell_type": "code",
      "metadata": {
        "id": "UVCCOnmXJNmd"
      },
      "source": [
        "indicators = df_mturk.applymap(lambda x: mturk_tr_counter_differencies.get(x, 0)) == 0"
      ],
      "execution_count": null,
      "outputs": []
    },
    {
      "cell_type": "code",
      "metadata": {
        "id": "4CWB6J0gJNmf"
      },
      "source": [
        "mask = np.logical_and(indicators[0], indicators[1])"
      ],
      "execution_count": null,
      "outputs": []
    },
    {
      "cell_type": "code",
      "metadata": {
        "id": "TNKEBHEFJNmh"
      },
      "source": [
        "df_mturk = df_mturk[mask]\n",
        "\n",
        "df_mturk = df_mturk.reset_index(drop=True)"
      ],
      "execution_count": null,
      "outputs": []
    },
    {
      "cell_type": "code",
      "metadata": {
        "id": "BvMJroE6m2kU"
      },
      "source": [
        "df_mturk"
      ],
      "execution_count": null,
      "outputs": []
    },
    {
      "cell_type": "code",
      "metadata": {
        "id": "D2K-DZJ7RT6m"
      },
      "source": [
        "df_mturk.to_csv('MTurk287_tr_equal.txt', header=None, index=None, sep=' ', mode='a')"
      ],
      "execution_count": null,
      "outputs": []
    },
    {
      "cell_type": "markdown",
      "metadata": {
        "id": "VE1EVy3MbtTM"
      },
      "source": [
        "### TWO WORDS"
      ]
    },
    {
      "cell_type": "markdown",
      "metadata": {
        "id": "dMLlOKyPb2xb"
      },
      "source": [
        "MEN"
      ]
    },
    {
      "cell_type": "code",
      "metadata": {
        "id": "4XqLSjv8b2xc"
      },
      "source": [
        "df_men = pd.read_csv(datasets_dir + \"new/new_MEN.txt\", sep=' ', header=None)"
      ],
      "execution_count": null,
      "outputs": []
    },
    {
      "cell_type": "code",
      "metadata": {
        "id": "6eeOuSPhGYTg"
      },
      "source": [
        "df_men[3] = df_men[0].str[-2:]\n",
        "df_men[4] = df_men[1].str[-2:]"
      ],
      "execution_count": null,
      "outputs": []
    },
    {
      "cell_type": "code",
      "metadata": {
        "id": "BIGBafhNGYTh"
      },
      "source": [
        "df_men[0] = df_men[0].str[:-2]\n",
        "df_men[1] = df_men[1].str[:-2]"
      ],
      "execution_count": null,
      "outputs": []
    },
    {
      "cell_type": "code",
      "metadata": {
        "id": "z_vDyJitGYTj"
      },
      "source": [
        "indicators = df_men.applymap(lambda x: men_tr_counter_differencies.get(x, 0)) < 0"
      ],
      "execution_count": null,
      "outputs": []
    },
    {
      "cell_type": "code",
      "metadata": {
        "id": "EKkknLy0GYTk"
      },
      "source": [
        "mask = np.logical_and(indicators[0], indicators[1])"
      ],
      "execution_count": null,
      "outputs": []
    },
    {
      "cell_type": "code",
      "metadata": {
        "id": "FmvaV-N3GYTl"
      },
      "source": [
        "df_men = df_men[mask]\n",
        "\n",
        "df_men = df_men.reset_index(drop=True)"
      ],
      "execution_count": null,
      "outputs": []
    },
    {
      "cell_type": "code",
      "metadata": {
        "id": "TsAL0v_oGYTl"
      },
      "source": [
        "df_men[0] = df_men[0]+df_men[3]\n",
        "df_men[1] = df_men[1]+df_men[4]"
      ],
      "execution_count": null,
      "outputs": []
    },
    {
      "cell_type": "code",
      "metadata": {
        "id": "g8aQJrexGYTm"
      },
      "source": [
        "df_men = df_men.drop(columns=[3,4])"
      ],
      "execution_count": null,
      "outputs": []
    },
    {
      "cell_type": "code",
      "metadata": {
        "id": "oKWt7o2Rb2xh"
      },
      "source": [
        "df_men"
      ],
      "execution_count": null,
      "outputs": []
    },
    {
      "cell_type": "code",
      "metadata": {
        "id": "yWd4Z7HTb2xh"
      },
      "source": [
        "df_men.to_csv('MEN_tr_two.txt', header=None, index=None, sep=' ', mode='a', float_format='%.6f')"
      ],
      "execution_count": null,
      "outputs": []
    },
    {
      "cell_type": "markdown",
      "metadata": {
        "id": "9yXOPS1rb2xi"
      },
      "source": [
        "WS353-ALL"
      ]
    },
    {
      "cell_type": "code",
      "metadata": {
        "id": "Np5lNSlKb2xj"
      },
      "source": [
        "df_ws_all = pd.read_csv(datasets_dir + \"new/new_WS-353-ALL.txt\", sep='\\t', header=None)"
      ],
      "execution_count": null,
      "outputs": []
    },
    {
      "cell_type": "code",
      "metadata": {
        "id": "K1OpyoGYGmSz"
      },
      "source": [
        "df_ws_all = df_ws_all.iloc[1: , :]\n",
        "\n",
        "df_ws_all = df_ws_all.reset_index(drop=True)"
      ],
      "execution_count": null,
      "outputs": []
    },
    {
      "cell_type": "code",
      "metadata": {
        "id": "8KFow6z6GmS0"
      },
      "source": [
        "indicators = df_ws_all.applymap(lambda x: wsall_tr_counter_differencies.get(x, 0)) < 0"
      ],
      "execution_count": null,
      "outputs": []
    },
    {
      "cell_type": "code",
      "metadata": {
        "id": "G8UZJExxGmS1"
      },
      "source": [
        "mask = np.logical_and(indicators[0], indicators[1])"
      ],
      "execution_count": null,
      "outputs": []
    },
    {
      "cell_type": "code",
      "metadata": {
        "id": "KGBQ5_QoGmS1"
      },
      "source": [
        "df_ws_all = df_ws_all[mask]\n",
        "\n",
        "df_ws_all = df_ws_all.reset_index(drop=True)"
      ],
      "execution_count": null,
      "outputs": []
    },
    {
      "cell_type": "code",
      "metadata": {
        "id": "kmgOsNc6GmS2"
      },
      "source": [
        "df_ws_all.loc[-1] = ['Word 1', 'Word 2', 'Human (mean)']  # adding a row\n",
        "df_ws_all.index = df_ws_all.index + 1  # shifting index\n",
        "df_ws_all = df_ws_all.sort_index()  # sorting by index"
      ],
      "execution_count": null,
      "outputs": []
    },
    {
      "cell_type": "code",
      "metadata": {
        "id": "sbuDB0ZAb2xl"
      },
      "source": [
        "df_ws_all"
      ],
      "execution_count": null,
      "outputs": []
    },
    {
      "cell_type": "code",
      "metadata": {
        "id": "rK1JiZx-b2xm"
      },
      "source": [
        "df_ws_all.to_csv('WS-353-ALL_tr_two.txt', header=None, index=None, sep='\\t', float_format='%.2f')"
      ],
      "execution_count": null,
      "outputs": []
    },
    {
      "cell_type": "markdown",
      "metadata": {
        "id": "vanSAv1Fb2xm"
      },
      "source": [
        "WS353-REL"
      ]
    },
    {
      "cell_type": "code",
      "metadata": {
        "id": "Y7wBlw_3b2xn"
      },
      "source": [
        "df_ws_rel = pd.read_csv(datasets_dir + \"new/new_WS-353-REL.txt\", sep='\\t', header=None)"
      ],
      "execution_count": null,
      "outputs": []
    },
    {
      "cell_type": "code",
      "metadata": {
        "id": "rV-tPZigG36N"
      },
      "source": [
        "indicators = df_ws_rel.applymap(lambda x: wsrel_tr_counter_differencies.get(x, 0)) < 0"
      ],
      "execution_count": null,
      "outputs": []
    },
    {
      "cell_type": "code",
      "metadata": {
        "id": "ZovQHlXRG36P"
      },
      "source": [
        "mask = np.logical_and(indicators[0], indicators[1])"
      ],
      "execution_count": null,
      "outputs": []
    },
    {
      "cell_type": "code",
      "metadata": {
        "id": "_Mz4SEtNG36Q"
      },
      "source": [
        "df_ws_rel = df_ws_rel[mask]\n",
        "\n",
        "df_ws_rel = df_ws_rel.reset_index(drop=True)"
      ],
      "execution_count": null,
      "outputs": []
    },
    {
      "cell_type": "code",
      "metadata": {
        "id": "j9gktwelb2xo"
      },
      "source": [
        "df_ws_rel"
      ],
      "execution_count": null,
      "outputs": []
    },
    {
      "cell_type": "code",
      "metadata": {
        "id": "t7SEMlDMb2xp"
      },
      "source": [
        "df_ws_rel.to_csv('WS-353-REL_tr_two.txt', header=None, index=None, sep='\\t', mode='a', float_format='%.2f')"
      ],
      "execution_count": null,
      "outputs": []
    },
    {
      "cell_type": "markdown",
      "metadata": {
        "id": "nmcZMycPb2xq"
      },
      "source": [
        "WS353-SIM"
      ]
    },
    {
      "cell_type": "code",
      "metadata": {
        "id": "xHl5vGKQb2xq"
      },
      "source": [
        "df_ws_sim = pd.read_csv(datasets_dir + \"new/new_WS-353-SIM.txt\", sep='\\t', header=None)"
      ],
      "execution_count": null,
      "outputs": []
    },
    {
      "cell_type": "code",
      "metadata": {
        "id": "qHGc_0YiHJZu"
      },
      "source": [
        "indicators = df_ws_sim.applymap(lambda x: wssim_tr_counter_differencies.get(x, 0)) < 0"
      ],
      "execution_count": null,
      "outputs": []
    },
    {
      "cell_type": "code",
      "metadata": {
        "id": "8fkx-O8NHJZu"
      },
      "source": [
        "mask = np.logical_and(indicators[0], indicators[1])"
      ],
      "execution_count": null,
      "outputs": []
    },
    {
      "cell_type": "code",
      "metadata": {
        "id": "UKXOCVyKHJZv"
      },
      "source": [
        "df_ws_sim = df_ws_sim[mask]\n",
        "\n",
        "df_ws_sim = df_ws_sim.reset_index(drop=True)"
      ],
      "execution_count": null,
      "outputs": []
    },
    {
      "cell_type": "code",
      "metadata": {
        "id": "NRupfZFDb2xt"
      },
      "source": [
        "df_ws_sim"
      ],
      "execution_count": null,
      "outputs": []
    },
    {
      "cell_type": "code",
      "metadata": {
        "id": "HuS1fdaob2xu"
      },
      "source": [
        "df_ws_sim.to_csv('WS-353-SIM_tr_two.txt', header=None, index=None, sep='\\t', mode='a', float_format='%.2f')"
      ],
      "execution_count": null,
      "outputs": []
    },
    {
      "cell_type": "markdown",
      "metadata": {
        "id": "e59pi0VXb2xv"
      },
      "source": [
        "SIM999"
      ]
    },
    {
      "cell_type": "code",
      "metadata": {
        "id": "cSdysIKVb2xw"
      },
      "source": [
        "df_SIM999 = pd.read_csv(datasets_dir + \"new/new_SIM999.txt\", sep='\\t', header=None)"
      ],
      "execution_count": null,
      "outputs": []
    },
    {
      "cell_type": "code",
      "metadata": {
        "id": "y5_0iIIFHYwS"
      },
      "source": [
        "df_SIM999 = df_SIM999.iloc[1: , :]\n",
        "\n",
        "df_SIM999 = df_SIM999.reset_index(drop=True)"
      ],
      "execution_count": null,
      "outputs": []
    },
    {
      "cell_type": "code",
      "metadata": {
        "id": "mV4kohDsHYwT"
      },
      "source": [
        "indicators = df_SIM999.applymap(lambda x: simLex_tr_counter_differencies.get(x, 0)) < 0"
      ],
      "execution_count": null,
      "outputs": []
    },
    {
      "cell_type": "code",
      "metadata": {
        "id": "RkRyI5NBHYwU"
      },
      "source": [
        "mask = np.logical_and(indicators[0], indicators[1])"
      ],
      "execution_count": null,
      "outputs": []
    },
    {
      "cell_type": "code",
      "metadata": {
        "id": "5ZLCXjF6HYwV"
      },
      "source": [
        "df_SIM999 = df_SIM999[mask]\n",
        "\n",
        "df_SIM999 = df_SIM999.reset_index(drop=True)"
      ],
      "execution_count": null,
      "outputs": []
    },
    {
      "cell_type": "code",
      "metadata": {
        "id": "c9uATZ7hHYwW"
      },
      "source": [
        "df_SIM999.loc[-1] = ['word1', 'word2', 'POS', 'SimLex999', 'conc(w1)', 'conc(w2)', 'concQ', 'Assoc(USF)', 'SimAssoc333', 'SD(SimLex)']  # adding a row\n",
        "df_SIM999.index = df_SIM999.index + 1  # shifting index\n",
        "df_SIM999 = df_SIM999.sort_index()  # sorting by index"
      ],
      "execution_count": null,
      "outputs": []
    },
    {
      "cell_type": "code",
      "metadata": {
        "id": "Cgier-B6b2xw"
      },
      "source": [
        "df_SIM999"
      ],
      "execution_count": null,
      "outputs": []
    },
    {
      "cell_type": "code",
      "metadata": {
        "id": "BoM6baK9b2xx"
      },
      "source": [
        "df_SIM999.to_csv('SIM999_tr_two.txt', header=None, index=None, sep='\\t', mode='a')"
      ],
      "execution_count": null,
      "outputs": []
    },
    {
      "cell_type": "markdown",
      "metadata": {
        "id": "qeqgJjo2b2xx"
      },
      "source": [
        "RARE WORD"
      ]
    },
    {
      "cell_type": "code",
      "metadata": {
        "id": "dCUYSA3cb2xy"
      },
      "source": [
        "df_rw = pd.read_csv(datasets_dir + \"new/new_RW.txt\", sep='\\t', header=None)"
      ],
      "execution_count": null,
      "outputs": []
    },
    {
      "cell_type": "code",
      "metadata": {
        "id": "sI_vZAZTHvCM"
      },
      "source": [
        "df_rw = df_rw.fillna('')"
      ],
      "execution_count": null,
      "outputs": []
    },
    {
      "cell_type": "code",
      "metadata": {
        "id": "pemObXRKHvCN"
      },
      "source": [
        "indicators = df_rw.applymap(lambda x: rw_tr_counter_differencies.get(x, 0)) < 0"
      ],
      "execution_count": null,
      "outputs": []
    },
    {
      "cell_type": "code",
      "metadata": {
        "id": "cjEA00O5HvCP"
      },
      "source": [
        "mask = np.logical_and(indicators[0], indicators[1])"
      ],
      "execution_count": null,
      "outputs": []
    },
    {
      "cell_type": "code",
      "metadata": {
        "id": "kxJOn8tDHvCQ"
      },
      "source": [
        "df_rw = df_rw[mask]\n",
        "\n",
        "df_rw = df_rw.reset_index(drop=True)"
      ],
      "execution_count": null,
      "outputs": []
    },
    {
      "cell_type": "code",
      "metadata": {
        "id": "3a4DUCHAb2xz"
      },
      "source": [
        "df_rw"
      ],
      "execution_count": null,
      "outputs": []
    },
    {
      "cell_type": "code",
      "metadata": {
        "id": "IRfLmrwWb2x0"
      },
      "source": [
        "df_rw.to_csv('RW_tr_two.txt', header=None, index=None, sep='\\t', mode='a')"
      ],
      "execution_count": null,
      "outputs": []
    },
    {
      "cell_type": "markdown",
      "metadata": {
        "id": "MYgfHbhub2x1"
      },
      "source": [
        "RG65"
      ]
    },
    {
      "cell_type": "code",
      "metadata": {
        "id": "YZFdgPYvb2x1"
      },
      "source": [
        "df_rg65 = pd.read_csv(datasets_dir + \"EN-RG-65.txt\", sep='\\t', header=None)"
      ],
      "execution_count": null,
      "outputs": []
    },
    {
      "cell_type": "code",
      "metadata": {
        "id": "s7_YKJ4IIy4m"
      },
      "source": [
        "indicators = df_rg65.applymap(lambda x: rg65_tr_counter_differencies.get(x, 0)) < 0"
      ],
      "execution_count": null,
      "outputs": []
    },
    {
      "cell_type": "code",
      "metadata": {
        "id": "UK11cQ6fIy4n"
      },
      "source": [
        "mask = np.logical_and(indicators[0], indicators[1])"
      ],
      "execution_count": null,
      "outputs": []
    },
    {
      "cell_type": "code",
      "metadata": {
        "id": "3mkuKkDPIy4o"
      },
      "source": [
        "df_rg65 = df_rg65[mask]\n",
        "\n",
        "df_rg65 = df_rg65.reset_index(drop=True)"
      ],
      "execution_count": null,
      "outputs": []
    },
    {
      "cell_type": "code",
      "metadata": {
        "id": "Zb8MWtpRb2x3"
      },
      "source": [
        "df_rg65"
      ],
      "execution_count": null,
      "outputs": []
    },
    {
      "cell_type": "code",
      "metadata": {
        "id": "oJxMQCDhb2x3"
      },
      "source": [
        "df_rg65.to_csv('RG65_tr_two.txt', header=None, index=None, sep='\\t', mode='a')"
      ],
      "execution_count": null,
      "outputs": []
    },
    {
      "cell_type": "markdown",
      "metadata": {
        "id": "Nal2viMMb2x3"
      },
      "source": [
        "MTURK"
      ]
    },
    {
      "cell_type": "code",
      "metadata": {
        "id": "F7b4XmDWb2x4"
      },
      "source": [
        "df_mturk = pd.read_csv(datasets_dir + \"new/new_MTurk287.txt\", sep=' ', header=None)"
      ],
      "execution_count": null,
      "outputs": []
    },
    {
      "cell_type": "code",
      "metadata": {
        "id": "eLN5PPQIJJAs"
      },
      "source": [
        "indicators = df_mturk.applymap(lambda x: mturk_tr_counter_differencies.get(x, 0)) < 0"
      ],
      "execution_count": null,
      "outputs": []
    },
    {
      "cell_type": "code",
      "metadata": {
        "id": "_wxRqTTQJJAt"
      },
      "source": [
        "mask = np.logical_and(indicators[0], indicators[1])"
      ],
      "execution_count": null,
      "outputs": []
    },
    {
      "cell_type": "code",
      "metadata": {
        "id": "tjcFzs6fJJAv"
      },
      "source": [
        "df_mturk = df_mturk[mask]\n",
        "\n",
        "df_mturk = df_mturk.reset_index(drop=True)"
      ],
      "execution_count": null,
      "outputs": []
    },
    {
      "cell_type": "code",
      "metadata": {
        "id": "VnJrcUxcb2x6"
      },
      "source": [
        "df_mturk"
      ],
      "execution_count": null,
      "outputs": []
    },
    {
      "cell_type": "code",
      "metadata": {
        "id": "Rpj5C3cSb2x7"
      },
      "source": [
        "df_mturk.to_csv('MTurk287_tr_two.txt', header=None, index=None, sep=' ', mode='a')"
      ],
      "execution_count": null,
      "outputs": []
    },
    {
      "cell_type": "markdown",
      "metadata": {
        "id": "L_eHa6MhkaaY"
      },
      "source": [
        "### ONE WORD"
      ]
    },
    {
      "cell_type": "markdown",
      "metadata": {
        "id": "aL46DAiMlHh-"
      },
      "source": [
        "MEN"
      ]
    },
    {
      "cell_type": "code",
      "metadata": {
        "id": "TsyNbSZDlHh_"
      },
      "source": [
        "df_men = pd.read_csv(datasets_dir + \"new/new_MEN.txt\", sep=' ', header=None)"
      ],
      "execution_count": null,
      "outputs": []
    },
    {
      "cell_type": "code",
      "metadata": {
        "id": "7FSgAW5YE2yR"
      },
      "source": [
        "df_men[3] = df_men[0].str[-2:]\n",
        "df_men[4] = df_men[1].str[-2:]"
      ],
      "execution_count": null,
      "outputs": []
    },
    {
      "cell_type": "code",
      "metadata": {
        "id": "Djey3oycFTD2"
      },
      "source": [
        "df_men[0] = df_men[0].str[:-2]\n",
        "df_men[1] = df_men[1].str[:-2]"
      ],
      "execution_count": null,
      "outputs": []
    },
    {
      "cell_type": "code",
      "metadata": {
        "id": "lGHFn6vUFBL0"
      },
      "source": [
        "df_men"
      ],
      "execution_count": null,
      "outputs": []
    },
    {
      "cell_type": "code",
      "metadata": {
        "id": "v0ejhUbW5lEO"
      },
      "source": [
        "indicators = df_men.applymap(lambda x: men_tr_counter_differencies.get(x, 0)) < 0"
      ],
      "execution_count": null,
      "outputs": []
    },
    {
      "cell_type": "code",
      "metadata": {
        "id": "TcxRHwAX6Rlk"
      },
      "source": [
        "mask = np.logical_xor(indicators[0], indicators[1])"
      ],
      "execution_count": null,
      "outputs": []
    },
    {
      "cell_type": "code",
      "metadata": {
        "id": "ol-Hmc5m6Xvf"
      },
      "source": [
        "df_men = df_men[mask]\n",
        "\n",
        "df_men = df_men.reset_index(drop=True)"
      ],
      "execution_count": null,
      "outputs": []
    },
    {
      "cell_type": "code",
      "metadata": {
        "id": "dQyolczqF4YI"
      },
      "source": [
        "df_men[0] = df_men[0]+df_men[3]\n",
        "df_men[1] = df_men[1]+df_men[4]"
      ],
      "execution_count": null,
      "outputs": []
    },
    {
      "cell_type": "code",
      "metadata": {
        "id": "GGNz3dCzF8cP"
      },
      "source": [
        "df_men = df_men.drop(columns=[3,4])"
      ],
      "execution_count": null,
      "outputs": []
    },
    {
      "cell_type": "code",
      "metadata": {
        "id": "kQ2RwWgJlHiC"
      },
      "source": [
        "df_men"
      ],
      "execution_count": null,
      "outputs": []
    },
    {
      "cell_type": "code",
      "metadata": {
        "id": "i7B7dMCXlHiD"
      },
      "source": [
        "df_men.to_csv('MEN_tr_one.txt', header=None, index=None, sep=' ', mode='a', float_format='%.6f')"
      ],
      "execution_count": null,
      "outputs": []
    },
    {
      "cell_type": "markdown",
      "metadata": {
        "id": "64AcuisJlHiF"
      },
      "source": [
        "WS353-ALL"
      ]
    },
    {
      "cell_type": "code",
      "metadata": {
        "id": "0Y28xyuulHiF"
      },
      "source": [
        "df_ws_all = pd.read_csv(datasets_dir + \"new/new_WS-353-ALL.txt\", sep='\\t', header=None)"
      ],
      "execution_count": null,
      "outputs": []
    },
    {
      "cell_type": "code",
      "metadata": {
        "id": "pDltFh-6Hnmy"
      },
      "source": [
        "df_ws_all = df_ws_all.iloc[1: , :]\n",
        "\n",
        "df_ws_all = df_ws_all.reset_index(drop=True)"
      ],
      "execution_count": null,
      "outputs": []
    },
    {
      "cell_type": "code",
      "metadata": {
        "id": "R6FedXC8HE3d"
      },
      "source": [
        "indicators = df_ws_all.applymap(lambda x: wsall_tr_counter_differencies.get(x, 0)) < 0"
      ],
      "execution_count": null,
      "outputs": []
    },
    {
      "cell_type": "code",
      "metadata": {
        "id": "OYhiwq-4HE3f"
      },
      "source": [
        "mask = np.logical_xor(indicators[0], indicators[1])"
      ],
      "execution_count": null,
      "outputs": []
    },
    {
      "cell_type": "code",
      "metadata": {
        "id": "wzpy4HzSHE3g"
      },
      "source": [
        "df_ws_all = df_ws_all[mask]\n",
        "\n",
        "df_ws_all = df_ws_all.reset_index(drop=True)"
      ],
      "execution_count": null,
      "outputs": []
    },
    {
      "cell_type": "code",
      "metadata": {
        "id": "dY33GmpsILVm"
      },
      "source": [
        "df_ws_all.loc[-1] = ['Word 1', 'Word 2', 'Human (mean)']  # adding a row\n",
        "df_ws_all.index = df_ws_all.index + 1  # shifting index\n",
        "df_ws_all = df_ws_all.sort_index()  # sorting by index"
      ],
      "execution_count": null,
      "outputs": []
    },
    {
      "cell_type": "code",
      "metadata": {
        "id": "i-9ue4RflHiH"
      },
      "source": [
        "df_ws_all"
      ],
      "execution_count": null,
      "outputs": []
    },
    {
      "cell_type": "code",
      "metadata": {
        "id": "3NqaoRFClHiI"
      },
      "source": [
        "df_ws_all.to_csv('WS-353-ALL_tr_one.txt', header=None, index=None, sep='\\t', float_format='%.2f')"
      ],
      "execution_count": null,
      "outputs": []
    },
    {
      "cell_type": "markdown",
      "metadata": {
        "id": "zuSvhY2plHiI"
      },
      "source": [
        "WS353-REL"
      ]
    },
    {
      "cell_type": "code",
      "metadata": {
        "id": "27bIzI-KlHiJ"
      },
      "source": [
        "df_ws_rel = pd.read_csv(datasets_dir + \"new/new_WS-353-REL.txt\", sep='\\t', header=None)"
      ],
      "execution_count": null,
      "outputs": []
    },
    {
      "cell_type": "code",
      "metadata": {
        "id": "VMvNxzWFKrGE"
      },
      "source": [
        "indicators = df_ws_rel.applymap(lambda x: wsrel_tr_counter_differencies.get(x, 0)) < 0"
      ],
      "execution_count": null,
      "outputs": []
    },
    {
      "cell_type": "code",
      "metadata": {
        "id": "wE4XlGBfKrGG"
      },
      "source": [
        "mask = np.logical_xor(indicators[0], indicators[1])"
      ],
      "execution_count": null,
      "outputs": []
    },
    {
      "cell_type": "code",
      "metadata": {
        "id": "_ASb8D9xKrGH"
      },
      "source": [
        "df_ws_rel = df_ws_rel[mask]\n",
        "\n",
        "df_ws_rel = df_ws_rel.reset_index(drop=True)"
      ],
      "execution_count": null,
      "outputs": []
    },
    {
      "cell_type": "code",
      "metadata": {
        "id": "habFQ0_7lHiK"
      },
      "source": [
        "df_ws_rel"
      ],
      "execution_count": null,
      "outputs": []
    },
    {
      "cell_type": "code",
      "metadata": {
        "id": "YGlUgYtmlHiK"
      },
      "source": [
        "df_ws_rel.to_csv('WS-353-REL_tr_one.txt', header=None, index=None, sep='\\t', mode='a', float_format='%.2f')"
      ],
      "execution_count": null,
      "outputs": []
    },
    {
      "cell_type": "markdown",
      "metadata": {
        "id": "NTOJuvoWlHiL"
      },
      "source": [
        "WS353-SIM"
      ]
    },
    {
      "cell_type": "code",
      "metadata": {
        "id": "e6vuImYMlHiL"
      },
      "source": [
        "df_ws_sim = pd.read_csv(datasets_dir + \"new/new_WS-353-SIM.txt\", sep='\\t', header=None)"
      ],
      "execution_count": null,
      "outputs": []
    },
    {
      "cell_type": "code",
      "metadata": {
        "id": "cOesauRcLSxw"
      },
      "source": [
        "indicators = df_ws_sim.applymap(lambda x: wssim_tr_counter_differencies.get(x, 0)) < 0"
      ],
      "execution_count": null,
      "outputs": []
    },
    {
      "cell_type": "code",
      "metadata": {
        "id": "7y-w2kGRLSxy"
      },
      "source": [
        "mask = np.logical_xor(indicators[0], indicators[1])"
      ],
      "execution_count": null,
      "outputs": []
    },
    {
      "cell_type": "code",
      "metadata": {
        "id": "Vv5swSMYLSxz"
      },
      "source": [
        "df_ws_sim = df_ws_sim[mask]\n",
        "\n",
        "df_ws_sim = df_ws_sim.reset_index(drop=True)"
      ],
      "execution_count": null,
      "outputs": []
    },
    {
      "cell_type": "code",
      "metadata": {
        "id": "AciSIh9YlHiN"
      },
      "source": [
        "df_ws_sim"
      ],
      "execution_count": null,
      "outputs": []
    },
    {
      "cell_type": "code",
      "metadata": {
        "id": "iXwsN_mQlHiN"
      },
      "source": [
        "df_ws_sim.to_csv('WS-353-SIM_tr_one.txt', header=None, index=None, sep='\\t', mode='a', float_format='%.2f')"
      ],
      "execution_count": null,
      "outputs": []
    },
    {
      "cell_type": "markdown",
      "metadata": {
        "id": "BHJ-LT_klHiO"
      },
      "source": [
        "SIM999"
      ]
    },
    {
      "cell_type": "code",
      "metadata": {
        "id": "gxK5FdnXlHiO"
      },
      "source": [
        "df_SIM999 = pd.read_csv(datasets_dir + \"new/new_SIM999.txt\", sep='\\t', header=None)"
      ],
      "execution_count": null,
      "outputs": []
    },
    {
      "cell_type": "code",
      "metadata": {
        "id": "VhNja9jwMEVp"
      },
      "source": [
        "df_SIM999 = df_SIM999.iloc[1: , :]\n",
        "\n",
        "df_SIM999 = df_SIM999.reset_index(drop=True)"
      ],
      "execution_count": null,
      "outputs": []
    },
    {
      "cell_type": "code",
      "metadata": {
        "id": "g-quQ3s7MEVr"
      },
      "source": [
        "indicators = df_SIM999.applymap(lambda x: simLex_tr_counter_differencies.get(x, 0)) < 0"
      ],
      "execution_count": null,
      "outputs": []
    },
    {
      "cell_type": "code",
      "metadata": {
        "id": "Uwt-0FIrMEVs"
      },
      "source": [
        "mask = np.logical_xor(indicators[0], indicators[1])"
      ],
      "execution_count": null,
      "outputs": []
    },
    {
      "cell_type": "code",
      "metadata": {
        "id": "sLKA-PpiMEVu"
      },
      "source": [
        "df_SIM999 = df_SIM999[mask]\n",
        "\n",
        "df_SIM999 = df_SIM999.reset_index(drop=True)"
      ],
      "execution_count": null,
      "outputs": []
    },
    {
      "cell_type": "code",
      "metadata": {
        "id": "wReiVD0aMEVu"
      },
      "source": [
        "df_SIM999.loc[-1] = ['word1', 'word2', 'POS', 'SimLex999', 'conc(w1)', 'conc(w2)', 'concQ', 'Assoc(USF)', 'SimAssoc333', 'SD(SimLex)']  # adding a row\n",
        "df_SIM999.index = df_SIM999.index + 1  # shifting index\n",
        "df_SIM999 = df_SIM999.sort_index()  # sorting by index"
      ],
      "execution_count": null,
      "outputs": []
    },
    {
      "cell_type": "code",
      "metadata": {
        "id": "rjoahRGelHiP"
      },
      "source": [
        "df_SIM999"
      ],
      "execution_count": null,
      "outputs": []
    },
    {
      "cell_type": "code",
      "metadata": {
        "id": "xHxZx_oGlHiP"
      },
      "source": [
        "df_SIM999.to_csv('SIM999_tr_one.txt', header=None, index=None, sep='\\t', mode='a')"
      ],
      "execution_count": null,
      "outputs": []
    },
    {
      "cell_type": "markdown",
      "metadata": {
        "id": "exzviB2ElHiQ"
      },
      "source": [
        "RARE WORD"
      ]
    },
    {
      "cell_type": "code",
      "metadata": {
        "id": "ymJuWpIElHiQ"
      },
      "source": [
        "df_rw = pd.read_csv(datasets_dir + \"new/new_RW.txt\", sep='\\t', header=None)"
      ],
      "execution_count": null,
      "outputs": []
    },
    {
      "cell_type": "code",
      "metadata": {
        "id": "z2atV39vlHiQ"
      },
      "source": [
        "df_rw = df_rw.fillna('')"
      ],
      "execution_count": null,
      "outputs": []
    },
    {
      "cell_type": "code",
      "metadata": {
        "id": "0-goaOdFNAUf"
      },
      "source": [
        "indicators = df_rw.applymap(lambda x: rw_tr_counter_differencies.get(x, 0)) < 0"
      ],
      "execution_count": null,
      "outputs": []
    },
    {
      "cell_type": "code",
      "metadata": {
        "id": "BiycuDyrNAUg"
      },
      "source": [
        "mask = np.logical_xor(indicators[0], indicators[1])"
      ],
      "execution_count": null,
      "outputs": []
    },
    {
      "cell_type": "code",
      "metadata": {
        "id": "YMlc1XeaNAUh"
      },
      "source": [
        "df_rw = df_rw[mask]\n",
        "\n",
        "df_rw = df_rw.reset_index(drop=True)"
      ],
      "execution_count": null,
      "outputs": []
    },
    {
      "cell_type": "code",
      "metadata": {
        "id": "8LWWrfgQlHiR"
      },
      "source": [
        "df_rw"
      ],
      "execution_count": null,
      "outputs": []
    },
    {
      "cell_type": "code",
      "metadata": {
        "id": "3BMWDjIPlHiS"
      },
      "source": [
        "df_rw.to_csv('RW_tr_one.txt', header=None, index=None, sep='\\t', mode='a')"
      ],
      "execution_count": null,
      "outputs": []
    },
    {
      "cell_type": "markdown",
      "metadata": {
        "id": "_4-2Z_VKlHiS"
      },
      "source": [
        "RG65"
      ]
    },
    {
      "cell_type": "code",
      "metadata": {
        "id": "f2nW5UPQlHiT"
      },
      "source": [
        "df_rg65 = pd.read_csv(datasets_dir + \"EN-RG-65.txt\", sep='\\t', header=None)"
      ],
      "execution_count": null,
      "outputs": []
    },
    {
      "cell_type": "code",
      "metadata": {
        "id": "7QAhFU2yNf48"
      },
      "source": [
        "indicators = df_rg65.applymap(lambda x: rg65_tr_counter_differencies.get(x, 0)) < 0"
      ],
      "execution_count": null,
      "outputs": []
    },
    {
      "cell_type": "code",
      "metadata": {
        "id": "Z70wuz9RNf49"
      },
      "source": [
        "mask = np.logical_xor(indicators[0], indicators[1])"
      ],
      "execution_count": null,
      "outputs": []
    },
    {
      "cell_type": "code",
      "metadata": {
        "id": "f0qevi0dNf4-"
      },
      "source": [
        "df_rg65 = df_rg65[mask]\n",
        "\n",
        "df_rg65 = df_rg65.reset_index(drop=True)"
      ],
      "execution_count": null,
      "outputs": []
    },
    {
      "cell_type": "code",
      "metadata": {
        "id": "IAIiLLFYlHiU"
      },
      "source": [
        "df_rg65"
      ],
      "execution_count": null,
      "outputs": []
    },
    {
      "cell_type": "code",
      "metadata": {
        "id": "-TuSK7wqlHiU"
      },
      "source": [
        "df_rg65.to_csv('RG65_tr_one.txt', header=None, index=None, sep='\\t', mode='a')"
      ],
      "execution_count": null,
      "outputs": []
    },
    {
      "cell_type": "markdown",
      "metadata": {
        "id": "zXJrneHOlHiU"
      },
      "source": [
        "MTURK"
      ]
    },
    {
      "cell_type": "code",
      "metadata": {
        "id": "NjTCfC-4lHiU"
      },
      "source": [
        "df_mturk = pd.read_csv(datasets_dir + \"new/new_MTurk287.txt\", sep=' ', header=None)"
      ],
      "execution_count": null,
      "outputs": []
    },
    {
      "cell_type": "code",
      "metadata": {
        "id": "EasWyb3eN95D"
      },
      "source": [
        "indicators = df_mturk.applymap(lambda x: mturk_tr_counter_differencies.get(x, 0)) < 0"
      ],
      "execution_count": null,
      "outputs": []
    },
    {
      "cell_type": "code",
      "metadata": {
        "id": "BsHC6hHqN95E"
      },
      "source": [
        "mask = np.logical_xor(indicators[0], indicators[1])"
      ],
      "execution_count": null,
      "outputs": []
    },
    {
      "cell_type": "code",
      "metadata": {
        "id": "ccQOg2TXN95G"
      },
      "source": [
        "df_mturk = df_mturk[mask]\n",
        "\n",
        "df_mturk = df_mturk.reset_index(drop=True)"
      ],
      "execution_count": null,
      "outputs": []
    },
    {
      "cell_type": "code",
      "metadata": {
        "id": "hHDNIaHklHiV"
      },
      "source": [
        "df_mturk"
      ],
      "execution_count": null,
      "outputs": []
    },
    {
      "cell_type": "code",
      "metadata": {
        "id": "AVl96sdylHiV"
      },
      "source": [
        "df_mturk.to_csv('MTurk287_tr_one.txt', header=None, index=None, sep=' ', mode='a')"
      ],
      "execution_count": null,
      "outputs": []
    },
    {
      "cell_type": "markdown",
      "metadata": {
        "id": "pFa8HNSLMIXG"
      },
      "source": [
        "## ANALOGY TASK"
      ]
    },
    {
      "cell_type": "markdown",
      "metadata": {
        "id": "godXLcYuOytl"
      },
      "source": [
        "### EQUAL"
      ]
    },
    {
      "cell_type": "markdown",
      "metadata": {
        "id": "VxJkVkRyPjpx"
      },
      "source": [
        "GOOGLE"
      ]
    },
    {
      "cell_type": "code",
      "metadata": {
        "id": "RfdzRDc-nIzn"
      },
      "source": [
        "df_google = pd.read_csv(datasets_dir + \"new/new_GOOGLE.txt\", header=None)"
      ],
      "execution_count": null,
      "outputs": []
    },
    {
      "cell_type": "code",
      "metadata": {
        "id": "LDl3Lr52nG53"
      },
      "source": [
        "df_google"
      ],
      "execution_count": null,
      "outputs": []
    },
    {
      "cell_type": "code",
      "metadata": {
        "id": "quNZ_LLR1guf"
      },
      "source": [
        "df_google= df_google[0].str.split(\" \", n = 4, expand = True)"
      ],
      "execution_count": null,
      "outputs": []
    },
    {
      "cell_type": "code",
      "metadata": {
        "id": "Ttyv7MKz3H-T"
      },
      "source": [
        "df_google = df_google.fillna('')"
      ],
      "execution_count": null,
      "outputs": []
    },
    {
      "cell_type": "code",
      "metadata": {
        "id": "dwsozNyLj57q"
      },
      "source": [
        "indicators = df_google.applymap(lambda x: google_tr_counter_differencies.get(x, 0)) == 0"
      ],
      "execution_count": null,
      "outputs": []
    },
    {
      "cell_type": "code",
      "metadata": {
        "id": "RvAw9Xrij57r"
      },
      "source": [
        "mask = np.logical_and.reduce((indicators[0], indicators[1],indicators[2], indicators[3]))"
      ],
      "execution_count": null,
      "outputs": []
    },
    {
      "cell_type": "code",
      "metadata": {
        "id": "325PpdRCj57t"
      },
      "source": [
        "df_google = df_google[mask]\n",
        "\n",
        "df_google = df_google.reset_index(drop=True)"
      ],
      "execution_count": null,
      "outputs": []
    },
    {
      "cell_type": "code",
      "metadata": {
        "id": "qFpJI2DM2tyW"
      },
      "source": [
        "df_google"
      ],
      "execution_count": null,
      "outputs": []
    },
    {
      "cell_type": "code",
      "metadata": {
        "id": "xhThlmLEl7gY"
      },
      "source": [
        "df_google.to_csv('GOOGLE_tr_equal.txt', header=None, index=None, sep=' ', mode='a')"
      ],
      "execution_count": null,
      "outputs": []
    },
    {
      "cell_type": "markdown",
      "metadata": {
        "id": "LwDUnMeWPk58"
      },
      "source": [
        "MSR"
      ]
    },
    {
      "cell_type": "code",
      "metadata": {
        "id": "3Fa8807NoFpg"
      },
      "source": [
        "df_msr = pd.read_csv(datasets_dir + \"new/new_MSR.txt\", sep=' ', header=None)"
      ],
      "execution_count": null,
      "outputs": []
    },
    {
      "cell_type": "code",
      "metadata": {
        "id": "IP1cwaQEoExm"
      },
      "source": [
        "df_msr"
      ],
      "execution_count": null,
      "outputs": []
    },
    {
      "cell_type": "code",
      "metadata": {
        "id": "zsq_XHiebx2U"
      },
      "source": [
        "indicators = df_msr.applymap(lambda x: msr_tr_counter_differencies.get(x, 0)) == 0"
      ],
      "execution_count": null,
      "outputs": []
    },
    {
      "cell_type": "code",
      "metadata": {
        "id": "gHmYU0Bpbx2V"
      },
      "source": [
        "mask = np.logical_and.reduce((indicators[0], indicators[1],indicators[2], indicators[4]))"
      ],
      "execution_count": null,
      "outputs": []
    },
    {
      "cell_type": "code",
      "metadata": {
        "id": "YcfS0lPVbx2W"
      },
      "source": [
        "df_msr = df_msr[mask]\n",
        "\n",
        "df_msr = df_msr.reset_index(drop=True)"
      ],
      "execution_count": null,
      "outputs": []
    },
    {
      "cell_type": "code",
      "metadata": {
        "id": "0OtnHyihcVCG"
      },
      "source": [
        "df_msr"
      ],
      "execution_count": null,
      "outputs": []
    },
    {
      "cell_type": "code",
      "metadata": {
        "id": "HQX_Dr82jdIm"
      },
      "source": [
        "df_msr.to_csv('MSR_tr_equal.txt', header=None, index=None, sep=' ', mode='a')"
      ],
      "execution_count": null,
      "outputs": []
    },
    {
      "cell_type": "markdown",
      "metadata": {
        "id": "uzegvff6uSLF"
      },
      "source": [
        "### ALL WORDS"
      ]
    },
    {
      "cell_type": "markdown",
      "metadata": {
        "id": "qi4QAzB1ujBc"
      },
      "source": [
        "GOOGLE"
      ]
    },
    {
      "cell_type": "code",
      "metadata": {
        "id": "uPhBhsdFujBd"
      },
      "source": [
        "df_google = pd.read_csv(datasets_dir + \"new/new_GOOGLE.txt\", header=None)"
      ],
      "execution_count": null,
      "outputs": []
    },
    {
      "cell_type": "code",
      "metadata": {
        "id": "bho7aaR5ujBe"
      },
      "source": [
        "df_google"
      ],
      "execution_count": null,
      "outputs": []
    },
    {
      "cell_type": "code",
      "metadata": {
        "id": "iilGD8-xujBg"
      },
      "source": [
        "df_google= df_google[0].str.split(\" \", n = 4, expand = True)"
      ],
      "execution_count": null,
      "outputs": []
    },
    {
      "cell_type": "code",
      "metadata": {
        "id": "7CvNX5bzujBh"
      },
      "source": [
        "df_google = df_google.fillna('')"
      ],
      "execution_count": null,
      "outputs": []
    },
    {
      "cell_type": "code",
      "metadata": {
        "id": "YSFQPFUyujBh"
      },
      "source": [
        "indicators = df_google.applymap(lambda x: google_tr_counter_differencies.get(x, 0)) < 0"
      ],
      "execution_count": null,
      "outputs": []
    },
    {
      "cell_type": "code",
      "metadata": {
        "id": "a7OK_7qmujBi"
      },
      "source": [
        "mask = np.logical_and.reduce((indicators[0], indicators[1],indicators[2], indicators[3]))"
      ],
      "execution_count": null,
      "outputs": []
    },
    {
      "cell_type": "code",
      "metadata": {
        "id": "txENsrKQujBj"
      },
      "source": [
        "df_google = df_google[mask]\n",
        "\n",
        "df_google = df_google.reset_index(drop=True)"
      ],
      "execution_count": null,
      "outputs": []
    },
    {
      "cell_type": "code",
      "metadata": {
        "id": "SePNtWW6ujBk"
      },
      "source": [
        "df_google"
      ],
      "execution_count": null,
      "outputs": []
    },
    {
      "cell_type": "code",
      "metadata": {
        "id": "IeCLoCqcujBl"
      },
      "source": [
        "df_google.to_csv('GOOGLE_tr_all.txt', header=None, index=None, sep=' ', mode='a')"
      ],
      "execution_count": null,
      "outputs": []
    },
    {
      "cell_type": "markdown",
      "metadata": {
        "id": "1jLtTndvujBl"
      },
      "source": [
        "MSR"
      ]
    },
    {
      "cell_type": "code",
      "metadata": {
        "id": "Hd2SUQTFujBm"
      },
      "source": [
        "df_msr = pd.read_csv(datasets_dir + \"new/new_MSR.txt\", sep=' ', header=None)"
      ],
      "execution_count": null,
      "outputs": []
    },
    {
      "cell_type": "code",
      "metadata": {
        "id": "CMfEnRvqujBm"
      },
      "source": [
        "df_msr"
      ],
      "execution_count": null,
      "outputs": []
    },
    {
      "cell_type": "code",
      "metadata": {
        "id": "jKqPvXx5ujBn"
      },
      "source": [
        "indicators = df_msr.applymap(lambda x: msr_tr_counter_differencies.get(x, 0)) < 0"
      ],
      "execution_count": null,
      "outputs": []
    },
    {
      "cell_type": "code",
      "metadata": {
        "id": "WEeEEAnSujBn"
      },
      "source": [
        "mask = np.logical_and.reduce((indicators[0], indicators[1],indicators[2], indicators[4]))"
      ],
      "execution_count": null,
      "outputs": []
    },
    {
      "cell_type": "code",
      "metadata": {
        "id": "5KtE3uPFujBn"
      },
      "source": [
        "df_msr = df_msr[mask]\n",
        "\n",
        "df_msr = df_msr.reset_index(drop=True)"
      ],
      "execution_count": null,
      "outputs": []
    },
    {
      "cell_type": "code",
      "metadata": {
        "id": "6XAe1mXuujBo"
      },
      "source": [
        "df_msr"
      ],
      "execution_count": null,
      "outputs": []
    },
    {
      "cell_type": "code",
      "metadata": {
        "id": "KV1oI0kZujBo"
      },
      "source": [
        "df_msr.to_csv('MSR_tr_all.txt', header=None, index=None, sep=' ', mode='a')"
      ],
      "execution_count": null,
      "outputs": []
    },
    {
      "cell_type": "markdown",
      "metadata": {
        "id": "vnm3nqd3ua52"
      },
      "source": [
        "### AT LEAST ONE WORD"
      ]
    },
    {
      "cell_type": "markdown",
      "metadata": {
        "id": "_-K3gTTrul1b"
      },
      "source": [
        "GOOGLE"
      ]
    },
    {
      "cell_type": "code",
      "metadata": {
        "id": "2HBmY5Gful1d"
      },
      "source": [
        "df_google = pd.read_csv(datasets_dir + \"new/new_GOOGLE.txt\", header=None)"
      ],
      "execution_count": null,
      "outputs": []
    },
    {
      "cell_type": "code",
      "metadata": {
        "id": "DVddD_Fqul1e"
      },
      "source": [
        "df_google"
      ],
      "execution_count": null,
      "outputs": []
    },
    {
      "cell_type": "code",
      "metadata": {
        "id": "krX1ddhnul1e"
      },
      "source": [
        "df_google= df_google[0].str.split(\" \", n = 4, expand = True)"
      ],
      "execution_count": null,
      "outputs": []
    },
    {
      "cell_type": "code",
      "metadata": {
        "id": "2UWWa4byul1f"
      },
      "source": [
        "df_google = df_google.fillna('')"
      ],
      "execution_count": null,
      "outputs": []
    },
    {
      "cell_type": "code",
      "metadata": {
        "id": "FQlEF97Eul1h"
      },
      "source": [
        "indicators = df_google.applymap(lambda x: google_tr_counter_differencies.get(x, 0)) < 0"
      ],
      "execution_count": null,
      "outputs": []
    },
    {
      "cell_type": "code",
      "metadata": {
        "id": "kGvNZyIeul1i"
      },
      "source": [
        "mask = (np.logical_or.reduce((indicators[0], indicators[1],indicators[2], indicators[3]))) ^ (np.logical_and.reduce((indicators[0], indicators[1],indicators[2], indicators[3])))"
      ],
      "execution_count": null,
      "outputs": []
    },
    {
      "cell_type": "code",
      "metadata": {
        "id": "xM_tXI1aul1j"
      },
      "source": [
        "df_google = df_google[mask]\n",
        "\n",
        "df_google = df_google.reset_index(drop=True)"
      ],
      "execution_count": null,
      "outputs": []
    },
    {
      "cell_type": "code",
      "metadata": {
        "id": "IGM_JImjul1k"
      },
      "source": [
        "df_google"
      ],
      "execution_count": null,
      "outputs": []
    },
    {
      "cell_type": "code",
      "metadata": {
        "id": "XfrrXfi4ul1l"
      },
      "source": [
        "df_google.to_csv('GOOGLE_tr_one.txt', header=None, index=None, sep=' ', mode='a')"
      ],
      "execution_count": null,
      "outputs": []
    },
    {
      "cell_type": "markdown",
      "metadata": {
        "id": "_NYIgZGsul1l"
      },
      "source": [
        "MSR"
      ]
    },
    {
      "cell_type": "code",
      "metadata": {
        "id": "dMNqWcMlul1m"
      },
      "source": [
        "df_msr = pd.read_csv(datasets_dir + \"new/new_MSR.txt\", sep=' ', header=None)"
      ],
      "execution_count": null,
      "outputs": []
    },
    {
      "cell_type": "code",
      "metadata": {
        "id": "PHzYoe2yul1m"
      },
      "source": [
        "df_msr"
      ],
      "execution_count": null,
      "outputs": []
    },
    {
      "cell_type": "code",
      "metadata": {
        "id": "QhbcYsFTul1n"
      },
      "source": [
        "indicators = df_msr.applymap(lambda x: msr_tr_counter_differencies.get(x, 0)) < 0"
      ],
      "execution_count": null,
      "outputs": []
    },
    {
      "cell_type": "code",
      "metadata": {
        "id": "NTLWeJprul1o"
      },
      "source": [
        "mask = (np.logical_or.reduce((indicators[0], indicators[1],indicators[2], indicators[4]))) ^ (np.logical_and.reduce((indicators[0], indicators[1],indicators[2], indicators[4])))"
      ],
      "execution_count": null,
      "outputs": []
    },
    {
      "cell_type": "code",
      "metadata": {
        "id": "h3PrGCTDul1o"
      },
      "source": [
        "df_msr = df_msr[mask]\n",
        "\n",
        "df_msr = df_msr.reset_index(drop=True)"
      ],
      "execution_count": null,
      "outputs": []
    },
    {
      "cell_type": "code",
      "metadata": {
        "id": "vzMwb0bful1p"
      },
      "source": [
        "df_msr"
      ],
      "execution_count": null,
      "outputs": []
    },
    {
      "cell_type": "code",
      "metadata": {
        "id": "xm9L1bVrul1q"
      },
      "source": [
        "df_msr.to_csv('MSR_tr_one.txt', header=None, index=None, sep=' ', mode='a')"
      ],
      "execution_count": null,
      "outputs": []
    },
    {
      "cell_type": "markdown",
      "metadata": {
        "id": "M6_CYsqwubt0"
      },
      "source": [
        "## SEMEVAL2012"
      ]
    },
    {
      "cell_type": "markdown",
      "metadata": {
        "id": "hiMiJA2R7vGb"
      },
      "source": [
        "### EQUAL"
      ]
    },
    {
      "cell_type": "code",
      "metadata": {
        "id": "VPzWkr0LvSBa"
      },
      "source": [
        "semeval = []\n",
        "for filename in Path(datasets_dir + \"SEMEVAL2012complete/\").iterdir():\n",
        "    with open(filename) as f:\n",
        "        semeval.append(filename.stem)\n",
        "        semeval.extend(f.read().splitlines())"
      ],
      "execution_count": null,
      "outputs": []
    },
    {
      "cell_type": "code",
      "metadata": {
        "id": "17cgOxLx9BQ7"
      },
      "source": [
        "df_semeval = pd.DataFrame(semeval)"
      ],
      "execution_count": null,
      "outputs": []
    },
    {
      "cell_type": "code",
      "metadata": {
        "id": "jOWHU69qn8Ei"
      },
      "source": [
        "df_semeval[3]= \"\"\n",
        "\n",
        "try:\n",
        "  for i in range(len(df_semeval)):\n",
        "    for el in df_semeval[0][i]:\n",
        "      if el == \"_\":\n",
        "        df_semeval[3][i:] = df_semeval[0][i]\n",
        "        df_semeval = df_semeval.drop([i])\n",
        "\n",
        "    df_semeval = df_semeval.reset_index(drop=True)\n",
        "except KeyError:\n",
        "  pass"
      ],
      "execution_count": null,
      "outputs": []
    },
    {
      "cell_type": "code",
      "metadata": {
        "id": "EQ2bgfUH3NT7"
      },
      "source": [
        "df_semeval[4]= \"\"\n",
        "\n",
        "try:\n",
        "  for i in range(len(df_semeval)):\n",
        "      if (df_semeval[0][i].find(\",\") !=-1):\n",
        "        df_semeval[4][i:] = df_semeval[0][i]\n",
        "        df_semeval = df_semeval.drop([i])\n",
        "\n",
        "      df_semeval = df_semeval.reset_index(drop=True)\n",
        "except KeyError:\n",
        "  pass"
      ],
      "execution_count": null,
      "outputs": []
    },
    {
      "cell_type": "code",
      "metadata": {
        "id": "MokPpPB2FEti"
      },
      "source": [
        "df_semeval[2] = df_semeval[0].str.split(' ').str[1]\n",
        "\n",
        "df_semeval[0] = df_semeval[0].str.split(' ').str[0]\n",
        "\n",
        "df_semeval = df_semeval.fillna('')"
      ],
      "execution_count": null,
      "outputs": []
    },
    {
      "cell_type": "code",
      "metadata": {
        "id": "-jHfKesiB7DE"
      },
      "source": [
        "df_semeval[1] = df_semeval[0].str.split(':').str[1]\n",
        "\n",
        "df_semeval[0] = df_semeval[0].str.split(':').str[0]\n",
        "\n",
        "df_semeval = df_semeval.fillna('')"
      ],
      "execution_count": null,
      "outputs": []
    },
    {
      "cell_type": "code",
      "metadata": {
        "id": "h01z241t7MeV"
      },
      "source": [
        "indicators = df_semeval.applymap(lambda x: sem_tr_counter_differencies.get(x, 0)) == 0"
      ],
      "execution_count": null,
      "outputs": []
    },
    {
      "cell_type": "code",
      "metadata": {
        "id": "8E1h-hDR7MeW"
      },
      "source": [
        "mask = np.logical_and(indicators[0], indicators[1])"
      ],
      "execution_count": null,
      "outputs": []
    },
    {
      "cell_type": "code",
      "metadata": {
        "id": "djyYZtoP7MeX"
      },
      "source": [
        "df_semeval = df_semeval[mask]\n",
        "\n",
        "df_semeval = df_semeval.reset_index(drop=True)"
      ],
      "execution_count": null,
      "outputs": []
    },
    {
      "cell_type": "code",
      "metadata": {
        "id": "hDUcQzW8y2iA"
      },
      "source": [
        "df_semeval[0] = df_semeval[0] + \":\" + df_semeval[1]\n",
        "\n",
        "df_semeval = df_semeval.drop(columns=[1])"
      ],
      "execution_count": null,
      "outputs": []
    },
    {
      "cell_type": "code",
      "metadata": {
        "id": "k67HVgEcok6E"
      },
      "source": [
        "s = df_semeval.drop_duplicates([3,4]).drop([0,2],axis=1).rename({4:0},axis=1)\n",
        "new_semeval = pd.concat([s,df_semeval]).sort_index(kind = 'stable').reindex(columns=df_semeval.columns)"
      ],
      "execution_count": null,
      "outputs": []
    },
    {
      "cell_type": "code",
      "metadata": {
        "id": "hfq5h6rcDJ6u"
      },
      "source": [
        "%cd"
      ],
      "execution_count": null,
      "outputs": []
    },
    {
      "cell_type": "code",
      "metadata": {
        "id": "whf1go8G2Yuz"
      },
      "source": [
        "!mkdir new_semeval_equal_tr"
      ],
      "execution_count": null,
      "outputs": []
    },
    {
      "cell_type": "code",
      "metadata": {
        "id": "mlPgLdjj3bam"
      },
      "source": [
        "%cd /root/new_semeval_equal_tr"
      ],
      "execution_count": null,
      "outputs": []
    },
    {
      "cell_type": "code",
      "metadata": {
        "id": "sTAO0AiZxgbb"
      },
      "source": [
        "newText_sem = new_semeval.groupby(3)\n",
        "newText_sem[[0,2]].apply(lambda x: x.to_csv(str(x.name) + '.txt', header=None, index=None, sep=' '))"
      ],
      "execution_count": null,
      "outputs": []
    },
    {
      "cell_type": "code",
      "metadata": {
        "id": "V2G5H7BG0LAp"
      },
      "source": [
        "!zip -r /root/new_semeval_equal_tr/new_semeval2012_equal_tr.zip /root/new_semeval_equal_tr"
      ],
      "execution_count": null,
      "outputs": []
    },
    {
      "cell_type": "markdown",
      "metadata": {
        "id": "ebodC3PE7xQw"
      },
      "source": [
        "### TWO WORDS"
      ]
    },
    {
      "cell_type": "code",
      "metadata": {
        "id": "vrRRYqC10zj2"
      },
      "source": [
        "semeval = []\n",
        "for filename in Path(datasets_dir + \"SEMEVAL2012complete/\").iterdir():\n",
        "    with open(filename) as f:\n",
        "        semeval.append(filename.stem)\n",
        "        semeval.extend(f.read().splitlines())"
      ],
      "execution_count": null,
      "outputs": []
    },
    {
      "cell_type": "code",
      "metadata": {
        "id": "JjxxuhEV0zj3"
      },
      "source": [
        "df_semeval = pd.DataFrame(semeval)"
      ],
      "execution_count": null,
      "outputs": []
    },
    {
      "cell_type": "code",
      "metadata": {
        "id": "k2iWhQO40zj4"
      },
      "source": [
        "df_semeval[3]= \"\"\n",
        "\n",
        "try:\n",
        "  for i in range(len(df_semeval)):\n",
        "    for el in df_semeval[0][i]:\n",
        "      if el == \"_\":\n",
        "        df_semeval[3][i:] = df_semeval[0][i]\n",
        "        df_semeval = df_semeval.drop([i])\n",
        "\n",
        "    df_semeval = df_semeval.reset_index(drop=True)\n",
        "except KeyError:\n",
        "  pass"
      ],
      "execution_count": null,
      "outputs": []
    },
    {
      "cell_type": "code",
      "metadata": {
        "id": "I-WZ1u_c0zj5"
      },
      "source": [
        "df_semeval[4]= \"\"\n",
        "\n",
        "try:\n",
        "  for i in range(len(df_semeval)):\n",
        "      if (df_semeval[0][i].find(\",\") !=-1):\n",
        "        df_semeval[4][i:] = df_semeval[0][i]\n",
        "        df_semeval = df_semeval.drop([i])\n",
        "\n",
        "      df_semeval = df_semeval.reset_index(drop=True)\n",
        "except KeyError:\n",
        "  pass"
      ],
      "execution_count": null,
      "outputs": []
    },
    {
      "cell_type": "code",
      "metadata": {
        "id": "LiONnEmR0zj6"
      },
      "source": [
        "df_semeval[2] = df_semeval[0].str.split(' ').str[1]\n",
        "\n",
        "df_semeval[0] = df_semeval[0].str.split(' ').str[0]\n",
        "\n",
        "df_semeval = df_semeval.fillna('')"
      ],
      "execution_count": null,
      "outputs": []
    },
    {
      "cell_type": "code",
      "metadata": {
        "id": "56_HiCln0zj7"
      },
      "source": [
        "df_semeval[1] = df_semeval[0].str.split(':').str[1]\n",
        "\n",
        "df_semeval[0] = df_semeval[0].str.split(':').str[0]\n",
        "\n",
        "df_semeval = df_semeval.fillna('')"
      ],
      "execution_count": null,
      "outputs": []
    },
    {
      "cell_type": "code",
      "metadata": {
        "id": "CtE99l5A_iyM"
      },
      "source": [
        "indicators = df_semeval.applymap(lambda x: sem_tr_counter_differencies.get(x, 0)) < 0"
      ],
      "execution_count": null,
      "outputs": []
    },
    {
      "cell_type": "code",
      "metadata": {
        "id": "e5S_oWsb_iyN"
      },
      "source": [
        "mask = np.logical_and(indicators[0], indicators[1])"
      ],
      "execution_count": null,
      "outputs": []
    },
    {
      "cell_type": "code",
      "metadata": {
        "id": "jkRq_NAl_iyN"
      },
      "source": [
        "df_semeval = df_semeval[mask]\n",
        "\n",
        "df_semeval = df_semeval.reset_index(drop=True)"
      ],
      "execution_count": null,
      "outputs": []
    },
    {
      "cell_type": "code",
      "metadata": {
        "id": "NnPP22Wi07c_"
      },
      "source": [
        "df_semeval[0] = df_semeval[0] + \":\" + df_semeval[1]\n",
        "\n",
        "df_semeval = df_semeval.drop(columns=[1])"
      ],
      "execution_count": null,
      "outputs": []
    },
    {
      "cell_type": "code",
      "metadata": {
        "id": "_B4se0yx07dA"
      },
      "source": [
        "s = df_semeval.drop_duplicates([3,4]).drop([0,2],axis=1).rename({4:0},axis=1)\n",
        "new_semeval = pd.concat([s,df_semeval]).sort_index(kind = 'stable').reindex(columns=df_semeval.columns)"
      ],
      "execution_count": null,
      "outputs": []
    },
    {
      "cell_type": "code",
      "metadata": {
        "id": "zqICoM6vEPzB"
      },
      "source": [
        "%cd"
      ],
      "execution_count": null,
      "outputs": []
    },
    {
      "cell_type": "code",
      "metadata": {
        "id": "qhloJ2te07dB"
      },
      "source": [
        "!mkdir new_semeval_two_tr"
      ],
      "execution_count": null,
      "outputs": []
    },
    {
      "cell_type": "code",
      "metadata": {
        "id": "c5jDMUkT07dC"
      },
      "source": [
        "%cd /root/new_semeval_two_tr"
      ],
      "execution_count": null,
      "outputs": []
    },
    {
      "cell_type": "code",
      "metadata": {
        "id": "MnJJk2py07dD"
      },
      "source": [
        "newText_sem = new_semeval.groupby(3)\n",
        "newText_sem[[0,2]].apply(lambda x: x.to_csv(str(x.name) + '.txt', header=None, index=None, sep=' '))"
      ],
      "execution_count": null,
      "outputs": []
    },
    {
      "cell_type": "code",
      "metadata": {
        "id": "1ypaVOTA07dF"
      },
      "source": [
        "!zip -r /root/new_semeval_two_tr/new_semeval2012_two_tr.zip /root/new_semeval_two_tr"
      ],
      "execution_count": null,
      "outputs": []
    },
    {
      "cell_type": "markdown",
      "metadata": {
        "id": "hi_URrKn7wdF"
      },
      "source": [
        "### ONE WORD"
      ]
    },
    {
      "cell_type": "code",
      "metadata": {
        "id": "wFimfRDtEcw0"
      },
      "source": [
        "semeval = []\n",
        "for filename in Path(datasets_dir + \"SEMEVAL2012complete/\").iterdir():\n",
        "    with open(filename) as f:\n",
        "        semeval.append(filename.stem)\n",
        "        semeval.extend(f.read().splitlines())"
      ],
      "execution_count": null,
      "outputs": []
    },
    {
      "cell_type": "code",
      "metadata": {
        "id": "Ne0tIiZeEcw1"
      },
      "source": [
        "df_semeval = pd.DataFrame(semeval)"
      ],
      "execution_count": null,
      "outputs": []
    },
    {
      "cell_type": "code",
      "metadata": {
        "id": "kreqQ9zzEcw2"
      },
      "source": [
        "df_semeval[3]= \"\"\n",
        "\n",
        "try:\n",
        "  for i in range(len(df_semeval)):\n",
        "    for el in df_semeval[0][i]:\n",
        "      if el == \"_\":\n",
        "        df_semeval[3][i:] = df_semeval[0][i]\n",
        "        df_semeval = df_semeval.drop([i])\n",
        "\n",
        "    df_semeval = df_semeval.reset_index(drop=True)\n",
        "except KeyError:\n",
        "  pass"
      ],
      "execution_count": null,
      "outputs": []
    },
    {
      "cell_type": "code",
      "metadata": {
        "id": "APFO3HCSEcw3"
      },
      "source": [
        "df_semeval[4]= \"\"\n",
        "\n",
        "try:\n",
        "  for i in range(len(df_semeval)):\n",
        "      if (df_semeval[0][i].find(\",\") !=-1):\n",
        "        df_semeval[4][i:] = df_semeval[0][i]\n",
        "        df_semeval = df_semeval.drop([i])\n",
        "\n",
        "      df_semeval = df_semeval.reset_index(drop=True)\n",
        "except KeyError:\n",
        "  pass"
      ],
      "execution_count": null,
      "outputs": []
    },
    {
      "cell_type": "code",
      "metadata": {
        "id": "5JDQT73iEcw4"
      },
      "source": [
        "df_semeval[2] = df_semeval[0].str.split(' ').str[1]\n",
        "\n",
        "df_semeval[0] = df_semeval[0].str.split(' ').str[0]\n",
        "\n",
        "df_semeval = df_semeval.fillna('')"
      ],
      "execution_count": null,
      "outputs": []
    },
    {
      "cell_type": "code",
      "metadata": {
        "id": "c8rYeqfQEcw5"
      },
      "source": [
        "df_semeval[1] = df_semeval[0].str.split(':').str[1]\n",
        "\n",
        "df_semeval[0] = df_semeval[0].str.split(':').str[0]\n",
        "\n",
        "df_semeval = df_semeval.fillna('')"
      ],
      "execution_count": null,
      "outputs": []
    },
    {
      "cell_type": "code",
      "metadata": {
        "id": "6CiCAPfX_vZB"
      },
      "source": [
        "indicators = df_semeval.applymap(lambda x: sem_tr_counter_differencies.get(x, 0)) < 0"
      ],
      "execution_count": null,
      "outputs": []
    },
    {
      "cell_type": "code",
      "metadata": {
        "id": "iJFgl6qN_vZC"
      },
      "source": [
        "mask = np.logical_xor(indicators[0], indicators[1])"
      ],
      "execution_count": null,
      "outputs": []
    },
    {
      "cell_type": "code",
      "metadata": {
        "id": "IMPgESzj_vZD"
      },
      "source": [
        "df_semeval = df_semeval[mask]\n",
        "\n",
        "df_semeval = df_semeval.reset_index(drop=True)"
      ],
      "execution_count": null,
      "outputs": []
    },
    {
      "cell_type": "code",
      "metadata": {
        "id": "04ololpP1KuG"
      },
      "source": [
        "df_semeval[0] = df_semeval[0] + \":\" + df_semeval[1]\n",
        "\n",
        "df_semeval = df_semeval.drop(columns=[1])"
      ],
      "execution_count": null,
      "outputs": []
    },
    {
      "cell_type": "code",
      "metadata": {
        "id": "c9NyPyE71KuH"
      },
      "source": [
        "s = df_semeval.drop_duplicates([3,4]).drop([0,2],axis=1).rename({4:0},axis=1)\n",
        "new_semeval = pd.concat([s,df_semeval]).sort_index(kind = 'stable').reindex(columns=df_semeval.columns)"
      ],
      "execution_count": null,
      "outputs": []
    },
    {
      "cell_type": "code",
      "metadata": {
        "id": "BJcDw8KqET9A"
      },
      "source": [
        "%cd"
      ],
      "execution_count": null,
      "outputs": []
    },
    {
      "cell_type": "code",
      "metadata": {
        "id": "N7BAGTi71KuH"
      },
      "source": [
        "!mkdir new_semeval_one_tr"
      ],
      "execution_count": null,
      "outputs": []
    },
    {
      "cell_type": "code",
      "metadata": {
        "id": "C0wq5zk71KuI"
      },
      "source": [
        "%cd /root/new_semeval_one_tr"
      ],
      "execution_count": null,
      "outputs": []
    },
    {
      "cell_type": "code",
      "metadata": {
        "id": "LDYkD6ew1KuI"
      },
      "source": [
        "newText_sem = new_semeval.groupby(3)\n",
        "newText_sem[[0,2]].apply(lambda x: x.to_csv(str(x.name) + '.txt', header=None, index=None, sep=' '))"
      ],
      "execution_count": null,
      "outputs": []
    },
    {
      "cell_type": "code",
      "metadata": {
        "id": "0nBwRfyT1KuJ"
      },
      "source": [
        "!zip -r /root/new_semeval_one_tr/new_semeval2012_one_tr.zip /root/new_semeval_one_tr"
      ],
      "execution_count": null,
      "outputs": []
    }
  ]
}