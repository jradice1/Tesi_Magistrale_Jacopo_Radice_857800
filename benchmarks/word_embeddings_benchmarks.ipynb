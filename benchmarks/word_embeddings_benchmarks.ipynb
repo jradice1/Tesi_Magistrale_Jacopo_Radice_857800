{
  "nbformat": 4,
  "nbformat_minor": 0,
  "metadata": {
    "colab": {
      "name": "word-embeddings-benchmarks.ipynb",
      "provenance": [],
      "collapsed_sections": []
    },
    "kernelspec": {
      "display_name": "Python 3",
      "name": "python3"
    },
    "language_info": {
      "name": "python"
    }
  },
  "cells": [
    {
      "cell_type": "code",
      "metadata": {
        "id": "re5c7Ox5SfFi"
      },
      "source": [
        "import pandas as pd "
      ],
      "execution_count": null,
      "outputs": []
    },
    {
      "cell_type": "code",
      "metadata": {
        "id": "n_9N026_JC9O"
      },
      "source": [
        "!git clone \"https://github.com/kudkudak/word-embeddings-benchmarks.git\""
      ],
      "execution_count": null,
      "outputs": []
    },
    {
      "cell_type": "code",
      "metadata": {
        "id": "UX4QuhS0L3Rk"
      },
      "source": [
        "cd word-embeddings-benchmarks"
      ],
      "execution_count": null,
      "outputs": []
    },
    {
      "cell_type": "code",
      "metadata": {
        "id": "__O-ScxqMBvv"
      },
      "source": [
        "!pip install -r requirements.txt"
      ],
      "execution_count": null,
      "outputs": []
    },
    {
      "cell_type": "code",
      "metadata": {
        "id": "DNjC5RRtLz07"
      },
      "source": [
        "!python setup.py install"
      ],
      "execution_count": null,
      "outputs": []
    },
    {
      "cell_type": "code",
      "metadata": {
        "id": "EXYlwAcHgTeR"
      },
      "source": [
        "from google.colab import drive\n",
        "\n",
        "drive.mount('/content/drive')\n",
        "root_dir = \"/content/drive/My Drive/\"\n",
        "base_dir = root_dir + 'Tesi/downstream/'\n",
        "\n",
        "embeddings_dir = base_dir + \"embeddings/\"\n",
        "results_dir = base_dir + \"results/\""
      ],
      "execution_count": null,
      "outputs": []
    },
    {
      "cell_type": "markdown",
      "metadata": {
        "id": "OgIIjLq5VLQ3"
      },
      "source": [
        "## EVALUATE EMBEDDINGS"
      ]
    },
    {
      "cell_type": "code",
      "metadata": {
        "id": "-Hh2rqVwkyBI"
      },
      "source": [
        "# if used in colab put file in root/web_data/\n",
        "# result in main root\n",
        "# locally use path for both embeddings and result\n",
        "!python ./scripts/evaluate_on_all.py -f \"vanillaCCOHA2_embeddings.txt\" -p \"word2vec\" -o \"vanilla_result.csv\""
      ],
      "execution_count": null,
      "outputs": []
    },
    {
      "cell_type": "code",
      "metadata": {
        "id": "Wc91GioxVKhw"
      },
      "source": [
        "!python ./scripts/evaluate_on_all.py -f \"PoS-Ent_CCOHA2_embeddings.txt\" -p \"word2vec\" -o \"POS-Ent_result.csv\""
      ],
      "execution_count": null,
      "outputs": []
    },
    {
      "cell_type": "code",
      "metadata": {
        "id": "DtlAFlzzF-jz"
      },
      "source": [
        "!python ./scripts/evaluate_on_all.py -f \"gensim_1-100_CCOHA2_embeddings.txt\" -p \"word2vec\" -o \"gensim_result.csv\""
      ],
      "execution_count": null,
      "outputs": []
    },
    {
      "cell_type": "code",
      "metadata": {
        "id": "hUwOtdwELz-A"
      },
      "source": [
        "!python ./scripts/evaluate_on_all.py -f \"topicrankCCOHA2_embeddings.txt\" -p \"word2vec\" -o \"topicrank_result.csv\""
      ],
      "execution_count": null,
      "outputs": []
    },
    {
      "cell_type": "code",
      "metadata": {
        "id": "5Z_RrxM9L0MB"
      },
      "source": [
        "!python ./scripts/evaluate_on_all.py -f \"rakeCCOHA2_embeddings.txt\" -p \"word2vec\" -o \"rake_result.csv\""
      ],
      "execution_count": null,
      "outputs": []
    },
    {
      "cell_type": "code",
      "metadata": {
        "id": "gpPoOtI6unRM"
      },
      "source": [
        "vanilla_result = pd.read_csv('vanilla_result.csv', usecols=range(7,17))"
      ],
      "execution_count": null,
      "outputs": []
    },
    {
      "cell_type": "code",
      "metadata": {
        "id": "qqr_-cxYMgB8"
      },
      "source": [
        "topicrank_result = pd.read_csv('topicrank_result.csv', usecols=range(7,17))"
      ],
      "execution_count": null,
      "outputs": []
    },
    {
      "cell_type": "code",
      "metadata": {
        "id": "kwu7B0A2Mgsh"
      },
      "source": [
        "rake_result = pd.read_csv('rake_result.csv', usecols=range(7,17))"
      ],
      "execution_count": null,
      "outputs": []
    },
    {
      "cell_type": "code",
      "metadata": {
        "id": "GbbToJ1WOZTz"
      },
      "source": [
        "gensim_result = pd.read_csv('gensim_result.csv', usecols=range(7,17))"
      ],
      "execution_count": null,
      "outputs": []
    },
    {
      "cell_type": "code",
      "metadata": {
        "id": "MmsoEDz1u3pz"
      },
      "source": [
        "POSEntities_result = pd.read_csv('POS-Ent_result.csv', usecols=range(7,17))"
      ],
      "execution_count": null,
      "outputs": []
    },
    {
      "cell_type": "code",
      "metadata": {
        "id": "4-bBNBfVvjne"
      },
      "source": [
        "vanilla_result"
      ],
      "execution_count": null,
      "outputs": []
    },
    {
      "cell_type": "code",
      "metadata": {
        "id": "q_4H_X14u7c4"
      },
      "source": [
        "POSEntities_result"
      ],
      "execution_count": null,
      "outputs": []
    },
    {
      "cell_type": "code",
      "metadata": {
        "id": "l6tJMReoQ2hj"
      },
      "source": [
        "gensim_result"
      ],
      "execution_count": null,
      "outputs": []
    },
    {
      "cell_type": "code",
      "metadata": {
        "id": "6YepqJ1NRBaS"
      },
      "source": [
        "rake_result"
      ],
      "execution_count": null,
      "outputs": []
    },
    {
      "cell_type": "code",
      "metadata": {
        "id": "mou3bFyeRCTf"
      },
      "source": [
        "topicrank_result"
      ],
      "execution_count": null,
      "outputs": []
    },
    {
      "cell_type": "code",
      "metadata": {
        "id": "C2BXMCjD2kb6"
      },
      "source": [
        "POSEntities_result_df = ((POSEntities_result - vanilla_result) / vanilla_result) * 100 "
      ],
      "execution_count": null,
      "outputs": []
    },
    {
      "cell_type": "code",
      "metadata": {
        "id": "lelS_qFeM1w5"
      },
      "source": [
        "rake_result_df = ((rake_result - vanilla_result) / vanilla_result) * 100 "
      ],
      "execution_count": null,
      "outputs": []
    },
    {
      "cell_type": "code",
      "metadata": {
        "id": "ASKvmlVROer_"
      },
      "source": [
        "gensim_result_df = ((gensim_result - vanilla_result) / vanilla_result) * 100 "
      ],
      "execution_count": null,
      "outputs": []
    },
    {
      "cell_type": "code",
      "metadata": {
        "id": "6eahfXKSM19x"
      },
      "source": [
        "topicrank_result_df = ((topicrank_result - vanilla_result) / vanilla_result) * 100 "
      ],
      "execution_count": null,
      "outputs": []
    },
    {
      "cell_type": "code",
      "metadata": {
        "id": "BfUkGC-C3IvI"
      },
      "source": [
        "POSEntities_result_df"
      ],
      "execution_count": null,
      "outputs": []
    },
    {
      "cell_type": "code",
      "metadata": {
        "id": "L93BOzxKOhhL"
      },
      "source": [
        "gensim_result_df"
      ],
      "execution_count": null,
      "outputs": []
    },
    {
      "cell_type": "code",
      "metadata": {
        "id": "YLDEmwv2NMh-"
      },
      "source": [
        "rake_result_df"
      ],
      "execution_count": null,
      "outputs": []
    },
    {
      "cell_type": "code",
      "metadata": {
        "id": "R4X5KagaNNzr"
      },
      "source": [
        "topicrank_result_df"
      ],
      "execution_count": null,
      "outputs": []
    }
  ]
}