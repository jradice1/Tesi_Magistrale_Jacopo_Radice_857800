{
  "nbformat": 4,
  "nbformat_minor": 0,
  "metadata": {
    "colab": {
      "name": "PoS - Entities - Wiki50.ipynb",
      "provenance": [],
      "collapsed_sections": []
    },
    "kernelspec": {
      "display_name": "Python 3",
      "name": "python3"
    },
    "language_info": {
      "name": "python"
    }
  },
  "cells": [
    {
      "cell_type": "code",
      "metadata": {
        "id": "I-ryApQz5qJt"
      },
      "source": [
        "from google.colab import drive\n",
        "\n",
        "drive.mount('/content/drive')\n",
        "root_dir = \"/content/drive/My Drive/\"\n",
        "wiki_dir = root_dir + 'Tesi/Wiki50/Wikipedia/'"
      ],
      "execution_count": null,
      "outputs": []
    },
    {
      "cell_type": "code",
      "metadata": {
        "id": "iloNew1dXgn_"
      },
      "source": [
        "import nltk\n",
        "nltk.download('punkt')\n",
        "nltk.download('averaged_perceptron_tagger')"
      ],
      "execution_count": null,
      "outputs": []
    },
    {
      "cell_type": "code",
      "metadata": {
        "id": "Z6BguXpyUJy1"
      },
      "source": [
        "import nltk.tokenize.mwe\n",
        "from nltk import tokenize\n",
        "from nltk import pos_tag, word_tokenize"
      ],
      "execution_count": null,
      "outputs": []
    },
    {
      "cell_type": "code",
      "metadata": {
        "id": "0Z7pfODDEL8W"
      },
      "source": [
        "!pip install stanza"
      ],
      "execution_count": null,
      "outputs": []
    },
    {
      "cell_type": "code",
      "metadata": {
        "id": "1YRI34h5KHQ5"
      },
      "source": [
        "import stanza\n",
        "stanza.download('en') # download English model\n",
        "nlp = stanza.Pipeline('en') # initialize English neural pipeline"
      ],
      "execution_count": null,
      "outputs": []
    },
    {
      "cell_type": "code",
      "metadata": {
        "id": "l4YE9MiAzyWF"
      },
      "source": [
        "import re"
      ],
      "execution_count": null,
      "outputs": []
    },
    {
      "cell_type": "code",
      "metadata": {
        "id": "99uP4s5XvXQw"
      },
      "source": [
        "punctuations = ''''\"“”’'<>–~'''"
      ],
      "execution_count": null,
      "outputs": []
    },
    {
      "cell_type": "markdown",
      "metadata": {
        "id": "Zk9_LpEQ6QOC"
      },
      "source": [
        "WIKIPEDIA DUMP"
      ]
    },
    {
      "cell_type": "code",
      "metadata": {
        "id": "s3ynKgVjotRT"
      },
      "source": [
        "wiki_dir = root_dir + 'Tesi/Wiki50/Wikipedia/'"
      ],
      "execution_count": null,
      "outputs": []
    },
    {
      "cell_type": "code",
      "metadata": {
        "id": "DwJc9tw-fUqk"
      },
      "source": [
        "with open(wiki_dir + 'wikipedia_list_preprocessed.txt') as f:\n",
        "    wikipedia_list = f.read().splitlines() "
      ],
      "execution_count": null,
      "outputs": []
    },
    {
      "cell_type": "code",
      "metadata": {
        "id": "aHSycBX1gLsv"
      },
      "source": [
        "wikipedia_list"
      ],
      "execution_count": null,
      "outputs": []
    },
    {
      "cell_type": "markdown",
      "metadata": {
        "id": "tPthxFd8F0L0"
      },
      "source": [
        "WIKI50"
      ]
    },
    {
      "cell_type": "code",
      "metadata": {
        "id": "Ga_VGxutF4kL"
      },
      "source": [
        "base_dir = root_dir + 'Tesi/Wiki50/'"
      ],
      "execution_count": null,
      "outputs": []
    },
    {
      "cell_type": "code",
      "metadata": {
        "id": "Rp_sFF0JrG-_"
      },
      "source": [
        "import pandas as pd\n",
        "\n",
        "wiki_df = pd.read_csv(base_dir + 'wiki50_preprocessed.csv', converters={'result': eval})"
      ],
      "execution_count": null,
      "outputs": []
    },
    {
      "cell_type": "markdown",
      "metadata": {
        "id": "CdYnlPRxfM14"
      },
      "source": [
        "ENTITY EXTRACTION"
      ]
    },
    {
      "cell_type": "code",
      "metadata": {
        "id": "eDijMCRaotS1"
      },
      "source": [
        "wiki_df[\"entities\"]=\"\""
      ],
      "execution_count": null,
      "outputs": []
    },
    {
      "cell_type": "code",
      "metadata": {
        "id": "7Wj9aSorJ4G0"
      },
      "source": [
        "def entities_extraction(text):\n",
        "    doc = nlp(text)\n",
        "\n",
        "    entities= [ent.text for sentence in doc.sentences for ent in sentence.entities if ent.type in {\"PERSON\", \"ORG\", \"GPE\", \"NORP\", \"FAC\", \"LOC\", \"PRODUCT\", \"EVENT\", \"WORK_OF_ART\", \"LAW\", \"LANGUAGE\", \"MISC\"}]\n",
        "\n",
        "    return entities"
      ],
      "execution_count": null,
      "outputs": []
    },
    {
      "cell_type": "code",
      "metadata": {
        "id": "23uB7mdaNoHR"
      },
      "source": [
        "wiki_df[\"entities\"] = wiki_df['text'].apply(lambda x: entities_extraction(x))"
      ],
      "execution_count": null,
      "outputs": []
    },
    {
      "cell_type": "code",
      "metadata": {
        "id": "Dwx6LHM3o5aI"
      },
      "source": [
        "entities_without_unigrams = []"
      ],
      "execution_count": null,
      "outputs": []
    },
    {
      "cell_type": "code",
      "metadata": {
        "id": "IlSzYJZVo7AK"
      },
      "source": [
        "for i in range(len(wiki_df)):\n",
        "  for kw in wiki_df['entities'][i]:\n",
        "    if(' ' in kw):\n",
        "        kw = kw.lower()\n",
        "        entities_without_unigrams.append(kw)\n",
        "  wiki_df['entities'][i]=entities_without_unigrams\n",
        "  entities_without_unigrams = []"
      ],
      "execution_count": null,
      "outputs": []
    },
    {
      "cell_type": "code",
      "metadata": {
        "id": "hhRdoP1gpfCJ"
      },
      "source": [
        "entities_without_article = []"
      ],
      "execution_count": null,
      "outputs": []
    },
    {
      "cell_type": "code",
      "metadata": {
        "id": "VlwEc-hVpYSe"
      },
      "source": [
        "for i in range(len(wiki_df)):\n",
        "  for kw in wiki_df['entities'][i]:\n",
        "    if('the' in kw[:4]):\n",
        "        kw = re.sub(\"the \", \"\", kw)\n",
        "        entities_without_article.append(kw)\n",
        "    else:\n",
        "        entities_without_article.append(kw)\n",
        "  wiki_df['entities'][i]=entities_without_article\n",
        "  entities_without_article = []"
      ],
      "execution_count": null,
      "outputs": []
    },
    {
      "cell_type": "code",
      "metadata": {
        "id": "UeF_wT8QPpBz"
      },
      "source": [
        "for s in range(len(wiki_df)):  \n",
        "  for i in range(len(wiki_df['entities'][s])):\n",
        "    wiki_df['entities'][s][i] = wiki_df['entities'][s][i].split()"
      ],
      "execution_count": null,
      "outputs": []
    },
    {
      "cell_type": "code",
      "metadata": {
        "id": "7ZUdGvb9PpB0"
      },
      "source": [
        "#remove entities overlapping \n",
        "\n",
        "for s in range(len(wiki_df)):  \n",
        "  for i in range(len(wiki_df['entities'][s])-1,-1,-1):\n",
        "    if (wiki_df['entities'][s][i][0] == wiki_df['entities'][s][i-1][-1]):\n",
        "      wiki_df['entities'][s][i-1].remove(wiki_df['entities'][s][i-1][-1])\n",
        "      wiki_df['entities'][s][i] = wiki_df['entities'][s][i-1] + wiki_df['entities'][s][i]\n",
        "      wiki_df['entities'][s].remove(wiki_df['entities'][s][i-1])"
      ],
      "execution_count": null,
      "outputs": []
    },
    {
      "cell_type": "code",
      "metadata": {
        "id": "60yf9MjjPpB1"
      },
      "source": [
        "for s in range(len(wiki_df)):   \n",
        "  for i in range(len(wiki_df['entities'][s])):\n",
        "    wiki_df['entities'][s][i] = ' '.join(wiki_df['entities'][s][i])"
      ],
      "execution_count": null,
      "outputs": []
    },
    {
      "cell_type": "code",
      "metadata": {
        "id": "bDV1UjGPoxVJ"
      },
      "source": [
        "wiki_df"
      ],
      "execution_count": null,
      "outputs": []
    },
    {
      "cell_type": "markdown",
      "metadata": {
        "id": "UV97WSIwKYDs"
      },
      "source": [
        "POS"
      ]
    },
    {
      "cell_type": "code",
      "metadata": {
        "id": "qv8Ban2_QE-T"
      },
      "source": [
        "wiki_df[\"pos\"]=\"\""
      ],
      "execution_count": null,
      "outputs": []
    },
    {
      "cell_type": "code",
      "metadata": {
        "id": "5gQUv9D_UThK"
      },
      "source": [
        "def extract_phrases(my_tree, phrase):\n",
        "   my_phrases = []\n",
        "   if my_tree.label() == phrase:\n",
        "      my_phrases.append(my_tree.copy(True))\n",
        "\n",
        "   for child in my_tree:\n",
        "       if type(child) is nltk.Tree:\n",
        "            list_of_phrases = extract_phrases(child, phrase)\n",
        "            if len(list_of_phrases) > 0:\n",
        "                my_phrases.extend(list_of_phrases)\n",
        "\n",
        "   return my_phrases"
      ],
      "execution_count": null,
      "outputs": []
    },
    {
      "cell_type": "code",
      "metadata": {
        "id": "NF-Sq7bUbtQJ"
      },
      "source": [
        "grammar = \"WP: {<NN><NN.?><NN.?><NN|NNS>|<NN|NNS><IN><DT>?<NN>|<NN><POS><NN|NNS>|<JJ><NN|NNS>+|<NN|NNS><IN><JJ><NN|NNS>|<IN><NN|NNS>|<NN|NNS><CC><NN|NNS>|<NN|NNS><NN>?<NN>?<NN|NNS>|<JJ>+<NN|NNS>}\"\n",
        "\n",
        "cp = nltk.RegexpParser(grammar)"
      ],
      "execution_count": null,
      "outputs": []
    },
    {
      "cell_type": "code",
      "metadata": {
        "id": "Ymb3HwaHaOte"
      },
      "source": [
        "def pos_extraction(x):\n",
        "    pos_list=[]\n",
        "\n",
        "    sentence = pos_tag(tokenize.word_tokenize(x))\n",
        "    tree = cp.parse(sentence)\n",
        "    list_of_noun_phrases = extract_phrases(tree, 'WP')\n",
        "    for phrase in list_of_noun_phrases:\n",
        "      pos_list.append(\" \".join([x[0] for x in phrase.leaves()]))\n",
        "\n",
        "    text=pos_list\n",
        "    \n",
        "    return text"
      ],
      "execution_count": null,
      "outputs": []
    },
    {
      "cell_type": "code",
      "metadata": {
        "id": "d62r7Z3Ja5qZ"
      },
      "source": [
        "wiki_df[\"pos\"] = wiki_df['text'].apply(lambda x: pos_extraction(x))"
      ],
      "execution_count": null,
      "outputs": []
    },
    {
      "cell_type": "code",
      "metadata": {
        "id": "42FfksXA1qtG"
      },
      "source": [
        "pos_without_unigrams = []"
      ],
      "execution_count": null,
      "outputs": []
    },
    {
      "cell_type": "code",
      "metadata": {
        "id": "sjmz_Yb51s4L"
      },
      "source": [
        "for i in range(len(wiki_df)):\n",
        "  for kw in wiki_df['pos'][i]:\n",
        "    if(' ' in kw):\n",
        "        kw = kw.lower()\n",
        "        pos_without_unigrams.append(kw)\n",
        "  wiki_df['pos'][i]=pos_without_unigrams\n",
        "  pos_without_unigrams = []"
      ],
      "execution_count": null,
      "outputs": []
    },
    {
      "cell_type": "code",
      "metadata": {
        "id": "OhQs6tlNeG6G"
      },
      "source": [
        "for s in range(len(wiki_df)):  \n",
        "  for i in range(len(wiki_df['pos'][s])):\n",
        "    wiki_df['pos'][s][i] = wiki_df['pos'][s][i].split()"
      ],
      "execution_count": null,
      "outputs": []
    },
    {
      "cell_type": "code",
      "metadata": {
        "id": "WYF6NqSVCeh5"
      },
      "source": [
        "# remove overlapping mwe\n",
        "\n",
        "for s in range(len(wiki_df)):  \n",
        "  for i in range(len(wiki_df['pos'][s])-1,-1,-1):\n",
        "    if (wiki_df['pos'][s][i][0] == wiki_df['pos'][s][i-1][-1]):\n",
        "      wiki_df['pos'][s][i-1].remove(wiki_df['pos'][s][i-1][-1])\n",
        "      wiki_df['pos'][s][i] = wiki_df['pos'][s][i-1] + wiki_df['pos'][s][i]\n",
        "      wiki_df['pos'][s].remove(wiki_df['pos'][s][i-1])"
      ],
      "execution_count": null,
      "outputs": []
    },
    {
      "cell_type": "code",
      "metadata": {
        "id": "GMbMirjiCiHt"
      },
      "source": [
        "for s in range(len(wiki_df)):   \n",
        "  for i in range(len(wiki_df['pos'][s])):\n",
        "    wiki_df['pos'][s][i] = ' '.join(wiki_df['pos'][s][i])"
      ],
      "execution_count": null,
      "outputs": []
    },
    {
      "cell_type": "code",
      "metadata": {
        "id": "Wr_ahVM0SO-K"
      },
      "source": [
        "wiki_df"
      ],
      "execution_count": null,
      "outputs": []
    },
    {
      "cell_type": "markdown",
      "metadata": {
        "id": "w51KYc5C09k_"
      },
      "source": [
        "PREPROCESS"
      ]
    },
    {
      "cell_type": "code",
      "metadata": {
        "id": "wB_CEVIvz79q"
      },
      "source": [
        "for i in range(len(wiki_df)):\n",
        "  wiki_df['pos'][i] = list(dict.fromkeys(wiki_df['pos'][i]))"
      ],
      "execution_count": null,
      "outputs": []
    },
    {
      "cell_type": "code",
      "metadata": {
        "id": "bjUv54NcsbqC"
      },
      "source": [
        "for i in range(len(wiki_df)):\n",
        "  wiki_df['entities'][i] = list(dict.fromkeys(wiki_df['entities'][i]))"
      ],
      "execution_count": null,
      "outputs": []
    },
    {
      "cell_type": "code",
      "metadata": {
        "id": "eFHiDj8ytyh_"
      },
      "source": [
        "for i in range(len(wiki_df)):\n",
        "  wiki_df['result'][i] = list(dict.fromkeys(wiki_df['result'][i]))"
      ],
      "execution_count": null,
      "outputs": []
    },
    {
      "cell_type": "code",
      "metadata": {
        "id": "56nLrHbevAbr"
      },
      "source": [
        "wiki_df[\"united\"] = wiki_df[\"pos\"] + wiki_df[\"entities\"]"
      ],
      "execution_count": null,
      "outputs": []
    },
    {
      "cell_type": "code",
      "metadata": {
        "id": "18oXehRbwN8K"
      },
      "source": [
        "for i in range(len(wiki_df)):\n",
        "  wiki_df['united'][i] = list(dict.fromkeys(wiki_df['united'][i]))"
      ],
      "execution_count": null,
      "outputs": []
    },
    {
      "cell_type": "code",
      "metadata": {
        "id": "63Bvqr8jvD9n"
      },
      "source": [
        "wiki_df"
      ],
      "execution_count": null,
      "outputs": []
    },
    {
      "cell_type": "markdown",
      "metadata": {
        "id": "3CH-K3eT-Qsc"
      },
      "source": [
        "WIKIPEDIA COMPARISON"
      ]
    },
    {
      "cell_type": "code",
      "metadata": {
        "id": "EbiKfy_sJcIf"
      },
      "source": [
        "wiki_df['check'] = \"\""
      ],
      "execution_count": null,
      "outputs": []
    },
    {
      "cell_type": "code",
      "metadata": {
        "id": "3115cByy-S2t"
      },
      "source": [
        "wiki_df[\"check\"] = [set(wikipedia_list) & set(wiki_df.loc[r, \"united\"]) for r in range(len(wiki_df))]"
      ],
      "execution_count": null,
      "outputs": []
    },
    {
      "cell_type": "markdown",
      "metadata": {
        "id": "106oRvrfVKiH"
      },
      "source": [
        "SAVE DATAFRAME"
      ]
    },
    {
      "cell_type": "code",
      "metadata": {
        "id": "_ce_wOEWVReH"
      },
      "source": [
        "# if you want to save dataframe\n",
        "\n",
        "compression_opts = dict(method='zip', archive_name='wiki50Patterns_mwe.csv')\n",
        "\n",
        "wiki_df.to_csv('wiki50Patterns_mwe.zip', index=False, compression=compression_opts)"
      ],
      "execution_count": null,
      "outputs": []
    },
    {
      "cell_type": "markdown",
      "metadata": {
        "id": "-Wlpn-og-NW6"
      },
      "source": [
        "MATCHES"
      ]
    },
    {
      "cell_type": "code",
      "metadata": {
        "id": "jL6yeuXr0Djf"
      },
      "source": [
        "matches_df = pd.DataFrame(columns=['united']) "
      ],
      "execution_count": null,
      "outputs": []
    },
    {
      "cell_type": "code",
      "metadata": {
        "id": "3ByTb0A80G5G"
      },
      "source": [
        "#test\n",
        "matches_df[\"united\"] = [set(wiki_df.loc[r, \"result\"]) & set(wiki_df.loc[r, \"united\"]) for r in range(len(wiki_df))]"
      ],
      "execution_count": null,
      "outputs": []
    },
    {
      "cell_type": "code",
      "metadata": {
        "id": "NHCkkuMI7u64"
      },
      "source": [
        "#test\n",
        "matches_df[\"entities\"] = [set(wiki_df.loc[r, \"result\"]) & set(wiki_df.loc[r, \"entities\"]) for r in range(len(wiki_df))]"
      ],
      "execution_count": null,
      "outputs": []
    },
    {
      "cell_type": "code",
      "metadata": {
        "id": "Nyq1i3FUmSRF"
      },
      "source": [
        "matches_df[\"check\"] = [set(wiki_df.loc[r, \"result\"]) & set(wiki_df.loc[r, \"check\"]) for r in range(len(wiki_df))]"
      ],
      "execution_count": null,
      "outputs": []
    },
    {
      "cell_type": "code",
      "metadata": {
        "id": "InT9g8Ug0Lg2"
      },
      "source": [
        "matches_df"
      ],
      "execution_count": null,
      "outputs": []
    },
    {
      "cell_type": "code",
      "metadata": {
        "id": "weoyQ5H-0PlO"
      },
      "source": [
        "result_list = wiki_df['result'].tolist()"
      ],
      "execution_count": null,
      "outputs": []
    },
    {
      "cell_type": "code",
      "metadata": {
        "id": "EYLEot490Rk0"
      },
      "source": [
        "count_result = []\n",
        "\n",
        "for i in range(len(result_list)):\n",
        "  for el in result_list[i]:\n",
        "    count_result.append(el)"
      ],
      "execution_count": null,
      "outputs": []
    },
    {
      "cell_type": "markdown",
      "metadata": {
        "id": "jCfKnV-8mrtV"
      },
      "source": [
        "CHECK PRECISION & RECALL"
      ]
    },
    {
      "cell_type": "code",
      "metadata": {
        "id": "NEes0mF3mx23"
      },
      "source": [
        "checkMatch_list = list(map(list, matches_df['check']))"
      ],
      "execution_count": null,
      "outputs": []
    },
    {
      "cell_type": "code",
      "metadata": {
        "id": "QBYHA2kam1e2"
      },
      "source": [
        "count_checkMatch = []\n",
        "\n",
        "for i in range(len(checkMatch_list)):\n",
        "  for el in checkMatch_list[i]:\n",
        "    count_checkMatch.append(el)"
      ],
      "execution_count": null,
      "outputs": []
    },
    {
      "cell_type": "code",
      "metadata": {
        "id": "qDlGLFdjm6II"
      },
      "source": [
        "check_list = wiki_df['check'].tolist()"
      ],
      "execution_count": null,
      "outputs": []
    },
    {
      "cell_type": "code",
      "metadata": {
        "id": "bF3gyh4WnAFC"
      },
      "source": [
        "count_check = []\n",
        "\n",
        "for i in range(len(check_list)):\n",
        "  for el in check_list[i]:\n",
        "    count_check.append(el)"
      ],
      "execution_count": null,
      "outputs": []
    },
    {
      "cell_type": "code",
      "metadata": {
        "id": "Hv7X84_8nJk3"
      },
      "source": [
        "recall = len(count_checkMatch)/len(count_result) #recall"
      ],
      "execution_count": null,
      "outputs": []
    },
    {
      "cell_type": "code",
      "metadata": {
        "id": "b0nC4NRbnKfT"
      },
      "source": [
        "precision = len(count_checkMatch)/len(count_check) #precision"
      ],
      "execution_count": null,
      "outputs": []
    },
    {
      "cell_type": "code",
      "metadata": {
        "id": "eFk3DAuH02FF"
      },
      "source": [
        "fscore = 2 * (precision * recall)/(precision + recall)"
      ],
      "execution_count": null,
      "outputs": []
    },
    {
      "cell_type": "code",
      "metadata": {
        "id": "DEi9Q4Cr0yfE"
      },
      "source": [
        "recall"
      ],
      "execution_count": null,
      "outputs": []
    },
    {
      "cell_type": "code",
      "metadata": {
        "id": "Jk8ZgKwJ0xWc"
      },
      "source": [
        "precision"
      ],
      "execution_count": null,
      "outputs": []
    },
    {
      "cell_type": "code",
      "metadata": {
        "id": "4IeVi7gm0rSj"
      },
      "source": [
        "fscore"
      ],
      "execution_count": null,
      "outputs": []
    }
  ]
}