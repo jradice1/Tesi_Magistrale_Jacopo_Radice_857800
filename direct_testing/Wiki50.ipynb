{
  "nbformat": 4,
  "nbformat_minor": 0,
  "metadata": {
    "colab": {
      "name": "Wiki50.ipynb",
      "provenance": [],
      "collapsed_sections": []
    },
    "kernelspec": {
      "name": "python3",
      "display_name": "Python 3"
    },
    "language_info": {
      "name": "python"
    }
  },
  "cells": [
    {
      "cell_type": "code",
      "metadata": {
        "id": "HA-ej9-GZY7d"
      },
      "source": [
        "from google.colab import drive\n",
        "\n",
        "drive.mount('/content/drive')\n",
        "root_dir = \"/content/drive/My Drive/\"\n",
        "base_dir = root_dir + 'Tesi/Wiki50/'"
      ],
      "execution_count": null,
      "outputs": []
    },
    {
      "cell_type": "markdown",
      "metadata": {
        "id": "WxJk92VFrjva"
      },
      "source": [
        "WIKI50"
      ]
    },
    {
      "cell_type": "code",
      "metadata": {
        "id": "LnQ2J8MIrlHh"
      },
      "source": [
        "import pandas as pd\n",
        "\n",
        "wiki_df = pd.read_csv(base_dir + 'wiki50_preprocessed.csv', converters={'result': eval})"
      ],
      "execution_count": null,
      "outputs": []
    },
    {
      "cell_type": "code",
      "metadata": {
        "id": "O0VQrULZsfUB"
      },
      "source": [
        "wiki_df"
      ],
      "execution_count": null,
      "outputs": []
    },
    {
      "cell_type": "markdown",
      "metadata": {
        "id": "7iUkUmuFeU12"
      },
      "source": [
        "RAKE"
      ]
    },
    {
      "cell_type": "code",
      "metadata": {
        "id": "2zcxOsCGeWHf"
      },
      "source": [
        "!pip install rake-nltk"
      ],
      "execution_count": null,
      "outputs": []
    },
    {
      "cell_type": "code",
      "metadata": {
        "id": "JZec38wBeh4L"
      },
      "source": [
        "import nltk \n",
        "nltk.download('stopwords')\n",
        "nltk.download('punkt')"
      ],
      "execution_count": null,
      "outputs": []
    },
    {
      "cell_type": "code",
      "metadata": {
        "id": "4a_wub3ceq3Z"
      },
      "source": [
        "from rake_nltk import Rake\n",
        "\n",
        "r = Rake(min_length=2, max_length=4, language='english') # Uses stopwords for english from NLTK, and all puntuation characters."
      ],
      "execution_count": null,
      "outputs": []
    },
    {
      "cell_type": "code",
      "metadata": {
        "id": "Gk9Yd51FevKh"
      },
      "source": [
        "def rake_implement(x,r):\n",
        "     r.extract_keywords_from_text(x)\n",
        "     return r.get_ranked_phrases()\n",
        "\n",
        "wiki_df['rake'] =wiki_df['text'].apply(lambda x: rake_implement(x,r))\n",
        "print(wiki_df['rake'].head(20))"
      ],
      "execution_count": null,
      "outputs": []
    },
    {
      "cell_type": "code",
      "metadata": {
        "id": "-N-zQgGFezav"
      },
      "source": [
        "wiki_df.head(10)"
      ],
      "execution_count": null,
      "outputs": []
    },
    {
      "cell_type": "markdown",
      "metadata": {
        "id": "aLOJzAUwkMug"
      },
      "source": [
        "YAKE"
      ]
    },
    {
      "cell_type": "code",
      "metadata": {
        "id": "jZWv3tlHkN2f"
      },
      "source": [
        "!pip install git+https://github.com/LIAAD/yake"
      ],
      "execution_count": null,
      "outputs": []
    },
    {
      "cell_type": "code",
      "metadata": {
        "id": "GVXUtSJJkSqe"
      },
      "source": [
        "import yake"
      ],
      "execution_count": null,
      "outputs": []
    },
    {
      "cell_type": "code",
      "metadata": {
        "id": "LtHB-cKZkWQK"
      },
      "source": [
        "language = \"en\"\n",
        "\n",
        "max_ngram_size = 4\n",
        "deduplication_thresold = 0.15"
      ],
      "execution_count": null,
      "outputs": []
    },
    {
      "cell_type": "code",
      "metadata": {
        "id": "dg7ed82ckYnU"
      },
      "source": [
        "kw_extractor = yake.KeywordExtractor(lan=language, n=max_ngram_size, dedupLim=deduplication_thresold)"
      ],
      "execution_count": null,
      "outputs": []
    },
    {
      "cell_type": "code",
      "metadata": {
        "id": "1adJt2Wmkbof"
      },
      "source": [
        "def yake_implement(x):\n",
        "     keywords = kw_extractor.extract_keywords(x)\n",
        "     return keywords\n",
        "\n",
        "wiki_df['yake'] =wiki_df['text'].apply(lambda x: yake_implement(x))"
      ],
      "execution_count": null,
      "outputs": []
    },
    {
      "cell_type": "code",
      "metadata": {
        "id": "LvTgsSGhlHSL"
      },
      "source": [
        "yake_without_unigrams = []"
      ],
      "execution_count": null,
      "outputs": []
    },
    {
      "cell_type": "code",
      "metadata": {
        "id": "q29znrnllJB5"
      },
      "source": [
        "for i in range(len(wiki_df)):\n",
        "  for kw in wiki_df['yake'][i]:\n",
        "    if(' ' in kw[0]):\n",
        "        yake_without_unigrams.append(kw[0])\n",
        "  wiki_df['yake'][i]=yake_without_unigrams\n",
        "  yake_without_unigrams = []"
      ],
      "execution_count": null,
      "outputs": []
    },
    {
      "cell_type": "code",
      "metadata": {
        "id": "VO4m8MnVv0WI"
      },
      "source": [
        "yake_lowercase = []"
      ],
      "execution_count": null,
      "outputs": []
    },
    {
      "cell_type": "code",
      "metadata": {
        "id": "283nt40CuaLv"
      },
      "source": [
        "for i in range(len(wiki_df)):\n",
        "  for el in wiki_df['yake'][i]:\n",
        "    el = el.lower()\n",
        "    yake_lowercase.append(el)\n",
        "  wiki_df['yake'][i]=yake_lowercase\n",
        "  yake_lowercase = []"
      ],
      "execution_count": null,
      "outputs": []
    },
    {
      "cell_type": "code",
      "metadata": {
        "id": "nmMeJPtbbwJA"
      },
      "source": [
        "wiki_df"
      ],
      "execution_count": null,
      "outputs": []
    },
    {
      "cell_type": "markdown",
      "metadata": {
        "id": "7tKljReU-euu"
      },
      "source": [
        "WORD2PHRASE"
      ]
    },
    {
      "cell_type": "code",
      "metadata": {
        "id": "7movAFwl-iVJ"
      },
      "source": [
        "import nltk\n",
        "nltk.download('punkt')\n",
        "from textblob import TextBlob\n",
        "from collections import Counter"
      ],
      "execution_count": null,
      "outputs": []
    },
    {
      "cell_type": "code",
      "metadata": {
        "id": "awFeDnkJ-k36"
      },
      "source": [
        "import sys\n",
        "sys.path.insert(0,'/content/drive/My Drive/Tesi')"
      ],
      "execution_count": null,
      "outputs": []
    },
    {
      "cell_type": "code",
      "metadata": {
        "id": "oTIoI83l-mz8"
      },
      "source": [
        "import word2phrase"
      ],
      "execution_count": null,
      "outputs": []
    },
    {
      "cell_type": "code",
      "metadata": {
        "id": "RFo7J3Do-oZI"
      },
      "source": [
        "import pandas as pd\n",
        "import numpy as np\n",
        "import seaborn as sns\n",
        "import matplotlib.pyplot as plt\n",
        "import string\n",
        "import re\n",
        "import csv"
      ],
      "execution_count": null,
      "outputs": []
    },
    {
      "cell_type": "code",
      "metadata": {
        "colab": {
          "base_uri": "https://localhost:8080/",
          "height": 36
        },
        "id": "BdmnBuHxCwS8",
        "outputId": "0ac245ea-6e25-462c-9e23-57524df73933"
      },
      "source": [
        "string.punctuation"
      ],
      "execution_count": null,
      "outputs": [
        {
          "output_type": "execute_result",
          "data": {
            "application/vnd.google.colaboratory.intrinsic+json": {
              "type": "string"
            },
            "text/plain": [
              "'!\"#$%&\\'()*+,-./:;<=>?@[\\\\]^_`{|}~'"
            ]
          },
          "metadata": {},
          "execution_count": 28
        }
      ]
    },
    {
      "cell_type": "code",
      "metadata": {
        "id": "MVhWo2X2G8CD"
      },
      "source": [
        "def remove_punct(text):\n",
        "    text  = \"\".join([char for char in text if char not in string.punctuation])\n",
        "    return text\n",
        "\n",
        "wiki_df['nopuncttext'] = wiki_df['text'].apply(lambda x: remove_punct(x))"
      ],
      "execution_count": null,
      "outputs": []
    },
    {
      "cell_type": "code",
      "metadata": {
        "id": "Cxj7IZEy-uzu"
      },
      "source": [
        "wiki_df['tokens']=wiki_df.apply(lambda row: nltk.word_tokenize(row['nopuncttext']), axis=1)"
      ],
      "execution_count": null,
      "outputs": []
    },
    {
      "cell_type": "code",
      "metadata": {
        "id": "zcaNgNjS-zLC"
      },
      "source": [
        "wiki_df"
      ],
      "execution_count": null,
      "outputs": []
    },
    {
      "cell_type": "code",
      "metadata": {
        "id": "hU8VWbFF_Sl0"
      },
      "source": [
        "df_sentences = wiki_df['tokens'].tolist()"
      ],
      "execution_count": null,
      "outputs": []
    },
    {
      "cell_type": "code",
      "metadata": {
        "id": "vyY17nsr_heo"
      },
      "source": [
        "phrased1 = word2phrase.train_model(df_sentences, min_count=1)\n",
        "phrased2 = word2phrase.train_model(phrased1, min_count=1)\n",
        "phrased3 = word2phrase.train_model(phrased2, min_count=1)\n",
        "\n",
        "list_of_sentences = []\n",
        "\n",
        "for sentence in phrased3:\n",
        "     list_of_sentences.append(sentence)"
      ],
      "execution_count": null,
      "outputs": []
    },
    {
      "cell_type": "code",
      "metadata": {
        "id": "SvZDWJ-1_siO"
      },
      "source": [
        "for i in range(len(list_of_sentences)):\n",
        "  list_of_sentences[i]= ' '.join(list_of_sentences[i])"
      ],
      "execution_count": null,
      "outputs": []
    },
    {
      "cell_type": "code",
      "metadata": {
        "id": "uP1KWRZWALP2"
      },
      "source": [
        "dfW2P = pd.DataFrame(data=list_of_sentences, columns=[\"text\"])"
      ],
      "execution_count": null,
      "outputs": []
    },
    {
      "cell_type": "code",
      "metadata": {
        "id": "J_lSo_lTBofc"
      },
      "source": [
        "for i in range(len(dfW2P)):\n",
        "  dfW2P['text'][i]= dfW2P['text'][i].split()"
      ],
      "execution_count": null,
      "outputs": []
    },
    {
      "cell_type": "code",
      "metadata": {
        "id": "5qbr4UYsBqyC"
      },
      "source": [
        "dfW2P"
      ],
      "execution_count": null,
      "outputs": []
    },
    {
      "cell_type": "code",
      "metadata": {
        "id": "VzLPxYfyBxei"
      },
      "source": [
        "w2p_list = []"
      ],
      "execution_count": null,
      "outputs": []
    },
    {
      "cell_type": "code",
      "metadata": {
        "id": "j5BodgHWHHlv"
      },
      "source": [
        "wiki_df['W2P'] = ''"
      ],
      "execution_count": null,
      "outputs": []
    },
    {
      "cell_type": "code",
      "metadata": {
        "id": "wz2-D385BzJw"
      },
      "source": [
        "for i in range(len(dfW2P)):\n",
        "  for el in dfW2P['text'][i]:\n",
        "    if '_' in el:\n",
        "      el = el.replace(\"_\", \" \")\n",
        "      el = el.lower()\n",
        "      w2p_list.append(el)\n",
        "  wiki_df['W2P'][i]=w2p_list\n",
        "  w2p_list = []"
      ],
      "execution_count": null,
      "outputs": []
    },
    {
      "cell_type": "code",
      "metadata": {
        "id": "OycvdyNhIfeU"
      },
      "source": [
        "wiki_df = wiki_df.drop(columns=['tokens'])"
      ],
      "execution_count": null,
      "outputs": []
    },
    {
      "cell_type": "code",
      "metadata": {
        "id": "2iMZ1hVNHNEI"
      },
      "source": [
        "wiki_df = wiki_df.drop(columns=['nopuncttext'])"
      ],
      "execution_count": null,
      "outputs": []
    },
    {
      "cell_type": "code",
      "metadata": {
        "id": "a2NjpDkaB245"
      },
      "source": [
        "wiki_df"
      ],
      "execution_count": null,
      "outputs": []
    },
    {
      "cell_type": "markdown",
      "metadata": {
        "id": "yxiMD9255KJW"
      },
      "source": [
        "GENSIM"
      ]
    },
    {
      "cell_type": "code",
      "metadata": {
        "id": "4Nw98UBD5VqA"
      },
      "source": [
        "import re  # For preprocessing\n",
        "import pandas as pd  # For data handling\n",
        "from collections import defaultdict  # For word frequency\n",
        "\n",
        "import spacy  # For preprocessing"
      ],
      "execution_count": null,
      "outputs": []
    },
    {
      "cell_type": "code",
      "metadata": {
        "id": "Pp2tiIkn5ct9"
      },
      "source": [
        "import nltk\n",
        "nltk.download('stopwords')\n",
        "from nltk.corpus import stopwords\n",
        "\n",
        "stop = stopwords.words('english')"
      ],
      "execution_count": null,
      "outputs": []
    },
    {
      "cell_type": "code",
      "metadata": {
        "id": "mIUNvgot5e3I"
      },
      "source": [
        "wiki_df['gensimtext'] = wiki_df['text'].apply(lambda x: ' '.join([word for word in x.split() if word not in (stop)]))"
      ],
      "execution_count": null,
      "outputs": []
    },
    {
      "cell_type": "code",
      "metadata": {
        "id": "ILHCdO-rDJTs"
      },
      "source": [
        "wiki_df['gensimtext'] = wiki_df['gensimtext'].apply(lambda x: remove_punct(x)) "
      ],
      "execution_count": null,
      "outputs": []
    },
    {
      "cell_type": "code",
      "metadata": {
        "id": "v5Ceh8rNCdoB"
      },
      "source": [
        "wiki_df['gensimtext']"
      ],
      "execution_count": null,
      "outputs": []
    },
    {
      "cell_type": "code",
      "metadata": {
        "id": "y7eqMKJT5uAU"
      },
      "source": [
        "from gensim.models.phrases import Phrases, Phraser"
      ],
      "execution_count": null,
      "outputs": []
    },
    {
      "cell_type": "code",
      "metadata": {
        "id": "hR1EylBP5wJm"
      },
      "source": [
        "sent = [row.split() for row in wiki_df['gensimtext']]"
      ],
      "execution_count": null,
      "outputs": []
    },
    {
      "cell_type": "code",
      "metadata": {
        "id": "tLsYA91U3hhz"
      },
      "source": [
        "bigram = Phrases(sent, min_count=1, threshold=100.0)\n",
        "\n",
        "trigram  = Phrases(bigram[sent], min_count=1, threshold=100.0)\n",
        "\n",
        "fourgram  = Phrases(trigram[sent], min_count=1, threshold=100.0)"
      ],
      "execution_count": null,
      "outputs": []
    },
    {
      "cell_type": "code",
      "metadata": {
        "id": "swRb3JKd53e_"
      },
      "source": [
        "bigram_phraser = Phraser(bigram)"
      ],
      "execution_count": null,
      "outputs": []
    },
    {
      "cell_type": "code",
      "metadata": {
        "id": "VadKZJyV6BhI"
      },
      "source": [
        "trigram_phraser = Phraser(trigram)"
      ],
      "execution_count": null,
      "outputs": []
    },
    {
      "cell_type": "code",
      "metadata": {
        "id": "T-O1wQuwBJY5"
      },
      "source": [
        "fourgram_phraser = Phraser(fourgram)"
      ],
      "execution_count": null,
      "outputs": []
    },
    {
      "cell_type": "code",
      "metadata": {
        "id": "c89O2uUj55OU"
      },
      "source": [
        "sentences = bigram_phraser[sent]"
      ],
      "execution_count": null,
      "outputs": []
    },
    {
      "cell_type": "code",
      "metadata": {
        "id": "cKaO8ChF6DFq"
      },
      "source": [
        "sentences = trigram_phraser[sentences]"
      ],
      "execution_count": null,
      "outputs": []
    },
    {
      "cell_type": "code",
      "metadata": {
        "id": "rSodaZ1OBMSr"
      },
      "source": [
        "sentences = fourgram_phraser[sentences]"
      ],
      "execution_count": null,
      "outputs": []
    },
    {
      "cell_type": "code",
      "metadata": {
        "id": "wIy_geqs6mAO"
      },
      "source": [
        "wordphrases = []\n",
        "\n",
        "for w in sentences:\n",
        "  wordphrases.append(w)"
      ],
      "execution_count": null,
      "outputs": []
    },
    {
      "cell_type": "code",
      "metadata": {
        "id": "DvbvqEsg6qDI"
      },
      "source": [
        "for i in range(len(wordphrases)):\n",
        "  wordphrases[i]= ' '.join(wordphrases[i])"
      ],
      "execution_count": null,
      "outputs": []
    },
    {
      "cell_type": "code",
      "metadata": {
        "id": "xLdNL8Xc6som"
      },
      "source": [
        "dfGensim = pd.DataFrame(data=wordphrases, columns=[\"text\"])"
      ],
      "execution_count": null,
      "outputs": []
    },
    {
      "cell_type": "code",
      "metadata": {
        "id": "2UvdZdeR6wcT"
      },
      "source": [
        "for i in range(len(dfGensim)):\n",
        "  dfGensim['text'][i]= dfGensim['text'][i].split()"
      ],
      "execution_count": null,
      "outputs": []
    },
    {
      "cell_type": "code",
      "metadata": {
        "id": "d582E31x7GdS"
      },
      "source": [
        "dfGensim['text']"
      ],
      "execution_count": null,
      "outputs": []
    },
    {
      "cell_type": "code",
      "metadata": {
        "id": "uig7Nj4t6618"
      },
      "source": [
        "gensim_list = []"
      ],
      "execution_count": null,
      "outputs": []
    },
    {
      "cell_type": "code",
      "metadata": {
        "id": "xaHnL04L68E5"
      },
      "source": [
        "wiki_df['gensim'] = \"\""
      ],
      "execution_count": null,
      "outputs": []
    },
    {
      "cell_type": "code",
      "metadata": {
        "id": "xdFMI6C36_AL"
      },
      "source": [
        "for i in range(len(dfGensim)):\n",
        "  for el in dfGensim['text'][i]:\n",
        "    if '_' in el:\n",
        "      el = el.replace(\"_\", \" \")\n",
        "      el = el.lower()\n",
        "      gensim_list.append(el)\n",
        "  wiki_df['gensim'][i]=gensim_list\n",
        "  gensim_list = []"
      ],
      "execution_count": null,
      "outputs": []
    },
    {
      "cell_type": "code",
      "metadata": {
        "id": "OJ8ieywQIutT"
      },
      "source": [
        "wiki_df = wiki_df.drop(columns=['gensimtext'])"
      ],
      "execution_count": null,
      "outputs": []
    },
    {
      "cell_type": "code",
      "metadata": {
        "id": "XrpEhD-rJGHC"
      },
      "source": [
        "wiki_df"
      ],
      "execution_count": null,
      "outputs": []
    },
    {
      "cell_type": "markdown",
      "metadata": {
        "id": "OWZGvnzU29gr"
      },
      "source": [
        "TOPICRANK"
      ]
    },
    {
      "cell_type": "code",
      "metadata": {
        "id": "ar6DPRV929Bv"
      },
      "source": [
        "!pip install git+https://github.com/boudinfl/pke.git"
      ],
      "execution_count": null,
      "outputs": []
    },
    {
      "cell_type": "code",
      "metadata": {
        "id": "6i0-H61z3AQf"
      },
      "source": [
        "import string\n",
        "from nltk.corpus import stopwords\n",
        "import nltk\n",
        "nltk.download('stopwords')\n",
        "import pke"
      ],
      "execution_count": null,
      "outputs": []
    },
    {
      "cell_type": "code",
      "metadata": {
        "id": "Wz_Twt5A7awD"
      },
      "source": [
        "import spacy\n",
        "!python -m spacy download en\n",
        "nlp = spacy.load(\"en\")"
      ],
      "execution_count": null,
      "outputs": []
    },
    {
      "cell_type": "code",
      "metadata": {
        "id": "RlxnxZfq7fTZ"
      },
      "source": [
        "# select the longest sequences of nouns and adjectives, that do\n",
        "# not contain punctuation marks or stopwords as candidates.\n",
        "pos = {'NOUN', 'PROPN', 'ADJ'}\n",
        "stoplist = list(string.punctuation)\n",
        "stoplist += ['-lrb-', '-rrb-', '-lcb-', '-rcb-', '-lsb-', '-rsb-']\n",
        "stoplist += stopwords.words('english')"
      ],
      "execution_count": null,
      "outputs": []
    },
    {
      "cell_type": "code",
      "metadata": {
        "id": "V3ZrSLqB7jY2"
      },
      "source": [
        "def extract_keyphrases(caption, n):\n",
        "    extractor = pke.unsupervised.TopicRank()\n",
        "    extractor.load_document(caption)\n",
        "    extractor.candidate_selection(pos=pos, stoplist=stoplist)\n",
        "    extractor.candidate_weighting(threshold=0.5, method='average')\n",
        "    keyphrases = extractor.get_n_best(n=n, stemming=False)\n",
        "    return(keyphrases)"
      ],
      "execution_count": null,
      "outputs": []
    },
    {
      "cell_type": "code",
      "metadata": {
        "id": "DQsfHMIf7t2I"
      },
      "source": [
        "wiki_df['topicrank'] = wiki_df.apply(lambda row: (extract_keyphrases(row['text'],200)),axis=1)"
      ],
      "execution_count": null,
      "outputs": []
    },
    {
      "cell_type": "code",
      "metadata": {
        "id": "wyLNfFpt73_t"
      },
      "source": [
        "wiki_df['topicrank'][0]"
      ],
      "execution_count": null,
      "outputs": []
    },
    {
      "cell_type": "code",
      "metadata": {
        "id": "fEUH-7Lb84_N"
      },
      "source": [
        "topicrank_without_unigrams = []"
      ],
      "execution_count": null,
      "outputs": []
    },
    {
      "cell_type": "code",
      "metadata": {
        "id": "lRe4KoUl8--J"
      },
      "source": [
        "for i in range(len(wiki_df)):\n",
        "  for kw in wiki_df['topicrank'][i]:\n",
        "    if(' ' in kw[0]):\n",
        "        topicrank_without_unigrams.append(kw[0])\n",
        "  wiki_df['topicrank'][i]=topicrank_without_unigrams\n",
        "  topicrank_without_unigrams = []"
      ],
      "execution_count": null,
      "outputs": []
    },
    {
      "cell_type": "code",
      "metadata": {
        "id": "2zfnteAP9IAR"
      },
      "source": [
        "wiki_df['topicrank']"
      ],
      "execution_count": null,
      "outputs": []
    },
    {
      "cell_type": "code",
      "metadata": {
        "id": "gEuLwaCBKgoS"
      },
      "source": [
        "wiki_df"
      ],
      "execution_count": null,
      "outputs": []
    },
    {
      "cell_type": "markdown",
      "metadata": {
        "id": "umzc_e2FZMsG"
      },
      "source": [
        "REMOVE DUPLICATES"
      ]
    },
    {
      "cell_type": "code",
      "metadata": {
        "id": "0gnX0Ca3ZORa"
      },
      "source": [
        "for i in range(len(wiki_df)):\n",
        "  wiki_df['gensim'][i] = list(dict.fromkeys(wiki_df['gensim'][i]))"
      ],
      "execution_count": null,
      "outputs": []
    },
    {
      "cell_type": "code",
      "metadata": {
        "id": "xfC4ID2mZsDg"
      },
      "source": [
        "for i in range(len(wiki_df)):\n",
        "  wiki_df['result'][i] = list(dict.fromkeys(wiki_df['result'][i]))"
      ],
      "execution_count": null,
      "outputs": []
    },
    {
      "cell_type": "code",
      "metadata": {
        "id": "Yn9Uj6JYZsO3"
      },
      "source": [
        "for i in range(len(wiki_df)):\n",
        "  wiki_df['yake'][i] = list(dict.fromkeys(wiki_df['yake'][i]))"
      ],
      "execution_count": null,
      "outputs": []
    },
    {
      "cell_type": "code",
      "metadata": {
        "id": "ZlbnyFfbZsYT"
      },
      "source": [
        "for i in range(len(wiki_df)):\n",
        "  wiki_df['rake'][i] = list(dict.fromkeys(wiki_df['rake'][i]))"
      ],
      "execution_count": null,
      "outputs": []
    },
    {
      "cell_type": "code",
      "metadata": {
        "id": "LLLdOgbAZsgx"
      },
      "source": [
        "for i in range(len(wiki_df)):\n",
        "  wiki_df['W2P'][i] = list(dict.fromkeys(wiki_df['W2P'][i]))"
      ],
      "execution_count": null,
      "outputs": []
    },
    {
      "cell_type": "code",
      "metadata": {
        "id": "wXa8XYJEZspN"
      },
      "source": [
        "for i in range(len(wiki_df)):\n",
        "  wiki_df['topicrank'][i] = list(dict.fromkeys(wiki_df['topicrank'][i]))"
      ],
      "execution_count": null,
      "outputs": []
    },
    {
      "cell_type": "code",
      "metadata": {
        "id": "tuITWqCbZoDD"
      },
      "source": [
        "wiki_df"
      ],
      "execution_count": null,
      "outputs": []
    },
    {
      "cell_type": "code",
      "metadata": {
        "id": "n3EoVkAsTXZl"
      },
      "source": [
        "# if you want to save dataframe\n",
        "\n",
        "compression_opts = dict(method='zip', archive_name='wiki50_mwe.csv')\n",
        "\n",
        "wiki_df.to_csv('wiki50_mwe.zip', index=False, compression=compression_opts)"
      ],
      "execution_count": null,
      "outputs": []
    },
    {
      "cell_type": "markdown",
      "metadata": {
        "id": "s_t_pkUXns5b"
      },
      "source": [
        "PRECISION & RECALL"
      ]
    },
    {
      "cell_type": "code",
      "metadata": {
        "id": "iELE1I3N-sKh"
      },
      "source": [
        "matches_df = pd.DataFrame(columns=['rakeMatches']) "
      ],
      "execution_count": null,
      "outputs": []
    },
    {
      "cell_type": "code",
      "metadata": {
        "id": "77TQW4MEnwcS"
      },
      "source": [
        "matches_df[\"rakeMatches\"] = [set(wiki_df.loc[r, \"result\"]) & set(wiki_df.loc[r, \"rake\"]) for r in range(len(wiki_df))]"
      ],
      "execution_count": null,
      "outputs": []
    },
    {
      "cell_type": "code",
      "metadata": {
        "id": "9vucGXAf_e16"
      },
      "source": [
        "matches_df[\"yakeMatches\"] = [set(wiki_df.loc[r, \"result\"]) & set(wiki_df.loc[r, \"yake\"]) for r in range(len(wiki_df))]"
      ],
      "execution_count": null,
      "outputs": []
    },
    {
      "cell_type": "code",
      "metadata": {
        "id": "Q28aqDHc_fNY"
      },
      "source": [
        "matches_df[\"topicrankMatches\"] = [set(wiki_df.loc[r, \"result\"]) & set(wiki_df.loc[r, \"topicrank\"]) for r in range(len(wiki_df))]"
      ],
      "execution_count": null,
      "outputs": []
    },
    {
      "cell_type": "code",
      "metadata": {
        "id": "cNDwvyhG_ffo"
      },
      "source": [
        "matches_df[\"gensimMatches\"] = [set(wiki_df.loc[r, \"result\"]) & set(wiki_df.loc[r, \"gensim\"]) for r in range(len(wiki_df))]"
      ],
      "execution_count": null,
      "outputs": []
    },
    {
      "cell_type": "code",
      "metadata": {
        "id": "uT1AkG_o_frm"
      },
      "source": [
        "matches_df[\"w2pMatches\"] = [set(wiki_df.loc[r, \"result\"]) & set(wiki_df.loc[r, \"W2P\"]) for r in range(len(wiki_df))]"
      ],
      "execution_count": null,
      "outputs": []
    },
    {
      "cell_type": "code",
      "metadata": {
        "id": "vgwbHH762b6U"
      },
      "source": [
        "matches_df"
      ],
      "execution_count": null,
      "outputs": []
    },
    {
      "cell_type": "code",
      "metadata": {
        "id": "rQt2EHk9fSeJ"
      },
      "source": [
        "result_list = wiki_df['result'].tolist()"
      ],
      "execution_count": null,
      "outputs": []
    },
    {
      "cell_type": "code",
      "metadata": {
        "id": "gC0m_Mw7fhFT"
      },
      "source": [
        "count_result = []\n",
        "\n",
        "for i in range(len(result_list)):\n",
        "  for el in result_list[i]:\n",
        "    count_result.append(el)"
      ],
      "execution_count": null,
      "outputs": []
    },
    {
      "cell_type": "code",
      "metadata": {
        "id": "egpBlYJIfqqW"
      },
      "source": [
        "len(count_result)"
      ],
      "execution_count": null,
      "outputs": []
    },
    {
      "cell_type": "markdown",
      "metadata": {
        "id": "GKdBKgdJfFet"
      },
      "source": [
        "YAKE PRECISION & RECALL"
      ]
    },
    {
      "cell_type": "code",
      "metadata": {
        "id": "Ms8ICR_sbHfN"
      },
      "source": [
        "yakeMatch_list = list(map(list, matches_df['yakeMatches']))"
      ],
      "execution_count": null,
      "outputs": []
    },
    {
      "cell_type": "code",
      "metadata": {
        "id": "Ao-kh639ZnRo"
      },
      "source": [
        "count_yakeMatch = []\n",
        "\n",
        "for i in range(len(yakeMatch_list)):\n",
        "  for el in yakeMatch_list[i]:\n",
        "    count_yakeMatch.append(el)"
      ],
      "execution_count": null,
      "outputs": []
    },
    {
      "cell_type": "code",
      "metadata": {
        "id": "b4Ic0it5gLz5"
      },
      "source": [
        "yake_list = wiki_df['yake'].tolist()"
      ],
      "execution_count": null,
      "outputs": []
    },
    {
      "cell_type": "code",
      "metadata": {
        "id": "0M6Bsa2ZgjUl"
      },
      "source": [
        "count_yake = []\n",
        "\n",
        "for i in range(len(yake_list)):\n",
        "  for el in yake_list[i]:\n",
        "    count_yake.append(el)"
      ],
      "execution_count": null,
      "outputs": []
    },
    {
      "cell_type": "code",
      "metadata": {
        "id": "JPoQpoX_fQVW"
      },
      "source": [
        "recall_yake = len(count_yakeMatch)/len(count_result) #recall"
      ],
      "execution_count": null,
      "outputs": []
    },
    {
      "cell_type": "code",
      "metadata": {
        "id": "qyLkpd5OgJxF"
      },
      "source": [
        "precision_yake = len(count_yakeMatch)/len(count_yake) #precision"
      ],
      "execution_count": null,
      "outputs": []
    },
    {
      "cell_type": "code",
      "metadata": {
        "id": "8CwaS71W2Kw9"
      },
      "source": [
        "fscore_yake = 2 * (precision_yake * recall_yake)/(precision_yake + recall_yake)"
      ],
      "execution_count": null,
      "outputs": []
    },
    {
      "cell_type": "code",
      "metadata": {
        "id": "ag6DbARp2Zqh"
      },
      "source": [
        "recall_yake"
      ],
      "execution_count": null,
      "outputs": []
    },
    {
      "cell_type": "code",
      "metadata": {
        "id": "RXj4w62g2aUT"
      },
      "source": [
        "precision_yake"
      ],
      "execution_count": null,
      "outputs": []
    },
    {
      "cell_type": "code",
      "metadata": {
        "id": "AysnZyP02bNa"
      },
      "source": [
        "fscore_yake"
      ],
      "execution_count": null,
      "outputs": []
    },
    {
      "cell_type": "markdown",
      "metadata": {
        "id": "YEuW1EZotqJA"
      },
      "source": [
        "RAKE PRECISION & RECALL"
      ]
    },
    {
      "cell_type": "code",
      "metadata": {
        "id": "FUSerMFFtxJm"
      },
      "source": [
        "rakeMatch_list = list(map(list, matches_df['rakeMatches']))"
      ],
      "execution_count": null,
      "outputs": []
    },
    {
      "cell_type": "code",
      "metadata": {
        "id": "AEyNyFdft1us"
      },
      "source": [
        "count_rakeMatch = []\n",
        "\n",
        "for i in range(len(rakeMatch_list)):\n",
        "  for el in rakeMatch_list[i]:\n",
        "    count_rakeMatch.append(el)"
      ],
      "execution_count": null,
      "outputs": []
    },
    {
      "cell_type": "code",
      "metadata": {
        "id": "P0MHNoKGt5_g"
      },
      "source": [
        "rake_list = wiki_df['rake'].tolist()"
      ],
      "execution_count": null,
      "outputs": []
    },
    {
      "cell_type": "code",
      "metadata": {
        "id": "txYZZhNgt8vD"
      },
      "source": [
        "count_rake = []\n",
        "\n",
        "for i in range(len(rake_list)):\n",
        "  for el in rake_list[i]:\n",
        "    count_rake.append(el)"
      ],
      "execution_count": null,
      "outputs": []
    },
    {
      "cell_type": "code",
      "metadata": {
        "id": "ds2Iz754uAb_"
      },
      "source": [
        "recall_rake = len(count_rakeMatch)/len(count_result) #recall"
      ],
      "execution_count": null,
      "outputs": []
    },
    {
      "cell_type": "code",
      "metadata": {
        "id": "_bsH-OmkuD0X"
      },
      "source": [
        "precision_rake = len(count_rakeMatch)/len(count_rake)"
      ],
      "execution_count": null,
      "outputs": []
    },
    {
      "cell_type": "code",
      "metadata": {
        "id": "OK0gRV4z2U32"
      },
      "source": [
        "fscore_rake = 2 * (precision_rake * recall_rake)/(precision_rake + recall_rake)"
      ],
      "execution_count": null,
      "outputs": []
    },
    {
      "cell_type": "code",
      "metadata": {
        "id": "dBVjFMs-23d7"
      },
      "source": [
        "recall_rake"
      ],
      "execution_count": null,
      "outputs": []
    },
    {
      "cell_type": "code",
      "metadata": {
        "id": "zQEMJ0YY23d8"
      },
      "source": [
        "precision_rake"
      ],
      "execution_count": null,
      "outputs": []
    },
    {
      "cell_type": "code",
      "metadata": {
        "id": "1BGstxXn23d9"
      },
      "source": [
        "fscore_rake"
      ],
      "execution_count": null,
      "outputs": []
    },
    {
      "cell_type": "markdown",
      "metadata": {
        "id": "3CyknuwPuIDW"
      },
      "source": [
        "TOPICRANK PRECISION & RECALL"
      ]
    },
    {
      "cell_type": "code",
      "metadata": {
        "id": "Nk9oJu9nuRVj"
      },
      "source": [
        "trMatch_list = list(map(list, matches_df['topicrankMatches']))"
      ],
      "execution_count": null,
      "outputs": []
    },
    {
      "cell_type": "code",
      "metadata": {
        "id": "r5In5r8JuVVL"
      },
      "source": [
        "count_trMatch = []\n",
        "\n",
        "for i in range(len(trMatch_list)):\n",
        "  for el in trMatch_list[i]:\n",
        "    count_trMatch.append(el)"
      ],
      "execution_count": null,
      "outputs": []
    },
    {
      "cell_type": "code",
      "metadata": {
        "id": "JsrZNQaKudpd"
      },
      "source": [
        "tr_list = wiki_df['topicrank'].tolist()"
      ],
      "execution_count": null,
      "outputs": []
    },
    {
      "cell_type": "code",
      "metadata": {
        "id": "PKvkfHVFuiK5"
      },
      "source": [
        "count_tr = []\n",
        "\n",
        "for i in range(len(tr_list)):\n",
        "  for el in tr_list[i]:\n",
        "    count_tr.append(el)"
      ],
      "execution_count": null,
      "outputs": []
    },
    {
      "cell_type": "code",
      "metadata": {
        "id": "uM5skpPvumsa"
      },
      "source": [
        "recall_t = len(count_trMatch)/len(count_result) #recall"
      ],
      "execution_count": null,
      "outputs": []
    },
    {
      "cell_type": "code",
      "metadata": {
        "id": "s5elUGrhup8H"
      },
      "source": [
        "precision_t = len(count_trMatch)/len(count_tr)"
      ],
      "execution_count": null,
      "outputs": []
    },
    {
      "cell_type": "code",
      "metadata": {
        "id": "83ud_wuX2jDb"
      },
      "source": [
        "fscore_t = 2 * (precision_t * recall_t)/(precision_t + recall_t)"
      ],
      "execution_count": null,
      "outputs": []
    },
    {
      "cell_type": "code",
      "metadata": {
        "id": "NEVLiIDB25hu"
      },
      "source": [
        "recall_t"
      ],
      "execution_count": null,
      "outputs": []
    },
    {
      "cell_type": "code",
      "metadata": {
        "id": "1ZDaIetS25hu"
      },
      "source": [
        "precision_t "
      ],
      "execution_count": null,
      "outputs": []
    },
    {
      "cell_type": "code",
      "metadata": {
        "id": "D4RMeTzn25hu"
      },
      "source": [
        "fscore_t"
      ],
      "execution_count": null,
      "outputs": []
    },
    {
      "cell_type": "markdown",
      "metadata": {
        "id": "hm4q5otUuwcv"
      },
      "source": [
        "GENSIM PRECISION & RECALL"
      ]
    },
    {
      "cell_type": "code",
      "metadata": {
        "id": "LJMLHxXlu0jx"
      },
      "source": [
        "gensimMatch_list = list(map(list, matches_df['gensimMatches']))"
      ],
      "execution_count": null,
      "outputs": []
    },
    {
      "cell_type": "code",
      "metadata": {
        "id": "cejRiRrUu4qk"
      },
      "source": [
        "count_gensimMatch = []\n",
        "\n",
        "for i in range(len(gensimMatch_list)):\n",
        "  for el in gensimMatch_list[i]:\n",
        "    count_gensimMatch.append(el)"
      ],
      "execution_count": null,
      "outputs": []
    },
    {
      "cell_type": "code",
      "metadata": {
        "id": "uV_NuyZYu90c"
      },
      "source": [
        "gensim_list = wiki_df['gensim'].tolist()"
      ],
      "execution_count": null,
      "outputs": []
    },
    {
      "cell_type": "code",
      "metadata": {
        "id": "S6BpOcWzvKS5"
      },
      "source": [
        "count_gensim = []\n",
        "\n",
        "for i in range(len(gensim_list)):\n",
        "  for el in gensim_list[i]:\n",
        "    count_gensim.append(el)"
      ],
      "execution_count": null,
      "outputs": []
    },
    {
      "cell_type": "code",
      "metadata": {
        "id": "KC7Vc1HvvPKh"
      },
      "source": [
        "recall_g = len(count_gensimMatch)/len(count_result) #recall"
      ],
      "execution_count": null,
      "outputs": []
    },
    {
      "cell_type": "code",
      "metadata": {
        "id": "UrTWY-MEvR1n"
      },
      "source": [
        "precision_g = len(count_gensimMatch)/len(count_gensim)"
      ],
      "execution_count": null,
      "outputs": []
    },
    {
      "cell_type": "code",
      "metadata": {
        "id": "iuM3fJig2sI_"
      },
      "source": [
        "fscore_g = 2 * (precision_g * recall_g)/(precision_g + recall_g)"
      ],
      "execution_count": null,
      "outputs": []
    },
    {
      "cell_type": "code",
      "metadata": {
        "id": "LisL4ztu28uS"
      },
      "source": [
        "recall_g"
      ],
      "execution_count": null,
      "outputs": []
    },
    {
      "cell_type": "code",
      "metadata": {
        "id": "7B-jPJ9f28uT"
      },
      "source": [
        "precision_g"
      ],
      "execution_count": null,
      "outputs": []
    },
    {
      "cell_type": "code",
      "metadata": {
        "id": "C3w6yMx228uT"
      },
      "source": [
        "fscore_g"
      ],
      "execution_count": null,
      "outputs": []
    },
    {
      "cell_type": "markdown",
      "metadata": {
        "id": "T5U6e55vv61l"
      },
      "source": [
        "W2P PRECISION & RECALL"
      ]
    },
    {
      "cell_type": "code",
      "metadata": {
        "id": "QtGHDICrv5uR"
      },
      "source": [
        "w2pMatch_list = list(map(list, matches_df['w2pMatches']))"
      ],
      "execution_count": null,
      "outputs": []
    },
    {
      "cell_type": "code",
      "metadata": {
        "id": "mHPO0QR8wCuk"
      },
      "source": [
        "count_w2pMatch = []\n",
        "\n",
        "for i in range(len(w2pMatch_list)):\n",
        "  for el in w2pMatch_list[i]:\n",
        "    count_w2pMatch.append(el)"
      ],
      "execution_count": null,
      "outputs": []
    },
    {
      "cell_type": "code",
      "metadata": {
        "id": "kHdzz_HlwKlu"
      },
      "source": [
        "w2p_list = wiki_df['W2P'].tolist()"
      ],
      "execution_count": null,
      "outputs": []
    },
    {
      "cell_type": "code",
      "metadata": {
        "id": "o1Tp2kqVwNak"
      },
      "source": [
        "count_w2p = []\n",
        "\n",
        "for i in range(len(w2p_list)):\n",
        "  for el in w2p_list[i]:\n",
        "    count_w2p.append(el)"
      ],
      "execution_count": null,
      "outputs": []
    },
    {
      "cell_type": "code",
      "metadata": {
        "id": "9Wseh__wwSNW"
      },
      "source": [
        "recall_w = len(count_w2pMatch)/len(count_result) #recall"
      ],
      "execution_count": null,
      "outputs": []
    },
    {
      "cell_type": "code",
      "metadata": {
        "id": "xaY-bKgFwUUc"
      },
      "source": [
        "precision_w = len(count_w2pMatch)/len(count_w2p)"
      ],
      "execution_count": null,
      "outputs": []
    },
    {
      "cell_type": "code",
      "metadata": {
        "id": "B0tuiaID2y0h"
      },
      "source": [
        "fscore_w = 2 * (precision_w * recall_w)/(precision_w + recall_w)"
      ],
      "execution_count": null,
      "outputs": []
    },
    {
      "cell_type": "code",
      "metadata": {
        "id": "ddp7724G2-7W"
      },
      "source": [
        "recall_w"
      ],
      "execution_count": null,
      "outputs": []
    },
    {
      "cell_type": "code",
      "metadata": {
        "id": "yjSuO2nc2-7W"
      },
      "source": [
        "precision_w"
      ],
      "execution_count": null,
      "outputs": []
    },
    {
      "cell_type": "code",
      "metadata": {
        "id": "z3P1-Cu12-7X"
      },
      "source": [
        "fscore_w"
      ],
      "execution_count": null,
      "outputs": []
    }
  ]
}